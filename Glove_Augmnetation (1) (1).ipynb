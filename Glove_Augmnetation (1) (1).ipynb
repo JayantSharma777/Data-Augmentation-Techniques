{
  "nbformat": 4,
  "nbformat_minor": 0,
  "metadata": {
    "colab": {
      "name": "Glove_Augmnetation.ipynb",
      "provenance": [],
      "machine_shape": "hm"
    },
    "kernelspec": {
      "name": "python3",
      "display_name": "Python 3"
    },
    "language_info": {
      "name": "python"
    },
    "accelerator": "GPU"
  },
  "cells": [
    {
      "cell_type": "code",
      "metadata": {
        "id": "UngkyRH1Ssvd"
      },
      "source": [
        "import numpy as np\n",
        "import matplotlib.pyplot as plt\n",
        "import pandas as pd\n",
        "import random\n",
        "import string \n",
        "import re\n",
        "from scipy import spatial\n",
        "from sklearn.manifold import TSNE\n",
        "from nltk.tokenize import word_tokenize\n",
        "from nltk.stem import PorterStemmer\n",
        "from nltk import pos_tag\n",
        "import os\n",
        "from sklearn.naive_bayes import GaussianNB\n",
        "from sklearn.feature_extraction.text import TfidfVectorizer"
      ],
      "execution_count": 1,
      "outputs": []
    },
    {
      "cell_type": "code",
      "metadata": {
        "colab": {
          "base_uri": "https://localhost:8080/"
        },
        "id": "ql_IpZMZTcwT",
        "outputId": "22c4ac69-4ca5-435f-d7dd-c143f0c9a9aa"
      },
      "source": [
        "from google.colab import drive\n",
        "drive.mount('/content/drive')"
      ],
      "execution_count": 5,
      "outputs": [
        {
          "output_type": "stream",
          "name": "stdout",
          "text": [
            "Mounted at /content/drive\n"
          ]
        }
      ]
    },
    {
      "cell_type": "code",
      "metadata": {
        "colab": {
          "base_uri": "https://localhost:8080/"
        },
        "id": "qqrbtRebTA3Y",
        "outputId": "a6b0f1b8-c4a6-4f54-b797-350e612c05f0"
      },
      "source": [
        "import numpy as np\n",
        "from nltk.corpus import wordnet\n",
        "from nltk.corpus import stopwords\n",
        "import nltk\n",
        "nltk.download('wordnet')\n",
        "nltk.download('stopwords')\n",
        "stopword = nltk.corpus.stopwords.words('english')"
      ],
      "execution_count": 2,
      "outputs": [
        {
          "output_type": "stream",
          "name": "stdout",
          "text": [
            "[nltk_data] Downloading package wordnet to /root/nltk_data...\n",
            "[nltk_data]   Unzipping corpora/wordnet.zip.\n",
            "[nltk_data] Downloading package stopwords to /root/nltk_data...\n",
            "[nltk_data]   Unzipping corpora/stopwords.zip.\n"
          ]
        }
      ]
    },
    {
      "cell_type": "code",
      "metadata": {
        "colab": {
          "base_uri": "https://localhost:8080/"
        },
        "id": "lHE4hI0_TF8j",
        "outputId": "ad530fd4-1081-4d12-bcdd-a968f6faa9ab"
      },
      "source": [
        "print(stopword)"
      ],
      "execution_count": 3,
      "outputs": [
        {
          "output_type": "stream",
          "name": "stdout",
          "text": [
            "['i', 'me', 'my', 'myself', 'we', 'our', 'ours', 'ourselves', 'you', \"you're\", \"you've\", \"you'll\", \"you'd\", 'your', 'yours', 'yourself', 'yourselves', 'he', 'him', 'his', 'himself', 'she', \"she's\", 'her', 'hers', 'herself', 'it', \"it's\", 'its', 'itself', 'they', 'them', 'their', 'theirs', 'themselves', 'what', 'which', 'who', 'whom', 'this', 'that', \"that'll\", 'these', 'those', 'am', 'is', 'are', 'was', 'were', 'be', 'been', 'being', 'have', 'has', 'had', 'having', 'do', 'does', 'did', 'doing', 'a', 'an', 'the', 'and', 'but', 'if', 'or', 'because', 'as', 'until', 'while', 'of', 'at', 'by', 'for', 'with', 'about', 'against', 'between', 'into', 'through', 'during', 'before', 'after', 'above', 'below', 'to', 'from', 'up', 'down', 'in', 'out', 'on', 'off', 'over', 'under', 'again', 'further', 'then', 'once', 'here', 'there', 'when', 'where', 'why', 'how', 'all', 'any', 'both', 'each', 'few', 'more', 'most', 'other', 'some', 'such', 'no', 'nor', 'not', 'only', 'own', 'same', 'so', 'than', 'too', 'very', 's', 't', 'can', 'will', 'just', 'don', \"don't\", 'should', \"should've\", 'now', 'd', 'll', 'm', 'o', 're', 've', 'y', 'ain', 'aren', \"aren't\", 'couldn', \"couldn't\", 'didn', \"didn't\", 'doesn', \"doesn't\", 'hadn', \"hadn't\", 'hasn', \"hasn't\", 'haven', \"haven't\", 'isn', \"isn't\", 'ma', 'mightn', \"mightn't\", 'mustn', \"mustn't\", 'needn', \"needn't\", 'shan', \"shan't\", 'shouldn', \"shouldn't\", 'wasn', \"wasn't\", 'weren', \"weren't\", 'won', \"won't\", 'wouldn', \"wouldn't\"]\n"
          ]
        }
      ]
    },
    {
      "cell_type": "code",
      "metadata": {
        "id": "EDIFzbyKTJoa"
      },
      "source": [
        "embeddings_dict = {}\n",
        "with open(\"/content/drive/MyDrive/PRISM/glove.6B.300d.txt\", 'r', encoding=\"utf-8\") as f:\n",
        "  for line in f:\n",
        "    values = line.split()\n",
        "    word = values[0]\n",
        "    vector = np.asarray(values[1:], \"float32\")\n",
        "    embeddings_dict[word] = vector    "
      ],
      "execution_count": 6,
      "outputs": []
    },
    {
      "cell_type": "code",
      "metadata": {
        "id": "svMPuoUSTm0F"
      },
      "source": [
        "def find_closest_embeddings(embedding):\n",
        "    return sorted(embeddings_dict.keys(), key=lambda word: spatial.distance.euclidean(embeddings_dict[word], embedding))"
      ],
      "execution_count": 7,
      "outputs": []
    },
    {
      "cell_type": "code",
      "metadata": {
        "id": "SYH8yZepTws-"
      },
      "source": [
        "def get_GLOVE_augmented_text(text):\n",
        "  x=len(text)\n",
        "  tfidf=TfidfVectorizer()\n",
        "  vc=tfidf.fit_transform(text).toarray()\n",
        "  #print(vc)\n",
        "  #print(tfidf.vocabulary_)\n",
        "  words_lib=tfidf.vocabulary_\n",
        "  new_corpus=[]\n",
        "  for i in range(x):\n",
        "    print(i)\n",
        "    words=text[i]\n",
        "    words=words.replace(\".\",\"\")\n",
        "    #print(words)  \n",
        "    words=words.split(\" \")\n",
        "    new_words=\"\"\n",
        "    for m in words:\n",
        "      if m.lower() not in stopword:\n",
        "        if words_lib.__contains__(m):\n",
        "          if vc[i][words_lib[m.lower()]]<0.10:\n",
        "            m=m.lower()\n",
        "            if embeddings_dict.__contains__(m):\n",
        "              replaced_word=find_closest_embeddings(embeddings_dict[m.lower()])[1]\n",
        "              new_words+=(replaced_word)\n",
        "            else:\n",
        "              new_words+=(m.lower())\n",
        "          else:\n",
        "            new_words+=(m.lower())\n",
        "        else:\n",
        "          new_words+=m.lower()\n",
        "      else:\n",
        "        new_words+=(m.lower())\n",
        "      new_words+=\" \"\n",
        "    #new_words=(str(new_words))\n",
        "    new_corpus.append(new_words)\n",
        "    new_corpus.append(text[i])\n",
        "  return new_corpus"
      ],
      "execution_count": 9,
      "outputs": []
    },
    {
      "cell_type": "code",
      "metadata": {
        "id": "VDgyAw8KUMJj"
      },
      "source": [
        "df=pd.read_csv('/content/drive/MyDrive/PRISM/IMDB Dataset.csv')"
      ],
      "execution_count": 10,
      "outputs": []
    },
    {
      "cell_type": "code",
      "metadata": {
        "colab": {
          "base_uri": "https://localhost:8080/",
          "height": 203
        },
        "id": "8Ie1whSsURsk",
        "outputId": "e3e6161f-1baf-44fd-faae-f750f206bce4"
      },
      "source": [
        "df.head()"
      ],
      "execution_count": 11,
      "outputs": [
        {
          "output_type": "execute_result",
          "data": {
            "text/html": [
              "<div>\n",
              "<style scoped>\n",
              "    .dataframe tbody tr th:only-of-type {\n",
              "        vertical-align: middle;\n",
              "    }\n",
              "\n",
              "    .dataframe tbody tr th {\n",
              "        vertical-align: top;\n",
              "    }\n",
              "\n",
              "    .dataframe thead th {\n",
              "        text-align: right;\n",
              "    }\n",
              "</style>\n",
              "<table border=\"1\" class=\"dataframe\">\n",
              "  <thead>\n",
              "    <tr style=\"text-align: right;\">\n",
              "      <th></th>\n",
              "      <th>review</th>\n",
              "      <th>sentiment</th>\n",
              "    </tr>\n",
              "  </thead>\n",
              "  <tbody>\n",
              "    <tr>\n",
              "      <th>0</th>\n",
              "      <td>One of the other reviewers has mentioned that ...</td>\n",
              "      <td>positive</td>\n",
              "    </tr>\n",
              "    <tr>\n",
              "      <th>1</th>\n",
              "      <td>A wonderful little production. &lt;br /&gt;&lt;br /&gt;The...</td>\n",
              "      <td>positive</td>\n",
              "    </tr>\n",
              "    <tr>\n",
              "      <th>2</th>\n",
              "      <td>I thought this was a wonderful way to spend ti...</td>\n",
              "      <td>positive</td>\n",
              "    </tr>\n",
              "    <tr>\n",
              "      <th>3</th>\n",
              "      <td>Basically there's a family where a little boy ...</td>\n",
              "      <td>negative</td>\n",
              "    </tr>\n",
              "    <tr>\n",
              "      <th>4</th>\n",
              "      <td>Petter Mattei's \"Love in the Time of Money\" is...</td>\n",
              "      <td>positive</td>\n",
              "    </tr>\n",
              "  </tbody>\n",
              "</table>\n",
              "</div>"
            ],
            "text/plain": [
              "                                              review sentiment\n",
              "0  One of the other reviewers has mentioned that ...  positive\n",
              "1  A wonderful little production. <br /><br />The...  positive\n",
              "2  I thought this was a wonderful way to spend ti...  positive\n",
              "3  Basically there's a family where a little boy ...  negative\n",
              "4  Petter Mattei's \"Love in the Time of Money\" is...  positive"
            ]
          },
          "metadata": {},
          "execution_count": 11
        }
      ]
    },
    {
      "cell_type": "code",
      "metadata": {
        "id": "7B9tehBOUULR"
      },
      "source": [
        "X=df['review']\n",
        "y=df['sentiment']"
      ],
      "execution_count": 12,
      "outputs": []
    },
    {
      "cell_type": "code",
      "metadata": {
        "id": "EXwgyP0oUWPF"
      },
      "source": [
        "X=X.values.tolist()"
      ],
      "execution_count": 13,
      "outputs": []
    },
    {
      "cell_type": "code",
      "metadata": {
        "id": "If6_m_trUYuG"
      },
      "source": [
        "X=X[:50]\n",
        "y=y[:50]"
      ],
      "execution_count": 14,
      "outputs": []
    },
    {
      "cell_type": "code",
      "metadata": {
        "colab": {
          "base_uri": "https://localhost:8080/",
          "height": 137
        },
        "id": "EbNyw4zJUbh2",
        "outputId": "1dabd6e1-0545-4fd1-8f61-b03a6246c7a2"
      },
      "source": [
        "X[0]"
      ],
      "execution_count": 15,
      "outputs": [
        {
          "output_type": "execute_result",
          "data": {
            "application/vnd.google.colaboratory.intrinsic+json": {
              "type": "string"
            },
            "text/plain": [
              "\"One of the other reviewers has mentioned that after watching just 1 Oz episode you'll be hooked. They are right, as this is exactly what happened with me.<br /><br />The first thing that struck me about Oz was its brutality and unflinching scenes of violence, which set in right from the word GO. Trust me, this is not a show for the faint hearted or timid. This show pulls no punches with regards to drugs, sex or violence. Its is hardcore, in the classic use of the word.<br /><br />It is called OZ as that is the nickname given to the Oswald Maximum Security State Penitentary. It focuses mainly on Emerald City, an experimental section of the prison where all the cells have glass fronts and face inwards, so privacy is not high on the agenda. Em City is home to many..Aryans, Muslims, gangstas, Latinos, Christians, Italians, Irish and more....so scuffles, death stares, dodgy dealings and shady agreements are never far away.<br /><br />I would say the main appeal of the show is due to the fact that it goes where other shows wouldn't dare. Forget pretty pictures painted for mainstream audiences, forget charm, forget romance...OZ doesn't mess around. The first episode I ever saw struck me as so nasty it was surreal, I couldn't say I was ready for it, but as I watched more, I developed a taste for Oz, and got accustomed to the high levels of graphic violence. Not just violence, but injustice (crooked guards who'll be sold out for a nickel, inmates who'll kill on order and get away with it, well mannered, middle class inmates being turned into prison bitches due to their lack of street skills or prison experience) Watching Oz, you may become comfortable with what is uncomfortable viewing....thats if you can get in touch with your darker side.\""
            ]
          },
          "metadata": {},
          "execution_count": 15
        }
      ]
    },
    {
      "cell_type": "code",
      "metadata": {
        "colab": {
          "base_uri": "https://localhost:8080/"
        },
        "id": "WODaUFhXUeyj",
        "outputId": "c7742af7-49ce-452e-8c24-7ddd558952d5"
      },
      "source": [
        "Augmented_text=get_GLOVE_augmented_text(X)"
      ],
      "execution_count": 16,
      "outputs": [
        {
          "output_type": "stream",
          "name": "stdout",
          "text": [
            "0\n",
            "1\n",
            "2\n",
            "3\n",
            "4\n",
            "5\n",
            "6\n",
            "7\n",
            "8\n",
            "9\n",
            "10\n",
            "11\n",
            "12\n",
            "13\n",
            "14\n",
            "15\n",
            "16\n",
            "17\n",
            "18\n",
            "19\n",
            "20\n",
            "21\n",
            "22\n",
            "23\n",
            "24\n",
            "25\n",
            "26\n",
            "27\n",
            "28\n",
            "29\n",
            "30\n",
            "31\n",
            "32\n",
            "33\n",
            "34\n",
            "35\n",
            "36\n",
            "37\n",
            "38\n",
            "39\n",
            "40\n",
            "41\n",
            "42\n",
            "43\n",
            "44\n",
            "45\n",
            "46\n",
            "47\n",
            "48\n",
            "49\n"
          ]
        }
      ]
    },
    {
      "cell_type": "code",
      "metadata": {
        "id": "Q9vnblnDUpCZ"
      },
      "source": [
        "en_stopwords=set(stopwords.words('english'))\n",
        "wn = nltk.WordNetLemmatizer()"
      ],
      "execution_count": 17,
      "outputs": []
    },
    {
      "cell_type": "code",
      "metadata": {
        "id": "wgpte6zOu_CJ"
      },
      "source": [
        "def getCleanedReview(review):\n",
        "    review=review.lower()\n",
        "    text_lc = \"\".join([word.lower() for word in review if word not in string.punctuation])\n",
        "    #print(text_lc)\n",
        "    text_rc=re.sub('[0-9]+',' ',text_lc)\n",
        "    #tokenize\n",
        "    tokens=word_tokenize(text_rc,language='english')\n",
        "    #print(tokens)\n",
        "    new_tokens=[token for token in tokens if token not in en_stopwords]\n",
        "    #print(new_tokens)\n",
        "    lemmatized_tokens=[wn.lemmatize(token) for token in new_tokens]\n",
        "    return lemmatized_tokens"
      ],
      "execution_count": 18,
      "outputs": []
    },
    {
      "cell_type": "code",
      "metadata": {
        "id": "T0NgCYCdu_Fe"
      },
      "source": [
        "original=[]\n",
        "y_augmented=[]\n",
        "X_train=[]\n",
        "X_augmented_train=[]"
      ],
      "execution_count": 19,
      "outputs": []
    },
    {
      "cell_type": "code",
      "metadata": {
        "colab": {
          "base_uri": "https://localhost:8080/"
        },
        "id": "XAVH3Lgpyc4c",
        "outputId": "79392b4c-68b7-4304-9082-143b7dc47f7a"
      },
      "source": [
        "import nltk\n",
        "nltk.download('punkt')"
      ],
      "execution_count": 21,
      "outputs": [
        {
          "output_type": "stream",
          "name": "stdout",
          "text": [
            "[nltk_data] Downloading package punkt to /root/nltk_data...\n",
            "[nltk_data]   Unzipping tokenizers/punkt.zip.\n"
          ]
        },
        {
          "output_type": "execute_result",
          "data": {
            "text/plain": [
              "True"
            ]
          },
          "metadata": {},
          "execution_count": 21
        }
      ]
    },
    {
      "cell_type": "code",
      "metadata": {
        "id": "HgvM0Rdsu_JZ"
      },
      "source": [
        "for i in range(len(X)):\n",
        "    X_train.append(getCleanedReview(X[i]))\n",
        "    if y[i] == 'positive':\n",
        "        original.append(1)\n",
        "        y_augmented.append(1)\n",
        "        y_augmented.append(1)\n",
        "    else:\n",
        "        original.append(0)\n",
        "        y_augmented.append(0)\n",
        "        y_augmented.append(0)\n"
      ],
      "execution_count": 22,
      "outputs": []
    },
    {
      "cell_type": "code",
      "metadata": {
        "id": "2kOWKRZ2vTkZ"
      },
      "source": [
        "for i in range(len(Augmented_text)):\n",
        "    X_augmented_train.append(getCleanedReview(Augmented_text[i]))"
      ],
      "execution_count": 23,
      "outputs": []
    },
    {
      "cell_type": "code",
      "metadata": {
        "id": "grF0HxWpvTn3"
      },
      "source": [
        "df_new=[]\n",
        "df_new=pd.DataFrame(df_new)"
      ],
      "execution_count": 24,
      "outputs": []
    },
    {
      "cell_type": "code",
      "metadata": {
        "id": "JKwtsHg6vbUJ"
      },
      "source": [
        "df_new[\"cleaned_review\"]=X_train\n",
        "X_train=df_new[\"cleaned_review\"]\n"
      ],
      "execution_count": 25,
      "outputs": []
    },
    {
      "cell_type": "code",
      "metadata": {
        "id": "KUmhFxrwvbW2"
      },
      "source": [
        "df_new_=[]\n",
        "df_new_=pd.DataFrame(df_new_)\n",
        "df_new_[\"cleaned_augmented_review\"]=X_augmented_train\n",
        "X_augmented_train=df_new_[\"cleaned_augmented_review\"]"
      ],
      "execution_count": 26,
      "outputs": []
    },
    {
      "cell_type": "code",
      "metadata": {
        "id": "uf2rOSamvbZ4"
      },
      "source": [
        "from sklearn.feature_extraction.text import CountVectorizer\n",
        "from sklearn.model_selection import train_test_split\n",
        "import sklearn.metrics"
      ],
      "execution_count": 27,
      "outputs": []
    },
    {
      "cell_type": "code",
      "metadata": {
        "id": "JqUBRA6QvbcS"
      },
      "source": [
        "X_train.dropna()\n",
        "cvt = CountVectorizer(analyzer=getCleanedReview,max_features=2000)\n",
        "X_v = cvt.fit_transform(X_train.apply(lambda x: np.str_(x)))\n",
        "X_augmented_v=cvt.fit_transform(X_augmented_train.apply(lambda x: np.str_(x)))"
      ],
      "execution_count": 45,
      "outputs": []
    },
    {
      "cell_type": "code",
      "metadata": {
        "id": "KkKYmjrGvbf1"
      },
      "source": [
        "y_train=np.array(original)\n",
        "y_augmented=np.array(y_augmented)"
      ],
      "execution_count": 46,
      "outputs": []
    },
    {
      "cell_type": "code",
      "metadata": {
        "colab": {
          "base_uri": "https://localhost:8080/"
        },
        "id": "HZeBr2bNu_M1",
        "outputId": "deb13722-2d64-45bf-b5dc-7f4233319761"
      },
      "source": [
        "gnb=GaussianNB()\n",
        "X_v=X_v.toarray()\n",
        "X_augmented_v=X_augmented_v.toarray()\n",
        "gnb.fit(X_v,y_train)"
      ],
      "execution_count": 47,
      "outputs": [
        {
          "output_type": "execute_result",
          "data": {
            "text/plain": [
              "GaussianNB(priors=None, var_smoothing=1e-09)"
            ]
          },
          "metadata": {},
          "execution_count": 47
        }
      ]
    },
    {
      "cell_type": "code",
      "metadata": {
        "colab": {
          "base_uri": "https://localhost:8080/"
        },
        "id": "Yl0xnFXGvwd3",
        "outputId": "8231af8a-e8a2-45b4-ffd0-50ea67e61173"
      },
      "source": [
        "gnb2=GaussianNB()\n",
        "gnb2.fit(X_augmented_v,y_augmented)"
      ],
      "execution_count": 48,
      "outputs": [
        {
          "output_type": "execute_result",
          "data": {
            "text/plain": [
              "GaussianNB(priors=None, var_smoothing=1e-09)"
            ]
          },
          "metadata": {},
          "execution_count": 48
        }
      ]
    },
    {
      "cell_type": "code",
      "metadata": {
        "id": "YDVWld9pvwgs"
      },
      "source": [
        "X_test=df['review'].iloc[26000:26050]\n",
        "y_test=df['sentiment'].iloc[26000:26050]"
      ],
      "execution_count": 73,
      "outputs": []
    },
    {
      "cell_type": "code",
      "metadata": {
        "id": "inKoHitDvwjb"
      },
      "source": [
        "X_test=X_test.values.tolist()"
      ],
      "execution_count": 74,
      "outputs": []
    },
    {
      "cell_type": "code",
      "metadata": {
        "id": "WhtGOEX7vwmV"
      },
      "source": [
        "X_test_new=[]\n",
        "y_test_new=[]"
      ],
      "execution_count": 75,
      "outputs": []
    },
    {
      "cell_type": "code",
      "metadata": {
        "id": "2gQjODW3vwpF"
      },
      "source": [
        "for i in range(len(X_test)):\n",
        "    X_test_new.append(getCleanedReview(X_test[i]))\n",
        "    if y_test[26000+i] == 'positive':\n",
        "        y_test_new.append(1)\n",
        "    else:\n",
        "        y_test_new.append(0)"
      ],
      "execution_count": 76,
      "outputs": []
    },
    {
      "cell_type": "code",
      "metadata": {
        "id": "gR8BZzllwFeJ"
      },
      "source": [
        "df_new[\"cleaned_test_review\"]=X_test_new\n",
        "X_test=df_new[\"cleaned_test_review\"]"
      ],
      "execution_count": 77,
      "outputs": []
    },
    {
      "cell_type": "code",
      "metadata": {
        "id": "t24xawyxwFg8"
      },
      "source": [
        "X_test.dropna()\n",
        "cvt1 = CountVectorizer(analyzer=getCleanedReview,max_features=2000)\n",
        "X_test_v = cvt1.fit_transform(X_test.apply(lambda x: np.str_(x)))"
      ],
      "execution_count": 78,
      "outputs": []
    },
    {
      "cell_type": "code",
      "metadata": {
        "id": "UKJZ5wdRwFj7"
      },
      "source": [
        "y_test=np.array(y_test_new)"
      ],
      "execution_count": 79,
      "outputs": []
    },
    {
      "cell_type": "code",
      "metadata": {
        "id": "GrwxnEZSwFnX"
      },
      "source": [
        "X_test_v=X_test_v.toarray()"
      ],
      "execution_count": 80,
      "outputs": []
    },
    {
      "cell_type": "code",
      "metadata": {
        "colab": {
          "base_uri": "https://localhost:8080/"
        },
        "id": "hz1X6nu1vwsb",
        "outputId": "b9b6db02-1a7b-4d4b-a132-a348d4331aeb"
      },
      "source": [
        "gnb.score(X_test_v,y_test)"
      ],
      "execution_count": 81,
      "outputs": [
        {
          "output_type": "execute_result",
          "data": {
            "text/plain": [
              "0.46"
            ]
          },
          "metadata": {},
          "execution_count": 81
        }
      ]
    },
    {
      "cell_type": "code",
      "metadata": {
        "colab": {
          "base_uri": "https://localhost:8080/"
        },
        "id": "7XI7jAL9zA3U",
        "outputId": "e37b11aa-e4cf-4af4-ab5b-2e8bb1a4b787"
      },
      "source": [
        "gnb2.score(X_test_v,y_test)"
      ],
      "execution_count": 82,
      "outputs": [
        {
          "output_type": "execute_result",
          "data": {
            "text/plain": [
              "0.56"
            ]
          },
          "metadata": {},
          "execution_count": 82
        }
      ]
    },
    {
      "cell_type": "code",
      "metadata": {
        "id": "tDCz-eSDzWW0"
      },
      "source": [
        ""
      ],
      "execution_count": null,
      "outputs": []
    }
  ]
}