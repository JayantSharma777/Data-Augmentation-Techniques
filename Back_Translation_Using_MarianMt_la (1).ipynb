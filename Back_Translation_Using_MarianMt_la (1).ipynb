{
  "nbformat": 4,
  "nbformat_minor": 0,
  "metadata": {
    "colab": {
      "name": "Back_Translation_Using_MarianMt_la.ipynb",
      "provenance": [],
      "collapsed_sections": [],
      "machine_shape": "hm"
    },
    "kernelspec": {
      "name": "python3",
      "display_name": "Python 3"
    },
    "language_info": {
      "name": "python"
    },
    "widgets": {
      "application/vnd.jupyter.widget-state+json": {
        "111559cfd90b4f07921126716998bfb8": {
          "model_module": "@jupyter-widgets/controls",
          "model_name": "HBoxModel",
          "model_module_version": "1.5.0",
          "state": {
            "_view_name": "HBoxView",
            "_dom_classes": [],
            "_model_name": "HBoxModel",
            "_view_module": "@jupyter-widgets/controls",
            "_model_module_version": "1.5.0",
            "_view_count": null,
            "_view_module_version": "1.5.0",
            "box_style": "",
            "layout": "IPY_MODEL_31549e566843418b9c99065cbcfaf202",
            "_model_module": "@jupyter-widgets/controls",
            "children": [
              "IPY_MODEL_91b78786c3c74fc8a794d9fc65bf5c0c",
              "IPY_MODEL_4fb64426309e4b9ebcd2cdb412e65baf",
              "IPY_MODEL_1176c61187f84897a711c2714aaf1ba9"
            ]
          }
        },
        "31549e566843418b9c99065cbcfaf202": {
          "model_module": "@jupyter-widgets/base",
          "model_name": "LayoutModel",
          "model_module_version": "1.2.0",
          "state": {
            "_view_name": "LayoutView",
            "grid_template_rows": null,
            "right": null,
            "justify_content": null,
            "_view_module": "@jupyter-widgets/base",
            "overflow": null,
            "_model_module_version": "1.2.0",
            "_view_count": null,
            "flex_flow": null,
            "width": null,
            "min_width": null,
            "border": null,
            "align_items": null,
            "bottom": null,
            "_model_module": "@jupyter-widgets/base",
            "top": null,
            "grid_column": null,
            "overflow_y": null,
            "overflow_x": null,
            "grid_auto_flow": null,
            "grid_area": null,
            "grid_template_columns": null,
            "flex": null,
            "_model_name": "LayoutModel",
            "justify_items": null,
            "grid_row": null,
            "max_height": null,
            "align_content": null,
            "visibility": null,
            "align_self": null,
            "height": null,
            "min_height": null,
            "padding": null,
            "grid_auto_rows": null,
            "grid_gap": null,
            "max_width": null,
            "order": null,
            "_view_module_version": "1.2.0",
            "grid_template_areas": null,
            "object_position": null,
            "object_fit": null,
            "grid_auto_columns": null,
            "margin": null,
            "display": null,
            "left": null
          }
        },
        "91b78786c3c74fc8a794d9fc65bf5c0c": {
          "model_module": "@jupyter-widgets/controls",
          "model_name": "HTMLModel",
          "model_module_version": "1.5.0",
          "state": {
            "_view_name": "HTMLView",
            "style": "IPY_MODEL_4f1eaf3c09794f2fb77977bfb59eb9f5",
            "_dom_classes": [],
            "description": "",
            "_model_name": "HTMLModel",
            "placeholder": "​",
            "_view_module": "@jupyter-widgets/controls",
            "_model_module_version": "1.5.0",
            "value": "Downloading: 100%",
            "_view_count": null,
            "_view_module_version": "1.5.0",
            "description_tooltip": null,
            "_model_module": "@jupyter-widgets/controls",
            "layout": "IPY_MODEL_098ba618437b4c42923e2513c6640d59"
          }
        },
        "4fb64426309e4b9ebcd2cdb412e65baf": {
          "model_module": "@jupyter-widgets/controls",
          "model_name": "FloatProgressModel",
          "model_module_version": "1.5.0",
          "state": {
            "_view_name": "ProgressView",
            "style": "IPY_MODEL_f4ca35344763451b8daf32acd3523187",
            "_dom_classes": [],
            "description": "",
            "_model_name": "FloatProgressModel",
            "bar_style": "success",
            "max": 779155,
            "_view_module": "@jupyter-widgets/controls",
            "_model_module_version": "1.5.0",
            "value": 779155,
            "_view_count": null,
            "_view_module_version": "1.5.0",
            "orientation": "horizontal",
            "min": 0,
            "description_tooltip": null,
            "_model_module": "@jupyter-widgets/controls",
            "layout": "IPY_MODEL_15897e55ac224b1abaf7983058c09d40"
          }
        },
        "1176c61187f84897a711c2714aaf1ba9": {
          "model_module": "@jupyter-widgets/controls",
          "model_name": "HTMLModel",
          "model_module_version": "1.5.0",
          "state": {
            "_view_name": "HTMLView",
            "style": "IPY_MODEL_3da01b30addf4d76be615d87f439f9e3",
            "_dom_classes": [],
            "description": "",
            "_model_name": "HTMLModel",
            "placeholder": "​",
            "_view_module": "@jupyter-widgets/controls",
            "_model_module_version": "1.5.0",
            "value": " 779k/779k [00:00&lt;00:00, 1.53MB/s]",
            "_view_count": null,
            "_view_module_version": "1.5.0",
            "description_tooltip": null,
            "_model_module": "@jupyter-widgets/controls",
            "layout": "IPY_MODEL_916e409254f1482eb7e62f269d9e1c42"
          }
        },
        "4f1eaf3c09794f2fb77977bfb59eb9f5": {
          "model_module": "@jupyter-widgets/controls",
          "model_name": "DescriptionStyleModel",
          "model_module_version": "1.5.0",
          "state": {
            "_view_name": "StyleView",
            "_model_name": "DescriptionStyleModel",
            "description_width": "",
            "_view_module": "@jupyter-widgets/base",
            "_model_module_version": "1.5.0",
            "_view_count": null,
            "_view_module_version": "1.2.0",
            "_model_module": "@jupyter-widgets/controls"
          }
        },
        "098ba618437b4c42923e2513c6640d59": {
          "model_module": "@jupyter-widgets/base",
          "model_name": "LayoutModel",
          "model_module_version": "1.2.0",
          "state": {
            "_view_name": "LayoutView",
            "grid_template_rows": null,
            "right": null,
            "justify_content": null,
            "_view_module": "@jupyter-widgets/base",
            "overflow": null,
            "_model_module_version": "1.2.0",
            "_view_count": null,
            "flex_flow": null,
            "width": null,
            "min_width": null,
            "border": null,
            "align_items": null,
            "bottom": null,
            "_model_module": "@jupyter-widgets/base",
            "top": null,
            "grid_column": null,
            "overflow_y": null,
            "overflow_x": null,
            "grid_auto_flow": null,
            "grid_area": null,
            "grid_template_columns": null,
            "flex": null,
            "_model_name": "LayoutModel",
            "justify_items": null,
            "grid_row": null,
            "max_height": null,
            "align_content": null,
            "visibility": null,
            "align_self": null,
            "height": null,
            "min_height": null,
            "padding": null,
            "grid_auto_rows": null,
            "grid_gap": null,
            "max_width": null,
            "order": null,
            "_view_module_version": "1.2.0",
            "grid_template_areas": null,
            "object_position": null,
            "object_fit": null,
            "grid_auto_columns": null,
            "margin": null,
            "display": null,
            "left": null
          }
        },
        "f4ca35344763451b8daf32acd3523187": {
          "model_module": "@jupyter-widgets/controls",
          "model_name": "ProgressStyleModel",
          "model_module_version": "1.5.0",
          "state": {
            "_view_name": "StyleView",
            "_model_name": "ProgressStyleModel",
            "description_width": "",
            "_view_module": "@jupyter-widgets/base",
            "_model_module_version": "1.5.0",
            "_view_count": null,
            "_view_module_version": "1.2.0",
            "bar_color": null,
            "_model_module": "@jupyter-widgets/controls"
          }
        },
        "15897e55ac224b1abaf7983058c09d40": {
          "model_module": "@jupyter-widgets/base",
          "model_name": "LayoutModel",
          "model_module_version": "1.2.0",
          "state": {
            "_view_name": "LayoutView",
            "grid_template_rows": null,
            "right": null,
            "justify_content": null,
            "_view_module": "@jupyter-widgets/base",
            "overflow": null,
            "_model_module_version": "1.2.0",
            "_view_count": null,
            "flex_flow": null,
            "width": null,
            "min_width": null,
            "border": null,
            "align_items": null,
            "bottom": null,
            "_model_module": "@jupyter-widgets/base",
            "top": null,
            "grid_column": null,
            "overflow_y": null,
            "overflow_x": null,
            "grid_auto_flow": null,
            "grid_area": null,
            "grid_template_columns": null,
            "flex": null,
            "_model_name": "LayoutModel",
            "justify_items": null,
            "grid_row": null,
            "max_height": null,
            "align_content": null,
            "visibility": null,
            "align_self": null,
            "height": null,
            "min_height": null,
            "padding": null,
            "grid_auto_rows": null,
            "grid_gap": null,
            "max_width": null,
            "order": null,
            "_view_module_version": "1.2.0",
            "grid_template_areas": null,
            "object_position": null,
            "object_fit": null,
            "grid_auto_columns": null,
            "margin": null,
            "display": null,
            "left": null
          }
        },
        "3da01b30addf4d76be615d87f439f9e3": {
          "model_module": "@jupyter-widgets/controls",
          "model_name": "DescriptionStyleModel",
          "model_module_version": "1.5.0",
          "state": {
            "_view_name": "StyleView",
            "_model_name": "DescriptionStyleModel",
            "description_width": "",
            "_view_module": "@jupyter-widgets/base",
            "_model_module_version": "1.5.0",
            "_view_count": null,
            "_view_module_version": "1.2.0",
            "_model_module": "@jupyter-widgets/controls"
          }
        },
        "916e409254f1482eb7e62f269d9e1c42": {
          "model_module": "@jupyter-widgets/base",
          "model_name": "LayoutModel",
          "model_module_version": "1.2.0",
          "state": {
            "_view_name": "LayoutView",
            "grid_template_rows": null,
            "right": null,
            "justify_content": null,
            "_view_module": "@jupyter-widgets/base",
            "overflow": null,
            "_model_module_version": "1.2.0",
            "_view_count": null,
            "flex_flow": null,
            "width": null,
            "min_width": null,
            "border": null,
            "align_items": null,
            "bottom": null,
            "_model_module": "@jupyter-widgets/base",
            "top": null,
            "grid_column": null,
            "overflow_y": null,
            "overflow_x": null,
            "grid_auto_flow": null,
            "grid_area": null,
            "grid_template_columns": null,
            "flex": null,
            "_model_name": "LayoutModel",
            "justify_items": null,
            "grid_row": null,
            "max_height": null,
            "align_content": null,
            "visibility": null,
            "align_self": null,
            "height": null,
            "min_height": null,
            "padding": null,
            "grid_auto_rows": null,
            "grid_gap": null,
            "max_width": null,
            "order": null,
            "_view_module_version": "1.2.0",
            "grid_template_areas": null,
            "object_position": null,
            "object_fit": null,
            "grid_auto_columns": null,
            "margin": null,
            "display": null,
            "left": null
          }
        },
        "3d0880305ae54ea8922850396305d7fb": {
          "model_module": "@jupyter-widgets/controls",
          "model_name": "HBoxModel",
          "model_module_version": "1.5.0",
          "state": {
            "_view_name": "HBoxView",
            "_dom_classes": [],
            "_model_name": "HBoxModel",
            "_view_module": "@jupyter-widgets/controls",
            "_model_module_version": "1.5.0",
            "_view_count": null,
            "_view_module_version": "1.5.0",
            "box_style": "",
            "layout": "IPY_MODEL_69eaad71b639496ebf21eb2489f6387a",
            "_model_module": "@jupyter-widgets/controls",
            "children": [
              "IPY_MODEL_6c89066bfbb54ff5b941587a33729bbc",
              "IPY_MODEL_a65afd90930d4a8f92abd2dd0a5ce8b9",
              "IPY_MODEL_1b8c89a472334d44869636b03c82a049"
            ]
          }
        },
        "69eaad71b639496ebf21eb2489f6387a": {
          "model_module": "@jupyter-widgets/base",
          "model_name": "LayoutModel",
          "model_module_version": "1.2.0",
          "state": {
            "_view_name": "LayoutView",
            "grid_template_rows": null,
            "right": null,
            "justify_content": null,
            "_view_module": "@jupyter-widgets/base",
            "overflow": null,
            "_model_module_version": "1.2.0",
            "_view_count": null,
            "flex_flow": null,
            "width": null,
            "min_width": null,
            "border": null,
            "align_items": null,
            "bottom": null,
            "_model_module": "@jupyter-widgets/base",
            "top": null,
            "grid_column": null,
            "overflow_y": null,
            "overflow_x": null,
            "grid_auto_flow": null,
            "grid_area": null,
            "grid_template_columns": null,
            "flex": null,
            "_model_name": "LayoutModel",
            "justify_items": null,
            "grid_row": null,
            "max_height": null,
            "align_content": null,
            "visibility": null,
            "align_self": null,
            "height": null,
            "min_height": null,
            "padding": null,
            "grid_auto_rows": null,
            "grid_gap": null,
            "max_width": null,
            "order": null,
            "_view_module_version": "1.2.0",
            "grid_template_areas": null,
            "object_position": null,
            "object_fit": null,
            "grid_auto_columns": null,
            "margin": null,
            "display": null,
            "left": null
          }
        },
        "6c89066bfbb54ff5b941587a33729bbc": {
          "model_module": "@jupyter-widgets/controls",
          "model_name": "HTMLModel",
          "model_module_version": "1.5.0",
          "state": {
            "_view_name": "HTMLView",
            "style": "IPY_MODEL_80da555ab35b4c76877e7c7925558291",
            "_dom_classes": [],
            "description": "",
            "_model_name": "HTMLModel",
            "placeholder": "​",
            "_view_module": "@jupyter-widgets/controls",
            "_model_module_version": "1.5.0",
            "value": "Downloading: 100%",
            "_view_count": null,
            "_view_module_version": "1.5.0",
            "description_tooltip": null,
            "_model_module": "@jupyter-widgets/controls",
            "layout": "IPY_MODEL_fe3843a3f437471788b21cf56ab5b896"
          }
        },
        "a65afd90930d4a8f92abd2dd0a5ce8b9": {
          "model_module": "@jupyter-widgets/controls",
          "model_name": "FloatProgressModel",
          "model_module_version": "1.5.0",
          "state": {
            "_view_name": "ProgressView",
            "style": "IPY_MODEL_84736277fce24920b4337599de18789c",
            "_dom_classes": [],
            "description": "",
            "_model_name": "FloatProgressModel",
            "bar_style": "success",
            "max": 799001,
            "_view_module": "@jupyter-widgets/controls",
            "_model_module_version": "1.5.0",
            "value": 799001,
            "_view_count": null,
            "_view_module_version": "1.5.0",
            "orientation": "horizontal",
            "min": 0,
            "description_tooltip": null,
            "_model_module": "@jupyter-widgets/controls",
            "layout": "IPY_MODEL_e61d3aa9fa3941b59adc356c657dcc02"
          }
        },
        "1b8c89a472334d44869636b03c82a049": {
          "model_module": "@jupyter-widgets/controls",
          "model_name": "HTMLModel",
          "model_module_version": "1.5.0",
          "state": {
            "_view_name": "HTMLView",
            "style": "IPY_MODEL_c252bb4e87ed4064862e603dbc719e0e",
            "_dom_classes": [],
            "description": "",
            "_model_name": "HTMLModel",
            "placeholder": "​",
            "_view_module": "@jupyter-widgets/controls",
            "_model_module_version": "1.5.0",
            "value": " 799k/799k [00:00&lt;00:00, 1.41MB/s]",
            "_view_count": null,
            "_view_module_version": "1.5.0",
            "description_tooltip": null,
            "_model_module": "@jupyter-widgets/controls",
            "layout": "IPY_MODEL_6748c20fe3074a3cb8f628ef405debb1"
          }
        },
        "80da555ab35b4c76877e7c7925558291": {
          "model_module": "@jupyter-widgets/controls",
          "model_name": "DescriptionStyleModel",
          "model_module_version": "1.5.0",
          "state": {
            "_view_name": "StyleView",
            "_model_name": "DescriptionStyleModel",
            "description_width": "",
            "_view_module": "@jupyter-widgets/base",
            "_model_module_version": "1.5.0",
            "_view_count": null,
            "_view_module_version": "1.2.0",
            "_model_module": "@jupyter-widgets/controls"
          }
        },
        "fe3843a3f437471788b21cf56ab5b896": {
          "model_module": "@jupyter-widgets/base",
          "model_name": "LayoutModel",
          "model_module_version": "1.2.0",
          "state": {
            "_view_name": "LayoutView",
            "grid_template_rows": null,
            "right": null,
            "justify_content": null,
            "_view_module": "@jupyter-widgets/base",
            "overflow": null,
            "_model_module_version": "1.2.0",
            "_view_count": null,
            "flex_flow": null,
            "width": null,
            "min_width": null,
            "border": null,
            "align_items": null,
            "bottom": null,
            "_model_module": "@jupyter-widgets/base",
            "top": null,
            "grid_column": null,
            "overflow_y": null,
            "overflow_x": null,
            "grid_auto_flow": null,
            "grid_area": null,
            "grid_template_columns": null,
            "flex": null,
            "_model_name": "LayoutModel",
            "justify_items": null,
            "grid_row": null,
            "max_height": null,
            "align_content": null,
            "visibility": null,
            "align_self": null,
            "height": null,
            "min_height": null,
            "padding": null,
            "grid_auto_rows": null,
            "grid_gap": null,
            "max_width": null,
            "order": null,
            "_view_module_version": "1.2.0",
            "grid_template_areas": null,
            "object_position": null,
            "object_fit": null,
            "grid_auto_columns": null,
            "margin": null,
            "display": null,
            "left": null
          }
        },
        "84736277fce24920b4337599de18789c": {
          "model_module": "@jupyter-widgets/controls",
          "model_name": "ProgressStyleModel",
          "model_module_version": "1.5.0",
          "state": {
            "_view_name": "StyleView",
            "_model_name": "ProgressStyleModel",
            "description_width": "",
            "_view_module": "@jupyter-widgets/base",
            "_model_module_version": "1.5.0",
            "_view_count": null,
            "_view_module_version": "1.2.0",
            "bar_color": null,
            "_model_module": "@jupyter-widgets/controls"
          }
        },
        "e61d3aa9fa3941b59adc356c657dcc02": {
          "model_module": "@jupyter-widgets/base",
          "model_name": "LayoutModel",
          "model_module_version": "1.2.0",
          "state": {
            "_view_name": "LayoutView",
            "grid_template_rows": null,
            "right": null,
            "justify_content": null,
            "_view_module": "@jupyter-widgets/base",
            "overflow": null,
            "_model_module_version": "1.2.0",
            "_view_count": null,
            "flex_flow": null,
            "width": null,
            "min_width": null,
            "border": null,
            "align_items": null,
            "bottom": null,
            "_model_module": "@jupyter-widgets/base",
            "top": null,
            "grid_column": null,
            "overflow_y": null,
            "overflow_x": null,
            "grid_auto_flow": null,
            "grid_area": null,
            "grid_template_columns": null,
            "flex": null,
            "_model_name": "LayoutModel",
            "justify_items": null,
            "grid_row": null,
            "max_height": null,
            "align_content": null,
            "visibility": null,
            "align_self": null,
            "height": null,
            "min_height": null,
            "padding": null,
            "grid_auto_rows": null,
            "grid_gap": null,
            "max_width": null,
            "order": null,
            "_view_module_version": "1.2.0",
            "grid_template_areas": null,
            "object_position": null,
            "object_fit": null,
            "grid_auto_columns": null,
            "margin": null,
            "display": null,
            "left": null
          }
        },
        "c252bb4e87ed4064862e603dbc719e0e": {
          "model_module": "@jupyter-widgets/controls",
          "model_name": "DescriptionStyleModel",
          "model_module_version": "1.5.0",
          "state": {
            "_view_name": "StyleView",
            "_model_name": "DescriptionStyleModel",
            "description_width": "",
            "_view_module": "@jupyter-widgets/base",
            "_model_module_version": "1.5.0",
            "_view_count": null,
            "_view_module_version": "1.2.0",
            "_model_module": "@jupyter-widgets/controls"
          }
        },
        "6748c20fe3074a3cb8f628ef405debb1": {
          "model_module": "@jupyter-widgets/base",
          "model_name": "LayoutModel",
          "model_module_version": "1.2.0",
          "state": {
            "_view_name": "LayoutView",
            "grid_template_rows": null,
            "right": null,
            "justify_content": null,
            "_view_module": "@jupyter-widgets/base",
            "overflow": null,
            "_model_module_version": "1.2.0",
            "_view_count": null,
            "flex_flow": null,
            "width": null,
            "min_width": null,
            "border": null,
            "align_items": null,
            "bottom": null,
            "_model_module": "@jupyter-widgets/base",
            "top": null,
            "grid_column": null,
            "overflow_y": null,
            "overflow_x": null,
            "grid_auto_flow": null,
            "grid_area": null,
            "grid_template_columns": null,
            "flex": null,
            "_model_name": "LayoutModel",
            "justify_items": null,
            "grid_row": null,
            "max_height": null,
            "align_content": null,
            "visibility": null,
            "align_self": null,
            "height": null,
            "min_height": null,
            "padding": null,
            "grid_auto_rows": null,
            "grid_gap": null,
            "max_width": null,
            "order": null,
            "_view_module_version": "1.2.0",
            "grid_template_areas": null,
            "object_position": null,
            "object_fit": null,
            "grid_auto_columns": null,
            "margin": null,
            "display": null,
            "left": null
          }
        },
        "ef04e6702c334306a58d846ba55c07ca": {
          "model_module": "@jupyter-widgets/controls",
          "model_name": "HBoxModel",
          "model_module_version": "1.5.0",
          "state": {
            "_view_name": "HBoxView",
            "_dom_classes": [],
            "_model_name": "HBoxModel",
            "_view_module": "@jupyter-widgets/controls",
            "_model_module_version": "1.5.0",
            "_view_count": null,
            "_view_module_version": "1.5.0",
            "box_style": "",
            "layout": "IPY_MODEL_6dad7dbcb09341e0ad53e672800ef4e3",
            "_model_module": "@jupyter-widgets/controls",
            "children": [
              "IPY_MODEL_813fef96c5d642eb9039e74324c36f7b",
              "IPY_MODEL_d208c182fe624f80951be25bee461229",
              "IPY_MODEL_4f91020c25874a87b76b51041e683e15"
            ]
          }
        },
        "6dad7dbcb09341e0ad53e672800ef4e3": {
          "model_module": "@jupyter-widgets/base",
          "model_name": "LayoutModel",
          "model_module_version": "1.2.0",
          "state": {
            "_view_name": "LayoutView",
            "grid_template_rows": null,
            "right": null,
            "justify_content": null,
            "_view_module": "@jupyter-widgets/base",
            "overflow": null,
            "_model_module_version": "1.2.0",
            "_view_count": null,
            "flex_flow": null,
            "width": null,
            "min_width": null,
            "border": null,
            "align_items": null,
            "bottom": null,
            "_model_module": "@jupyter-widgets/base",
            "top": null,
            "grid_column": null,
            "overflow_y": null,
            "overflow_x": null,
            "grid_auto_flow": null,
            "grid_area": null,
            "grid_template_columns": null,
            "flex": null,
            "_model_name": "LayoutModel",
            "justify_items": null,
            "grid_row": null,
            "max_height": null,
            "align_content": null,
            "visibility": null,
            "align_self": null,
            "height": null,
            "min_height": null,
            "padding": null,
            "grid_auto_rows": null,
            "grid_gap": null,
            "max_width": null,
            "order": null,
            "_view_module_version": "1.2.0",
            "grid_template_areas": null,
            "object_position": null,
            "object_fit": null,
            "grid_auto_columns": null,
            "margin": null,
            "display": null,
            "left": null
          }
        },
        "813fef96c5d642eb9039e74324c36f7b": {
          "model_module": "@jupyter-widgets/controls",
          "model_name": "HTMLModel",
          "model_module_version": "1.5.0",
          "state": {
            "_view_name": "HTMLView",
            "style": "IPY_MODEL_1fc1a8f98ca0411391fa242cc9fcb9f2",
            "_dom_classes": [],
            "description": "",
            "_model_name": "HTMLModel",
            "placeholder": "​",
            "_view_module": "@jupyter-widgets/controls",
            "_model_module_version": "1.5.0",
            "value": "Downloading: 100%",
            "_view_count": null,
            "_view_module_version": "1.5.0",
            "description_tooltip": null,
            "_model_module": "@jupyter-widgets/controls",
            "layout": "IPY_MODEL_90ea1741a2054a76b78590938724788e"
          }
        },
        "d208c182fe624f80951be25bee461229": {
          "model_module": "@jupyter-widgets/controls",
          "model_name": "FloatProgressModel",
          "model_module_version": "1.5.0",
          "state": {
            "_view_name": "ProgressView",
            "style": "IPY_MODEL_d4321ff3eed5401f83ff6e97ccd5009e",
            "_dom_classes": [],
            "description": "",
            "_model_name": "FloatProgressModel",
            "bar_style": "success",
            "max": 1457360,
            "_view_module": "@jupyter-widgets/controls",
            "_model_module_version": "1.5.0",
            "value": 1457360,
            "_view_count": null,
            "_view_module_version": "1.5.0",
            "orientation": "horizontal",
            "min": 0,
            "description_tooltip": null,
            "_model_module": "@jupyter-widgets/controls",
            "layout": "IPY_MODEL_282f18f7a72f435abdbb207f519f96f0"
          }
        },
        "4f91020c25874a87b76b51041e683e15": {
          "model_module": "@jupyter-widgets/controls",
          "model_name": "HTMLModel",
          "model_module_version": "1.5.0",
          "state": {
            "_view_name": "HTMLView",
            "style": "IPY_MODEL_897ae92b11c849e8a749281217ac61d4",
            "_dom_classes": [],
            "description": "",
            "_model_name": "HTMLModel",
            "placeholder": "​",
            "_view_module": "@jupyter-widgets/controls",
            "_model_module_version": "1.5.0",
            "value": " 1.46M/1.46M [00:00&lt;00:00, 1.64MB/s]",
            "_view_count": null,
            "_view_module_version": "1.5.0",
            "description_tooltip": null,
            "_model_module": "@jupyter-widgets/controls",
            "layout": "IPY_MODEL_81dc75ec06a64bb8b9588168113375a1"
          }
        },
        "1fc1a8f98ca0411391fa242cc9fcb9f2": {
          "model_module": "@jupyter-widgets/controls",
          "model_name": "DescriptionStyleModel",
          "model_module_version": "1.5.0",
          "state": {
            "_view_name": "StyleView",
            "_model_name": "DescriptionStyleModel",
            "description_width": "",
            "_view_module": "@jupyter-widgets/base",
            "_model_module_version": "1.5.0",
            "_view_count": null,
            "_view_module_version": "1.2.0",
            "_model_module": "@jupyter-widgets/controls"
          }
        },
        "90ea1741a2054a76b78590938724788e": {
          "model_module": "@jupyter-widgets/base",
          "model_name": "LayoutModel",
          "model_module_version": "1.2.0",
          "state": {
            "_view_name": "LayoutView",
            "grid_template_rows": null,
            "right": null,
            "justify_content": null,
            "_view_module": "@jupyter-widgets/base",
            "overflow": null,
            "_model_module_version": "1.2.0",
            "_view_count": null,
            "flex_flow": null,
            "width": null,
            "min_width": null,
            "border": null,
            "align_items": null,
            "bottom": null,
            "_model_module": "@jupyter-widgets/base",
            "top": null,
            "grid_column": null,
            "overflow_y": null,
            "overflow_x": null,
            "grid_auto_flow": null,
            "grid_area": null,
            "grid_template_columns": null,
            "flex": null,
            "_model_name": "LayoutModel",
            "justify_items": null,
            "grid_row": null,
            "max_height": null,
            "align_content": null,
            "visibility": null,
            "align_self": null,
            "height": null,
            "min_height": null,
            "padding": null,
            "grid_auto_rows": null,
            "grid_gap": null,
            "max_width": null,
            "order": null,
            "_view_module_version": "1.2.0",
            "grid_template_areas": null,
            "object_position": null,
            "object_fit": null,
            "grid_auto_columns": null,
            "margin": null,
            "display": null,
            "left": null
          }
        },
        "d4321ff3eed5401f83ff6e97ccd5009e": {
          "model_module": "@jupyter-widgets/controls",
          "model_name": "ProgressStyleModel",
          "model_module_version": "1.5.0",
          "state": {
            "_view_name": "StyleView",
            "_model_name": "ProgressStyleModel",
            "description_width": "",
            "_view_module": "@jupyter-widgets/base",
            "_model_module_version": "1.5.0",
            "_view_count": null,
            "_view_module_version": "1.2.0",
            "bar_color": null,
            "_model_module": "@jupyter-widgets/controls"
          }
        },
        "282f18f7a72f435abdbb207f519f96f0": {
          "model_module": "@jupyter-widgets/base",
          "model_name": "LayoutModel",
          "model_module_version": "1.2.0",
          "state": {
            "_view_name": "LayoutView",
            "grid_template_rows": null,
            "right": null,
            "justify_content": null,
            "_view_module": "@jupyter-widgets/base",
            "overflow": null,
            "_model_module_version": "1.2.0",
            "_view_count": null,
            "flex_flow": null,
            "width": null,
            "min_width": null,
            "border": null,
            "align_items": null,
            "bottom": null,
            "_model_module": "@jupyter-widgets/base",
            "top": null,
            "grid_column": null,
            "overflow_y": null,
            "overflow_x": null,
            "grid_auto_flow": null,
            "grid_area": null,
            "grid_template_columns": null,
            "flex": null,
            "_model_name": "LayoutModel",
            "justify_items": null,
            "grid_row": null,
            "max_height": null,
            "align_content": null,
            "visibility": null,
            "align_self": null,
            "height": null,
            "min_height": null,
            "padding": null,
            "grid_auto_rows": null,
            "grid_gap": null,
            "max_width": null,
            "order": null,
            "_view_module_version": "1.2.0",
            "grid_template_areas": null,
            "object_position": null,
            "object_fit": null,
            "grid_auto_columns": null,
            "margin": null,
            "display": null,
            "left": null
          }
        },
        "897ae92b11c849e8a749281217ac61d4": {
          "model_module": "@jupyter-widgets/controls",
          "model_name": "DescriptionStyleModel",
          "model_module_version": "1.5.0",
          "state": {
            "_view_name": "StyleView",
            "_model_name": "DescriptionStyleModel",
            "description_width": "",
            "_view_module": "@jupyter-widgets/base",
            "_model_module_version": "1.5.0",
            "_view_count": null,
            "_view_module_version": "1.2.0",
            "_model_module": "@jupyter-widgets/controls"
          }
        },
        "81dc75ec06a64bb8b9588168113375a1": {
          "model_module": "@jupyter-widgets/base",
          "model_name": "LayoutModel",
          "model_module_version": "1.2.0",
          "state": {
            "_view_name": "LayoutView",
            "grid_template_rows": null,
            "right": null,
            "justify_content": null,
            "_view_module": "@jupyter-widgets/base",
            "overflow": null,
            "_model_module_version": "1.2.0",
            "_view_count": null,
            "flex_flow": null,
            "width": null,
            "min_width": null,
            "border": null,
            "align_items": null,
            "bottom": null,
            "_model_module": "@jupyter-widgets/base",
            "top": null,
            "grid_column": null,
            "overflow_y": null,
            "overflow_x": null,
            "grid_auto_flow": null,
            "grid_area": null,
            "grid_template_columns": null,
            "flex": null,
            "_model_name": "LayoutModel",
            "justify_items": null,
            "grid_row": null,
            "max_height": null,
            "align_content": null,
            "visibility": null,
            "align_self": null,
            "height": null,
            "min_height": null,
            "padding": null,
            "grid_auto_rows": null,
            "grid_gap": null,
            "max_width": null,
            "order": null,
            "_view_module_version": "1.2.0",
            "grid_template_areas": null,
            "object_position": null,
            "object_fit": null,
            "grid_auto_columns": null,
            "margin": null,
            "display": null,
            "left": null
          }
        },
        "441e701370ca43d091e12c5f1520f92e": {
          "model_module": "@jupyter-widgets/controls",
          "model_name": "HBoxModel",
          "model_module_version": "1.5.0",
          "state": {
            "_view_name": "HBoxView",
            "_dom_classes": [],
            "_model_name": "HBoxModel",
            "_view_module": "@jupyter-widgets/controls",
            "_model_module_version": "1.5.0",
            "_view_count": null,
            "_view_module_version": "1.5.0",
            "box_style": "",
            "layout": "IPY_MODEL_e296421387144ff183f539cf6d68f520",
            "_model_module": "@jupyter-widgets/controls",
            "children": [
              "IPY_MODEL_dd774ec8a15b46de9330de00d965bcf5",
              "IPY_MODEL_90eb05ca89e74974abb11c6327ba3616",
              "IPY_MODEL_ea5654f318aa422cbe131a60e69d4567"
            ]
          }
        },
        "e296421387144ff183f539cf6d68f520": {
          "model_module": "@jupyter-widgets/base",
          "model_name": "LayoutModel",
          "model_module_version": "1.2.0",
          "state": {
            "_view_name": "LayoutView",
            "grid_template_rows": null,
            "right": null,
            "justify_content": null,
            "_view_module": "@jupyter-widgets/base",
            "overflow": null,
            "_model_module_version": "1.2.0",
            "_view_count": null,
            "flex_flow": null,
            "width": null,
            "min_width": null,
            "border": null,
            "align_items": null,
            "bottom": null,
            "_model_module": "@jupyter-widgets/base",
            "top": null,
            "grid_column": null,
            "overflow_y": null,
            "overflow_x": null,
            "grid_auto_flow": null,
            "grid_area": null,
            "grid_template_columns": null,
            "flex": null,
            "_model_name": "LayoutModel",
            "justify_items": null,
            "grid_row": null,
            "max_height": null,
            "align_content": null,
            "visibility": null,
            "align_self": null,
            "height": null,
            "min_height": null,
            "padding": null,
            "grid_auto_rows": null,
            "grid_gap": null,
            "max_width": null,
            "order": null,
            "_view_module_version": "1.2.0",
            "grid_template_areas": null,
            "object_position": null,
            "object_fit": null,
            "grid_auto_columns": null,
            "margin": null,
            "display": null,
            "left": null
          }
        },
        "dd774ec8a15b46de9330de00d965bcf5": {
          "model_module": "@jupyter-widgets/controls",
          "model_name": "HTMLModel",
          "model_module_version": "1.5.0",
          "state": {
            "_view_name": "HTMLView",
            "style": "IPY_MODEL_7e1cbbdcf94646e8bf9fc8d3b8fc2e76",
            "_dom_classes": [],
            "description": "",
            "_model_name": "HTMLModel",
            "placeholder": "​",
            "_view_module": "@jupyter-widgets/controls",
            "_model_module_version": "1.5.0",
            "value": "Downloading: 100%",
            "_view_count": null,
            "_view_module_version": "1.5.0",
            "description_tooltip": null,
            "_model_module": "@jupyter-widgets/controls",
            "layout": "IPY_MODEL_ade8ee3d149943b5b552b705854154c9"
          }
        },
        "90eb05ca89e74974abb11c6327ba3616": {
          "model_module": "@jupyter-widgets/controls",
          "model_name": "FloatProgressModel",
          "model_module_version": "1.5.0",
          "state": {
            "_view_name": "ProgressView",
            "style": "IPY_MODEL_31c1a7b9da6940ec9c037f0f3dbf4bf8",
            "_dom_classes": [],
            "description": "",
            "_model_name": "FloatProgressModel",
            "bar_style": "success",
            "max": 265,
            "_view_module": "@jupyter-widgets/controls",
            "_model_module_version": "1.5.0",
            "value": 265,
            "_view_count": null,
            "_view_module_version": "1.5.0",
            "orientation": "horizontal",
            "min": 0,
            "description_tooltip": null,
            "_model_module": "@jupyter-widgets/controls",
            "layout": "IPY_MODEL_1639d90c3a2c4e708a6de45d4915e382"
          }
        },
        "ea5654f318aa422cbe131a60e69d4567": {
          "model_module": "@jupyter-widgets/controls",
          "model_name": "HTMLModel",
          "model_module_version": "1.5.0",
          "state": {
            "_view_name": "HTMLView",
            "style": "IPY_MODEL_a94ad9152c0c4182910fc2aa8a9b5a7a",
            "_dom_classes": [],
            "description": "",
            "_model_name": "HTMLModel",
            "placeholder": "​",
            "_view_module": "@jupyter-widgets/controls",
            "_model_module_version": "1.5.0",
            "value": " 265/265 [00:00&lt;00:00, 8.40kB/s]",
            "_view_count": null,
            "_view_module_version": "1.5.0",
            "description_tooltip": null,
            "_model_module": "@jupyter-widgets/controls",
            "layout": "IPY_MODEL_c2c41de4136f49a3ae61132d7644bff1"
          }
        },
        "7e1cbbdcf94646e8bf9fc8d3b8fc2e76": {
          "model_module": "@jupyter-widgets/controls",
          "model_name": "DescriptionStyleModel",
          "model_module_version": "1.5.0",
          "state": {
            "_view_name": "StyleView",
            "_model_name": "DescriptionStyleModel",
            "description_width": "",
            "_view_module": "@jupyter-widgets/base",
            "_model_module_version": "1.5.0",
            "_view_count": null,
            "_view_module_version": "1.2.0",
            "_model_module": "@jupyter-widgets/controls"
          }
        },
        "ade8ee3d149943b5b552b705854154c9": {
          "model_module": "@jupyter-widgets/base",
          "model_name": "LayoutModel",
          "model_module_version": "1.2.0",
          "state": {
            "_view_name": "LayoutView",
            "grid_template_rows": null,
            "right": null,
            "justify_content": null,
            "_view_module": "@jupyter-widgets/base",
            "overflow": null,
            "_model_module_version": "1.2.0",
            "_view_count": null,
            "flex_flow": null,
            "width": null,
            "min_width": null,
            "border": null,
            "align_items": null,
            "bottom": null,
            "_model_module": "@jupyter-widgets/base",
            "top": null,
            "grid_column": null,
            "overflow_y": null,
            "overflow_x": null,
            "grid_auto_flow": null,
            "grid_area": null,
            "grid_template_columns": null,
            "flex": null,
            "_model_name": "LayoutModel",
            "justify_items": null,
            "grid_row": null,
            "max_height": null,
            "align_content": null,
            "visibility": null,
            "align_self": null,
            "height": null,
            "min_height": null,
            "padding": null,
            "grid_auto_rows": null,
            "grid_gap": null,
            "max_width": null,
            "order": null,
            "_view_module_version": "1.2.0",
            "grid_template_areas": null,
            "object_position": null,
            "object_fit": null,
            "grid_auto_columns": null,
            "margin": null,
            "display": null,
            "left": null
          }
        },
        "31c1a7b9da6940ec9c037f0f3dbf4bf8": {
          "model_module": "@jupyter-widgets/controls",
          "model_name": "ProgressStyleModel",
          "model_module_version": "1.5.0",
          "state": {
            "_view_name": "StyleView",
            "_model_name": "ProgressStyleModel",
            "description_width": "",
            "_view_module": "@jupyter-widgets/base",
            "_model_module_version": "1.5.0",
            "_view_count": null,
            "_view_module_version": "1.2.0",
            "bar_color": null,
            "_model_module": "@jupyter-widgets/controls"
          }
        },
        "1639d90c3a2c4e708a6de45d4915e382": {
          "model_module": "@jupyter-widgets/base",
          "model_name": "LayoutModel",
          "model_module_version": "1.2.0",
          "state": {
            "_view_name": "LayoutView",
            "grid_template_rows": null,
            "right": null,
            "justify_content": null,
            "_view_module": "@jupyter-widgets/base",
            "overflow": null,
            "_model_module_version": "1.2.0",
            "_view_count": null,
            "flex_flow": null,
            "width": null,
            "min_width": null,
            "border": null,
            "align_items": null,
            "bottom": null,
            "_model_module": "@jupyter-widgets/base",
            "top": null,
            "grid_column": null,
            "overflow_y": null,
            "overflow_x": null,
            "grid_auto_flow": null,
            "grid_area": null,
            "grid_template_columns": null,
            "flex": null,
            "_model_name": "LayoutModel",
            "justify_items": null,
            "grid_row": null,
            "max_height": null,
            "align_content": null,
            "visibility": null,
            "align_self": null,
            "height": null,
            "min_height": null,
            "padding": null,
            "grid_auto_rows": null,
            "grid_gap": null,
            "max_width": null,
            "order": null,
            "_view_module_version": "1.2.0",
            "grid_template_areas": null,
            "object_position": null,
            "object_fit": null,
            "grid_auto_columns": null,
            "margin": null,
            "display": null,
            "left": null
          }
        },
        "a94ad9152c0c4182910fc2aa8a9b5a7a": {
          "model_module": "@jupyter-widgets/controls",
          "model_name": "DescriptionStyleModel",
          "model_module_version": "1.5.0",
          "state": {
            "_view_name": "StyleView",
            "_model_name": "DescriptionStyleModel",
            "description_width": "",
            "_view_module": "@jupyter-widgets/base",
            "_model_module_version": "1.5.0",
            "_view_count": null,
            "_view_module_version": "1.2.0",
            "_model_module": "@jupyter-widgets/controls"
          }
        },
        "c2c41de4136f49a3ae61132d7644bff1": {
          "model_module": "@jupyter-widgets/base",
          "model_name": "LayoutModel",
          "model_module_version": "1.2.0",
          "state": {
            "_view_name": "LayoutView",
            "grid_template_rows": null,
            "right": null,
            "justify_content": null,
            "_view_module": "@jupyter-widgets/base",
            "overflow": null,
            "_model_module_version": "1.2.0",
            "_view_count": null,
            "flex_flow": null,
            "width": null,
            "min_width": null,
            "border": null,
            "align_items": null,
            "bottom": null,
            "_model_module": "@jupyter-widgets/base",
            "top": null,
            "grid_column": null,
            "overflow_y": null,
            "overflow_x": null,
            "grid_auto_flow": null,
            "grid_area": null,
            "grid_template_columns": null,
            "flex": null,
            "_model_name": "LayoutModel",
            "justify_items": null,
            "grid_row": null,
            "max_height": null,
            "align_content": null,
            "visibility": null,
            "align_self": null,
            "height": null,
            "min_height": null,
            "padding": null,
            "grid_auto_rows": null,
            "grid_gap": null,
            "max_width": null,
            "order": null,
            "_view_module_version": "1.2.0",
            "grid_template_areas": null,
            "object_position": null,
            "object_fit": null,
            "grid_auto_columns": null,
            "margin": null,
            "display": null,
            "left": null
          }
        },
        "bed4a50b3e304aecae688b236c2c779b": {
          "model_module": "@jupyter-widgets/controls",
          "model_name": "HBoxModel",
          "model_module_version": "1.5.0",
          "state": {
            "_view_name": "HBoxView",
            "_dom_classes": [],
            "_model_name": "HBoxModel",
            "_view_module": "@jupyter-widgets/controls",
            "_model_module_version": "1.5.0",
            "_view_count": null,
            "_view_module_version": "1.5.0",
            "box_style": "",
            "layout": "IPY_MODEL_8464901e6222471b96b00c3888d41db4",
            "_model_module": "@jupyter-widgets/controls",
            "children": [
              "IPY_MODEL_f7647c703af5457498d1819529a8a7a5",
              "IPY_MODEL_aaeedaac01354f85871acd5c2ec18dc4",
              "IPY_MODEL_0cb56c8c8c904577a2e75c54ee4f95e2"
            ]
          }
        },
        "8464901e6222471b96b00c3888d41db4": {
          "model_module": "@jupyter-widgets/base",
          "model_name": "LayoutModel",
          "model_module_version": "1.2.0",
          "state": {
            "_view_name": "LayoutView",
            "grid_template_rows": null,
            "right": null,
            "justify_content": null,
            "_view_module": "@jupyter-widgets/base",
            "overflow": null,
            "_model_module_version": "1.2.0",
            "_view_count": null,
            "flex_flow": null,
            "width": null,
            "min_width": null,
            "border": null,
            "align_items": null,
            "bottom": null,
            "_model_module": "@jupyter-widgets/base",
            "top": null,
            "grid_column": null,
            "overflow_y": null,
            "overflow_x": null,
            "grid_auto_flow": null,
            "grid_area": null,
            "grid_template_columns": null,
            "flex": null,
            "_model_name": "LayoutModel",
            "justify_items": null,
            "grid_row": null,
            "max_height": null,
            "align_content": null,
            "visibility": null,
            "align_self": null,
            "height": null,
            "min_height": null,
            "padding": null,
            "grid_auto_rows": null,
            "grid_gap": null,
            "max_width": null,
            "order": null,
            "_view_module_version": "1.2.0",
            "grid_template_areas": null,
            "object_position": null,
            "object_fit": null,
            "grid_auto_columns": null,
            "margin": null,
            "display": null,
            "left": null
          }
        },
        "f7647c703af5457498d1819529a8a7a5": {
          "model_module": "@jupyter-widgets/controls",
          "model_name": "HTMLModel",
          "model_module_version": "1.5.0",
          "state": {
            "_view_name": "HTMLView",
            "style": "IPY_MODEL_0690f37a57864d89a6eceea3f8a21946",
            "_dom_classes": [],
            "description": "",
            "_model_name": "HTMLModel",
            "placeholder": "​",
            "_view_module": "@jupyter-widgets/controls",
            "_model_module_version": "1.5.0",
            "value": "Downloading: 100%",
            "_view_count": null,
            "_view_module_version": "1.5.0",
            "description_tooltip": null,
            "_model_module": "@jupyter-widgets/controls",
            "layout": "IPY_MODEL_1496b4f306ee4790994b223a52d0f8a7"
          }
        },
        "aaeedaac01354f85871acd5c2ec18dc4": {
          "model_module": "@jupyter-widgets/controls",
          "model_name": "FloatProgressModel",
          "model_module_version": "1.5.0",
          "state": {
            "_view_name": "ProgressView",
            "style": "IPY_MODEL_a912f626317e46db99a1dd118a319d89",
            "_dom_classes": [],
            "description": "",
            "_model_name": "FloatProgressModel",
            "bar_style": "success",
            "max": 1403,
            "_view_module": "@jupyter-widgets/controls",
            "_model_module_version": "1.5.0",
            "value": 1403,
            "_view_count": null,
            "_view_module_version": "1.5.0",
            "orientation": "horizontal",
            "min": 0,
            "description_tooltip": null,
            "_model_module": "@jupyter-widgets/controls",
            "layout": "IPY_MODEL_3748d22d96344ceda9c856a9e3bd9bb5"
          }
        },
        "0cb56c8c8c904577a2e75c54ee4f95e2": {
          "model_module": "@jupyter-widgets/controls",
          "model_name": "HTMLModel",
          "model_module_version": "1.5.0",
          "state": {
            "_view_name": "HTMLView",
            "style": "IPY_MODEL_45f09831ec6449f99e274c4e1b30c850",
            "_dom_classes": [],
            "description": "",
            "_model_name": "HTMLModel",
            "placeholder": "​",
            "_view_module": "@jupyter-widgets/controls",
            "_model_module_version": "1.5.0",
            "value": " 1.40k/1.40k [00:00&lt;00:00, 49.7kB/s]",
            "_view_count": null,
            "_view_module_version": "1.5.0",
            "description_tooltip": null,
            "_model_module": "@jupyter-widgets/controls",
            "layout": "IPY_MODEL_529e4c4f985946b9b16c1d2e1f013dd8"
          }
        },
        "0690f37a57864d89a6eceea3f8a21946": {
          "model_module": "@jupyter-widgets/controls",
          "model_name": "DescriptionStyleModel",
          "model_module_version": "1.5.0",
          "state": {
            "_view_name": "StyleView",
            "_model_name": "DescriptionStyleModel",
            "description_width": "",
            "_view_module": "@jupyter-widgets/base",
            "_model_module_version": "1.5.0",
            "_view_count": null,
            "_view_module_version": "1.2.0",
            "_model_module": "@jupyter-widgets/controls"
          }
        },
        "1496b4f306ee4790994b223a52d0f8a7": {
          "model_module": "@jupyter-widgets/base",
          "model_name": "LayoutModel",
          "model_module_version": "1.2.0",
          "state": {
            "_view_name": "LayoutView",
            "grid_template_rows": null,
            "right": null,
            "justify_content": null,
            "_view_module": "@jupyter-widgets/base",
            "overflow": null,
            "_model_module_version": "1.2.0",
            "_view_count": null,
            "flex_flow": null,
            "width": null,
            "min_width": null,
            "border": null,
            "align_items": null,
            "bottom": null,
            "_model_module": "@jupyter-widgets/base",
            "top": null,
            "grid_column": null,
            "overflow_y": null,
            "overflow_x": null,
            "grid_auto_flow": null,
            "grid_area": null,
            "grid_template_columns": null,
            "flex": null,
            "_model_name": "LayoutModel",
            "justify_items": null,
            "grid_row": null,
            "max_height": null,
            "align_content": null,
            "visibility": null,
            "align_self": null,
            "height": null,
            "min_height": null,
            "padding": null,
            "grid_auto_rows": null,
            "grid_gap": null,
            "max_width": null,
            "order": null,
            "_view_module_version": "1.2.0",
            "grid_template_areas": null,
            "object_position": null,
            "object_fit": null,
            "grid_auto_columns": null,
            "margin": null,
            "display": null,
            "left": null
          }
        },
        "a912f626317e46db99a1dd118a319d89": {
          "model_module": "@jupyter-widgets/controls",
          "model_name": "ProgressStyleModel",
          "model_module_version": "1.5.0",
          "state": {
            "_view_name": "StyleView",
            "_model_name": "ProgressStyleModel",
            "description_width": "",
            "_view_module": "@jupyter-widgets/base",
            "_model_module_version": "1.5.0",
            "_view_count": null,
            "_view_module_version": "1.2.0",
            "bar_color": null,
            "_model_module": "@jupyter-widgets/controls"
          }
        },
        "3748d22d96344ceda9c856a9e3bd9bb5": {
          "model_module": "@jupyter-widgets/base",
          "model_name": "LayoutModel",
          "model_module_version": "1.2.0",
          "state": {
            "_view_name": "LayoutView",
            "grid_template_rows": null,
            "right": null,
            "justify_content": null,
            "_view_module": "@jupyter-widgets/base",
            "overflow": null,
            "_model_module_version": "1.2.0",
            "_view_count": null,
            "flex_flow": null,
            "width": null,
            "min_width": null,
            "border": null,
            "align_items": null,
            "bottom": null,
            "_model_module": "@jupyter-widgets/base",
            "top": null,
            "grid_column": null,
            "overflow_y": null,
            "overflow_x": null,
            "grid_auto_flow": null,
            "grid_area": null,
            "grid_template_columns": null,
            "flex": null,
            "_model_name": "LayoutModel",
            "justify_items": null,
            "grid_row": null,
            "max_height": null,
            "align_content": null,
            "visibility": null,
            "align_self": null,
            "height": null,
            "min_height": null,
            "padding": null,
            "grid_auto_rows": null,
            "grid_gap": null,
            "max_width": null,
            "order": null,
            "_view_module_version": "1.2.0",
            "grid_template_areas": null,
            "object_position": null,
            "object_fit": null,
            "grid_auto_columns": null,
            "margin": null,
            "display": null,
            "left": null
          }
        },
        "45f09831ec6449f99e274c4e1b30c850": {
          "model_module": "@jupyter-widgets/controls",
          "model_name": "DescriptionStyleModel",
          "model_module_version": "1.5.0",
          "state": {
            "_view_name": "StyleView",
            "_model_name": "DescriptionStyleModel",
            "description_width": "",
            "_view_module": "@jupyter-widgets/base",
            "_model_module_version": "1.5.0",
            "_view_count": null,
            "_view_module_version": "1.2.0",
            "_model_module": "@jupyter-widgets/controls"
          }
        },
        "529e4c4f985946b9b16c1d2e1f013dd8": {
          "model_module": "@jupyter-widgets/base",
          "model_name": "LayoutModel",
          "model_module_version": "1.2.0",
          "state": {
            "_view_name": "LayoutView",
            "grid_template_rows": null,
            "right": null,
            "justify_content": null,
            "_view_module": "@jupyter-widgets/base",
            "overflow": null,
            "_model_module_version": "1.2.0",
            "_view_count": null,
            "flex_flow": null,
            "width": null,
            "min_width": null,
            "border": null,
            "align_items": null,
            "bottom": null,
            "_model_module": "@jupyter-widgets/base",
            "top": null,
            "grid_column": null,
            "overflow_y": null,
            "overflow_x": null,
            "grid_auto_flow": null,
            "grid_area": null,
            "grid_template_columns": null,
            "flex": null,
            "_model_name": "LayoutModel",
            "justify_items": null,
            "grid_row": null,
            "max_height": null,
            "align_content": null,
            "visibility": null,
            "align_self": null,
            "height": null,
            "min_height": null,
            "padding": null,
            "grid_auto_rows": null,
            "grid_gap": null,
            "max_width": null,
            "order": null,
            "_view_module_version": "1.2.0",
            "grid_template_areas": null,
            "object_position": null,
            "object_fit": null,
            "grid_auto_columns": null,
            "margin": null,
            "display": null,
            "left": null
          }
        },
        "62f0b9fdb9e84d418fe6523515109ba0": {
          "model_module": "@jupyter-widgets/controls",
          "model_name": "HBoxModel",
          "model_module_version": "1.5.0",
          "state": {
            "_view_name": "HBoxView",
            "_dom_classes": [],
            "_model_name": "HBoxModel",
            "_view_module": "@jupyter-widgets/controls",
            "_model_module_version": "1.5.0",
            "_view_count": null,
            "_view_module_version": "1.5.0",
            "box_style": "",
            "layout": "IPY_MODEL_198ca135bb3e46eda8c1117f06e96931",
            "_model_module": "@jupyter-widgets/controls",
            "children": [
              "IPY_MODEL_6421ce57c45f4349b4f6b03142b2ee91",
              "IPY_MODEL_1233f99e6d5f4fa9867aa7d6a6668853",
              "IPY_MODEL_1da9205196ba4a63922e80a21ede5641"
            ]
          }
        },
        "198ca135bb3e46eda8c1117f06e96931": {
          "model_module": "@jupyter-widgets/base",
          "model_name": "LayoutModel",
          "model_module_version": "1.2.0",
          "state": {
            "_view_name": "LayoutView",
            "grid_template_rows": null,
            "right": null,
            "justify_content": null,
            "_view_module": "@jupyter-widgets/base",
            "overflow": null,
            "_model_module_version": "1.2.0",
            "_view_count": null,
            "flex_flow": null,
            "width": null,
            "min_width": null,
            "border": null,
            "align_items": null,
            "bottom": null,
            "_model_module": "@jupyter-widgets/base",
            "top": null,
            "grid_column": null,
            "overflow_y": null,
            "overflow_x": null,
            "grid_auto_flow": null,
            "grid_area": null,
            "grid_template_columns": null,
            "flex": null,
            "_model_name": "LayoutModel",
            "justify_items": null,
            "grid_row": null,
            "max_height": null,
            "align_content": null,
            "visibility": null,
            "align_self": null,
            "height": null,
            "min_height": null,
            "padding": null,
            "grid_auto_rows": null,
            "grid_gap": null,
            "max_width": null,
            "order": null,
            "_view_module_version": "1.2.0",
            "grid_template_areas": null,
            "object_position": null,
            "object_fit": null,
            "grid_auto_columns": null,
            "margin": null,
            "display": null,
            "left": null
          }
        },
        "6421ce57c45f4349b4f6b03142b2ee91": {
          "model_module": "@jupyter-widgets/controls",
          "model_name": "HTMLModel",
          "model_module_version": "1.5.0",
          "state": {
            "_view_name": "HTMLView",
            "style": "IPY_MODEL_5252aab0ef59486a97d3561fdc9175aa",
            "_dom_classes": [],
            "description": "",
            "_model_name": "HTMLModel",
            "placeholder": "​",
            "_view_module": "@jupyter-widgets/controls",
            "_model_module_version": "1.5.0",
            "value": "Downloading: 100%",
            "_view_count": null,
            "_view_module_version": "1.5.0",
            "description_tooltip": null,
            "_model_module": "@jupyter-widgets/controls",
            "layout": "IPY_MODEL_cf3b1c0497d6419cad59a2faaa9794d6"
          }
        },
        "1233f99e6d5f4fa9867aa7d6a6668853": {
          "model_module": "@jupyter-widgets/controls",
          "model_name": "FloatProgressModel",
          "model_module_version": "1.5.0",
          "state": {
            "_view_name": "ProgressView",
            "style": "IPY_MODEL_41b50358c60d4fe38e8e99ef98d28f7c",
            "_dom_classes": [],
            "description": "",
            "_model_name": "FloatProgressModel",
            "bar_style": "success",
            "max": 312087009,
            "_view_module": "@jupyter-widgets/controls",
            "_model_module_version": "1.5.0",
            "value": 312087009,
            "_view_count": null,
            "_view_module_version": "1.5.0",
            "orientation": "horizontal",
            "min": 0,
            "description_tooltip": null,
            "_model_module": "@jupyter-widgets/controls",
            "layout": "IPY_MODEL_332e3b6b3f79492fac1d96fb240fd136"
          }
        },
        "1da9205196ba4a63922e80a21ede5641": {
          "model_module": "@jupyter-widgets/controls",
          "model_name": "HTMLModel",
          "model_module_version": "1.5.0",
          "state": {
            "_view_name": "HTMLView",
            "style": "IPY_MODEL_7fd829595bcb4ce98e7ac20dc9dd61c7",
            "_dom_classes": [],
            "description": "",
            "_model_name": "HTMLModel",
            "placeholder": "​",
            "_view_module": "@jupyter-widgets/controls",
            "_model_module_version": "1.5.0",
            "value": " 312M/312M [00:08&lt;00:00, 35.7MB/s]",
            "_view_count": null,
            "_view_module_version": "1.5.0",
            "description_tooltip": null,
            "_model_module": "@jupyter-widgets/controls",
            "layout": "IPY_MODEL_5e5fe3c46d8f4543ab996a04600e409c"
          }
        },
        "5252aab0ef59486a97d3561fdc9175aa": {
          "model_module": "@jupyter-widgets/controls",
          "model_name": "DescriptionStyleModel",
          "model_module_version": "1.5.0",
          "state": {
            "_view_name": "StyleView",
            "_model_name": "DescriptionStyleModel",
            "description_width": "",
            "_view_module": "@jupyter-widgets/base",
            "_model_module_version": "1.5.0",
            "_view_count": null,
            "_view_module_version": "1.2.0",
            "_model_module": "@jupyter-widgets/controls"
          }
        },
        "cf3b1c0497d6419cad59a2faaa9794d6": {
          "model_module": "@jupyter-widgets/base",
          "model_name": "LayoutModel",
          "model_module_version": "1.2.0",
          "state": {
            "_view_name": "LayoutView",
            "grid_template_rows": null,
            "right": null,
            "justify_content": null,
            "_view_module": "@jupyter-widgets/base",
            "overflow": null,
            "_model_module_version": "1.2.0",
            "_view_count": null,
            "flex_flow": null,
            "width": null,
            "min_width": null,
            "border": null,
            "align_items": null,
            "bottom": null,
            "_model_module": "@jupyter-widgets/base",
            "top": null,
            "grid_column": null,
            "overflow_y": null,
            "overflow_x": null,
            "grid_auto_flow": null,
            "grid_area": null,
            "grid_template_columns": null,
            "flex": null,
            "_model_name": "LayoutModel",
            "justify_items": null,
            "grid_row": null,
            "max_height": null,
            "align_content": null,
            "visibility": null,
            "align_self": null,
            "height": null,
            "min_height": null,
            "padding": null,
            "grid_auto_rows": null,
            "grid_gap": null,
            "max_width": null,
            "order": null,
            "_view_module_version": "1.2.0",
            "grid_template_areas": null,
            "object_position": null,
            "object_fit": null,
            "grid_auto_columns": null,
            "margin": null,
            "display": null,
            "left": null
          }
        },
        "41b50358c60d4fe38e8e99ef98d28f7c": {
          "model_module": "@jupyter-widgets/controls",
          "model_name": "ProgressStyleModel",
          "model_module_version": "1.5.0",
          "state": {
            "_view_name": "StyleView",
            "_model_name": "ProgressStyleModel",
            "description_width": "",
            "_view_module": "@jupyter-widgets/base",
            "_model_module_version": "1.5.0",
            "_view_count": null,
            "_view_module_version": "1.2.0",
            "bar_color": null,
            "_model_module": "@jupyter-widgets/controls"
          }
        },
        "332e3b6b3f79492fac1d96fb240fd136": {
          "model_module": "@jupyter-widgets/base",
          "model_name": "LayoutModel",
          "model_module_version": "1.2.0",
          "state": {
            "_view_name": "LayoutView",
            "grid_template_rows": null,
            "right": null,
            "justify_content": null,
            "_view_module": "@jupyter-widgets/base",
            "overflow": null,
            "_model_module_version": "1.2.0",
            "_view_count": null,
            "flex_flow": null,
            "width": null,
            "min_width": null,
            "border": null,
            "align_items": null,
            "bottom": null,
            "_model_module": "@jupyter-widgets/base",
            "top": null,
            "grid_column": null,
            "overflow_y": null,
            "overflow_x": null,
            "grid_auto_flow": null,
            "grid_area": null,
            "grid_template_columns": null,
            "flex": null,
            "_model_name": "LayoutModel",
            "justify_items": null,
            "grid_row": null,
            "max_height": null,
            "align_content": null,
            "visibility": null,
            "align_self": null,
            "height": null,
            "min_height": null,
            "padding": null,
            "grid_auto_rows": null,
            "grid_gap": null,
            "max_width": null,
            "order": null,
            "_view_module_version": "1.2.0",
            "grid_template_areas": null,
            "object_position": null,
            "object_fit": null,
            "grid_auto_columns": null,
            "margin": null,
            "display": null,
            "left": null
          }
        },
        "7fd829595bcb4ce98e7ac20dc9dd61c7": {
          "model_module": "@jupyter-widgets/controls",
          "model_name": "DescriptionStyleModel",
          "model_module_version": "1.5.0",
          "state": {
            "_view_name": "StyleView",
            "_model_name": "DescriptionStyleModel",
            "description_width": "",
            "_view_module": "@jupyter-widgets/base",
            "_model_module_version": "1.5.0",
            "_view_count": null,
            "_view_module_version": "1.2.0",
            "_model_module": "@jupyter-widgets/controls"
          }
        },
        "5e5fe3c46d8f4543ab996a04600e409c": {
          "model_module": "@jupyter-widgets/base",
          "model_name": "LayoutModel",
          "model_module_version": "1.2.0",
          "state": {
            "_view_name": "LayoutView",
            "grid_template_rows": null,
            "right": null,
            "justify_content": null,
            "_view_module": "@jupyter-widgets/base",
            "overflow": null,
            "_model_module_version": "1.2.0",
            "_view_count": null,
            "flex_flow": null,
            "width": null,
            "min_width": null,
            "border": null,
            "align_items": null,
            "bottom": null,
            "_model_module": "@jupyter-widgets/base",
            "top": null,
            "grid_column": null,
            "overflow_y": null,
            "overflow_x": null,
            "grid_auto_flow": null,
            "grid_area": null,
            "grid_template_columns": null,
            "flex": null,
            "_model_name": "LayoutModel",
            "justify_items": null,
            "grid_row": null,
            "max_height": null,
            "align_content": null,
            "visibility": null,
            "align_self": null,
            "height": null,
            "min_height": null,
            "padding": null,
            "grid_auto_rows": null,
            "grid_gap": null,
            "max_width": null,
            "order": null,
            "_view_module_version": "1.2.0",
            "grid_template_areas": null,
            "object_position": null,
            "object_fit": null,
            "grid_auto_columns": null,
            "margin": null,
            "display": null,
            "left": null
          }
        },
        "dd44c9ac0efa4de4bc1f0a49aca607ca": {
          "model_module": "@jupyter-widgets/controls",
          "model_name": "HBoxModel",
          "model_module_version": "1.5.0",
          "state": {
            "_view_name": "HBoxView",
            "_dom_classes": [],
            "_model_name": "HBoxModel",
            "_view_module": "@jupyter-widgets/controls",
            "_model_module_version": "1.5.0",
            "_view_count": null,
            "_view_module_version": "1.5.0",
            "box_style": "",
            "layout": "IPY_MODEL_9361028128a540abb3f4b3989d109f0c",
            "_model_module": "@jupyter-widgets/controls",
            "children": [
              "IPY_MODEL_7fe992565b634744b852e30ca1cc41d2",
              "IPY_MODEL_1275bd9c23114f44af5a5f1224e1ef2b",
              "IPY_MODEL_c7c1de3054d243848d70b8d1de67b15f"
            ]
          }
        },
        "9361028128a540abb3f4b3989d109f0c": {
          "model_module": "@jupyter-widgets/base",
          "model_name": "LayoutModel",
          "model_module_version": "1.2.0",
          "state": {
            "_view_name": "LayoutView",
            "grid_template_rows": null,
            "right": null,
            "justify_content": null,
            "_view_module": "@jupyter-widgets/base",
            "overflow": null,
            "_model_module_version": "1.2.0",
            "_view_count": null,
            "flex_flow": null,
            "width": null,
            "min_width": null,
            "border": null,
            "align_items": null,
            "bottom": null,
            "_model_module": "@jupyter-widgets/base",
            "top": null,
            "grid_column": null,
            "overflow_y": null,
            "overflow_x": null,
            "grid_auto_flow": null,
            "grid_area": null,
            "grid_template_columns": null,
            "flex": null,
            "_model_name": "LayoutModel",
            "justify_items": null,
            "grid_row": null,
            "max_height": null,
            "align_content": null,
            "visibility": null,
            "align_self": null,
            "height": null,
            "min_height": null,
            "padding": null,
            "grid_auto_rows": null,
            "grid_gap": null,
            "max_width": null,
            "order": null,
            "_view_module_version": "1.2.0",
            "grid_template_areas": null,
            "object_position": null,
            "object_fit": null,
            "grid_auto_columns": null,
            "margin": null,
            "display": null,
            "left": null
          }
        },
        "7fe992565b634744b852e30ca1cc41d2": {
          "model_module": "@jupyter-widgets/controls",
          "model_name": "HTMLModel",
          "model_module_version": "1.5.0",
          "state": {
            "_view_name": "HTMLView",
            "style": "IPY_MODEL_4d76066bcc584323a55abff1209be0d4",
            "_dom_classes": [],
            "description": "",
            "_model_name": "HTMLModel",
            "placeholder": "​",
            "_view_module": "@jupyter-widgets/controls",
            "_model_module_version": "1.5.0",
            "value": "Downloading: 100%",
            "_view_count": null,
            "_view_module_version": "1.5.0",
            "description_tooltip": null,
            "_model_module": "@jupyter-widgets/controls",
            "layout": "IPY_MODEL_18eed1783db245d388a32a382664a18f"
          }
        },
        "1275bd9c23114f44af5a5f1224e1ef2b": {
          "model_module": "@jupyter-widgets/controls",
          "model_name": "FloatProgressModel",
          "model_module_version": "1.5.0",
          "state": {
            "_view_name": "ProgressView",
            "style": "IPY_MODEL_b8526d3b64b64f24a2d72f6998ddd814",
            "_dom_classes": [],
            "description": "",
            "_model_name": "FloatProgressModel",
            "bar_style": "success",
            "max": 800087,
            "_view_module": "@jupyter-widgets/controls",
            "_model_module_version": "1.5.0",
            "value": 800087,
            "_view_count": null,
            "_view_module_version": "1.5.0",
            "orientation": "horizontal",
            "min": 0,
            "description_tooltip": null,
            "_model_module": "@jupyter-widgets/controls",
            "layout": "IPY_MODEL_f5a620ccad2c414faf5be61eaa2195b5"
          }
        },
        "c7c1de3054d243848d70b8d1de67b15f": {
          "model_module": "@jupyter-widgets/controls",
          "model_name": "HTMLModel",
          "model_module_version": "1.5.0",
          "state": {
            "_view_name": "HTMLView",
            "style": "IPY_MODEL_dbeeffc9c5dd45bbaceeca55a6c3a96b",
            "_dom_classes": [],
            "description": "",
            "_model_name": "HTMLModel",
            "placeholder": "​",
            "_view_module": "@jupyter-widgets/controls",
            "_model_module_version": "1.5.0",
            "value": " 800k/800k [00:00&lt;00:00, 1.50MB/s]",
            "_view_count": null,
            "_view_module_version": "1.5.0",
            "description_tooltip": null,
            "_model_module": "@jupyter-widgets/controls",
            "layout": "IPY_MODEL_b474baa41de746778541ccc08fcf8915"
          }
        },
        "4d76066bcc584323a55abff1209be0d4": {
          "model_module": "@jupyter-widgets/controls",
          "model_name": "DescriptionStyleModel",
          "model_module_version": "1.5.0",
          "state": {
            "_view_name": "StyleView",
            "_model_name": "DescriptionStyleModel",
            "description_width": "",
            "_view_module": "@jupyter-widgets/base",
            "_model_module_version": "1.5.0",
            "_view_count": null,
            "_view_module_version": "1.2.0",
            "_model_module": "@jupyter-widgets/controls"
          }
        },
        "18eed1783db245d388a32a382664a18f": {
          "model_module": "@jupyter-widgets/base",
          "model_name": "LayoutModel",
          "model_module_version": "1.2.0",
          "state": {
            "_view_name": "LayoutView",
            "grid_template_rows": null,
            "right": null,
            "justify_content": null,
            "_view_module": "@jupyter-widgets/base",
            "overflow": null,
            "_model_module_version": "1.2.0",
            "_view_count": null,
            "flex_flow": null,
            "width": null,
            "min_width": null,
            "border": null,
            "align_items": null,
            "bottom": null,
            "_model_module": "@jupyter-widgets/base",
            "top": null,
            "grid_column": null,
            "overflow_y": null,
            "overflow_x": null,
            "grid_auto_flow": null,
            "grid_area": null,
            "grid_template_columns": null,
            "flex": null,
            "_model_name": "LayoutModel",
            "justify_items": null,
            "grid_row": null,
            "max_height": null,
            "align_content": null,
            "visibility": null,
            "align_self": null,
            "height": null,
            "min_height": null,
            "padding": null,
            "grid_auto_rows": null,
            "grid_gap": null,
            "max_width": null,
            "order": null,
            "_view_module_version": "1.2.0",
            "grid_template_areas": null,
            "object_position": null,
            "object_fit": null,
            "grid_auto_columns": null,
            "margin": null,
            "display": null,
            "left": null
          }
        },
        "b8526d3b64b64f24a2d72f6998ddd814": {
          "model_module": "@jupyter-widgets/controls",
          "model_name": "ProgressStyleModel",
          "model_module_version": "1.5.0",
          "state": {
            "_view_name": "StyleView",
            "_model_name": "ProgressStyleModel",
            "description_width": "",
            "_view_module": "@jupyter-widgets/base",
            "_model_module_version": "1.5.0",
            "_view_count": null,
            "_view_module_version": "1.2.0",
            "bar_color": null,
            "_model_module": "@jupyter-widgets/controls"
          }
        },
        "f5a620ccad2c414faf5be61eaa2195b5": {
          "model_module": "@jupyter-widgets/base",
          "model_name": "LayoutModel",
          "model_module_version": "1.2.0",
          "state": {
            "_view_name": "LayoutView",
            "grid_template_rows": null,
            "right": null,
            "justify_content": null,
            "_view_module": "@jupyter-widgets/base",
            "overflow": null,
            "_model_module_version": "1.2.0",
            "_view_count": null,
            "flex_flow": null,
            "width": null,
            "min_width": null,
            "border": null,
            "align_items": null,
            "bottom": null,
            "_model_module": "@jupyter-widgets/base",
            "top": null,
            "grid_column": null,
            "overflow_y": null,
            "overflow_x": null,
            "grid_auto_flow": null,
            "grid_area": null,
            "grid_template_columns": null,
            "flex": null,
            "_model_name": "LayoutModel",
            "justify_items": null,
            "grid_row": null,
            "max_height": null,
            "align_content": null,
            "visibility": null,
            "align_self": null,
            "height": null,
            "min_height": null,
            "padding": null,
            "grid_auto_rows": null,
            "grid_gap": null,
            "max_width": null,
            "order": null,
            "_view_module_version": "1.2.0",
            "grid_template_areas": null,
            "object_position": null,
            "object_fit": null,
            "grid_auto_columns": null,
            "margin": null,
            "display": null,
            "left": null
          }
        },
        "dbeeffc9c5dd45bbaceeca55a6c3a96b": {
          "model_module": "@jupyter-widgets/controls",
          "model_name": "DescriptionStyleModel",
          "model_module_version": "1.5.0",
          "state": {
            "_view_name": "StyleView",
            "_model_name": "DescriptionStyleModel",
            "description_width": "",
            "_view_module": "@jupyter-widgets/base",
            "_model_module_version": "1.5.0",
            "_view_count": null,
            "_view_module_version": "1.2.0",
            "_model_module": "@jupyter-widgets/controls"
          }
        },
        "b474baa41de746778541ccc08fcf8915": {
          "model_module": "@jupyter-widgets/base",
          "model_name": "LayoutModel",
          "model_module_version": "1.2.0",
          "state": {
            "_view_name": "LayoutView",
            "grid_template_rows": null,
            "right": null,
            "justify_content": null,
            "_view_module": "@jupyter-widgets/base",
            "overflow": null,
            "_model_module_version": "1.2.0",
            "_view_count": null,
            "flex_flow": null,
            "width": null,
            "min_width": null,
            "border": null,
            "align_items": null,
            "bottom": null,
            "_model_module": "@jupyter-widgets/base",
            "top": null,
            "grid_column": null,
            "overflow_y": null,
            "overflow_x": null,
            "grid_auto_flow": null,
            "grid_area": null,
            "grid_template_columns": null,
            "flex": null,
            "_model_name": "LayoutModel",
            "justify_items": null,
            "grid_row": null,
            "max_height": null,
            "align_content": null,
            "visibility": null,
            "align_self": null,
            "height": null,
            "min_height": null,
            "padding": null,
            "grid_auto_rows": null,
            "grid_gap": null,
            "max_width": null,
            "order": null,
            "_view_module_version": "1.2.0",
            "grid_template_areas": null,
            "object_position": null,
            "object_fit": null,
            "grid_auto_columns": null,
            "margin": null,
            "display": null,
            "left": null
          }
        },
        "5a994978bbcb4714bddba3fb2bbb43a6": {
          "model_module": "@jupyter-widgets/controls",
          "model_name": "HBoxModel",
          "model_module_version": "1.5.0",
          "state": {
            "_view_name": "HBoxView",
            "_dom_classes": [],
            "_model_name": "HBoxModel",
            "_view_module": "@jupyter-widgets/controls",
            "_model_module_version": "1.5.0",
            "_view_count": null,
            "_view_module_version": "1.5.0",
            "box_style": "",
            "layout": "IPY_MODEL_e09c583227474d34b52449306c1621a3",
            "_model_module": "@jupyter-widgets/controls",
            "children": [
              "IPY_MODEL_8d19c1eaee9e48298bb572d6f2ddfffd",
              "IPY_MODEL_56f6ce23b6ff4385849369fcd0867e61",
              "IPY_MODEL_1eb927947bdf4785b3d03468a1c8cb59"
            ]
          }
        },
        "e09c583227474d34b52449306c1621a3": {
          "model_module": "@jupyter-widgets/base",
          "model_name": "LayoutModel",
          "model_module_version": "1.2.0",
          "state": {
            "_view_name": "LayoutView",
            "grid_template_rows": null,
            "right": null,
            "justify_content": null,
            "_view_module": "@jupyter-widgets/base",
            "overflow": null,
            "_model_module_version": "1.2.0",
            "_view_count": null,
            "flex_flow": null,
            "width": null,
            "min_width": null,
            "border": null,
            "align_items": null,
            "bottom": null,
            "_model_module": "@jupyter-widgets/base",
            "top": null,
            "grid_column": null,
            "overflow_y": null,
            "overflow_x": null,
            "grid_auto_flow": null,
            "grid_area": null,
            "grid_template_columns": null,
            "flex": null,
            "_model_name": "LayoutModel",
            "justify_items": null,
            "grid_row": null,
            "max_height": null,
            "align_content": null,
            "visibility": null,
            "align_self": null,
            "height": null,
            "min_height": null,
            "padding": null,
            "grid_auto_rows": null,
            "grid_gap": null,
            "max_width": null,
            "order": null,
            "_view_module_version": "1.2.0",
            "grid_template_areas": null,
            "object_position": null,
            "object_fit": null,
            "grid_auto_columns": null,
            "margin": null,
            "display": null,
            "left": null
          }
        },
        "8d19c1eaee9e48298bb572d6f2ddfffd": {
          "model_module": "@jupyter-widgets/controls",
          "model_name": "HTMLModel",
          "model_module_version": "1.5.0",
          "state": {
            "_view_name": "HTMLView",
            "style": "IPY_MODEL_874e3e04245a4791971a27beeff791bf",
            "_dom_classes": [],
            "description": "",
            "_model_name": "HTMLModel",
            "placeholder": "​",
            "_view_module": "@jupyter-widgets/controls",
            "_model_module_version": "1.5.0",
            "value": "Downloading: 100%",
            "_view_count": null,
            "_view_module_version": "1.5.0",
            "description_tooltip": null,
            "_model_module": "@jupyter-widgets/controls",
            "layout": "IPY_MODEL_38906093c0bf4e129ff3f0e7cc5e696c"
          }
        },
        "56f6ce23b6ff4385849369fcd0867e61": {
          "model_module": "@jupyter-widgets/controls",
          "model_name": "FloatProgressModel",
          "model_module_version": "1.5.0",
          "state": {
            "_view_name": "ProgressView",
            "style": "IPY_MODEL_a4bf0c901274459f9255e022f5a33bbb",
            "_dom_classes": [],
            "description": "",
            "_model_name": "FloatProgressModel",
            "bar_style": "success",
            "max": 779494,
            "_view_module": "@jupyter-widgets/controls",
            "_model_module_version": "1.5.0",
            "value": 779494,
            "_view_count": null,
            "_view_module_version": "1.5.0",
            "orientation": "horizontal",
            "min": 0,
            "description_tooltip": null,
            "_model_module": "@jupyter-widgets/controls",
            "layout": "IPY_MODEL_d1438cdfd5424b5cbcd8931d454b7f19"
          }
        },
        "1eb927947bdf4785b3d03468a1c8cb59": {
          "model_module": "@jupyter-widgets/controls",
          "model_name": "HTMLModel",
          "model_module_version": "1.5.0",
          "state": {
            "_view_name": "HTMLView",
            "style": "IPY_MODEL_23f8e68ab15f47d2b10fb58b591d7651",
            "_dom_classes": [],
            "description": "",
            "_model_name": "HTMLModel",
            "placeholder": "​",
            "_view_module": "@jupyter-widgets/controls",
            "_model_module_version": "1.5.0",
            "value": " 779k/779k [00:00&lt;00:00, 1.45MB/s]",
            "_view_count": null,
            "_view_module_version": "1.5.0",
            "description_tooltip": null,
            "_model_module": "@jupyter-widgets/controls",
            "layout": "IPY_MODEL_d1b20d12872c4dac8fb5c0080171eeeb"
          }
        },
        "874e3e04245a4791971a27beeff791bf": {
          "model_module": "@jupyter-widgets/controls",
          "model_name": "DescriptionStyleModel",
          "model_module_version": "1.5.0",
          "state": {
            "_view_name": "StyleView",
            "_model_name": "DescriptionStyleModel",
            "description_width": "",
            "_view_module": "@jupyter-widgets/base",
            "_model_module_version": "1.5.0",
            "_view_count": null,
            "_view_module_version": "1.2.0",
            "_model_module": "@jupyter-widgets/controls"
          }
        },
        "38906093c0bf4e129ff3f0e7cc5e696c": {
          "model_module": "@jupyter-widgets/base",
          "model_name": "LayoutModel",
          "model_module_version": "1.2.0",
          "state": {
            "_view_name": "LayoutView",
            "grid_template_rows": null,
            "right": null,
            "justify_content": null,
            "_view_module": "@jupyter-widgets/base",
            "overflow": null,
            "_model_module_version": "1.2.0",
            "_view_count": null,
            "flex_flow": null,
            "width": null,
            "min_width": null,
            "border": null,
            "align_items": null,
            "bottom": null,
            "_model_module": "@jupyter-widgets/base",
            "top": null,
            "grid_column": null,
            "overflow_y": null,
            "overflow_x": null,
            "grid_auto_flow": null,
            "grid_area": null,
            "grid_template_columns": null,
            "flex": null,
            "_model_name": "LayoutModel",
            "justify_items": null,
            "grid_row": null,
            "max_height": null,
            "align_content": null,
            "visibility": null,
            "align_self": null,
            "height": null,
            "min_height": null,
            "padding": null,
            "grid_auto_rows": null,
            "grid_gap": null,
            "max_width": null,
            "order": null,
            "_view_module_version": "1.2.0",
            "grid_template_areas": null,
            "object_position": null,
            "object_fit": null,
            "grid_auto_columns": null,
            "margin": null,
            "display": null,
            "left": null
          }
        },
        "a4bf0c901274459f9255e022f5a33bbb": {
          "model_module": "@jupyter-widgets/controls",
          "model_name": "ProgressStyleModel",
          "model_module_version": "1.5.0",
          "state": {
            "_view_name": "StyleView",
            "_model_name": "ProgressStyleModel",
            "description_width": "",
            "_view_module": "@jupyter-widgets/base",
            "_model_module_version": "1.5.0",
            "_view_count": null,
            "_view_module_version": "1.2.0",
            "bar_color": null,
            "_model_module": "@jupyter-widgets/controls"
          }
        },
        "d1438cdfd5424b5cbcd8931d454b7f19": {
          "model_module": "@jupyter-widgets/base",
          "model_name": "LayoutModel",
          "model_module_version": "1.2.0",
          "state": {
            "_view_name": "LayoutView",
            "grid_template_rows": null,
            "right": null,
            "justify_content": null,
            "_view_module": "@jupyter-widgets/base",
            "overflow": null,
            "_model_module_version": "1.2.0",
            "_view_count": null,
            "flex_flow": null,
            "width": null,
            "min_width": null,
            "border": null,
            "align_items": null,
            "bottom": null,
            "_model_module": "@jupyter-widgets/base",
            "top": null,
            "grid_column": null,
            "overflow_y": null,
            "overflow_x": null,
            "grid_auto_flow": null,
            "grid_area": null,
            "grid_template_columns": null,
            "flex": null,
            "_model_name": "LayoutModel",
            "justify_items": null,
            "grid_row": null,
            "max_height": null,
            "align_content": null,
            "visibility": null,
            "align_self": null,
            "height": null,
            "min_height": null,
            "padding": null,
            "grid_auto_rows": null,
            "grid_gap": null,
            "max_width": null,
            "order": null,
            "_view_module_version": "1.2.0",
            "grid_template_areas": null,
            "object_position": null,
            "object_fit": null,
            "grid_auto_columns": null,
            "margin": null,
            "display": null,
            "left": null
          }
        },
        "23f8e68ab15f47d2b10fb58b591d7651": {
          "model_module": "@jupyter-widgets/controls",
          "model_name": "DescriptionStyleModel",
          "model_module_version": "1.5.0",
          "state": {
            "_view_name": "StyleView",
            "_model_name": "DescriptionStyleModel",
            "description_width": "",
            "_view_module": "@jupyter-widgets/base",
            "_model_module_version": "1.5.0",
            "_view_count": null,
            "_view_module_version": "1.2.0",
            "_model_module": "@jupyter-widgets/controls"
          }
        },
        "d1b20d12872c4dac8fb5c0080171eeeb": {
          "model_module": "@jupyter-widgets/base",
          "model_name": "LayoutModel",
          "model_module_version": "1.2.0",
          "state": {
            "_view_name": "LayoutView",
            "grid_template_rows": null,
            "right": null,
            "justify_content": null,
            "_view_module": "@jupyter-widgets/base",
            "overflow": null,
            "_model_module_version": "1.2.0",
            "_view_count": null,
            "flex_flow": null,
            "width": null,
            "min_width": null,
            "border": null,
            "align_items": null,
            "bottom": null,
            "_model_module": "@jupyter-widgets/base",
            "top": null,
            "grid_column": null,
            "overflow_y": null,
            "overflow_x": null,
            "grid_auto_flow": null,
            "grid_area": null,
            "grid_template_columns": null,
            "flex": null,
            "_model_name": "LayoutModel",
            "justify_items": null,
            "grid_row": null,
            "max_height": null,
            "align_content": null,
            "visibility": null,
            "align_self": null,
            "height": null,
            "min_height": null,
            "padding": null,
            "grid_auto_rows": null,
            "grid_gap": null,
            "max_width": null,
            "order": null,
            "_view_module_version": "1.2.0",
            "grid_template_areas": null,
            "object_position": null,
            "object_fit": null,
            "grid_auto_columns": null,
            "margin": null,
            "display": null,
            "left": null
          }
        },
        "f2c6cfbb939641dead53eebada051005": {
          "model_module": "@jupyter-widgets/controls",
          "model_name": "HBoxModel",
          "model_module_version": "1.5.0",
          "state": {
            "_view_name": "HBoxView",
            "_dom_classes": [],
            "_model_name": "HBoxModel",
            "_view_module": "@jupyter-widgets/controls",
            "_model_module_version": "1.5.0",
            "_view_count": null,
            "_view_module_version": "1.5.0",
            "box_style": "",
            "layout": "IPY_MODEL_545e19cd91f741b4b01917d66f496851",
            "_model_module": "@jupyter-widgets/controls",
            "children": [
              "IPY_MODEL_d42b45df8ee745718ef1e74abb0beb01",
              "IPY_MODEL_59331c8c492a406e8a909d701468d79e",
              "IPY_MODEL_23718ef9ec4f4f838a42de01f69a569e"
            ]
          }
        },
        "545e19cd91f741b4b01917d66f496851": {
          "model_module": "@jupyter-widgets/base",
          "model_name": "LayoutModel",
          "model_module_version": "1.2.0",
          "state": {
            "_view_name": "LayoutView",
            "grid_template_rows": null,
            "right": null,
            "justify_content": null,
            "_view_module": "@jupyter-widgets/base",
            "overflow": null,
            "_model_module_version": "1.2.0",
            "_view_count": null,
            "flex_flow": null,
            "width": null,
            "min_width": null,
            "border": null,
            "align_items": null,
            "bottom": null,
            "_model_module": "@jupyter-widgets/base",
            "top": null,
            "grid_column": null,
            "overflow_y": null,
            "overflow_x": null,
            "grid_auto_flow": null,
            "grid_area": null,
            "grid_template_columns": null,
            "flex": null,
            "_model_name": "LayoutModel",
            "justify_items": null,
            "grid_row": null,
            "max_height": null,
            "align_content": null,
            "visibility": null,
            "align_self": null,
            "height": null,
            "min_height": null,
            "padding": null,
            "grid_auto_rows": null,
            "grid_gap": null,
            "max_width": null,
            "order": null,
            "_view_module_version": "1.2.0",
            "grid_template_areas": null,
            "object_position": null,
            "object_fit": null,
            "grid_auto_columns": null,
            "margin": null,
            "display": null,
            "left": null
          }
        },
        "d42b45df8ee745718ef1e74abb0beb01": {
          "model_module": "@jupyter-widgets/controls",
          "model_name": "HTMLModel",
          "model_module_version": "1.5.0",
          "state": {
            "_view_name": "HTMLView",
            "style": "IPY_MODEL_3164dff9b8ab4698a9a3809a863a3733",
            "_dom_classes": [],
            "description": "",
            "_model_name": "HTMLModel",
            "placeholder": "​",
            "_view_module": "@jupyter-widgets/controls",
            "_model_module_version": "1.5.0",
            "value": "Downloading: 100%",
            "_view_count": null,
            "_view_module_version": "1.5.0",
            "description_tooltip": null,
            "_model_module": "@jupyter-widgets/controls",
            "layout": "IPY_MODEL_2ed14380a0604df2a1a7c3dab4cfe78c"
          }
        },
        "59331c8c492a406e8a909d701468d79e": {
          "model_module": "@jupyter-widgets/controls",
          "model_name": "FloatProgressModel",
          "model_module_version": "1.5.0",
          "state": {
            "_view_name": "ProgressView",
            "style": "IPY_MODEL_a52e93d7e1bc487796d66d3283e05e83",
            "_dom_classes": [],
            "description": "",
            "_model_name": "FloatProgressModel",
            "bar_style": "success",
            "max": 1460304,
            "_view_module": "@jupyter-widgets/controls",
            "_model_module_version": "1.5.0",
            "value": 1460304,
            "_view_count": null,
            "_view_module_version": "1.5.0",
            "orientation": "horizontal",
            "min": 0,
            "description_tooltip": null,
            "_model_module": "@jupyter-widgets/controls",
            "layout": "IPY_MODEL_8ef978a6c9544bf5abc937982ba25982"
          }
        },
        "23718ef9ec4f4f838a42de01f69a569e": {
          "model_module": "@jupyter-widgets/controls",
          "model_name": "HTMLModel",
          "model_module_version": "1.5.0",
          "state": {
            "_view_name": "HTMLView",
            "style": "IPY_MODEL_95991b57c380408daa27f44b70ed978d",
            "_dom_classes": [],
            "description": "",
            "_model_name": "HTMLModel",
            "placeholder": "​",
            "_view_module": "@jupyter-widgets/controls",
            "_model_module_version": "1.5.0",
            "value": " 1.46M/1.46M [00:00&lt;00:00, 1.55MB/s]",
            "_view_count": null,
            "_view_module_version": "1.5.0",
            "description_tooltip": null,
            "_model_module": "@jupyter-widgets/controls",
            "layout": "IPY_MODEL_631cd527b56a422c95aefc5957e209d8"
          }
        },
        "3164dff9b8ab4698a9a3809a863a3733": {
          "model_module": "@jupyter-widgets/controls",
          "model_name": "DescriptionStyleModel",
          "model_module_version": "1.5.0",
          "state": {
            "_view_name": "StyleView",
            "_model_name": "DescriptionStyleModel",
            "description_width": "",
            "_view_module": "@jupyter-widgets/base",
            "_model_module_version": "1.5.0",
            "_view_count": null,
            "_view_module_version": "1.2.0",
            "_model_module": "@jupyter-widgets/controls"
          }
        },
        "2ed14380a0604df2a1a7c3dab4cfe78c": {
          "model_module": "@jupyter-widgets/base",
          "model_name": "LayoutModel",
          "model_module_version": "1.2.0",
          "state": {
            "_view_name": "LayoutView",
            "grid_template_rows": null,
            "right": null,
            "justify_content": null,
            "_view_module": "@jupyter-widgets/base",
            "overflow": null,
            "_model_module_version": "1.2.0",
            "_view_count": null,
            "flex_flow": null,
            "width": null,
            "min_width": null,
            "border": null,
            "align_items": null,
            "bottom": null,
            "_model_module": "@jupyter-widgets/base",
            "top": null,
            "grid_column": null,
            "overflow_y": null,
            "overflow_x": null,
            "grid_auto_flow": null,
            "grid_area": null,
            "grid_template_columns": null,
            "flex": null,
            "_model_name": "LayoutModel",
            "justify_items": null,
            "grid_row": null,
            "max_height": null,
            "align_content": null,
            "visibility": null,
            "align_self": null,
            "height": null,
            "min_height": null,
            "padding": null,
            "grid_auto_rows": null,
            "grid_gap": null,
            "max_width": null,
            "order": null,
            "_view_module_version": "1.2.0",
            "grid_template_areas": null,
            "object_position": null,
            "object_fit": null,
            "grid_auto_columns": null,
            "margin": null,
            "display": null,
            "left": null
          }
        },
        "a52e93d7e1bc487796d66d3283e05e83": {
          "model_module": "@jupyter-widgets/controls",
          "model_name": "ProgressStyleModel",
          "model_module_version": "1.5.0",
          "state": {
            "_view_name": "StyleView",
            "_model_name": "ProgressStyleModel",
            "description_width": "",
            "_view_module": "@jupyter-widgets/base",
            "_model_module_version": "1.5.0",
            "_view_count": null,
            "_view_module_version": "1.2.0",
            "bar_color": null,
            "_model_module": "@jupyter-widgets/controls"
          }
        },
        "8ef978a6c9544bf5abc937982ba25982": {
          "model_module": "@jupyter-widgets/base",
          "model_name": "LayoutModel",
          "model_module_version": "1.2.0",
          "state": {
            "_view_name": "LayoutView",
            "grid_template_rows": null,
            "right": null,
            "justify_content": null,
            "_view_module": "@jupyter-widgets/base",
            "overflow": null,
            "_model_module_version": "1.2.0",
            "_view_count": null,
            "flex_flow": null,
            "width": null,
            "min_width": null,
            "border": null,
            "align_items": null,
            "bottom": null,
            "_model_module": "@jupyter-widgets/base",
            "top": null,
            "grid_column": null,
            "overflow_y": null,
            "overflow_x": null,
            "grid_auto_flow": null,
            "grid_area": null,
            "grid_template_columns": null,
            "flex": null,
            "_model_name": "LayoutModel",
            "justify_items": null,
            "grid_row": null,
            "max_height": null,
            "align_content": null,
            "visibility": null,
            "align_self": null,
            "height": null,
            "min_height": null,
            "padding": null,
            "grid_auto_rows": null,
            "grid_gap": null,
            "max_width": null,
            "order": null,
            "_view_module_version": "1.2.0",
            "grid_template_areas": null,
            "object_position": null,
            "object_fit": null,
            "grid_auto_columns": null,
            "margin": null,
            "display": null,
            "left": null
          }
        },
        "95991b57c380408daa27f44b70ed978d": {
          "model_module": "@jupyter-widgets/controls",
          "model_name": "DescriptionStyleModel",
          "model_module_version": "1.5.0",
          "state": {
            "_view_name": "StyleView",
            "_model_name": "DescriptionStyleModel",
            "description_width": "",
            "_view_module": "@jupyter-widgets/base",
            "_model_module_version": "1.5.0",
            "_view_count": null,
            "_view_module_version": "1.2.0",
            "_model_module": "@jupyter-widgets/controls"
          }
        },
        "631cd527b56a422c95aefc5957e209d8": {
          "model_module": "@jupyter-widgets/base",
          "model_name": "LayoutModel",
          "model_module_version": "1.2.0",
          "state": {
            "_view_name": "LayoutView",
            "grid_template_rows": null,
            "right": null,
            "justify_content": null,
            "_view_module": "@jupyter-widgets/base",
            "overflow": null,
            "_model_module_version": "1.2.0",
            "_view_count": null,
            "flex_flow": null,
            "width": null,
            "min_width": null,
            "border": null,
            "align_items": null,
            "bottom": null,
            "_model_module": "@jupyter-widgets/base",
            "top": null,
            "grid_column": null,
            "overflow_y": null,
            "overflow_x": null,
            "grid_auto_flow": null,
            "grid_area": null,
            "grid_template_columns": null,
            "flex": null,
            "_model_name": "LayoutModel",
            "justify_items": null,
            "grid_row": null,
            "max_height": null,
            "align_content": null,
            "visibility": null,
            "align_self": null,
            "height": null,
            "min_height": null,
            "padding": null,
            "grid_auto_rows": null,
            "grid_gap": null,
            "max_width": null,
            "order": null,
            "_view_module_version": "1.2.0",
            "grid_template_areas": null,
            "object_position": null,
            "object_fit": null,
            "grid_auto_columns": null,
            "margin": null,
            "display": null,
            "left": null
          }
        },
        "74e0d33524564b3eaa883717d0321f4a": {
          "model_module": "@jupyter-widgets/controls",
          "model_name": "HBoxModel",
          "model_module_version": "1.5.0",
          "state": {
            "_view_name": "HBoxView",
            "_dom_classes": [],
            "_model_name": "HBoxModel",
            "_view_module": "@jupyter-widgets/controls",
            "_model_module_version": "1.5.0",
            "_view_count": null,
            "_view_module_version": "1.5.0",
            "box_style": "",
            "layout": "IPY_MODEL_1f391360211b4c37aedecdfc8d266ab0",
            "_model_module": "@jupyter-widgets/controls",
            "children": [
              "IPY_MODEL_5d65d74b43f04e03b84cf985b46246bc",
              "IPY_MODEL_daf5ad4d66984c83ac8ff823ca04c87c",
              "IPY_MODEL_fe93f7e04fac46d8a0cdbbfbe63c8ae9"
            ]
          }
        },
        "1f391360211b4c37aedecdfc8d266ab0": {
          "model_module": "@jupyter-widgets/base",
          "model_name": "LayoutModel",
          "model_module_version": "1.2.0",
          "state": {
            "_view_name": "LayoutView",
            "grid_template_rows": null,
            "right": null,
            "justify_content": null,
            "_view_module": "@jupyter-widgets/base",
            "overflow": null,
            "_model_module_version": "1.2.0",
            "_view_count": null,
            "flex_flow": null,
            "width": null,
            "min_width": null,
            "border": null,
            "align_items": null,
            "bottom": null,
            "_model_module": "@jupyter-widgets/base",
            "top": null,
            "grid_column": null,
            "overflow_y": null,
            "overflow_x": null,
            "grid_auto_flow": null,
            "grid_area": null,
            "grid_template_columns": null,
            "flex": null,
            "_model_name": "LayoutModel",
            "justify_items": null,
            "grid_row": null,
            "max_height": null,
            "align_content": null,
            "visibility": null,
            "align_self": null,
            "height": null,
            "min_height": null,
            "padding": null,
            "grid_auto_rows": null,
            "grid_gap": null,
            "max_width": null,
            "order": null,
            "_view_module_version": "1.2.0",
            "grid_template_areas": null,
            "object_position": null,
            "object_fit": null,
            "grid_auto_columns": null,
            "margin": null,
            "display": null,
            "left": null
          }
        },
        "5d65d74b43f04e03b84cf985b46246bc": {
          "model_module": "@jupyter-widgets/controls",
          "model_name": "HTMLModel",
          "model_module_version": "1.5.0",
          "state": {
            "_view_name": "HTMLView",
            "style": "IPY_MODEL_b5d69dabda44435ebf03265d5ec4e978",
            "_dom_classes": [],
            "description": "",
            "_model_name": "HTMLModel",
            "placeholder": "​",
            "_view_module": "@jupyter-widgets/controls",
            "_model_module_version": "1.5.0",
            "value": "Downloading: 100%",
            "_view_count": null,
            "_view_module_version": "1.5.0",
            "description_tooltip": null,
            "_model_module": "@jupyter-widgets/controls",
            "layout": "IPY_MODEL_e7210372646a4e7f9805e8aaf6e49457"
          }
        },
        "daf5ad4d66984c83ac8ff823ca04c87c": {
          "model_module": "@jupyter-widgets/controls",
          "model_name": "FloatProgressModel",
          "model_module_version": "1.5.0",
          "state": {
            "_view_name": "ProgressView",
            "style": "IPY_MODEL_9d7b4cec799d4c10be8a3bed3666933a",
            "_dom_classes": [],
            "description": "",
            "_model_name": "FloatProgressModel",
            "bar_style": "success",
            "max": 265,
            "_view_module": "@jupyter-widgets/controls",
            "_model_module_version": "1.5.0",
            "value": 265,
            "_view_count": null,
            "_view_module_version": "1.5.0",
            "orientation": "horizontal",
            "min": 0,
            "description_tooltip": null,
            "_model_module": "@jupyter-widgets/controls",
            "layout": "IPY_MODEL_51037f831f0d4aafa3707da3148c8b0f"
          }
        },
        "fe93f7e04fac46d8a0cdbbfbe63c8ae9": {
          "model_module": "@jupyter-widgets/controls",
          "model_name": "HTMLModel",
          "model_module_version": "1.5.0",
          "state": {
            "_view_name": "HTMLView",
            "style": "IPY_MODEL_0a75bb0d246443c5b3878f35d913b45b",
            "_dom_classes": [],
            "description": "",
            "_model_name": "HTMLModel",
            "placeholder": "​",
            "_view_module": "@jupyter-widgets/controls",
            "_model_module_version": "1.5.0",
            "value": " 265/265 [00:00&lt;00:00, 7.89kB/s]",
            "_view_count": null,
            "_view_module_version": "1.5.0",
            "description_tooltip": null,
            "_model_module": "@jupyter-widgets/controls",
            "layout": "IPY_MODEL_9736c6b81a4f4150868be26acda3c734"
          }
        },
        "b5d69dabda44435ebf03265d5ec4e978": {
          "model_module": "@jupyter-widgets/controls",
          "model_name": "DescriptionStyleModel",
          "model_module_version": "1.5.0",
          "state": {
            "_view_name": "StyleView",
            "_model_name": "DescriptionStyleModel",
            "description_width": "",
            "_view_module": "@jupyter-widgets/base",
            "_model_module_version": "1.5.0",
            "_view_count": null,
            "_view_module_version": "1.2.0",
            "_model_module": "@jupyter-widgets/controls"
          }
        },
        "e7210372646a4e7f9805e8aaf6e49457": {
          "model_module": "@jupyter-widgets/base",
          "model_name": "LayoutModel",
          "model_module_version": "1.2.0",
          "state": {
            "_view_name": "LayoutView",
            "grid_template_rows": null,
            "right": null,
            "justify_content": null,
            "_view_module": "@jupyter-widgets/base",
            "overflow": null,
            "_model_module_version": "1.2.0",
            "_view_count": null,
            "flex_flow": null,
            "width": null,
            "min_width": null,
            "border": null,
            "align_items": null,
            "bottom": null,
            "_model_module": "@jupyter-widgets/base",
            "top": null,
            "grid_column": null,
            "overflow_y": null,
            "overflow_x": null,
            "grid_auto_flow": null,
            "grid_area": null,
            "grid_template_columns": null,
            "flex": null,
            "_model_name": "LayoutModel",
            "justify_items": null,
            "grid_row": null,
            "max_height": null,
            "align_content": null,
            "visibility": null,
            "align_self": null,
            "height": null,
            "min_height": null,
            "padding": null,
            "grid_auto_rows": null,
            "grid_gap": null,
            "max_width": null,
            "order": null,
            "_view_module_version": "1.2.0",
            "grid_template_areas": null,
            "object_position": null,
            "object_fit": null,
            "grid_auto_columns": null,
            "margin": null,
            "display": null,
            "left": null
          }
        },
        "9d7b4cec799d4c10be8a3bed3666933a": {
          "model_module": "@jupyter-widgets/controls",
          "model_name": "ProgressStyleModel",
          "model_module_version": "1.5.0",
          "state": {
            "_view_name": "StyleView",
            "_model_name": "ProgressStyleModel",
            "description_width": "",
            "_view_module": "@jupyter-widgets/base",
            "_model_module_version": "1.5.0",
            "_view_count": null,
            "_view_module_version": "1.2.0",
            "bar_color": null,
            "_model_module": "@jupyter-widgets/controls"
          }
        },
        "51037f831f0d4aafa3707da3148c8b0f": {
          "model_module": "@jupyter-widgets/base",
          "model_name": "LayoutModel",
          "model_module_version": "1.2.0",
          "state": {
            "_view_name": "LayoutView",
            "grid_template_rows": null,
            "right": null,
            "justify_content": null,
            "_view_module": "@jupyter-widgets/base",
            "overflow": null,
            "_model_module_version": "1.2.0",
            "_view_count": null,
            "flex_flow": null,
            "width": null,
            "min_width": null,
            "border": null,
            "align_items": null,
            "bottom": null,
            "_model_module": "@jupyter-widgets/base",
            "top": null,
            "grid_column": null,
            "overflow_y": null,
            "overflow_x": null,
            "grid_auto_flow": null,
            "grid_area": null,
            "grid_template_columns": null,
            "flex": null,
            "_model_name": "LayoutModel",
            "justify_items": null,
            "grid_row": null,
            "max_height": null,
            "align_content": null,
            "visibility": null,
            "align_self": null,
            "height": null,
            "min_height": null,
            "padding": null,
            "grid_auto_rows": null,
            "grid_gap": null,
            "max_width": null,
            "order": null,
            "_view_module_version": "1.2.0",
            "grid_template_areas": null,
            "object_position": null,
            "object_fit": null,
            "grid_auto_columns": null,
            "margin": null,
            "display": null,
            "left": null
          }
        },
        "0a75bb0d246443c5b3878f35d913b45b": {
          "model_module": "@jupyter-widgets/controls",
          "model_name": "DescriptionStyleModel",
          "model_module_version": "1.5.0",
          "state": {
            "_view_name": "StyleView",
            "_model_name": "DescriptionStyleModel",
            "description_width": "",
            "_view_module": "@jupyter-widgets/base",
            "_model_module_version": "1.5.0",
            "_view_count": null,
            "_view_module_version": "1.2.0",
            "_model_module": "@jupyter-widgets/controls"
          }
        },
        "9736c6b81a4f4150868be26acda3c734": {
          "model_module": "@jupyter-widgets/base",
          "model_name": "LayoutModel",
          "model_module_version": "1.2.0",
          "state": {
            "_view_name": "LayoutView",
            "grid_template_rows": null,
            "right": null,
            "justify_content": null,
            "_view_module": "@jupyter-widgets/base",
            "overflow": null,
            "_model_module_version": "1.2.0",
            "_view_count": null,
            "flex_flow": null,
            "width": null,
            "min_width": null,
            "border": null,
            "align_items": null,
            "bottom": null,
            "_model_module": "@jupyter-widgets/base",
            "top": null,
            "grid_column": null,
            "overflow_y": null,
            "overflow_x": null,
            "grid_auto_flow": null,
            "grid_area": null,
            "grid_template_columns": null,
            "flex": null,
            "_model_name": "LayoutModel",
            "justify_items": null,
            "grid_row": null,
            "max_height": null,
            "align_content": null,
            "visibility": null,
            "align_self": null,
            "height": null,
            "min_height": null,
            "padding": null,
            "grid_auto_rows": null,
            "grid_gap": null,
            "max_width": null,
            "order": null,
            "_view_module_version": "1.2.0",
            "grid_template_areas": null,
            "object_position": null,
            "object_fit": null,
            "grid_auto_columns": null,
            "margin": null,
            "display": null,
            "left": null
          }
        },
        "15fda3d89b82489587a0ff7bb0d64c7c": {
          "model_module": "@jupyter-widgets/controls",
          "model_name": "HBoxModel",
          "model_module_version": "1.5.0",
          "state": {
            "_view_name": "HBoxView",
            "_dom_classes": [],
            "_model_name": "HBoxModel",
            "_view_module": "@jupyter-widgets/controls",
            "_model_module_version": "1.5.0",
            "_view_count": null,
            "_view_module_version": "1.5.0",
            "box_style": "",
            "layout": "IPY_MODEL_a32b3912953341c089a48352be34f43f",
            "_model_module": "@jupyter-widgets/controls",
            "children": [
              "IPY_MODEL_d9d422c52d5d469ba486d2511b418e9d",
              "IPY_MODEL_6251d02719154aad877d30e603d698bb",
              "IPY_MODEL_d41612ef39eb4e6ba4c128c7ac5ca84c"
            ]
          }
        },
        "a32b3912953341c089a48352be34f43f": {
          "model_module": "@jupyter-widgets/base",
          "model_name": "LayoutModel",
          "model_module_version": "1.2.0",
          "state": {
            "_view_name": "LayoutView",
            "grid_template_rows": null,
            "right": null,
            "justify_content": null,
            "_view_module": "@jupyter-widgets/base",
            "overflow": null,
            "_model_module_version": "1.2.0",
            "_view_count": null,
            "flex_flow": null,
            "width": null,
            "min_width": null,
            "border": null,
            "align_items": null,
            "bottom": null,
            "_model_module": "@jupyter-widgets/base",
            "top": null,
            "grid_column": null,
            "overflow_y": null,
            "overflow_x": null,
            "grid_auto_flow": null,
            "grid_area": null,
            "grid_template_columns": null,
            "flex": null,
            "_model_name": "LayoutModel",
            "justify_items": null,
            "grid_row": null,
            "max_height": null,
            "align_content": null,
            "visibility": null,
            "align_self": null,
            "height": null,
            "min_height": null,
            "padding": null,
            "grid_auto_rows": null,
            "grid_gap": null,
            "max_width": null,
            "order": null,
            "_view_module_version": "1.2.0",
            "grid_template_areas": null,
            "object_position": null,
            "object_fit": null,
            "grid_auto_columns": null,
            "margin": null,
            "display": null,
            "left": null
          }
        },
        "d9d422c52d5d469ba486d2511b418e9d": {
          "model_module": "@jupyter-widgets/controls",
          "model_name": "HTMLModel",
          "model_module_version": "1.5.0",
          "state": {
            "_view_name": "HTMLView",
            "style": "IPY_MODEL_d098c8e183864f5dae835b3f787c24cc",
            "_dom_classes": [],
            "description": "",
            "_model_name": "HTMLModel",
            "placeholder": "​",
            "_view_module": "@jupyter-widgets/controls",
            "_model_module_version": "1.5.0",
            "value": "Downloading: 100%",
            "_view_count": null,
            "_view_module_version": "1.5.0",
            "description_tooltip": null,
            "_model_module": "@jupyter-widgets/controls",
            "layout": "IPY_MODEL_26b6f8f15d374320a2e1d10b11547d92"
          }
        },
        "6251d02719154aad877d30e603d698bb": {
          "model_module": "@jupyter-widgets/controls",
          "model_name": "FloatProgressModel",
          "model_module_version": "1.5.0",
          "state": {
            "_view_name": "ProgressView",
            "style": "IPY_MODEL_5a1bd144904641e494a639a94f6a847e",
            "_dom_classes": [],
            "description": "",
            "_model_name": "FloatProgressModel",
            "bar_style": "success",
            "max": 1112,
            "_view_module": "@jupyter-widgets/controls",
            "_model_module_version": "1.5.0",
            "value": 1112,
            "_view_count": null,
            "_view_module_version": "1.5.0",
            "orientation": "horizontal",
            "min": 0,
            "description_tooltip": null,
            "_model_module": "@jupyter-widgets/controls",
            "layout": "IPY_MODEL_1ffcc7972592406c995def08534fee45"
          }
        },
        "d41612ef39eb4e6ba4c128c7ac5ca84c": {
          "model_module": "@jupyter-widgets/controls",
          "model_name": "HTMLModel",
          "model_module_version": "1.5.0",
          "state": {
            "_view_name": "HTMLView",
            "style": "IPY_MODEL_9cdc7eb99a3f4f05a961371437570a8a",
            "_dom_classes": [],
            "description": "",
            "_model_name": "HTMLModel",
            "placeholder": "​",
            "_view_module": "@jupyter-widgets/controls",
            "_model_module_version": "1.5.0",
            "value": " 1.11k/1.11k [00:00&lt;00:00, 36.4kB/s]",
            "_view_count": null,
            "_view_module_version": "1.5.0",
            "description_tooltip": null,
            "_model_module": "@jupyter-widgets/controls",
            "layout": "IPY_MODEL_bb157f3b2d2040e6b1f48b0dbd9d09dc"
          }
        },
        "d098c8e183864f5dae835b3f787c24cc": {
          "model_module": "@jupyter-widgets/controls",
          "model_name": "DescriptionStyleModel",
          "model_module_version": "1.5.0",
          "state": {
            "_view_name": "StyleView",
            "_model_name": "DescriptionStyleModel",
            "description_width": "",
            "_view_module": "@jupyter-widgets/base",
            "_model_module_version": "1.5.0",
            "_view_count": null,
            "_view_module_version": "1.2.0",
            "_model_module": "@jupyter-widgets/controls"
          }
        },
        "26b6f8f15d374320a2e1d10b11547d92": {
          "model_module": "@jupyter-widgets/base",
          "model_name": "LayoutModel",
          "model_module_version": "1.2.0",
          "state": {
            "_view_name": "LayoutView",
            "grid_template_rows": null,
            "right": null,
            "justify_content": null,
            "_view_module": "@jupyter-widgets/base",
            "overflow": null,
            "_model_module_version": "1.2.0",
            "_view_count": null,
            "flex_flow": null,
            "width": null,
            "min_width": null,
            "border": null,
            "align_items": null,
            "bottom": null,
            "_model_module": "@jupyter-widgets/base",
            "top": null,
            "grid_column": null,
            "overflow_y": null,
            "overflow_x": null,
            "grid_auto_flow": null,
            "grid_area": null,
            "grid_template_columns": null,
            "flex": null,
            "_model_name": "LayoutModel",
            "justify_items": null,
            "grid_row": null,
            "max_height": null,
            "align_content": null,
            "visibility": null,
            "align_self": null,
            "height": null,
            "min_height": null,
            "padding": null,
            "grid_auto_rows": null,
            "grid_gap": null,
            "max_width": null,
            "order": null,
            "_view_module_version": "1.2.0",
            "grid_template_areas": null,
            "object_position": null,
            "object_fit": null,
            "grid_auto_columns": null,
            "margin": null,
            "display": null,
            "left": null
          }
        },
        "5a1bd144904641e494a639a94f6a847e": {
          "model_module": "@jupyter-widgets/controls",
          "model_name": "ProgressStyleModel",
          "model_module_version": "1.5.0",
          "state": {
            "_view_name": "StyleView",
            "_model_name": "ProgressStyleModel",
            "description_width": "",
            "_view_module": "@jupyter-widgets/base",
            "_model_module_version": "1.5.0",
            "_view_count": null,
            "_view_module_version": "1.2.0",
            "bar_color": null,
            "_model_module": "@jupyter-widgets/controls"
          }
        },
        "1ffcc7972592406c995def08534fee45": {
          "model_module": "@jupyter-widgets/base",
          "model_name": "LayoutModel",
          "model_module_version": "1.2.0",
          "state": {
            "_view_name": "LayoutView",
            "grid_template_rows": null,
            "right": null,
            "justify_content": null,
            "_view_module": "@jupyter-widgets/base",
            "overflow": null,
            "_model_module_version": "1.2.0",
            "_view_count": null,
            "flex_flow": null,
            "width": null,
            "min_width": null,
            "border": null,
            "align_items": null,
            "bottom": null,
            "_model_module": "@jupyter-widgets/base",
            "top": null,
            "grid_column": null,
            "overflow_y": null,
            "overflow_x": null,
            "grid_auto_flow": null,
            "grid_area": null,
            "grid_template_columns": null,
            "flex": null,
            "_model_name": "LayoutModel",
            "justify_items": null,
            "grid_row": null,
            "max_height": null,
            "align_content": null,
            "visibility": null,
            "align_self": null,
            "height": null,
            "min_height": null,
            "padding": null,
            "grid_auto_rows": null,
            "grid_gap": null,
            "max_width": null,
            "order": null,
            "_view_module_version": "1.2.0",
            "grid_template_areas": null,
            "object_position": null,
            "object_fit": null,
            "grid_auto_columns": null,
            "margin": null,
            "display": null,
            "left": null
          }
        },
        "9cdc7eb99a3f4f05a961371437570a8a": {
          "model_module": "@jupyter-widgets/controls",
          "model_name": "DescriptionStyleModel",
          "model_module_version": "1.5.0",
          "state": {
            "_view_name": "StyleView",
            "_model_name": "DescriptionStyleModel",
            "description_width": "",
            "_view_module": "@jupyter-widgets/base",
            "_model_module_version": "1.5.0",
            "_view_count": null,
            "_view_module_version": "1.2.0",
            "_model_module": "@jupyter-widgets/controls"
          }
        },
        "bb157f3b2d2040e6b1f48b0dbd9d09dc": {
          "model_module": "@jupyter-widgets/base",
          "model_name": "LayoutModel",
          "model_module_version": "1.2.0",
          "state": {
            "_view_name": "LayoutView",
            "grid_template_rows": null,
            "right": null,
            "justify_content": null,
            "_view_module": "@jupyter-widgets/base",
            "overflow": null,
            "_model_module_version": "1.2.0",
            "_view_count": null,
            "flex_flow": null,
            "width": null,
            "min_width": null,
            "border": null,
            "align_items": null,
            "bottom": null,
            "_model_module": "@jupyter-widgets/base",
            "top": null,
            "grid_column": null,
            "overflow_y": null,
            "overflow_x": null,
            "grid_auto_flow": null,
            "grid_area": null,
            "grid_template_columns": null,
            "flex": null,
            "_model_name": "LayoutModel",
            "justify_items": null,
            "grid_row": null,
            "max_height": null,
            "align_content": null,
            "visibility": null,
            "align_self": null,
            "height": null,
            "min_height": null,
            "padding": null,
            "grid_auto_rows": null,
            "grid_gap": null,
            "max_width": null,
            "order": null,
            "_view_module_version": "1.2.0",
            "grid_template_areas": null,
            "object_position": null,
            "object_fit": null,
            "grid_auto_columns": null,
            "margin": null,
            "display": null,
            "left": null
          }
        },
        "9a2e02e0f8b64155aff33f78c4ee9b67": {
          "model_module": "@jupyter-widgets/controls",
          "model_name": "HBoxModel",
          "model_module_version": "1.5.0",
          "state": {
            "_view_name": "HBoxView",
            "_dom_classes": [],
            "_model_name": "HBoxModel",
            "_view_module": "@jupyter-widgets/controls",
            "_model_module_version": "1.5.0",
            "_view_count": null,
            "_view_module_version": "1.5.0",
            "box_style": "",
            "layout": "IPY_MODEL_944a4f30ae9348fb9f3b629e5c1b22f9",
            "_model_module": "@jupyter-widgets/controls",
            "children": [
              "IPY_MODEL_6115e42fa9bc45bf8cf9812f454435f2",
              "IPY_MODEL_f61d82e8b3a847c2b658f6daf6d74d8f",
              "IPY_MODEL_022240eaed1f4848916ae15ca56056ed"
            ]
          }
        },
        "944a4f30ae9348fb9f3b629e5c1b22f9": {
          "model_module": "@jupyter-widgets/base",
          "model_name": "LayoutModel",
          "model_module_version": "1.2.0",
          "state": {
            "_view_name": "LayoutView",
            "grid_template_rows": null,
            "right": null,
            "justify_content": null,
            "_view_module": "@jupyter-widgets/base",
            "overflow": null,
            "_model_module_version": "1.2.0",
            "_view_count": null,
            "flex_flow": null,
            "width": null,
            "min_width": null,
            "border": null,
            "align_items": null,
            "bottom": null,
            "_model_module": "@jupyter-widgets/base",
            "top": null,
            "grid_column": null,
            "overflow_y": null,
            "overflow_x": null,
            "grid_auto_flow": null,
            "grid_area": null,
            "grid_template_columns": null,
            "flex": null,
            "_model_name": "LayoutModel",
            "justify_items": null,
            "grid_row": null,
            "max_height": null,
            "align_content": null,
            "visibility": null,
            "align_self": null,
            "height": null,
            "min_height": null,
            "padding": null,
            "grid_auto_rows": null,
            "grid_gap": null,
            "max_width": null,
            "order": null,
            "_view_module_version": "1.2.0",
            "grid_template_areas": null,
            "object_position": null,
            "object_fit": null,
            "grid_auto_columns": null,
            "margin": null,
            "display": null,
            "left": null
          }
        },
        "6115e42fa9bc45bf8cf9812f454435f2": {
          "model_module": "@jupyter-widgets/controls",
          "model_name": "HTMLModel",
          "model_module_version": "1.5.0",
          "state": {
            "_view_name": "HTMLView",
            "style": "IPY_MODEL_8bc6981c445944bc88ef4a29cdd668f1",
            "_dom_classes": [],
            "description": "",
            "_model_name": "HTMLModel",
            "placeholder": "​",
            "_view_module": "@jupyter-widgets/controls",
            "_model_module_version": "1.5.0",
            "value": "Downloading: 100%",
            "_view_count": null,
            "_view_module_version": "1.5.0",
            "description_tooltip": null,
            "_model_module": "@jupyter-widgets/controls",
            "layout": "IPY_MODEL_c4fb0d9c81e648249c11ed28d724c09e"
          }
        },
        "f61d82e8b3a847c2b658f6daf6d74d8f": {
          "model_module": "@jupyter-widgets/controls",
          "model_name": "FloatProgressModel",
          "model_module_version": "1.5.0",
          "state": {
            "_view_name": "ProgressView",
            "style": "IPY_MODEL_39bbbbd8ae0b4ea4be13a16cafbb116c",
            "_dom_classes": [],
            "description": "",
            "_model_name": "FloatProgressModel",
            "bar_style": "success",
            "max": 312087009,
            "_view_module": "@jupyter-widgets/controls",
            "_model_module_version": "1.5.0",
            "value": 312087009,
            "_view_count": null,
            "_view_module_version": "1.5.0",
            "orientation": "horizontal",
            "min": 0,
            "description_tooltip": null,
            "_model_module": "@jupyter-widgets/controls",
            "layout": "IPY_MODEL_45836f2c902745b08626d38ea90ecb6f"
          }
        },
        "022240eaed1f4848916ae15ca56056ed": {
          "model_module": "@jupyter-widgets/controls",
          "model_name": "HTMLModel",
          "model_module_version": "1.5.0",
          "state": {
            "_view_name": "HTMLView",
            "style": "IPY_MODEL_e0ee17dd75164f20a7237038c2e83f2a",
            "_dom_classes": [],
            "description": "",
            "_model_name": "HTMLModel",
            "placeholder": "​",
            "_view_module": "@jupyter-widgets/controls",
            "_model_module_version": "1.5.0",
            "value": " 312M/312M [00:08&lt;00:00, 41.8MB/s]",
            "_view_count": null,
            "_view_module_version": "1.5.0",
            "description_tooltip": null,
            "_model_module": "@jupyter-widgets/controls",
            "layout": "IPY_MODEL_2918cb99eb5f4b3a809283f0e63f5bdc"
          }
        },
        "8bc6981c445944bc88ef4a29cdd668f1": {
          "model_module": "@jupyter-widgets/controls",
          "model_name": "DescriptionStyleModel",
          "model_module_version": "1.5.0",
          "state": {
            "_view_name": "StyleView",
            "_model_name": "DescriptionStyleModel",
            "description_width": "",
            "_view_module": "@jupyter-widgets/base",
            "_model_module_version": "1.5.0",
            "_view_count": null,
            "_view_module_version": "1.2.0",
            "_model_module": "@jupyter-widgets/controls"
          }
        },
        "c4fb0d9c81e648249c11ed28d724c09e": {
          "model_module": "@jupyter-widgets/base",
          "model_name": "LayoutModel",
          "model_module_version": "1.2.0",
          "state": {
            "_view_name": "LayoutView",
            "grid_template_rows": null,
            "right": null,
            "justify_content": null,
            "_view_module": "@jupyter-widgets/base",
            "overflow": null,
            "_model_module_version": "1.2.0",
            "_view_count": null,
            "flex_flow": null,
            "width": null,
            "min_width": null,
            "border": null,
            "align_items": null,
            "bottom": null,
            "_model_module": "@jupyter-widgets/base",
            "top": null,
            "grid_column": null,
            "overflow_y": null,
            "overflow_x": null,
            "grid_auto_flow": null,
            "grid_area": null,
            "grid_template_columns": null,
            "flex": null,
            "_model_name": "LayoutModel",
            "justify_items": null,
            "grid_row": null,
            "max_height": null,
            "align_content": null,
            "visibility": null,
            "align_self": null,
            "height": null,
            "min_height": null,
            "padding": null,
            "grid_auto_rows": null,
            "grid_gap": null,
            "max_width": null,
            "order": null,
            "_view_module_version": "1.2.0",
            "grid_template_areas": null,
            "object_position": null,
            "object_fit": null,
            "grid_auto_columns": null,
            "margin": null,
            "display": null,
            "left": null
          }
        },
        "39bbbbd8ae0b4ea4be13a16cafbb116c": {
          "model_module": "@jupyter-widgets/controls",
          "model_name": "ProgressStyleModel",
          "model_module_version": "1.5.0",
          "state": {
            "_view_name": "StyleView",
            "_model_name": "ProgressStyleModel",
            "description_width": "",
            "_view_module": "@jupyter-widgets/base",
            "_model_module_version": "1.5.0",
            "_view_count": null,
            "_view_module_version": "1.2.0",
            "bar_color": null,
            "_model_module": "@jupyter-widgets/controls"
          }
        },
        "45836f2c902745b08626d38ea90ecb6f": {
          "model_module": "@jupyter-widgets/base",
          "model_name": "LayoutModel",
          "model_module_version": "1.2.0",
          "state": {
            "_view_name": "LayoutView",
            "grid_template_rows": null,
            "right": null,
            "justify_content": null,
            "_view_module": "@jupyter-widgets/base",
            "overflow": null,
            "_model_module_version": "1.2.0",
            "_view_count": null,
            "flex_flow": null,
            "width": null,
            "min_width": null,
            "border": null,
            "align_items": null,
            "bottom": null,
            "_model_module": "@jupyter-widgets/base",
            "top": null,
            "grid_column": null,
            "overflow_y": null,
            "overflow_x": null,
            "grid_auto_flow": null,
            "grid_area": null,
            "grid_template_columns": null,
            "flex": null,
            "_model_name": "LayoutModel",
            "justify_items": null,
            "grid_row": null,
            "max_height": null,
            "align_content": null,
            "visibility": null,
            "align_self": null,
            "height": null,
            "min_height": null,
            "padding": null,
            "grid_auto_rows": null,
            "grid_gap": null,
            "max_width": null,
            "order": null,
            "_view_module_version": "1.2.0",
            "grid_template_areas": null,
            "object_position": null,
            "object_fit": null,
            "grid_auto_columns": null,
            "margin": null,
            "display": null,
            "left": null
          }
        },
        "e0ee17dd75164f20a7237038c2e83f2a": {
          "model_module": "@jupyter-widgets/controls",
          "model_name": "DescriptionStyleModel",
          "model_module_version": "1.5.0",
          "state": {
            "_view_name": "StyleView",
            "_model_name": "DescriptionStyleModel",
            "description_width": "",
            "_view_module": "@jupyter-widgets/base",
            "_model_module_version": "1.5.0",
            "_view_count": null,
            "_view_module_version": "1.2.0",
            "_model_module": "@jupyter-widgets/controls"
          }
        },
        "2918cb99eb5f4b3a809283f0e63f5bdc": {
          "model_module": "@jupyter-widgets/base",
          "model_name": "LayoutModel",
          "model_module_version": "1.2.0",
          "state": {
            "_view_name": "LayoutView",
            "grid_template_rows": null,
            "right": null,
            "justify_content": null,
            "_view_module": "@jupyter-widgets/base",
            "overflow": null,
            "_model_module_version": "1.2.0",
            "_view_count": null,
            "flex_flow": null,
            "width": null,
            "min_width": null,
            "border": null,
            "align_items": null,
            "bottom": null,
            "_model_module": "@jupyter-widgets/base",
            "top": null,
            "grid_column": null,
            "overflow_y": null,
            "overflow_x": null,
            "grid_auto_flow": null,
            "grid_area": null,
            "grid_template_columns": null,
            "flex": null,
            "_model_name": "LayoutModel",
            "justify_items": null,
            "grid_row": null,
            "max_height": null,
            "align_content": null,
            "visibility": null,
            "align_self": null,
            "height": null,
            "min_height": null,
            "padding": null,
            "grid_auto_rows": null,
            "grid_gap": null,
            "max_width": null,
            "order": null,
            "_view_module_version": "1.2.0",
            "grid_template_areas": null,
            "object_position": null,
            "object_fit": null,
            "grid_auto_columns": null,
            "margin": null,
            "display": null,
            "left": null
          }
        }
      }
    }
  },
  "cells": [
    {
      "cell_type": "code",
      "metadata": {
        "id": "Rar5aeZK-UdS",
        "colab": {
          "base_uri": "https://localhost:8080/"
        },
        "outputId": "f461283d-456a-4754-fb0e-98d5cac7c8a3"
      },
      "source": [
        "import numpy as np\n",
        "import matplotlib.pyplot as plt\n",
        "import pandas as pd\n",
        "import random\n",
        "import string \n",
        "import re\n",
        "from scipy import spatial\n",
        "from sklearn.manifold import TSNE\n",
        "from nltk.tokenize import word_tokenize\n",
        "from nltk.stem import PorterStemmer\n",
        "from nltk import pos_tag\n",
        "import os\n",
        "from sklearn.naive_bayes import GaussianNB\n",
        "from nltk.corpus import wordnet\n",
        "from nltk.corpus import stopwords\n",
        "import nltk\n",
        "nltk.download('wordnet')\n",
        "nltk.download('stopwords')\n",
        "nltk.download('punkt')\n",
        "stopword = nltk.corpus.stopwords.words('english')"
      ],
      "execution_count": null,
      "outputs": [
        {
          "output_type": "stream",
          "name": "stdout",
          "text": [
            "[nltk_data] Downloading package wordnet to /root/nltk_data...\n",
            "[nltk_data]   Unzipping corpora/wordnet.zip.\n",
            "[nltk_data] Downloading package stopwords to /root/nltk_data...\n",
            "[nltk_data]   Unzipping corpora/stopwords.zip.\n",
            "[nltk_data] Downloading package punkt to /root/nltk_data...\n",
            "[nltk_data]   Unzipping tokenizers/punkt.zip.\n"
          ]
        }
      ]
    },
    {
      "cell_type": "code",
      "metadata": {
        "colab": {
          "base_uri": "https://localhost:8080/"
        },
        "id": "Z3j-CrAF-fXn",
        "outputId": "b34ae442-2927-4461-d162-d014fc783b6e"
      },
      "source": [
        "!pip install transformers==4.1.1 sentencepiece==0.1.94\n",
        "!pip install mosestokenizer==1.1.0"
      ],
      "execution_count": null,
      "outputs": [
        {
          "output_type": "stream",
          "name": "stdout",
          "text": [
            "Collecting transformers==4.1.1\n",
            "  Downloading transformers-4.1.1-py3-none-any.whl (1.5 MB)\n",
            "\u001b[K     |████████████████████████████████| 1.5 MB 5.0 MB/s \n",
            "\u001b[?25hCollecting sentencepiece==0.1.94\n",
            "  Downloading sentencepiece-0.1.94-cp37-cp37m-manylinux2014_x86_64.whl (1.1 MB)\n",
            "\u001b[K     |████████████████████████████████| 1.1 MB 59.4 MB/s \n",
            "\u001b[?25hRequirement already satisfied: filelock in /usr/local/lib/python3.7/dist-packages (from transformers==4.1.1) (3.3.2)\n",
            "Requirement already satisfied: packaging in /usr/local/lib/python3.7/dist-packages (from transformers==4.1.1) (21.2)\n",
            "Requirement already satisfied: numpy in /usr/local/lib/python3.7/dist-packages (from transformers==4.1.1) (1.19.5)\n",
            "Collecting sacremoses\n",
            "  Downloading sacremoses-0.0.46-py3-none-any.whl (895 kB)\n",
            "\u001b[K     |████████████████████████████████| 895 kB 60.1 MB/s \n",
            "\u001b[?25hRequirement already satisfied: requests in /usr/local/lib/python3.7/dist-packages (from transformers==4.1.1) (2.23.0)\n",
            "Requirement already satisfied: tqdm>=4.27 in /usr/local/lib/python3.7/dist-packages (from transformers==4.1.1) (4.62.3)\n",
            "Requirement already satisfied: regex!=2019.12.17 in /usr/local/lib/python3.7/dist-packages (from transformers==4.1.1) (2019.12.20)\n",
            "Collecting tokenizers==0.9.4\n",
            "  Downloading tokenizers-0.9.4-cp37-cp37m-manylinux2010_x86_64.whl (2.9 MB)\n",
            "\u001b[K     |████████████████████████████████| 2.9 MB 31.1 MB/s \n",
            "\u001b[?25hRequirement already satisfied: pyparsing<3,>=2.0.2 in /usr/local/lib/python3.7/dist-packages (from packaging->transformers==4.1.1) (2.4.7)\n",
            "Requirement already satisfied: urllib3!=1.25.0,!=1.25.1,<1.26,>=1.21.1 in /usr/local/lib/python3.7/dist-packages (from requests->transformers==4.1.1) (1.24.3)\n",
            "Requirement already satisfied: idna<3,>=2.5 in /usr/local/lib/python3.7/dist-packages (from requests->transformers==4.1.1) (2.10)\n",
            "Requirement already satisfied: chardet<4,>=3.0.2 in /usr/local/lib/python3.7/dist-packages (from requests->transformers==4.1.1) (3.0.4)\n",
            "Requirement already satisfied: certifi>=2017.4.17 in /usr/local/lib/python3.7/dist-packages (from requests->transformers==4.1.1) (2021.10.8)\n",
            "Requirement already satisfied: joblib in /usr/local/lib/python3.7/dist-packages (from sacremoses->transformers==4.1.1) (1.1.0)\n",
            "Requirement already satisfied: click in /usr/local/lib/python3.7/dist-packages (from sacremoses->transformers==4.1.1) (7.1.2)\n",
            "Requirement already satisfied: six in /usr/local/lib/python3.7/dist-packages (from sacremoses->transformers==4.1.1) (1.15.0)\n",
            "Installing collected packages: tokenizers, sacremoses, transformers, sentencepiece\n",
            "Successfully installed sacremoses-0.0.46 sentencepiece-0.1.94 tokenizers-0.9.4 transformers-4.1.1\n",
            "Collecting mosestokenizer==1.1.0\n",
            "  Downloading mosestokenizer-1.1.0.tar.gz (37 kB)\n",
            "Requirement already satisfied: docopt in /usr/local/lib/python3.7/dist-packages (from mosestokenizer==1.1.0) (0.6.2)\n",
            "Collecting openfile\n",
            "  Downloading openfile-0.0.7-py3-none-any.whl (2.4 kB)\n",
            "Collecting uctools\n",
            "  Downloading uctools-1.3.0.tar.gz (4.6 kB)\n",
            "Collecting toolwrapper\n",
            "  Downloading toolwrapper-2.1.0.tar.gz (3.2 kB)\n",
            "Building wheels for collected packages: mosestokenizer, toolwrapper, uctools\n",
            "  Building wheel for mosestokenizer (setup.py) ... \u001b[?25l\u001b[?25hdone\n",
            "  Created wheel for mosestokenizer: filename=mosestokenizer-1.1.0-py3-none-any.whl size=49117 sha256=7798396e76926dbd86c9b5c05f7a3a02f493c1ee5efed4e44dc4a09079863948\n",
            "  Stored in directory: /root/.cache/pip/wheels/a7/31/94/fef279382208e85a65c1a7f5c4d0020115477b0af74f296b57\n",
            "  Building wheel for toolwrapper (setup.py) ... \u001b[?25l\u001b[?25hdone\n",
            "  Created wheel for toolwrapper: filename=toolwrapper-2.1.0-py3-none-any.whl size=3354 sha256=e3e25c562330fe1289fa406242f6f9a39d63e11a5ac107edf8eb46514529e65a\n",
            "  Stored in directory: /root/.cache/pip/wheels/c5/4f/33/54741ffe08e38ececb1d28068a153729b4fe820bafa0a0691f\n",
            "  Building wheel for uctools (setup.py) ... \u001b[?25l\u001b[?25hdone\n",
            "  Created wheel for uctools: filename=uctools-1.3.0-py3-none-any.whl size=6163 sha256=4db1a9cfd1d30992cc61a7f86364c9cc164b0b4e6655e9fae6587413b11c39b2\n",
            "  Stored in directory: /root/.cache/pip/wheels/fb/44/e9/914cf8fa71f0141f9314f862538d1218fcf2b94542a0fb7d35\n",
            "Successfully built mosestokenizer toolwrapper uctools\n",
            "Installing collected packages: uctools, toolwrapper, openfile, mosestokenizer\n",
            "Successfully installed mosestokenizer-1.1.0 openfile-0.0.7 toolwrapper-2.1.0 uctools-1.3.0\n"
          ]
        }
      ]
    },
    {
      "cell_type": "code",
      "metadata": {
        "id": "VGQC1ifY-hUG"
      },
      "source": [
        "from transformers import MarianMTModel, MarianTokenizer"
      ],
      "execution_count": null,
      "outputs": []
    },
    {
      "cell_type": "code",
      "metadata": {
        "colab": {
          "base_uri": "https://localhost:8080/",
          "height": 262,
          "referenced_widgets": [
            "111559cfd90b4f07921126716998bfb8",
            "31549e566843418b9c99065cbcfaf202",
            "91b78786c3c74fc8a794d9fc65bf5c0c",
            "4fb64426309e4b9ebcd2cdb412e65baf",
            "1176c61187f84897a711c2714aaf1ba9",
            "4f1eaf3c09794f2fb77977bfb59eb9f5",
            "098ba618437b4c42923e2513c6640d59",
            "f4ca35344763451b8daf32acd3523187",
            "15897e55ac224b1abaf7983058c09d40",
            "3da01b30addf4d76be615d87f439f9e3",
            "916e409254f1482eb7e62f269d9e1c42",
            "3d0880305ae54ea8922850396305d7fb",
            "69eaad71b639496ebf21eb2489f6387a",
            "6c89066bfbb54ff5b941587a33729bbc",
            "a65afd90930d4a8f92abd2dd0a5ce8b9",
            "1b8c89a472334d44869636b03c82a049",
            "80da555ab35b4c76877e7c7925558291",
            "fe3843a3f437471788b21cf56ab5b896",
            "84736277fce24920b4337599de18789c",
            "e61d3aa9fa3941b59adc356c657dcc02",
            "c252bb4e87ed4064862e603dbc719e0e",
            "6748c20fe3074a3cb8f628ef405debb1",
            "ef04e6702c334306a58d846ba55c07ca",
            "6dad7dbcb09341e0ad53e672800ef4e3",
            "813fef96c5d642eb9039e74324c36f7b",
            "d208c182fe624f80951be25bee461229",
            "4f91020c25874a87b76b51041e683e15",
            "1fc1a8f98ca0411391fa242cc9fcb9f2",
            "90ea1741a2054a76b78590938724788e",
            "d4321ff3eed5401f83ff6e97ccd5009e",
            "282f18f7a72f435abdbb207f519f96f0",
            "897ae92b11c849e8a749281217ac61d4",
            "81dc75ec06a64bb8b9588168113375a1",
            "441e701370ca43d091e12c5f1520f92e",
            "e296421387144ff183f539cf6d68f520",
            "dd774ec8a15b46de9330de00d965bcf5",
            "90eb05ca89e74974abb11c6327ba3616",
            "ea5654f318aa422cbe131a60e69d4567",
            "7e1cbbdcf94646e8bf9fc8d3b8fc2e76",
            "ade8ee3d149943b5b552b705854154c9",
            "31c1a7b9da6940ec9c037f0f3dbf4bf8",
            "1639d90c3a2c4e708a6de45d4915e382",
            "a94ad9152c0c4182910fc2aa8a9b5a7a",
            "c2c41de4136f49a3ae61132d7644bff1",
            "bed4a50b3e304aecae688b236c2c779b",
            "8464901e6222471b96b00c3888d41db4",
            "f7647c703af5457498d1819529a8a7a5",
            "aaeedaac01354f85871acd5c2ec18dc4",
            "0cb56c8c8c904577a2e75c54ee4f95e2",
            "0690f37a57864d89a6eceea3f8a21946",
            "1496b4f306ee4790994b223a52d0f8a7",
            "a912f626317e46db99a1dd118a319d89",
            "3748d22d96344ceda9c856a9e3bd9bb5",
            "45f09831ec6449f99e274c4e1b30c850",
            "529e4c4f985946b9b16c1d2e1f013dd8",
            "62f0b9fdb9e84d418fe6523515109ba0",
            "198ca135bb3e46eda8c1117f06e96931",
            "6421ce57c45f4349b4f6b03142b2ee91",
            "1233f99e6d5f4fa9867aa7d6a6668853",
            "1da9205196ba4a63922e80a21ede5641",
            "5252aab0ef59486a97d3561fdc9175aa",
            "cf3b1c0497d6419cad59a2faaa9794d6",
            "41b50358c60d4fe38e8e99ef98d28f7c",
            "332e3b6b3f79492fac1d96fb240fd136",
            "7fd829595bcb4ce98e7ac20dc9dd61c7",
            "5e5fe3c46d8f4543ab996a04600e409c"
          ]
        },
        "id": "yP6UIkni-lDp",
        "outputId": "cc256fc7-0356-4ca9-805c-86435389a3b4"
      },
      "source": [
        "target_model_name = 'Helsinki-NLP/opus-mt-en-ROMANCE'\n",
        "target_tokenizer = MarianTokenizer.from_pretrained(target_model_name)\n",
        "target_model = MarianMTModel.from_pretrained(target_model_name)"
      ],
      "execution_count": null,
      "outputs": [
        {
          "output_type": "display_data",
          "data": {
            "application/vnd.jupyter.widget-view+json": {
              "model_id": "111559cfd90b4f07921126716998bfb8",
              "version_minor": 0,
              "version_major": 2
            },
            "text/plain": [
              "Downloading:   0%|          | 0.00/779k [00:00<?, ?B/s]"
            ]
          },
          "metadata": {}
        },
        {
          "output_type": "display_data",
          "data": {
            "application/vnd.jupyter.widget-view+json": {
              "model_id": "3d0880305ae54ea8922850396305d7fb",
              "version_minor": 0,
              "version_major": 2
            },
            "text/plain": [
              "Downloading:   0%|          | 0.00/799k [00:00<?, ?B/s]"
            ]
          },
          "metadata": {}
        },
        {
          "output_type": "display_data",
          "data": {
            "application/vnd.jupyter.widget-view+json": {
              "model_id": "ef04e6702c334306a58d846ba55c07ca",
              "version_minor": 0,
              "version_major": 2
            },
            "text/plain": [
              "Downloading:   0%|          | 0.00/1.46M [00:00<?, ?B/s]"
            ]
          },
          "metadata": {}
        },
        {
          "output_type": "display_data",
          "data": {
            "application/vnd.jupyter.widget-view+json": {
              "model_id": "441e701370ca43d091e12c5f1520f92e",
              "version_minor": 0,
              "version_major": 2
            },
            "text/plain": [
              "Downloading:   0%|          | 0.00/265 [00:00<?, ?B/s]"
            ]
          },
          "metadata": {}
        },
        {
          "output_type": "display_data",
          "data": {
            "application/vnd.jupyter.widget-view+json": {
              "model_id": "bed4a50b3e304aecae688b236c2c779b",
              "version_minor": 0,
              "version_major": 2
            },
            "text/plain": [
              "Downloading:   0%|          | 0.00/1.40k [00:00<?, ?B/s]"
            ]
          },
          "metadata": {}
        },
        {
          "output_type": "display_data",
          "data": {
            "application/vnd.jupyter.widget-view+json": {
              "model_id": "62f0b9fdb9e84d418fe6523515109ba0",
              "version_minor": 0,
              "version_major": 2
            },
            "text/plain": [
              "Downloading:   0%|          | 0.00/312M [00:00<?, ?B/s]"
            ]
          },
          "metadata": {}
        },
        {
          "output_type": "stream",
          "name": "stderr",
          "text": [
            "Some weights of MarianMTModel were not initialized from the model checkpoint at Helsinki-NLP/opus-mt-en-ROMANCE and are newly initialized: ['lm_head.weight']\n",
            "You should probably TRAIN this model on a down-stream task to be able to use it for predictions and inference.\n"
          ]
        }
      ]
    },
    {
      "cell_type": "code",
      "metadata": {
        "colab": {
          "base_uri": "https://localhost:8080/",
          "height": 262,
          "referenced_widgets": [
            "dd44c9ac0efa4de4bc1f0a49aca607ca",
            "9361028128a540abb3f4b3989d109f0c",
            "7fe992565b634744b852e30ca1cc41d2",
            "1275bd9c23114f44af5a5f1224e1ef2b",
            "c7c1de3054d243848d70b8d1de67b15f",
            "4d76066bcc584323a55abff1209be0d4",
            "18eed1783db245d388a32a382664a18f",
            "b8526d3b64b64f24a2d72f6998ddd814",
            "f5a620ccad2c414faf5be61eaa2195b5",
            "dbeeffc9c5dd45bbaceeca55a6c3a96b",
            "b474baa41de746778541ccc08fcf8915",
            "5a994978bbcb4714bddba3fb2bbb43a6",
            "e09c583227474d34b52449306c1621a3",
            "8d19c1eaee9e48298bb572d6f2ddfffd",
            "56f6ce23b6ff4385849369fcd0867e61",
            "1eb927947bdf4785b3d03468a1c8cb59",
            "874e3e04245a4791971a27beeff791bf",
            "38906093c0bf4e129ff3f0e7cc5e696c",
            "a4bf0c901274459f9255e022f5a33bbb",
            "d1438cdfd5424b5cbcd8931d454b7f19",
            "23f8e68ab15f47d2b10fb58b591d7651",
            "d1b20d12872c4dac8fb5c0080171eeeb",
            "f2c6cfbb939641dead53eebada051005",
            "545e19cd91f741b4b01917d66f496851",
            "d42b45df8ee745718ef1e74abb0beb01",
            "59331c8c492a406e8a909d701468d79e",
            "23718ef9ec4f4f838a42de01f69a569e",
            "3164dff9b8ab4698a9a3809a863a3733",
            "2ed14380a0604df2a1a7c3dab4cfe78c",
            "a52e93d7e1bc487796d66d3283e05e83",
            "8ef978a6c9544bf5abc937982ba25982",
            "95991b57c380408daa27f44b70ed978d",
            "631cd527b56a422c95aefc5957e209d8",
            "74e0d33524564b3eaa883717d0321f4a",
            "1f391360211b4c37aedecdfc8d266ab0",
            "5d65d74b43f04e03b84cf985b46246bc",
            "daf5ad4d66984c83ac8ff823ca04c87c",
            "fe93f7e04fac46d8a0cdbbfbe63c8ae9",
            "b5d69dabda44435ebf03265d5ec4e978",
            "e7210372646a4e7f9805e8aaf6e49457",
            "9d7b4cec799d4c10be8a3bed3666933a",
            "51037f831f0d4aafa3707da3148c8b0f",
            "0a75bb0d246443c5b3878f35d913b45b",
            "9736c6b81a4f4150868be26acda3c734",
            "15fda3d89b82489587a0ff7bb0d64c7c",
            "a32b3912953341c089a48352be34f43f",
            "d9d422c52d5d469ba486d2511b418e9d",
            "6251d02719154aad877d30e603d698bb",
            "d41612ef39eb4e6ba4c128c7ac5ca84c",
            "d098c8e183864f5dae835b3f787c24cc",
            "26b6f8f15d374320a2e1d10b11547d92",
            "5a1bd144904641e494a639a94f6a847e",
            "1ffcc7972592406c995def08534fee45",
            "9cdc7eb99a3f4f05a961371437570a8a",
            "bb157f3b2d2040e6b1f48b0dbd9d09dc",
            "9a2e02e0f8b64155aff33f78c4ee9b67",
            "944a4f30ae9348fb9f3b629e5c1b22f9",
            "6115e42fa9bc45bf8cf9812f454435f2",
            "f61d82e8b3a847c2b658f6daf6d74d8f",
            "022240eaed1f4848916ae15ca56056ed",
            "8bc6981c445944bc88ef4a29cdd668f1",
            "c4fb0d9c81e648249c11ed28d724c09e",
            "39bbbbd8ae0b4ea4be13a16cafbb116c",
            "45836f2c902745b08626d38ea90ecb6f",
            "e0ee17dd75164f20a7237038c2e83f2a",
            "2918cb99eb5f4b3a809283f0e63f5bdc"
          ]
        },
        "id": "aizw4wkS-mvs",
        "outputId": "61de8e65-c7f8-4060-fdb6-b739805b4340"
      },
      "source": [
        "en_model_name = 'Helsinki-NLP/opus-mt-ROMANCE-en'\n",
        "en_tokenizer = MarianTokenizer.from_pretrained(en_model_name)\n",
        "en_model = MarianMTModel.from_pretrained(en_model_name)"
      ],
      "execution_count": null,
      "outputs": [
        {
          "output_type": "display_data",
          "data": {
            "application/vnd.jupyter.widget-view+json": {
              "model_id": "dd44c9ac0efa4de4bc1f0a49aca607ca",
              "version_minor": 0,
              "version_major": 2
            },
            "text/plain": [
              "Downloading:   0%|          | 0.00/800k [00:00<?, ?B/s]"
            ]
          },
          "metadata": {}
        },
        {
          "output_type": "display_data",
          "data": {
            "application/vnd.jupyter.widget-view+json": {
              "model_id": "5a994978bbcb4714bddba3fb2bbb43a6",
              "version_minor": 0,
              "version_major": 2
            },
            "text/plain": [
              "Downloading:   0%|          | 0.00/779k [00:00<?, ?B/s]"
            ]
          },
          "metadata": {}
        },
        {
          "output_type": "display_data",
          "data": {
            "application/vnd.jupyter.widget-view+json": {
              "model_id": "f2c6cfbb939641dead53eebada051005",
              "version_minor": 0,
              "version_major": 2
            },
            "text/plain": [
              "Downloading:   0%|          | 0.00/1.46M [00:00<?, ?B/s]"
            ]
          },
          "metadata": {}
        },
        {
          "output_type": "display_data",
          "data": {
            "application/vnd.jupyter.widget-view+json": {
              "model_id": "74e0d33524564b3eaa883717d0321f4a",
              "version_minor": 0,
              "version_major": 2
            },
            "text/plain": [
              "Downloading:   0%|          | 0.00/265 [00:00<?, ?B/s]"
            ]
          },
          "metadata": {}
        },
        {
          "output_type": "display_data",
          "data": {
            "application/vnd.jupyter.widget-view+json": {
              "model_id": "15fda3d89b82489587a0ff7bb0d64c7c",
              "version_minor": 0,
              "version_major": 2
            },
            "text/plain": [
              "Downloading:   0%|          | 0.00/1.11k [00:00<?, ?B/s]"
            ]
          },
          "metadata": {}
        },
        {
          "output_type": "display_data",
          "data": {
            "application/vnd.jupyter.widget-view+json": {
              "model_id": "9a2e02e0f8b64155aff33f78c4ee9b67",
              "version_minor": 0,
              "version_major": 2
            },
            "text/plain": [
              "Downloading:   0%|          | 0.00/312M [00:00<?, ?B/s]"
            ]
          },
          "metadata": {}
        },
        {
          "output_type": "stream",
          "name": "stderr",
          "text": [
            "Some weights of MarianMTModel were not initialized from the model checkpoint at Helsinki-NLP/opus-mt-ROMANCE-en and are newly initialized: ['lm_head.weight']\n",
            "You should probably TRAIN this model on a down-stream task to be able to use it for predictions and inference.\n"
          ]
        }
      ]
    },
    {
      "cell_type": "code",
      "metadata": {
        "id": "C-KcIQ9u-o6I"
      },
      "source": [
        "def translate(texts, model, tokenizer, language=\"fr\"):\n",
        "    # Prepare the text data into appropriate format for the model\n",
        "    template = lambda text: f\"{text}\" if language == \"en\" else f\">>{language}<< {text}\"\n",
        "    src_texts = [template(text) for text in texts]\n",
        "    src_texts = np.array(src_texts)\n",
        "    # Tokenize the texts\n",
        "    encoded = tokenizer.prepare_seq2seq_batch(src_texts,return_tensors='pt')\n",
        "    \n",
        "    # Generate translation using model\n",
        "    translated = model.generate(**encoded)\n",
        "\n",
        "    # Convert the generated tokens indices back into text\n",
        "    translated_texts = tokenizer.batch_decode(translated, skip_special_tokens=True)\n",
        "    \n",
        "    return translated_texts"
      ],
      "execution_count": null,
      "outputs": []
    },
    {
      "cell_type": "code",
      "metadata": {
        "id": "6brx8YbI-qxz"
      },
      "source": [
        "def back_translate(texts, source_lang=\"en\", target_lang=\"fr\"):\n",
        "    # Translate from source to target language\n",
        "    fr_texts = translate(texts, target_model, target_tokenizer, \n",
        "                         language=target_lang)\n",
        "\n",
        "    # Translate from target language back to source language\n",
        "    back_translated_texts = translate(fr_texts, en_model, en_tokenizer, \n",
        "                                      language=source_lang)\n",
        "    \n",
        "    return back_translated_texts"
      ],
      "execution_count": null,
      "outputs": []
    },
    {
      "cell_type": "code",
      "metadata": {
        "colab": {
          "base_uri": "https://localhost:8080/"
        },
        "id": "E5JDsrVv-s_-",
        "outputId": "c452d967-917a-4733-d86c-40123eef1fa8"
      },
      "source": [
        "en_texts = ['This is so cool', 'I hated the food', 'They were very helpful']\n",
        "aug_texts = back_translate(np.array(en_texts), source_lang=\"en\", target_lang=\"fr\")\n",
        "print(aug_texts)"
      ],
      "execution_count": null,
      "outputs": [
        {
          "output_type": "stream",
          "name": "stderr",
          "text": [
            "/usr/local/lib/python3.7/dist-packages/transformers/generation_utils.py:1065: UserWarning: __floordiv__ is deprecated, and its behavior will change in a future version of pytorch. It currently rounds toward 0 (like the 'trunc' function NOT 'floor'). This results in incorrect rounding for negative values. To keep the current behavior, use torch.div(a, b, rounding_mode='trunc'), or for actual floor division, use torch.div(a, b, rounding_mode='floor').\n",
            "  next_indices = next_tokens // vocab_size\n"
          ]
        },
        {
          "output_type": "stream",
          "name": "stdout",
          "text": [
            "[\"It's so cool.\", 'I hated food.', \"They've been very helpful.\"]\n"
          ]
        }
      ]
    },
    {
      "cell_type": "code",
      "metadata": {
        "id": "j_UZfvWGrtrL",
        "colab": {
          "base_uri": "https://localhost:8080/"
        },
        "outputId": "3a58d0b9-366f-4f8e-8bd1-dc47b7d36e3d"
      },
      "source": [
        "from google.colab import drive\n",
        "drive.mount('/content/drive', force_remount=True)"
      ],
      "execution_count": null,
      "outputs": [
        {
          "output_type": "stream",
          "name": "stdout",
          "text": [
            "Mounted at /content/drive\n"
          ]
        }
      ]
    },
    {
      "cell_type": "code",
      "metadata": {
        "id": "db-z8pyB-1Vz"
      },
      "source": [
        " df=pd.read_csv('/content/drive/MyDrive/PRISM/augmented_la.csv')"
      ],
      "execution_count": null,
      "outputs": []
    },
    {
      "cell_type": "code",
      "metadata": {
        "colab": {
          "base_uri": "https://localhost:8080/",
          "height": 203
        },
        "id": "UO8WI7GfGTBj",
        "outputId": "fbe377e1-854a-4757-8895-674887502831"
      },
      "source": [
        "df.head()"
      ],
      "execution_count": null,
      "outputs": [
        {
          "output_type": "execute_result",
          "data": {
            "text/html": [
              "<div>\n",
              "<style scoped>\n",
              "    .dataframe tbody tr th:only-of-type {\n",
              "        vertical-align: middle;\n",
              "    }\n",
              "\n",
              "    .dataframe tbody tr th {\n",
              "        vertical-align: top;\n",
              "    }\n",
              "\n",
              "    .dataframe thead th {\n",
              "        text-align: right;\n",
              "    }\n",
              "</style>\n",
              "<table border=\"1\" class=\"dataframe\">\n",
              "  <thead>\n",
              "    <tr style=\"text-align: right;\">\n",
              "      <th></th>\n",
              "      <th>Unnamed: 0</th>\n",
              "      <th>review</th>\n",
              "    </tr>\n",
              "  </thead>\n",
              "  <tbody>\n",
              "    <tr>\n",
              "      <th>0</th>\n",
              "      <td>0</td>\n",
              "      <td>['This short meter that inspired the next long...</td>\n",
              "    </tr>\n",
              "    <tr>\n",
              "      <th>1</th>\n",
              "      <td>1</td>\n",
              "      <td>['Okay, night man August 18, 2004 I distinctly...</td>\n",
              "    </tr>\n",
              "    <tr>\n",
              "      <th>2</th>\n",
              "      <td>2</td>\n",
              "      <td>[\"This is a game in impulse I'm buying a walma...</td>\n",
              "    </tr>\n",
              "    <tr>\n",
              "      <th>3</th>\n",
              "      <td>3</td>\n",
              "      <td>['No, hilarious 70 did for TV horror clinker i...</td>\n",
              "    </tr>\n",
              "    <tr>\n",
              "      <th>4</th>\n",
              "      <td>4</td>\n",
              "      <td>['It is easy to say in this film exactly what ...</td>\n",
              "    </tr>\n",
              "  </tbody>\n",
              "</table>\n",
              "</div>"
            ],
            "text/plain": [
              "   Unnamed: 0                                             review\n",
              "0           0  ['This short meter that inspired the next long...\n",
              "1           1  ['Okay, night man August 18, 2004 I distinctly...\n",
              "2           2  [\"This is a game in impulse I'm buying a walma...\n",
              "3           3  ['No, hilarious 70 did for TV horror clinker i...\n",
              "4           4  ['It is easy to say in this film exactly what ..."
            ]
          },
          "metadata": {},
          "execution_count": 100
        }
      ]
    },
    {
      "cell_type": "code",
      "metadata": {
        "colab": {
          "base_uri": "https://localhost:8080/",
          "height": 119
        },
        "id": "nlKD_Mhhj9-J",
        "outputId": "8bf2868a-7e04-470e-e8cc-542ea6578997"
      },
      "source": [
        "df['review'][0]"
      ],
      "execution_count": null,
      "outputs": [
        {
          "output_type": "execute_result",
          "data": {
            "application/vnd.google.colaboratory.intrinsic+json": {
              "type": "string"
            },
            "text/plain": [
              "'[\\'This short meter that inspired the next longitude - Spatula Madness - is hilarious that it contends against similar postcards yielding multiple authorities\\', \\'Short film of the star Eduardo Spatula, who after his work united in luxury against the spoon of evil.\\', \\'This premise allows one to be content in the usual manner, and is not present in the residue.\\', \\'Five-fifth time of tiny film is absorbed from errata comedy and tiny musical nuntiums\\', \"Regrettably not super women\\'s women\", \\'The place which seven has no time to display\\', \\'Then he followed him alone on the high budget of the Hollywood film.\\', \\'This is the film of the custody of the one time.\\', \\'Tell him what he is and do not wait for the story to be told in depth.\\']'"
            ]
          },
          "metadata": {},
          "execution_count": 101
        }
      ]
    },
    {
      "cell_type": "code",
      "metadata": {
        "colab": {
          "base_uri": "https://localhost:8080/"
        },
        "id": "dW5bSTpSnf9p",
        "outputId": "09a467de-4e93-47bc-c55e-0207702782b6"
      },
      "source": [
        "for i in range(len(df['review'])):\n",
        "  str=\"\"\n",
        "  for x in df['review'][i]:\n",
        "    if x!='\\'' and x!='[' and x!= ']':\n",
        "       str=str+x\n",
        "  df['review'][i]=str"
      ],
      "execution_count": null,
      "outputs": [
        {
          "output_type": "stream",
          "name": "stderr",
          "text": [
            "/usr/local/lib/python3.7/dist-packages/ipykernel_launcher.py:6: SettingWithCopyWarning: \n",
            "A value is trying to be set on a copy of a slice from a DataFrame\n",
            "\n",
            "See the caveats in the documentation: https://pandas.pydata.org/pandas-docs/stable/user_guide/indexing.html#returning-a-view-versus-a-copy\n",
            "  \n"
          ]
        }
      ]
    },
    {
      "cell_type": "code",
      "metadata": {
        "colab": {
          "base_uri": "https://localhost:8080/",
          "height": 102
        },
        "id": "5kU21enorPpd",
        "outputId": "8ab92d96-04aa-4f83-91b8-b084181f0a3c"
      },
      "source": [
        "df['review'][0]"
      ],
      "execution_count": null,
      "outputs": [
        {
          "output_type": "execute_result",
          "data": {
            "application/vnd.google.colaboratory.intrinsic+json": {
              "type": "string"
            },
            "text/plain": [
              "'This short meter that inspired the next longitude - Spatula Madness - is hilarious that it contends against similar postcards yielding multiple authorities, Short film of the star Eduardo Spatula, who after his work united in luxury against the spoon of evil., This premise allows one to be content in the usual manner, and is not present in the residue., Five-fifth time of tiny film is absorbed from errata comedy and tiny musical nuntiums, \"Regrettably not super womens women\", The place which seven has no time to display, Then he followed him alone on the high budget of the Hollywood film., This is the film of the custody of the one time., Tell him what he is and do not wait for the story to be told in depth.'"
            ]
          },
          "metadata": {},
          "execution_count": 103
        }
      ]
    },
    {
      "cell_type": "code",
      "metadata": {
        "id": "nJHqDKWYGWgZ",
        "colab": {
          "base_uri": "https://localhost:8080/"
        },
        "outputId": "fc7b1225-f4c7-4b2f-abe7-a095716df639"
      },
      "source": [
        "for i in range(len(df['review'])):\n",
        "  str=\"\"\n",
        "  for j in range(len(df['review'][i])):\n",
        "    if df['review'][i][j] == ',' and df['review'][i][j-1]=='.':\n",
        "      pass\n",
        "    else:\n",
        "      str=str+df['review'][i][j]\n",
        "  df['review'][i]=str"
      ],
      "execution_count": null,
      "outputs": [
        {
          "output_type": "stream",
          "name": "stderr",
          "text": [
            "/usr/local/lib/python3.7/dist-packages/ipykernel_launcher.py:8: SettingWithCopyWarning: \n",
            "A value is trying to be set on a copy of a slice from a DataFrame\n",
            "\n",
            "See the caveats in the documentation: https://pandas.pydata.org/pandas-docs/stable/user_guide/indexing.html#returning-a-view-versus-a-copy\n",
            "  \n"
          ]
        }
      ]
    },
    {
      "cell_type": "code",
      "metadata": {
        "colab": {
          "base_uri": "https://localhost:8080/",
          "height": 102
        },
        "id": "QdwoDBvDGnY7",
        "outputId": "fc06c973-4960-4a10-cab6-156c5d76f6d4"
      },
      "source": [
        "df['review'][0]"
      ],
      "execution_count": null,
      "outputs": [
        {
          "output_type": "execute_result",
          "data": {
            "application/vnd.google.colaboratory.intrinsic+json": {
              "type": "string"
            },
            "text/plain": [
              "'This short meter that inspired the next longitude - Spatula Madness - is hilarious that it contends against similar postcards yielding multiple authorities, Short film of the star Eduardo Spatula, who after his work united in luxury against the spoon of evil. This premise allows one to be content in the usual manner, and is not present in the residue. Five-fifth time of tiny film is absorbed from errata comedy and tiny musical nuntiums, \"Regrettably not super womens women\", The place which seven has no time to display, Then he followed him alone on the high budget of the Hollywood film. This is the film of the custody of the one time. Tell him what he is and do not wait for the story to be told in depth.'"
            ]
          },
          "metadata": {},
          "execution_count": 106
        }
      ]
    },
    {
      "cell_type": "code",
      "metadata": {
        "id": "w85g4HG9xQ-L"
      },
      "source": [
        "X_augmented=list(df['review'])"
      ],
      "execution_count": null,
      "outputs": []
    },
    {
      "cell_type": "code",
      "metadata": {
        "id": "jcFeTu9Rs9Q9"
      },
      "source": [
        "df_new=pd.read_csv('/content/Augmented_text(1) .csv')"
      ],
      "execution_count": null,
      "outputs": []
    },
    {
      "cell_type": "code",
      "metadata": {
        "colab": {
          "base_uri": "https://localhost:8080/",
          "height": 203
        },
        "id": "59197x1lusxd",
        "outputId": "53262c3e-45f8-4bd1-8280-760baf83457c"
      },
      "source": [
        "df_new.head()"
      ],
      "execution_count": null,
      "outputs": [
        {
          "output_type": "execute_result",
          "data": {
            "text/html": [
              "<div>\n",
              "<style scoped>\n",
              "    .dataframe tbody tr th:only-of-type {\n",
              "        vertical-align: middle;\n",
              "    }\n",
              "\n",
              "    .dataframe tbody tr th {\n",
              "        vertical-align: top;\n",
              "    }\n",
              "\n",
              "    .dataframe thead th {\n",
              "        text-align: right;\n",
              "    }\n",
              "</style>\n",
              "<table border=\"1\" class=\"dataframe\">\n",
              "  <thead>\n",
              "    <tr style=\"text-align: right;\">\n",
              "      <th></th>\n",
              "      <th>Unnamed: 0</th>\n",
              "      <th>Text</th>\n",
              "      <th>Augmented Text</th>\n",
              "    </tr>\n",
              "  </thead>\n",
              "  <tbody>\n",
              "    <tr>\n",
              "      <th>0</th>\n",
              "      <td>0</td>\n",
              "      <td>One of the other reviewers has mentioned that ...</td>\n",
              "      <td>One of the other reviewers mentioned what afte...</td>\n",
              "    </tr>\n",
              "    <tr>\n",
              "      <th>1</th>\n",
              "      <td>1</td>\n",
              "      <td>A wonderful little production. &lt;br /&gt;&lt;br /&gt;The...</td>\n",
              "      <td>Wonderful production.The technique of filming ...</td>\n",
              "    </tr>\n",
              "    <tr>\n",
              "      <th>2</th>\n",
              "      <td>2</td>\n",
              "      <td>I thought this was a wonderful way to spend ti...</td>\n",
              "      <td>I thought that this was a wonder, that it migh...</td>\n",
              "    </tr>\n",
              "    <tr>\n",
              "      <th>3</th>\n",
              "      <td>3</td>\n",
              "      <td>Basically there's a family where a little boy ...</td>\n",
              "      <td>Basically, the family is where none (Jake) thi...</td>\n",
              "    </tr>\n",
              "    <tr>\n",
              "      <th>4</th>\n",
              "      <td>4</td>\n",
              "      <td>Petter Mattei's \"Love in the Time of Money\" is...</td>\n",
              "      <td>Petter Mattei's \"Love in Time Money\" is the vi...</td>\n",
              "    </tr>\n",
              "  </tbody>\n",
              "</table>\n",
              "</div>"
            ],
            "text/plain": [
              "   Unnamed: 0  ...                                     Augmented Text\n",
              "0           0  ...  One of the other reviewers mentioned what afte...\n",
              "1           1  ...  Wonderful production.The technique of filming ...\n",
              "2           2  ...  I thought that this was a wonder, that it migh...\n",
              "3           3  ...  Basically, the family is where none (Jake) thi...\n",
              "4           4  ...  Petter Mattei's \"Love in Time Money\" is the vi...\n",
              "\n",
              "[5 rows x 3 columns]"
            ]
          },
          "metadata": {},
          "execution_count": 109
        }
      ]
    },
    {
      "cell_type": "code",
      "metadata": {
        "id": "UyhylY6GuxW5"
      },
      "source": [
        "X_augmented_first=list(df_new['Augmented Text'])"
      ],
      "execution_count": null,
      "outputs": []
    },
    {
      "cell_type": "code",
      "metadata": {
        "id": "maKOhJ10vK-_"
      },
      "source": [
        "augmented=X_augmented_first+X_augmented"
      ],
      "execution_count": null,
      "outputs": []
    },
    {
      "cell_type": "code",
      "metadata": {
        "colab": {
          "base_uri": "https://localhost:8080/"
        },
        "id": "APOqUGkixaeN",
        "outputId": "720266a8-fdfd-4b78-e88a-694250b1f7eb"
      },
      "source": [
        "len(augmented)"
      ],
      "execution_count": null,
      "outputs": [
        {
          "output_type": "execute_result",
          "data": {
            "text/plain": [
              "200"
            ]
          },
          "metadata": {},
          "execution_count": 114
        }
      ]
    },
    {
      "cell_type": "code",
      "metadata": {
        "id": "dKiVNS8lxeRe"
      },
      "source": [
        "for i in range(100):\n",
        "  X[i]=X[i].split('.')"
      ],
      "execution_count": null,
      "outputs": []
    },
    {
      "cell_type": "code",
      "metadata": {
        "id": "ucgy15dSxucf"
      },
      "source": [
        "for i in range(100):\n",
        "  X_t=[]\n",
        "  for s in X[i]:\n",
        "    if s != '':\n",
        "      X_t.append(s)\n",
        "  X[i]=X_t\n"
      ],
      "execution_count": null,
      "outputs": []
    },
    {
      "cell_type": "code",
      "metadata": {
        "colab": {
          "base_uri": "https://localhost:8080/"
        },
        "id": "VjQXSyPxyDjh",
        "outputId": "b57778ed-e1f2-487d-86ef-a64def73d69c"
      },
      "source": [
        "X[0]"
      ],
      "execution_count": null,
      "outputs": [
        {
          "output_type": "execute_result",
          "data": {
            "text/plain": [
              "[\"One of the other reviewers has mentioned that after watching just 1 Oz episode you'll be hooked\",\n",
              " ' They are right, as this is exactly what happened with me',\n",
              " '<br /><br />The first thing that struck me about Oz was its brutality and unflinching scenes of violence, which set in right from the word GO',\n",
              " ' Trust me, this is not a show for the faint hearted or timid',\n",
              " ' This show pulls no punches with regards to drugs, sex or violence',\n",
              " ' Its is hardcore, in the classic use of the word',\n",
              " '<br /><br />It is called OZ as that is the nickname given to the Oswald Maximum Security State Penitentary',\n",
              " ' It focuses mainly on Emerald City, an experimental section of the prison where all the cells have glass fronts and face inwards, so privacy is not high on the agenda',\n",
              " ' Em City is home to many',\n",
              " 'Aryans, Muslims, gangstas, Latinos, Christians, Italians, Irish and more',\n",
              " 'so scuffles, death stares, dodgy dealings and shady agreements are never far away',\n",
              " \"<br /><br />I would say the main appeal of the show is due to the fact that it goes where other shows wouldn't dare\",\n",
              " ' Forget pretty pictures painted for mainstream audiences, forget charm, forget romance',\n",
              " \"OZ doesn't mess around\",\n",
              " \" The first episode I ever saw struck me as so nasty it was surreal, I couldn't say I was ready for it, but as I watched more, I developed a taste for Oz, and got accustomed to the high levels of graphic violence\",\n",
              " \" Not just violence, but injustice (crooked guards who'll be sold out for a nickel, inmates who'll kill on order and get away with it, well mannered, middle class inmates being turned into prison bitches due to their lack of street skills or prison experience) Watching Oz, you may become comfortable with what is uncomfortable viewing\",\n",
              " 'thats if you can get in touch with your darker side']"
            ]
          },
          "metadata": {},
          "execution_count": 78
        }
      ]
    },
    {
      "cell_type": "code",
      "metadata": {
        "id": "unkpxQg0Gowg"
      },
      "source": [
        "# X=[]\n",
        "# for text in X_text:\n",
        "#   text=text.split(\".\")\n",
        "#   #print(len(text))\n",
        "#   X.append(text)"
      ],
      "execution_count": null,
      "outputs": []
    },
    {
      "cell_type": "code",
      "metadata": {
        "colab": {
          "base_uri": "https://localhost:8080/"
        },
        "id": "MEY114Hn34xT",
        "outputId": "3be0e110-7251-435b-c3d5-80f4a8afa1d7"
      },
      "source": [
        "\n",
        "# aug_texts = back_translate(np.array(X_text[0]), source_lang=\"en\", target_lang=\"es\")\n",
        "# print(aug_texts)"
      ],
      "execution_count": null,
      "outputs": [
        {
          "output_type": "stream",
          "name": "stderr",
          "text": [
            "/usr/local/lib/python3.7/dist-packages/transformers/generation_utils.py:1065: UserWarning: __floordiv__ is deprecated, and its behavior will change in a future version of pytorch. It currently rounds toward 0 (like the 'trunc' function NOT 'floor'). This results in incorrect rounding for negative values. To keep the current behavior, use torch.div(a, b, rounding_mode='trunc'), or for actual floor division, use torch.div(a, b, rounding_mode='floor').\n",
            "  next_indices = next_tokens // vocab_size\n"
          ]
        },
        {
          "output_type": "stream",
          "name": "stdout",
          "text": [
            "['One of the other critics has mentioned that after seeing only one episode of 1 Oz you will be hooked', \"You're right, because this is exactly what happened to me.\", 'The first thing that surprised me about Oz was his brutality and unbreakable scenes of violence, which began from the word GO', \"Trust me, this isn't a show for the weak of heart or shy\", \"This program doesn't knock on drugs, sex or violence\", 'It is hardcore, in the classic use of the word', \"<br /><br />It's called OZ as that's the nickname given to Oswald's Maximum Security State Penitentiary\", 'It focuses mainly on Emerald City, an experimental section of the prison where all cells have glass fronts and face in, so privacy is not a priority on the agenda', 'Em City is home to many', 'Aryans, Muslims, gangsters, Latins, Christians, Italians, Irish and more', 'So the skirmishes, the looks of death, the bad relations and the gloomy agreements are never far away.', 'I would say that the main attraction of the show is due to the fact that it goes where other shows would not dare', 'Forget the beautiful pictures painted for the main audience, forget the charm, forget the romance', \"Oz doesn't get in.\", \"The first episode I saw surprised me as so unpleasant that I was surreal, I couldn't say I was ready for it, but as I looked more, I developed a taste for Oz, and I got used to the high levels of graphic violence.\", 'Not only violence, but injustice (guardians who are going to be sold for a penny, prisoners who are going to kill by order and get away with theirs, well-educated, middle-class prisoners turned into prison bitches because of their lack of street skills or prison experience) Watching Oz, you can feel comfortable with what it is to see uncomfortable', 'that if you can contact your darker side']\n"
          ]
        }
      ]
    },
    {
      "cell_type": "code",
      "metadata": {
        "colab": {
          "base_uri": "https://localhost:8080/"
        },
        "id": "-cypdwGmGvOT",
        "outputId": "530ed0c9-35f5-4044-fee3-033d258552a7"
      },
      "source": [
        "X_augmented=[]\n",
        "i=1\n",
        "for text in X_text:\n",
        "  print(i)\n",
        "  aug_texts = back_translate(np.array(text), source_lang=\"en\", target_lang=\"la\")\n",
        "  X_augmented.append(aug_texts)\n",
        "  print(aug_texts)\n",
        "  i=i+1"
      ],
      "execution_count": null,
      "outputs": [
        {
          "output_type": "stream",
          "name": "stdout",
          "text": [
            "1\n"
          ]
        },
        {
          "output_type": "stream",
          "name": "stderr",
          "text": [
            "/usr/local/lib/python3.7/dist-packages/transformers/generation_utils.py:1065: UserWarning: __floordiv__ is deprecated, and its behavior will change in a future version of pytorch. It currently rounds toward 0 (like the 'trunc' function NOT 'floor'). This results in incorrect rounding for negative values. To keep the current behavior, use torch.div(a, b, rounding_mode='trunc'), or for actual floor division, use torch.div(a, b, rounding_mode='floor').\n",
            "  next_indices = next_tokens // vocab_size\n"
          ]
        },
        {
          "output_type": "stream",
          "name": "stdout",
          "text": [
            "['This short meter that inspired the next longitude - Spatula Madness - is hilarious that it contends against similar postcards yielding multiple authorities', 'Short film of the star Eduardo Spatula, who after his work united in luxury against the spoon of evil.', 'This premise allows one to be content in the usual manner, and is not present in the residue.', 'Five-fifth time of tiny film is absorbed from errata comedy and tiny musical nuntiums', \"Regrettably not super women's women\", 'The place which seven has no time to display', 'Then he followed him alone on the high budget of the Hollywood film.', 'This is the film of the custody of the one time.', 'Tell him what he is and do not wait for the story to be told in depth.']\n",
            "2\n",
            "['Okay, night man August 18, 2004 I distinctly displace adversum Dominus', 'Van Bebble in prospection filmum Familia Manson in Trio Penny in Chicago which part of Chicago Underground Film Festival', 'This is what I say about her.', 'First of all, film is obvious from Kenneth Anger, Roman Polanski, Oliver Stone and Terry Gilliam film I saw', 'Second of omnes, in short session Q & A post show Dominus', 'Van Bebble immediately declared that he did not make contact with the Manson family or Charlie beggars called them and said that he did not want to do to them that the film based on his (Van Bebble) took over the process saw all of his habitation on TV and in new (and assumed of Autobiography and book Helter Skelter who imitated directly in narration)', \"This is second in questions, I was looking into whether it meant external, Mtv, sex drugs and rock'n roll version and not necessarily true stories\", 'This is what the inequities of the king are that the inequities of the cry of \"Fuck you, shut up, this is true, that is all that is another film is unfair!\" <br /><br />inequity I didn\\'t think any ridiculous thing that was to be ridiculed in the second day with the legend of the film you heard at the side of the law of the story.', 'Now they have heard history as it is spoken by the Manson family.', '\"Forgive me, if you do not speak to the family and consider them beggars who do not want what in the name of God you can say your history in them? This is the only ridiculous vocation you hear! Obviously you were filmed to sex drugs rock \\'in the roll audience which was not difficult to attract to tiny, tiny theaters, and were unfairly called to sex drugs rock \\'in the medium roll of man who could not see his film without ascending to every ten minutes to bring deer or urd to actors on screen', 'This film is made of tiny films that deform the public image of real events (which helped model the states Americum and granum universe to today) in Slasher/Comic Book/ Porno/Rape costume uniform invented by an obvious superficial individual', 'The film was unquestionably very impressive as it looked.', 'Soundtrack was refreshing as it contained real samples of works Charlie cum Album family Lie eius', 'And it came to pass, that there was a good news, and that there was no doubt about it, that there was no doubt about it.', 'All of them in these films are these facts that we add much better in the catalogues in Mtv than in the Underground Film Festival or in which intellectual matter observers', 'I felt that I was at midnight Rocky Horror seeing that there was a hearing of clothing and behaviour (probably parting over the experiment)', 'Latius is a good exception, Charlie, who assembled a few stoned Dungeons and Dragons, enthusiastic about what was to be despised.', \"The description of the film gave him strength in thee, and strength in thee, and strength in thee, and strength in all things: he didn't suit the slowness, and the interpretation of the rain, which was before him.\", 'All in all films basically explain as Sadie (a power Linda) decrees in the final.', 'etc.', 'etc.', '\" Case in point', 'ipse disclaimer \"Based on true history\" is dead dignum, marking here under the woman psychedelic luxta luxta luxta luxta luxta luxta luxta luxta luxta luxta luxta luxta luxta luxta luxta luxta luxta luxta luxta luxta luxta luxta luxta luxta luxta luxta luxta luxta luxta luxta luxta uxta luxta uxta uxta uxta uxta uxta uxta uxta uxta uxta uxta uxta uxta uxta uxta uxta uxta uxta uxta uxta uxta uxta uxta uxta uxta uxta uxta uxta uxta uxta uxta uxta uxta uxta uxta uxta uxta uxta uxta uxta  justta  justta  justta  justta  justta  justta  justta  justta  justta  justta  justta  justta  justta  justta  justtatata  justta  justta  justta  justta  justta  justta  justta  justta  justta  justta  justta  justta  justta  justta  justta  justta  justta  justta  justta  justta  justta  justta  justta  justta  justta  justta  justta  justta  justta  justta  justta  justta  justta  justta  justta  justta  justta  justta  justta  justta  justta  justta  justta  justta  justta  justta  justta  justta  justta  justta  justta  justta  justta  justta  justta  justta  justta  justta  justta  justta  justta  justta  justta  justta  justta  justta  justta  justta  justta  justta  justta  justta  justta ', 'All you know is that there is no alchemy to separate the truth from the books, but that you may avoid all things, and read the book.', 'All the people could say this, when they finished the film, they obtained free beer, so that I would go in free, and not for free, and he would spend fifteen dollars in my title, saying what he was silent about to ask the king.', 'Peace']\n",
            "3\n",
            "[\"This is a game in impulse I'm buying a walmart\", \"I'm happy to do it.\", 'Sean Connery and bragging was fun listeners', 'The idea of graphics on the old is in the film / game remake', 'A good man was a mighty man, and a man believed that he was too strong, and frustrated me; and the woman did not do the work of the menstruation.', 'But this is done to you by many people, in whom they shall not hide the waste of their lives.', 'The only thing I changed was the upgrade system.', \"I didn't notice any difference from the unupgraded equipment to the upgraded equipment so that I would acquire the upgraded armor that didn't seem to be the wrongdoer of the armor or the multitude in my life.\", \"I'm going to Coptic Cowboy Q.\", 'I grow up when the Democrats do good work.']\n",
            "4\n",
            "['No, hilarious 70 did for TV horror clinker is not in demon demon possessed dessert turtle', 'It is elusive, inexcessible, and unjustly amusing and plausible for every one of the rays brings to the absolved, implacable, and atrocious which taste is in which execrabilis execrabilis execrabilis execrabilis execrabilis execrabilis execrabilis execrabilis', 'Richard Crenna, haggard and possibly drunk and Yvette Mimieux who acts without overcoming brutal rape in \"Jackson County Jail\" depretis slugly depretis disgrace and respect suburbans quack picturesque, opaque, sleepy citivitis tiny citivitis is scattered what together the German Shepherds bring as a family to erupt in an ancient evil lethal spirit.', 'Mice and two friendly kids kim Richards and Ike Eisenmann (disney psychic alien \"Witch Mountain\") loved it in den', 'Boy don\\'t you really sound fearless and turbantis? Easy, fearless and turbantis haec ridiculousis risibilis is not, but sure is free Curtis (\"Night Tide\") Harrington lacks indulgences direction, caricatures (not sic) special effects, almost painful ridiculous plot and gambum gesture which valiantly spoken absurd narrative (so absurd, Martine Beswicke and R)', 'G', 'Armstrong briefly popup as a satanic member and Victor Jory has cameo bonum as a servant Native American Shaman)', 'Favorite scene: Mephestophelion evil in Crenna to practice forcing him to infiltrate his hand into the round blade of cement', 'Snob snob snob snob snob snob snob snob snob snob snob snob snob snob snob snob snob snob snob snob snob snob snob snob snob snob snob snob snob snob snob snob snob snob snob snob snob snob snob snob snob snob snob snob snob snob snob snob snob snob snob snob snob snob snob snob snob snob snob snob snob snob snob snob snob snob snob snob snob snob snob snob snob snob snob snob snob snob']\n",
            "5\n",
            "['It is easy to say in this film exactly what is done and who dies.', 'Four women and men who have been dislocated', 'And this was done in the end of the far north of the north seventy years, with the living of the Americans, and the living of all that are worthy of death.', 'And the film of the seed of other things was their thing, and this thing was brought, and the spectator knew it.', 'It is not a mystery, nor is it a suspense.', 'And all the people fought against the judgment of the time, and laughed.', 'Five people fell into two wild and nutty virtues.', 'All men are sick, so that the king-writer may justify their Nazi propaganda.', \"For one reason, the boy attracted blondes who really aren't much to go out and ignore more on the hots than heterosexuals did.\", 'One remembers that in the years seventy films were for the counsel of women, and not men.', '<br /><br />Total poop and total depressing']\n",
            "6\n",
            "['Marion Davies stars in haec notable comedy \"Show People\" released in MGM in 1928', 'Davies Hick in Savannah Georgia who came to Hollywood with his father (Dell Henderson)', 'I went into the hoot - as Davies traversed the southern ones was indignant.', 'Davies landed in the comedy, but not what I would do, so he brought his success.', \"William Haine's star is connected, which is now gone with her.\", 'What did Davies get at the studio over the prestigious (\"High Art Studios\") and came to work in the regular tokens absorbed?', 'Actor fake sed (Andre Telefair) shows her rope which is the pretentious star of typical Hollywoodis', 'David left his friend and his father in the good life, but he commanded him who was not in the truth.', 'Marion Davies is wonderful in all, as the leader walking emotions to \"serious\" actress', 'William Haines is their wonderful comedicus and camels of Charles Chaplin and John Gilbert and other famous stars the day the king took the movie Vidor', 'This is how the film was filmed with \"sound effects\" as sound pictures appeared in them.', 'Treasures of the film']\n",
            "7\n",
            "['Performance every actor and actress (in film) excellent NATURE, which is what the film was doing and is very good in every detail that I am not tired of seeing in it in it in it in it in it.', 'But I was surprised that he did not induce one of the actors and directors of Attenborough to believe that my doubts did not mean that he did excellent, lasting film by audience? I hope that he would obtain one except those responsible for my measures of one (possible one of the \"recognisable\" film staff).']\n",
            "8\n",
            "['Simulus is star Trek Motion Picture bored is star Trek Final Frontier is pleasant evil', 'In this terrible sequence, the crew was in the period when they obtained a sign of the dispersion of the Federation which the ambassadors represented the land of Romulus and Kronos (the world of Klingon) seconded in the renegade of Vulcan in which the starship arrived in the great barrier.', \"We've come to the death of God.\", 'For mysticism, and the writing of evil, shall be done by great officials over the coast, to betray Kirk, and to bring forth the ship.', 'In the midst of the great barrier, they found the planet, where they had come against the likeness of the gods.', 'This is why it is difficult to be able to begin with.', 'In the core is a good idea that it was not really developed.', \"The implant doesn't go where everyone doesn't go before\", 'Almost as if he had authority not meant how to end the fiasco haec', \"Acti scenes have no suspense Kahn's Ira philosophy is dull and mood is stal\", \"I'm centering my anger on William Shatner.\", \"When he took over the ruler's seat, I grew up.\", \"Much of the focus is on Spock and McCoy, and don't give anyone else to do it.\", 'But as Shatner is guilty in the films and in the television sets before him, so is he evil.', 'Kirk is reckless, praecetibus and silly', 'One of the worst scenes involves three songs of the song \"Row Row Row Your Boat\" in the label in the focus of the camp', 'In any case, this is the worst of Star Trek franchisem', 'I gave three of ten, but five.']\n",
            "9\n",
            "['Melodrama melodrama melodrama melodae has less in common with \"Citizen Kane\": biopicum humana plutocratis fictionae implacable is in flashback and hopping in time', \"Preston Sturges' screenplay does not show any of his gift in the last in the shining diamond, and no innovations in cinematographic myriads of Kane's unheard of.\", 'It is vigilant, as Spencer Tracy (and old make-up and ego ego, ego, eoque, eoque Spencer Tracy) show deep and authoritative and Colleen Moore - a little after them and not physically adequate - playing multiform female-Hindi-home', 'Yet Helen Vinson as one of the perfidious women fatal in film history, inverbits tertis finalis in reverberations of ecstatic soap-works', 'We print that we survive, and that we have no sound fragments, and that we have an open channel (as the son of a man who slept with them), and that music is terribly hokey.', 'In all that I am, I am fascinated.']\n",
            "10\n",
            "['This is the verse of what you see, and the work of the true Bronte.', 'Dalton\\'s a little hard to imagine as Rochester decreed Jane Eyre \"not beautiful\"', 'And his acts are over this, and Zelah Clark, as he is, and as he is complete, and as Jane Eyre believable.', 'The fruits are long, but they are good for her.', \"Almost direct quotations of the book are in script, and if you want the first true 'romance' in literature, it's by sight.\", 'All the films and the legend and the original recollection shall be given to the Lord.', \"The film so that it could be so that it would not be another's seed that I might do it.\"]\n",
            "11\n",
            "['Apparently, the people who wrote boxing don\\'t investigate vigilantes about \"movies\"', '\"Described intrigues choreographed and violent', \"I didn't see any intrigue.\", '\"But I saw the measure in the dialogue in the supposed film kung fum,', 'I didn\\'t see \"violence\"', 'But I saw none that could suspend my unbelief that could hurt man in \"impervious\" skin - but I am likely to reveal the army of \"blow\"', '\"In addition, as a spectator of mules and various films (some of which include occasional kung fum), we could authorize you to say what this celluloid film is unnoticable.', \"That's right, Jonathan Tanner. That's right. That's right. That's right.\", 'S', \"I wasn't hiding choreographers.\"]\n",
            "12\n",
            "['Miam Boyle prepared, but this is the only positive thing I could say.', 'All the best is in what absurdity', 'He spoke to the great actors whom you looked like your grandson nine years old if he pretended to be a stone and a stone or a very wicked one.', 'My voices were harsh to me.', 'And I could bring in the sum of the effluent, and the mutuel shall be opened.', 'And what is it that tortures the police in all 1984? It was superfluous and did not do with the events of the past.', 'And he brought forth the mountains, that he might think of the truth, and that he had no knowledge of the things that were known.', 'It is a great disappointment that one of the things that the Borges have done is a good thing for them, but they are united in no superfluous detail.', 'This film is just the opposite.', 'We intercepted the post-scene surveillance where Lonnrot questioned the gentiles of Iidische Zaitung.', 'I lost four dollars for this, but I could bring a uniform satisfaction in writing this revision, and I would contemplate knowing others to commit wrong things to them.']\n",
            "13\n",
            "[\"Wonderful is what funny movies won't smile at you\", 'For what is ungodly? This is a film that is boring and long.', \"It's just pain.\", \"It's a good story, and it won't be fun.\", \"<br /><br />You feel better when it's over\"]\n",
            "14\n",
            "[\"It is a good thing, that we don't shit.\", 'So that in the \"Jumping Crokes\" turn of Darwin\\'s Adelaide was revealed before? Black water was realistic so that Rogue was a small, dignified one.', 'And he believed above his excellency in her, which was a kind of blonde: and he saw not her against him.', 'and alter then is then infantiam and always excelsa is', 'For each /><br />V', 'suspense - ego compares to yoghurt super alter home comet animal', '<br /><br />Got hole ausiens down pate not going OTT cum straths and crikeys, easy', '# For # # For # # For # # For # # For # # For # # For # # For # # For # # For # # For # # For # # For # # For # # For # # For # # For # # For # # For # # For # # For # # For # # For # # For # # For # # For # # For # # For # # For # # For # # For # # For # # For # # # For # # For # # # For # # # For # # # For # # # For # # # For # # # For # # # For # # # For # # # # For # # ## For # # ## For # # ## For # # ## For # # ## For # # # ## For # # # # ## For # # # # # # # ## For # # # # # # ## For # # # # # # # # # # # # # # # # # # # # ## For # # # # # # # # # # # # # # # # # # # # # # # # # # # # # # # # # # # # # # # # # # # # # # # # # # # # # # # # # # # # # # # # # # # # # # # # # # # # # # # # # # # # # # # # # # # # # # # # # # # # # # # # # # # # # # # # # # # # # # # # # # # # # # # # # # # # # # # # # # # # # # # # # # # # # # # # # # # # # # # # # # # # # # # # # # # # # # # # # # # # # # # # # # # # # # # # # # # # # # # # # # # # # # # # # # # # # # # # # # # # # # # # # # # # # # # # # # # # # # # # # # # # # # # # # # # # # # # # # # # # # # # # # # # # # # # # # # # # # # # # # # # # # # # #']\n",
            "15\n",
            "['Assignment of thriller surplus plugies plot twists induced by character, but star turns, need to prepare special effects, romance obligatory and endless perchates caribou', 'In there is a caribou, and there is a dandy ipse.', 'Aidan Quinn is wonderful as terror and naval office \"recruited\" to exterminate him.', 'Rare is the second or third actor, such as Quinn, who plays an important starring role in the film.', \"I used to be an A-list actor in the draw box office who didn't hear about the movie, so I saw it.\", 'Donald Sutherland is a great morally ambiguous, in an aberrant storm, an agent he recruits Quinn', \"Ben Kingsley is well as Israel's agent\", 'The plot is very complex, and the story of many wrinkles converge in a gradual way at the end, and not all in consequence of what is going on in the old age.', 'Paranoia and claustrophobia this type of thrillers is captured and portrayed in moral ambiguity and terrifying intensity', 'Persuasive and effective rental', 'The soundtrack is not special because we rarely bring in all the qualities of the highest days, the silent and/or insignificant plots; the unconvincing stars; the harsh, irritant, mute, ramified soundtracks which he drank and repeated cast, costumes and plots which he served largely to audiences under 25.', 'This is the greatest thriller whom the uncertain have not obtained his righteousness in his deliverance.', '***/1/2 of 4 stars']\n",
            "16\n",
            "['This is one of the films of old.', 'Square decoration', 'insulation', 'People ignorant of the bigots hidden their religions', 'verbal background and sophistications', 'Actus is complete natural', 'I\\'m like \"foodie\" over election and party preparation.', 'I am in Paris, and I cook well.', 'If there is no English coffee maker, I do not know if there are similar establishments, and the menu is empty and the wine is chosen.', 'And what shall they do, that they may return to the end of their life, and the end thereof shall be their only end?', 'This is 10 out of 10 films, and they saw in all the brains, and they understood.']\n",
            "17\n",
            "['Status in 1794, second year French republic formed after execution Louis XVI, haec film depreciated latibus of power between the revolutionary leaders Danton (Gerard Depardieu, in his superiors) and Robespierre (experimentum commandum of the Polish actor Wojciech Pszoniak)', 'Danton the moderate revolution returned to Paris from his homeland where he was deposited in the county of satiety published in the previous year in Robespierre', 'Opposite is \"Regnum Terror\" which he had committed to the execution of the thousand citizens, mainly in guillotines, which he thought opposed to Revolution.', 'Danton confers the sum of ordinary people, and he intends to persuade Robespierre to lose bloodguilty.', 'But Robezpierre and Comite feared that Danton would go to them, and destroyed them, and sware Danton and his sighs in the trade.', 'This was the first film in French by Andrzej Wajda after entering Fransa de Oleom', 'His Polish film company was classified as government by virtue of its union support Solidarity, who opposed the Polish government in the late seventies and early eighties.', 'His front film \"Home of Iron\" (1981) was in Solidarity union and leader of his Lech Walesa and it is easy to compare with relation to Walesa and leader of Poland General Jaruselski and between Danton and Robespierre', 'Danton/Walesa voice right opposer to Robespierre/Jaruselski who continued dominating dictatorial in what loss of support the populus purporting to represent', 'Film is based on \"Danton Affair\" pollicus scriptus by Stanislawa Przybyszewska in 1930 and in liberation his film is criticized by uni per static and theatrical', 'But what shall the film do, it shall concentrate in the congregations of the committees, and in the assemblies of the nation, and in the hall, when it worketh in the streets of Paris?']\n",
            "18\n",
            "['Habituus is a fan of eighties and early nineties after the age of three.', 'But now the film is incredible, the terrible things that were the testaments that were indulging in the siege.', \"Gentle men, as women in the dead, don't be patient.\", 'Corey Haim was not abysmal, Nicole Egert was not much better', 'This is not how you redeem, if you have number #1 of the actor/actress in this piece of dispersal - stay away!']\n",
            "19\n",
            "['Now I have seen the films of Peter Almodóvar, but this is how I will disappoint the medium.', 'This is the film, that I should not dwell in its film, and that I should not be interested in the judgment.', 'Many of you will appear in this film because it is not so that you were not talented in the screen, so that it might be so that the film might be severe as another film.', \"If the film is comedic, we can't sell it and make the film surprisingly deficient.\"]\n",
            "20\n",
            "[\"My own novel by Margaret Atwood 'Robber novium' and emulsions to see the film.\", 'Master, lead the police in his murders, and his friend, out of the courts, intend to disperse his name in the female friends of the dead women.', 'Lucky is what movies fixed Domine', 'Atwood implacifying incensifying in the stories two men the victuous dominions of her', '[Scoffs] [Scoffs] [Scoffs] [Scoffs] [Scoffs] [Scoffs] [Scoffs] [Scoffs] [Scoffs] [Scoffs] [Scoffs] [Scoffs] [Scoffs] [Scoffs] [Scoffs] [Scoffs]', 'Okay, you got me.', 'And behold, thee are quoted in the book, and they are almost singularly incompletely composed by film, and eat dust cover of copyum my hardback.', 'Apparently, three main romanae females are not enough to bring movies', \"You manipulate Zenia not interesting but we saw them not to man, and man's life was scattered.\", 'Roz Charis and Toni narrate their stories to men.', 'Whom is not important if I do not hear them men?', '<br /><br />I liked characters in the book', 'Do they to the land in the land of men?', 'Normally the female angular does not lapse in the middle and the intention is to enjoy the film as it is.', 'And when he had not read the book, we could delight in the film of the last mountain.', 'And as for thee, and for thee, and for thee, and for thee, and for thee, and for thee, and for thee, and for thee, and for thee, and for thee.', 'Roman lectis, if you would delight prose and subtle character stratified in plot', 'The plot is illustrious: the film excavated her by passing, and sprinkled her in male distress.', 'Seed revenge Zenia in Margaret Atwood']\n",
            "21\n",
            "[\"That's the tenth film that's in it. That's a lot of gore.\", 'Who intrigued by conspiracy or acted?', \"This is the horror movies of Italian people who know that you can't wait a lot of action or plot\", 'And all the knowledge of lightning took the film for another film, and set it for this one.', \"I didn't see any movies they accepted from me that didn't matter.\", 'Italo patris Italo did it as I was doing it.', 'This is one of the Italian films you see.', 'In the collection of their hideous film, they were not drunk.', 'And the film came to an end, and the sound of it was not come to pass.']\n",
            "22\n",
            "['Ingrid Bergman, dentist Walter Matthau faithful to the receivers whom he thought of for himself was absolutely wonderful in this film.', 'And he made the writing in the high place, and stole the terrible scene, that Goldie Hawn might speak in the record: (The one ingrid hath the face of his face, and believeth thee in her in all her heart.)', \"Matthew is a strange choice for a man who is a leader (that is, Goldie Hawn's obscene, and that he doesn't finish Bergman, and I don't mention what dentist he is), so that I may be able to make Goldie look up and intrude uncertain in order to free myself from lying.\", 'Hawn (who advocate Oscar support) is a fresh itch and a bubble which is today', 'That is why sophistication is not sophistication (whose cities are not my own), and who are blessed by the turbulent youths of today.', '\"Cactus Flor\" is a lovely sigh! *** of ***']\n",
            "23\n",
            "['\"Novice TV director is in black arts and astral prospection in his friend', 'An ability to separate his spirit from his body, a man finds himself in his life, and a sense of charity.', 'Unfortunate men find out how he sleeps, and his spirit abandons his body and his body, uncontrollable, wandering the vines in manslaughter, after the synopsis of your manicure.', '== sync, corrected by elderman == @elder_man', '<br /><br /> in any case, the film opens to the vertiginth example \"future of the body\" by beautiful director Winston Rekert (like Paul Sharpe) experimenting \"new astral body\" discovered east; here prefigured some prominent dog fight', 'Young Andrew Bednarski (as Matthew Sharpe), a dove, draws and describes \"Blue Home\" as he kills them.', 'Detective Bonum John Novak (as Stewart Kaufman) discovers interconnected victims are at dominus', 'Rekert', 'Dominus', \"Novak's investigation leads to a supernatural example of what is Karen Black (like Yanus), of what fear Rekert in love falls into\", 'For /><br /> Different in gesture performed then \"Blue Home\" ending tied to the knot', 'Aka \"Eternal Maul\" his dissatisfied narrates dissatisfied with the intention of ingenuity in his good.']\n",
            "24\n",
            "['Ah, the 1980s, the time of Reaganomics and Sly, Chuck and a multitude of other stars of activity hidden in the jungle far away in the common walkers.', 'In the moment I could not believe what films as Rambo, MISSING in ACTION and A COMMON VALOR (what is it that forgets ridiculous RED DAWN?) made dinners in office, turgic feasts performed feasts in deeds that dexter in the dexterous area and did evil.', \"THROUGH THE THREE IS THE LANGUAGE IN MY MOTHER BRINGS THESE FILES. THAT'S THE TYPE YOU'VE BEEN THROUGH.\", \"TROMA'S WAR does not have a uniform sophistication - which makes no real difference between dexterous tyrants and dexterous wing - and sometimes feels as much seed as we sow.\", 'Is it potential?']\n",
            "25\n",
            "['This fact based in two Edgar Allen Poe parts (\"Caduta Casa Usher\" \"Dance Death\" (poem)) is inim weather in the end', 'Similar is to one of the black-and-white films of the ancient all that are in the house of the old decrepits (e.g. \"Gatis and Canaries\": \"Old Dark House\": \"Terror Night\" etc.)', 'Boris Karloff, the inventor of the demented people, the great life that terrorizes guests.', 'He died in the film and the house dwellers, and they were subjected to many terrible experiences.', \"I didn't go into the very detail of the infinite must be to the lovers of the dark house of old.\", 'See her in a lot of popcorn and soda in the dark room.', '<br /><br />Dan Basinger 8/10']\n",
            "26\n",
            "['I am happy and surprised that so many are in this film! Jack Frost was my introduction into this film, produced and distributed by A-pixel animation, and all of these companions are inextricably pure poop! First and foremost, I am not aware of this sobriety anymore! For what is different besides evil films, so I am consciously doing evil.', 'That he may not overcome that which is false by the hand of the snow, which is his, which he always showed, which is short, which is better; and this is the film of Waaaaaaaaaaaaaaaaaaaaaaaaaaaaaaaaaaaaaaaaaaaaaaaaaaaaaaaaaaaaaaaaaaaaaaaaaaaaaaaaaaaaaaaaaaaaaaaaaaaaaaaaaaaaaaaaaaaaaaaaaaaaaaaaaaaaaaaaaaaaaaaaaaaaaaaaaaaaaaaaaaaaaaaaaaaaaaaaaaaaaaaaaaaaaaaaaaaaaaaaaaaaaaaaaaaaaaaaaaaaaaaaaaaaaaaaaaaaaaaaaaaaaaaaaaaaaaaaaaaaaaaaaaaaaaaaaaaaaaaaaaaaaaaaaaaaaaaaaaaaaaaaaaaaaaaaaaaaaaaaaaaaaaaaaaaaaaaaaaaaaaaaaaaaaaaaaaaaaaaaaaaaaaaaaaaaaaaaaaaaaaaaaaaaaaaaaaaaaaaaaaaaaaaaaaaaaaaaaaaaaaaaaaaaaaaaaaaaaaaaaaaaaaaaaaaaaaaaaaaaaaaaaaaaaaa']\n",
            "27\n",
            "['\"Revolt zombies\" show what a reform director will be and recycle the idea not necessarily with the lightning of the two.', 'The brothers Halperin, in charge of the classic horror \"White Zombie\" did this tritis dispersior of the annual break in his popularity and recitified in the eyes Lugosi of the front film.', 'This was the court of the court, under the title \"White Zombie\", which you have ruled over, that no one could speak the word \\'zombie\\' in this title.', \"What was the word that was the only one that could help this film that as all knew, evil films could make a medium woman in the title of the singular having the word 'Zombie' appearing in the title of the title?\", 'You know that Victor Halperin was the master of what one did to insult the uninteresting film.', \"Apparently he's not directing a horror movie after this debacle.\", 'The zombies were not all dead, but the hypnotism of the victim was simple.', 'Did Wanna create a mind-controlled zombie exercise? Do you prepare eggs for eggs, including your eggs?', '<br /><br />THE LAME PLOT: Home falls into charity the women schematic that spoke to his heart and entered to him only for his friend whom he loved jealous', 'This is a man in the spiral of madness in which he intends to use zombie medium control techniques to move to his benefit in trying to convince on women are not worth saving', \"<br /><br />His includes one of the obvious pirate advances that I've seen\", 'But Cegres did not see the end of the day.', 'No good is done.', 'This racial insensitivity film \"King of Zombies\" (who appeared in a double film DVD that he bought) is the so-called capodolescent atmospheric horror and remembers us not every black film and white is classic', 'Atomic age sci-fi alien zombie parties \"Invasive Invaders\" paraetur drama serious', 'This is a great melodramatic, if the melodramatic is innumerable in Korean fancies.', 'Credits ironicam ironicam name associates Favorite Films', \"I don't know what film you prefer to be, I'm obviously an idiot.\", '<br /><br />Not advocates for fans: zombies, romance, or classic cinemas']\n",
            "28\n",
            "['I am most troubled by the lamentation of the work of the new woman.', 'I am harmonious with the night soaps as the Anatomy Grey aut Betty Ugly aut The West which are stories which are interesting which are dedicated not ending', 'So that the parallel idea of daytime soaps might be for iniquity in sexual tensions and breaks (Taye Diggs, Tim Daly, and Chris Lowell) and ridiculous difficulties in the hospital, I say to you, so-called General Hospital.', 'ocque feminine in Baywatch', 'So that men would do what they wanted, and that they would drink it, and that they would do it, and that they would do it, and that they would do it, and that they would do it, that they should do it, that they should do it, that they should do it, that they should do it, that they should do it, that they should do it, that they should do it, that they should do it, that they should do it, that they should do it, that they should do it, that they should do it, that they should do it, that they should do it, that they should do it, that they should do it, that they should do it, that they should do it, that they should do it, that they should do it, that they should do it, that they should do it, that they should do it, that they should do it, that they should do it, that they should do it, that they should do it, that they should do it.']\n",
            "29\n",
            "['This film is one of the films on which I have seen each year.', 'I have not seen camels in the film, but it is good.', 'It is similar to Anchorman in the department of man, but this is a better adjuvant film.', \"Actually, there's a point.\", 'If you see disappointing T&A ungatis', 'The film, that you should assemble, that you should not know what day one must have humor, that it might be a good film.', 'Surely I think that Ebert and Roeper should review this film.', 'I say, I do not like Ebert in the grain of films, but this is the film that I agree with.', 'The land of history which is good, which is credible in reality, which is the kind of people that are there.', 'This is definitely what he says in virginity in film.', 'Surely you will laugh at what they have found and suggest what you are waiting for.', 'And Steve did a wonderful thing, that he should take away the person that he did in this film, and that he should be displeased.']\n",
            "30\n",
            "['Remember the vision of the film in the mid-80s, and think of it as peaceable, and peaceable, and peaceable, and peaceable.', \"I was working on Berkeley's job, and I had to get a copy of the DVD to remember how much less change is my area, which makes my office less than 30 seconds from the bank.\", 'Sed Jack Barclays for dealership is in there selling Bentleys and Rolls Royces', '<br /><br />Looks like DVD is next release Region 2', 'Region 1 ego copy dispersed quality east', \"They're waiting for cleaning.\", 'For the sake of the law, I shall follow only the evasiveness of the court of spoils, which was not a great man, that he should be consonant with the head of the name of the film.']\n",
            "31\n",
            "['Then I saw the film shining, which I saw in his photograph, and he imprisoned me.', 'Incomprehensible is what won the Best Camera prize in Cannes 2000', \"Dominantly, they're Vulcans.\", 'The volcanoes of the wall, and of all the walls, and of all the other parts.', 'Warm illumination of the colour (who is alone of the king) in the film of the warm atmosphere', 'Only two persons in the grain of it are old.', 'Interesting music and this trio songs or themes ambulated film almost all time', 'All weather has a certain atmosphere in the whole movie', 'Silent and slow movements character film', 'Some scenes extensus momentum or serissima aceperimentum', 'Not unique Tony Leung deserved his superb act as Maggie Cheung was also brilliant', 'How many clothes he wore in different scenes', 'Historians had uniforms with historians Hong Kong and kings 1960', 'This I did not understand the only sight of their passing in the end.', 'In short, lawyers for films artists who will be seen in the cinema']\n",
            "32\n",
            "['Thankfully Bill Murray has got the light-weight project that he has to bring.', \"Meatballs is a history of Northstar and his counselors' work with campers and one other.\", 'But these are the riches of his rivals who are rich through the void of one Camp Mohawk, which culminates in the Olympic competition two days.', 'On top of it all Bill Murray the straw and the debut of the film is memorable.', 'The film is sprinkled in the middle and in the middle and in the back and in the middle of the road.', 'The capitals came from the feces, and they went to the kings of the nervous campaign.', 'Three of them enveloping his counselors moved his beds into the room where he slept.', 'As he called himself, Morty awoke to the lattice that I rode, fattened in a few shrubs, many feet on the ground, and at last floating on the raft in the middle of the lake, there are fun moments when counselors accumulate another, but this is the PG film classified in which in which I gather', \"For the sake of the film, we accepted the syllables of a shy camper in one of Rudy's paintings, which Chris Makepeace had prepared.\", 'Of course, I owe Murray to teach the young man what to open and to give him confidence in the marathon heart in the Olympics.', \"Rudy's sentimentality is ingrained in grain.\", 'When he saw Murray first, he said, \"He sat down alone in the grass after he had conceived.\"', '\"You do wonder, and in the scripture there was a Murray ipse ad-libbing simulating the cameras.', 'In the words of Murray, he said to Makepeace, \"This is what you do, but you act, that you may stereotype loneliness, that you may see in the matter the summer camp which did not lie down in', \"But as for all that is, Murray's performance did this work, and he said that it was bearable.\", \"Apparently he's had good chemistry with Makepeace\", 'For the cinema we culminate as locus inter duo rivale campum', 'The minute of events, then, was the liquid credible and \"equid does not matter\"', 'This is a good film in many levels', 'But no absurdity 5', '6 that the film is in thee now afraid of thee.', 'Murray laughed at you all over.', 'He is warned.', \"avoid secondary!!!! here's one like Corey Feldman!! 8 out of 10 stars\", \"For the first time in the world, we've got a lot of money.\"]\n",
            "33\n",
            "['\"Danish Bladerunt\" bold is in box', 'Are you kidding me?! This film is complete drag', 'And when I have thirsted in the kitchen, I have scattered you, and you have lost nothing.', \"We don't have time.\", \"In the refrigerators I live long and hard, so I won't come back.\", \"What the hell isn't a science writer that's a vague indication that computers are operating?\", 'One of the first films is a hero of ours, a hacker, who has information on the smallest of his aids.', 'When he loses his assistant in the film, he defends himself, and does not break into computers.', 'I have made it easy for you to say that you cannot bear your chariot, if you do not \"lead\" your luck.', \"There are no lightnings in which we don't enter what we receive electroshocks.\"]\n",
            "34\n",
            "['This film shows the film of the soul living mutilation of the animal hacked with machete and his skin destroyed.', 'This is why I have seen films based on the fact that I saw them not on the screen.', \"In movies you don't mean in movies films to inseminate the people who appear to certain horrific adjuvant organizations that made all other species.\", \"♪ I've been drinking banus and destroying ♪\", \"This is what we're contacting Netflix and other resources to collaborate with them, and they've got this movie from the markets!\", 'The person who did this film needs psychological help']\n",
            "35\n",
            "['Any think Kool Moe Dee and Carol Alt and Corey Feldman make up the list of good actors who smoke what I want to insist on', 'where to start: unbelieving soundtrack, hammy actuum, \"action\" in locus', 'This is the kind of lover who writes the harp that you washed, and he is not in love with the star.', 'In this \"film\" I felt ashamed in \"stars\" in this \"film\"', \"The only thing that's on top of this is Gary Coleman, who, if it were in the film, had the audacity of evil, but the simple evil.\", '\"Do you think that I am an idiot?\" Carol, \"I am an agent of yours, and I am an ego, and I am in love with all the worthy and holy ones.', 'Ambulate and cease your degradation as this film is in which Anna Nicole Smith participated.', \"And I say unto you, What a conspiracy was, that there was a fragment of a fragment ad hoc, and a lie came to me, and seed came into the film, and I didn't pay attention.\"]\n",
            "36\n",
            "[\"That's the film, that's the decent remake, and the gosh knew what it meant.\", 'English intended)', 'Assemble talented actors with experienced and experienced writer/director this formula in decent film', \"Do you know what I'm talking about?\", 'English experience - second bio IMDb his - is limited to television opera and was free of charge throughout the film haec', 'And when I saw that we had no record, I said that I had seen this film, and that they had not accessed the portion of its power; and he heard that he had done it on television.', 'To give one credit to the Lord', 'English, women of jokes that simple did not operate on television sed on television (and we can laugh track but help)', 'There was so much room and light on the TV, and there was inspection, or inspection, in the field of grain.', 'And the whole film was in mini-series or sit-com, I imagine what he was doing.', 'But this is the cinema, and sadly the Lord.', 'English talent not translated', 'Meg Ryan was his usual ego and gratuitous (except for the terrible plastic operation that he had on his face) and what he had to do so that he might use his talents? and made films so that he would not recreate the stereo paper and did them well.', 'no sed', 'Annette Bening simply so that she went on the motions - such a great talent and such miserables and women to be caricatured and sad to see', 'What worked in this film in 1930 does not translate in 2000 and does not assist Yahweh.', 'English brings changes and updates or subtleties drex', 'If only they were (a crypt, a king, and a producer) spread out for uniform attendance, I imagine what was good.', \"But he wasn't.\", 'So frustrating is the film in which the stars are good and good scripts or directors and wandering sensetuse was the scattering of all the time & money! Yesterday is the appropriate postcard New York saw: One exec films have happened and read: \"Remake a classic that sins all\"']\n",
            "37\n",
            "['Intriguing is that Lee Radziwill, Jackie Kennedy\\'s sister and cousin of the women here is Maysles incense, which \"Big Edie\" and \"Little Edie\" face the film subject', 'Certainly the power of the \"skeletons\" in the family outpatient clinic', 'Extra dominees on DVD induce multibus fashion contemporary designers accrediting unispecies and women circumdae', \"I'm saying what a fashionable quinquid meant by designer disputes is fascinating.\", '(i)', 'and', \"But I'm sick, I'm innumerable?)\", 'This film is so difficult to come by.', \"Netflix didn't have it\", 'Doing this is what you do.']\n",
            "38\n",
            "['My kind one history review almost wrote new commenting on these episodes', \"This episode of Star Trek is known for what serious (Yeoman Barrow's) he went out to Star Trek and made it filmed in the true outdoor location.\", 'Differently TNG and Voyager series that contained total sound stages', 'For /><br />This is the external custom (and babe) of the proper depth and almost quality film almost at the ordinary episodes of the fair and very familiar spectacle.', '<br /><br />Except exceptions notorium i', 'and \"city in eternity\", \"earth assignment\" and \"dominus yesterday\" The old series of Star Trek needed a very serious dispersion dispersed is', 'Medium twelve good episodes of 79 is prominent poor beat', 'This is the typical acquisition of boring talker Gene Roddenberry produced in which the adversaries to popular conviction where one worshiped the earth ambulated, did in which the talker did not deserve to say in the air that Irwin Allen for example', '<br /><br /> view of Enterprise bus set in modern opinion', 'And the timber was on the floor, and the chairs were coffee, and the back of the plastic, and the board was on the panel of the instrument.', 'You shall see the most clear folds in the letter: all men shall speculate, or what!']\n",
            "39\n",
            "['I saw this film in the night, first by curiosity and pure nostalgia.', '\"Mork & Mindy\" as puer, predominantly for the energetic experiment of Robin Guillermo', 'This film of mine memorized the thing.', 'Was it not the beginning, or the beginning, or the beginning, or the beginning, or the beginning, or the beginning, or the beginning, or the beginning, or the beginning, or the beginning, or the beginning, or the beginning, or the beginning, or the beginning, or the beginning, or the beginning, or the beginning, or the beginning, or the beginning, or the beginning, or the beginning, or the beginning, or the beginning, or the beginning.', 'Which I am in the film, that he bringeth forth.', '<br /><br />I was astounded for free, I did not appear painting in numbers chronology of the show (how in which it was)', 'Obviously, real focus was on Robin.', \"Interesting it was to see Robin's itineraries from fun meadow to native nation\", 'The star and the drastic difference between his affection and his long suffering.', 'But my star is Chris Diamanthopoulos, as the LORD despised him.', 'William in the integrity, in the conscience, and in the heart, do not be a mere imitation of what was dead.', \"And when I saw that they were not related, I saw that Robin's speech was in the same way as Andy Kaufman, who was underestimated in the net.\", 'v', 'And he retained the creative, and this is a biopic \"Taxi\" in the scene.', ') All in all things, behold, the film was free, wherein the man heard it upon Orkan.', 'And it came to pass, that he was strong in all things, that he suspected not the melodramatics, and that his heart was good.', 'Performances that are specific to which Garry Marshall and Iohann Belushi (the scene in which Belushi haeckle Robin was hoot!)', 'No pain in the face at all (I wanted to see a lot of Pam Dawber), sed sed sed sed vigilis, ecce for Robin Williams and fans \"Mork & Mindy\" ibi ibi', 'Nanoo, nanoo!']\n",
            "40\n",
            "['Picture film in AZN in the cape', 'Simple as a good movie, Japanese \"green card\"', \"I can't tell you what I'm doing. I'm in reverse.\", 'Some of the horror films in all times are Japanese and Korean and ego amps fans of John Woo Hong-Kong film', 'It is not against the skins of the hearts of the light, like Timpopus or Chung King Express (two of my favorites), that I should call it this.', 'Behold, I decode my pulses, and drink my blood, which I keep watch over; and the film of evil shall be turned upside down.', 'You believe, director Steven Okazaki, that there was a drink in the water, a drink in the film, a drink in the personality.', 'And that he might try to do evil against the multitude of the low and the double, that he might force, and that he might be false.', \"I honestly didn't think what they didn't do to them.\", 'The only real person was Brenda Aoki', \"I'm amazed that you're promoting comedy that you don't laugh at one.\", 'The same surprise is that the new morning CBS called this \"refreshing breath of comedy\"', 'There was no refreshing and no breathing comedy.', 'But the end is predictable, and the former is a fool, that he may think what he is doing.', \"[br /><br />AVOID is a film if you don't want to see implacable line and wooden attitude\", 'In fact think that \"Spike Bensonhurst\" is better film than it is to make', 'And I went out by the medium into the film.']\n",
            "41\n",
            "['The Lord began, the ego of my pectorum: the ego of the first film of John Eyres PROJECT: SHADOWCHASER', 'Film, B-gradus cross in duo Terminator & DIE DURD, can not work genius cinemas, thirst is movie actium enormously fun that cult hits (yet generated two sequel and spin off)', 'The jury and jury began with Joseph Meeker convicted murderers who were at Death Row second his capture after his \"Bloody Shootout\" (whose name seems to be poor in the occidentum spreads ) Meeker kills three people who intend to pull out one convenient), led to electrical headquarters', \"There is a scene of entertainment in which Meeker visited the priests for sex and was against his true love (who were killed in the shootum), saying to sell them in person who killed his Michael Silvano is a football star who days his son's watch Alex practicing football with his students (and I end up harassing his son's coach)\", 'Then Meeker returned as he returned (or as Kelly Perine called \"Hamburger sans frises\"), what is the only title to sell him, what is the basic day to make Silvano\\'s life miserable?', 'For I speak of the fact that the judge and the jury is not a horror movie.', 'Supernatural actium film with Meeker chased Silvano to enable him to change form (which includes David Keith with the omnibus of imitator Elvis, French chef (accentuus with his biustache), queen ferry, clown & stand-up comedian), after which the explosion and invulnerability of death (when Martin Kove did not prevent the shooter Keith with the desert eagle), to return Silvano to kill Usor Meeker', '<br /><br />Director John Eyres we are not interested in characterizations, inversely focussing only on actium scenes, which film has a lot of', 'It is also to be the principal imperfection of the film, if then it is connected to interacting scenes.', 'Actus is awe-inspiring good, with Keith delivering so that he might bear Kove and Paul Koslo who commanded the men to wash.', 'Kelly Perine is irritating as taxis that she meant to help her if she was overcrowded.']\n",
            "42\n",
            "['Movies of Lou Purple Butterfly organtis secreti (Purple Butterfly) against Japanese armies in war destroyed Shanghai', 'Ding Hui (Zhang Ziyi) and his ex-lover Hidehiko Itami (Turu Nakamura) came upon opposite sides of conflict after the random event', '<br /><br />I agree with the Paris reviewer', 'The film replaced the semi-historical conflicts convoluted in plot, not giving the only reason to understand the characters or cause of them.', 'Mutual time does not help which seem to be complete unwarranted and useless', 'Usually no minute dark film, thirsting in the absence of light, filming squamous chambers bone, and filming techniques in general evil done this hard film to watch and stand in title', 'And I agree with Georgia\\'s spectator who has the film \"hae chaotica editing est e claustrophobic cinematographium\" but not think what help the film', \"Panorama film is one of the most powerful events of the 20th century and I don't think you can do justice in editing as if it were Michael Bay film.\", 'The moment of melodramatic excesses do not bring to his vigilance', '##############################################################################################################################################################################################################################################################################################################################################################################################################################################################################################################################', 'Zhang Ziyi the woman showed what she had done except that she had limited what the whole film did which appeared in all her films, buggered and insiled in general.', 'And he bringeth variety unto these things in the book, and in the book of iniquity in Michael Biehn, and Linda Hamilton in the book of the end.', 'All in all, the film very disappointing, we see as the director Suzhou had come.', '2/10']\n",
            "43\n",
            "[\"After hearing the prophetic day of George Orwell's work in all my life I was 37 I had not read the book I was confused with all that I saw.\", '<br /><br />I am very familiar with concepts covered in Roman, as if sed sed sed sed only for listening and dating', 'This is the mystery of the whole film, and in this day you will never educate me in the history of 1984, which I have in what I have seen.', 'For the sake of the super latibus', 'The cinema is amazing, Hurt & Burton delivers beautiful performances and the general sensuum of film is a wonder of the shadow and desolum', 'The scene prostitute was fantastically dark film made', '<br /><br /> habituate in descending and abundant latibuses are', '<br /><br /> War (at least for propaganda) and what and what?', 'One of the names of the bandats (Eurasia, etc.) did not mean to be inexplicable.', \"Who is Winston? what did he do? what did he do? what did he do? what did he do? what did he do? what did he do? what did he do? what did he not do in the first line? what did he not do? what did he drink in the whole movie? what did he do? what did he do? what he didn't wash his brain like his own? what was his mother and sister? what happened to his father? what did he do? what little reverse narrative was good, no squam, indispensable that I didn't miss the book?\", 'And it is confounded itself, and it is difficult to follow the film of the house which thou hast continually brought into which thou hast exceeded.', 'The soundtrack was disjointed and poorly edited and constant interlocutors of Brother Major spokespeople in places difficult to operate what happened.', 'I accept that this is the eighth art of being all unbearable.', 'But what is this mentioned before, and what is the nakedness of all? It simply seemed free, and he felt that they were in there to make up for it in whose diploma we did not cover.', \"<br /><br />Personally you can't support hollywoodum sensus you have to explain story lines verb to verb haec days\", 'We are not all simple in our brain, but we are right in the opposite direction.', 'I imagine what depends on the fact that I read the book that if you are a citizen, it is a literal translation that I saw in the world, and it was difficult for me to understand what the classic is, which is 1984.', 'He did not deny what was the new light before them, and foretelled almost every change in our society to give, (that the Bibles might have power over them?) if many novelists knew how to make them without telling the orifices in the story.', 'I suppose I should have done it in the beginning and get a copy of the book if I mean this.', 'All in all, much disappointed in what year is expected to watch']\n",
            "44\n",
            "['Have nice animated animated shorts two comical icons - Betty Boop and Henry', \"Henry is bald, liquor for comics that he doesn't speak.\", \"For the sake of /> <br /> there was a talk! <br /><br />You see a puppy of Betty Boop's pet store being brought in, and what lies to the people - hilarious hijinks follow us.\", '\"Betty sings a song of animals, Henry in the battle of the greedy, and maca, and all in the end.']\n",
            "45\n",
            "['So that I may come back from the project of liberty, and that \"Osama Witch Project\" is the worst film that I have seen every year, the worst that \"Catwoman\" - that is, the decent spent without fiction.', '<br /><br />In \"September Tapes\", \"equipment\" of \"documentary periodists\" based in Afghanistan - inequamentum not prepared for excursion, conditions and, oh oh yes, psychotic revenge and ridiculous leader of their director to avenge his death in September', '11 - trace Osama bin Laden', 'For the sake of the truth, they are the victims of the destruction of the land, the destruction of the land, the destruction of the land, the destruction of the land, the destruction of the land, the destruction of the land, the destruction of the land, the destruction of the land, the destruction of the land, the destruction of the land, the destruction of the land, the destruction of the land, the destruction of the land, the destruction of the land, the destruction of the land, the destruction of the land, the destruction of the land, the destruction of the land, the destruction of the land, the destruction of the land, the destruction of the land, the destruction of the land, the destruction of the land, the destruction of the land, the destruction of the land, the destruction of the land, the destruction of the land, the destruction of the land, the destruction of the land, the destruction of the land, the destruction of the land, the destruction of the land, the destruction of the land, the destruction of the land, the destruction of the land, the destruction of the land, and the destruction of the destruction of the destruction of the land.', 'Eight cases, free of charge, all ending in point meanings in the narrative that is written in \"documentarium\"', '\") <br /><br />Psihotic, idiotic protagonists - which he devoted in length, discourses the meanings of which curriculum with \"MacGyver\" - does not cure his life or innocent life which brings them into danger in incompletely mute series', 'I don\\'t know what he didn\\'t bear. He said, \"Shoot me.\"', '\"The man who is the translator of the crew, who is supposed to be a sensible voice of their reason, and who is not groaning, and who disturbs them as the fools lead them into the apocalypse.\"', 'And thou wilt bring one of them into their journeys, and they shall call them all fools.', 'Around \"Tap 4\" started a terrorist energy to pull the film.']\n",
            "46\n",
            "['Memoris vedus haec film in theater in 1984 when I was 6 years old (mathematical facts)', '\"Absolutely loved her.\"', 'Ego Tarzan in 2 semesters after seeing it (mobilium ego ego ego sound maca)', 'He began fascination with Tarzan and Macahah and the love of the duration in Christopher Lambert (I thought I saw Highlander in a short time).', '1984 is the last age of the film which the month shall live.', 'And it came to pass, as he prepared for the lessons at 3:30, that I was late, and I was long, and that I should be at the work at 9:00 a.m., that I might see the film, and that I should love it with the babe.', 'And when I saw him, which was not great in the film, and which was not strange in the voice of Andie MacDowell, I saw him.', 'And Ian Holme was a strong servant, and awe-inspiring of thee; and what is the surprise of thee, which is the good of Lamberth, as Tarzan.', 'And it was wide; and he took in small tongues his first body, and in his substance his ability, to bring these things into his ark, exceedingly great; and they were incredible.', 'And when I said, \"I am a fan of Lambert, but I am a fan of Highlander.\"', 'In this film was a good one, and shame is that there was no occasion to retract the character that is deep.', 'For what you do for a long course, I am a little disappointed that the film was not good, and I am glad to see that Lamber was good, and I do not regret being here at 6:00 a.m.']\n",
            "47\n",
            "['Family transits in the middle of the West', 'Viduo Ben (Charles Bateman), novice eius Nicky (Ahna Capri) and daughter Ben K', 'T', '(Geri Reischl)', 'But this is the city of the hillsboro, that all things may be done, which is least of all.', 'Their caribou are decaying, and they are bound to stay.', 'And the incubation of the whirlwind of the heart is present in the city, and he trusteth unbelieving evil.', 'History is not good.', 'A person who is the ruler of all things, and who is overtaken, findeth where they are in the end.', 'The right is right, the right is right, the right is right, the right is right, the right is right, the right is right, the right is right, the right is right, the right is right, the right is right, the right is right, the right is right, the right is right, the right is right, the right is right, the right is right, the right is right, the right is right, the right is right, the right is right, the right is right.', 'And it came to pass, that, behold, he was poor.', 'Bateman and Capri, white and all men, all men, all men, all men, all men.', 'Strother Martin and L pros vetus est', 'Q', 'Jones gives good execution', \"I'm doing movies.\", 'Master the blood and gore (here is one thirsting for PG) and eat to operate on one visual and aberrant atmospheres', 'The act interferes with the grain of it, which they work.', 'Martine specific decorations in his role', \"I can't explain this because I have a seed of this film, and it's working in me.\", 'This is a calm horror that has never been done.', 'The difficulty of mastering is that you deserve to be rediscovered.', '7']\n",
            "48\n",
            "['Francis Ford Coppola wrote and directed his stories so that he could marry him so that he could realize that the last last of them was the last of them.', 'Little in the marriage of the woman is this sex that she feels independent of her wandering which is the most new pregnant which complicates her color (she will not be a complacent wearer, wherein the mother spoke to her mother in her hair)', 'The other two men were in his way: after a hero, who had suffered a terrible accident in his place, he had a perpetual brain injury, and a police officer had a sexy motorcycle, which was very difficult in his life.', 'Clear and clean landscapes as photographed by Wilmer Butler talented) are astutely realized astute characters astute', 'Shirley Knight, James Caan and Robert Duvall deliver strong performances, adherents, magisque sed are not suitable populations in conventional terms', \"Some scenes (that Knight's first calling man of the pyphon, or his night alone as Caan says) are almost intimately intimate that they watch.\", 'Couple with reality just his memory in scratchbooks we sign up', 'Allow the scene to evolve, and edit is agile and the film does not allow to get too heavy (other than two or three cold moments)', 'Infantry is unrighteous, so much that in feasts five years after', 'One of the powers of the cupbearer, which was not approved by events, to sublimate the end of the bitter irony, for the watchful, and the swift in the quad, as if they were blind to their shortcomings.', '*** of *****']\n",
            "49\n",
            "['This film was not a good one.', 'Almost total ignorance of the book', 'I could imagine what two times I meant to save.', 'Only one over two was me that actor who did finny was cute', 'Some dialogues between the protagonists appeared gay less than it was possible in the book', 'Major parts of a religion exterminated is', 'You lost all your deeds, and there was no book, and I gave myself a severe fear.', 'The tongue was strong, which was short, and was not used.', 'I was surprised (not plausible) in a new way, which was not in the book.', 'One of my favorite characters (leper) was misinterpreted and portrayed', 'In the film he was never left as the lepers were in the book.', 'Super omnibus disappoint']\n",
            "50\n",
            "['This film has always been in fabulous graphics that Kevin Bacon disperse', 'Sadness is there that is gone.', 'And he went on to scatter the scripture, and was foolish, and at the end all the visible elements of this film.', 'That which is not, that which is not, that is, that is, that is, that is, that is, that is, that is, that is, that is, that is, that is, that is, that is,', 'For more information, please contact: Gary Thompson and Andrew Marlowe are named scripts for Haec film.', \"I don't believe you don't erunt me.\", 'I grow up to complete the scripts in \"R-Us-Scripts\" to complete the scripts \"Monster Movie\" and even in all whites', 'Monster persecutes us', \"You're separated.\", '(De facto \"dividimus\" in Haec film)', 'Hit Alien/Giant-bug/Monster/Invisible-home cum barrem', \"You're not dead, are you?\", 'Burn in insurvivabilis fire', \"You're not dead, are you?\", 'Schistis standard locations', \"Minimum number of elements that were specific were invisible man's film (IR glasses, spraying when it was painting) handled evil\", \"What's sad is that there are lots of possibilities that this is fascinating film\", 'Psychological problems for matter, mental deterioration due process, drawing invisible subjects and mutual high ideas in which 2 seconds and seconds innumerable and innumerable more interesting', 'But if you wanted to save Kevin Bacon in the final, then the woman was a fine film.', 'In every rotting thing is every one.', \"We mention one day stupid, incredible elements of the final film, but I don't want to do spoilers.\", 'Just say what it is to be just characters do not think of tying plug into the machine that it is.']\n",
            "51\n",
            "['In the time of the war, the Virgin seaman was born, and what she saw at the end of the war, she looked like one of many \"availability\", comical complications enticing.', 'All men did well, naturally, and were not before all men, but chewed up the decorations.', 'Errol Flynn impressions Humphrey Bogart\\'s mortuum of \"Casablanca\" is accentuum, as the varium semen of his swashbuckling ipse (sin \"jumping\" in the kitchen with Forrest Tucker is revolted)', 'Tucker who \"tucks\" film under his arms lowers his cap and barrels over his voice line', 'He showed the vocabulary at the same time in \"F-Troop\" twenty years later and imparted vivacity and energy which Flynn repeated to raise his performance.', \"Eleanor Parker did good to the woman chased and Patti Brady celebrated as Tucker's ad-hoc pen-pal friend\", 'A fine meal, a light \"return of man\" in the land, that the children and the romantics of every man may be entertained.']\n",
            "52\n",
            "['Hic film is perfect adaptation infidelum ingles Flick Infidelum', 'Ashmit roll Richard Gere Emran which Olivier and Malikka usour imperfect Lane', 'Mudatus is the second medium film to be adapted in indigenous masses', \"But the films have drawn infidels, but they can't match the originals.\", 'She was a good, soft porno of Bollywood amateurs, in whom Mallika showed a lot of skin so that all dared to show it.', 'Emran made a serial killer paper and as he was surprised', 'In the last and intendant to refaxim English film inspection are feasible in Indian concensors', 'Film bombarded in box office, actors bringing in undue resuming', 'In the last of the kings in the remake of the film named Oscar, he was never careful.', 'All say, \"This is not the film of the family, take hold of the prudence that he saw in the house in the family.\"']\n",
            "53\n",
            "['Robert Altman decadent, new-fangled western of Edmund Naughton\\'s book \"McCabe\" was ignored in his time liberation even in past years had British criticism dried up', 'Aside from the full-convincing boom-city scenario, you do not deserve the interest of the many and the aim (intention) picture health and unavoidability.', 'Bearded Warren Beatty spoke of a secular man who settles in a community of chicken on the outskirts of nothing and assists the organization of the first brothel whom he wronged in the coming profit, Beatty is of course menacing in the hard cities who want part of the act.', 'Altman created a solemn winter atmosphere in the film which gave the audience the meaning of time and spoke to the actions of this tiny city is limited - much of the narrative composed of thumbnails - and the intention of Altman is slow.', 'It is difficult to speak (just opposite, in effect) and to languish in speech, if they look at one another in grain in their minds.', 'self-destructive ipse and in which Altman-quirky difficulty overcomes', '** of ****']\n",
            "54\n",
            "['And when he had come first, he brought in a certain man, and introverted French, a speculation, not on which he felt for me in the second sight, genuinely perceptive, and satisfied.', '<br /><br />Spoiler of sorts follows', \"Poor Cedric didn't know what hit him.\", 'The poor heard it first in which she appeared beautiful and romantic only in iniquity in truth dark in iniquity.', 'The two nations of the world, which are not relevant to the first ambiguities of their adversaries,', 'When Mathieu and Cedric were attracted to the whole sex, further emotional alienation made it impossible for intellectual Mathieu to come up with a sharing of life that was sensitive to the fact that he never set up carnival feasts and rowing in the beach.', '<br /><br />In purely technical note we love actis cameram in haec filmam', 'Subtitles super useless, my French is \"almost nothing\"', '\"I could have a right veil, not an irritating English translation, and never delight in a right veil.', \"That's right, cops, big man.\", 'Simultaneous superfluous scenes, ego rating nine decades']\n",
            "55\n",
            "[\"I can't imagine what I gave a 1/10 rating, if that's the meaning of the facts.\", 'It shall be difficult for one of his people to sit down.', \"It was not right that you did evil as a combination of what carson Daily had no charism, neither could you put a fist, and you had a recipe for late night's eating, which troubles your stomach in truth.\", 'I saw a spectacle, not in the whole world.', \"I'm the one who faked me after Conan.\", \"The minute or two spectacles to see if Carson's day is the worst of the spectacles.\", \"Now, if you see him interviewing the offer, let's hear what we're interviewing.\", 'I heard me every time that you had invited me and confounded their smiles, and I intended to hide the tongue of his body, that they cried out to me, that I should go away to man man, and that man should speak a spectacle, and that he should not laugh, but that he should meditate, and that he should come into the air, and that he should do there.', 'Watch how many powers, think thou thou inventest his incompleteness.', 'Interesting']\n",
            "56\n",
            "['In standard view haec is film purely horrible', 'Adiversae is close to involuntary comedic shark', 'Public images of real comics that I laugh at what I did hard that I saw this movie.', 'Ghost Andy Griffith dress in Native American dance to me in hysterics all the time', 'I will not waste gas or energy in the storage room of the video which he spoke, but he was put in the couch on 3 dim and came to the television check out.']\n",
            "57\n",
            "['From the first films - Keira Knightley as Elizabeth Bennet wandered lectis in the camp in the dawn, invoking all the pictures cinema evolved to the address of the phenomenon female rebel in the drama period - I knew in what way I wanted to kill myself as long as I wanted to kill myself.', '<br /><br />Joe Wright non simulus non legebat librum sed sed sub deplorable malaprehension quae filmavit non en faits comedia subtlee, nuanced by Jane Austen conducted in glittering social interaction, delicate in the eighteenth century in English rooms sed unit U-certificat Wuthering Heights', 'And we went to every scene between Elizabeth and Darcy, and they went out of the way for our apparent reason, and for the decorations that were not appropriate, and for the rain that was made clear.', 'Nec mentions Jane Austen and in particular P & P is not passion, sexual tension or love', 'Different Ecce is negotiating strategies for the stultification of the 18th century society.', 'And when he was full, he did not know that the house of Bennet was full, and the place was chaotic, that they all cried out, and walked, and wandered in the chairs, and the swine, and walked happily in the house: and the company danced with one of the lords of the womb, and they said exactly what we thought in the shame of the nearness.', '<br /> <br /> genius Jane Austen in vacuum exploration created in society in which he does not say what think or mean in view of his appropriate and tragic dispersions arising from misunderstandings and discommunications enabled by which infinites', 'And they have brought forth the work thereof, and the work thereof is in them in this film.', 'In general, the subtlety was not in his film; he sacrificed in favor of the reverse drama, which he mixed with the material and the spectacles.', \"So obstinacy is trying to be a movie. It's serious.\", 'The man, which is Pride & Harm, the method of Austen and his name, was almost completely cut off in favor of all melodrama, this is what he did, and when he was permitted in it, he was handled so implacable.', 'Pride & Harmful narration what serious facts, they are, be serious and themes pessimists do not interconnect with mankind, are embedded in it', \"You can't lose Jane Austen tech, single-delating naked bones history and expect fears remain\", \"You don't replace his techniques in mystic magnum and your tiny mystic cinema.\", 'Elizabeth Bennett is supposed to be a grown adult and a sensuum and a clairvoyant.', 'Keira Knightley made the first medium of film as a schoolgirl in the head of the cow and second medium in the seed of the cow, who thought of tragic heroin as', \"Elizabeth's ingenuity, his fighting verbal exchanges, his quinquantity characteristics, was able to see and laugh at all his foolishness, his mighty and his mighty, and his fantastic vision, being completely lost and replaced.\", \"What the world laughs and looks at the place where they can't keep their captain, who all of them have lost, he began to cry out in little provocation, and not genuinely fearing, he is not right.\", 'And that Elisabeth (at least in the eyes of the austere) might be able to keep integrity, and that we might observe the residue in the borders of society, and the maintenance of the perfect kindness, Knightley had no convenience.', 'And I heard the image, that they should smite in the mud for ever after the tenth verse of her in doubt, as a spirit, and as an accident, and not in character, as a writer, or as an executioner, shall she be replaced by her.', 'Excessively unsubstitute and impertinent', 'wherein he is in which he is in whom he is able, and weak, in which he is fit for Matthieu Macphayden.', 'Donald Sutherland as Yahweh Bennet appears fragile, ineffectual, and permanently inert, iniquitous, sense of humor and irony in the face of human relations, which Yahweh Bennet makes fascinating and tragic.', 'And Lizziah his special bond, being the only two wise people in the foolish world, was utterly lost, not least that they in the foolish world, and that deprived the complete film of the emotional impact.', 'The Lord Bingley was no longer kind, nor good, in which folly is foolish, that he might be filled with all the things that he said, that the woman that asked Jane might be so incoherent, that she would not do that which is in all the things that are in all the world.', 'The Script was wrong between verbal secrets Jane Austen - spoken with imperceptible words - and the total contemporary language that was not on the spot in the romantic comedy of modern day', '<br /><br /> Adds BBC adaptation to DVD and saves core']\n",
            "58\n",
            "['I always enjoy the films that depreciate life as it is.', 'Life sometimes has boring patches, no real plot and not necessarily happy finalum', '\"River Ec\" is the perfect name for this film and the Roman Norman Maclean', 'The life floweth, and floweth as the river, and this is the spot of roar: but the journey is wonderful.', 'Robert Redford adds a lot of film.', 'His narrative has a sense of sympathy which is perfect for the picture.', 'As the king is restrained and calm, he captures some incredible scenes.', 'Craig Sheffer and Brad Pitt took a surprise as brothers in the act.', \"I didn't almost describe Thomas Skerritt and Brenda Blethin as the show that they feel real.\", '\"Rivers fluvial and\" is wonderful film', '________________________________________________________________________________________________________________________________________________________________________________________________________________', '6 of 10']\n",
            "59\n",
            "['Tale worthy of trust and powerful is', 'Technical Latibus est est bona est', \"If you're going to run it,\", 'The main problem is in casting which turned the film into almost another local and regular photograph in great influence and in great influence and increment in impression.', 'Suitable for the tiny fatherland of Raphael (impressibles of Asi Dayan), all other actors were not implacable in their beasts.', 'The name of the old man is blind, so that when Taly Sharon was fresh, he was not intense as the leader.', 'And the fig tree, which he took for granted, and the chart,', 'There were moments and episodes when he would perform the same prospect of the true film.', 'And after all good things began, and wronged the grain in the future.']\n",
            "60\n",
            "['This film was not so much promoted that in Greece, after which he brought good actors, great writing and good photography was not film in my country called \"blockbuster\"', 'The film ipse is strong, ipse a hard time that he had to walk when he returned to his village after he freed from the penitence 5io (drugs) fine sadness is', 'And the dying shall mean his part, and he shall handle it well.', 'Lambropoulus is great and sexy, for he is a stranger, and he is at a time close to his excellency.', '7 out of 10 which tiny Greek films can imitate!']\n",
            "61\n",
            "['Mysteries, men, have the ability to be filmed is stupid, because I saw it, and I saw it. I thought fabulous, excellent, and impressionable.', 'And it came to pass, that there was a good vision of the foolish hero in his change, and that his work was done, and the great work was done, and the judgment was done.']\n",
            "62\n",
            "['Know what the word is, where every man hath the full voice of Listerina, or what every man is, and what he meaneth not to spit in the washbasin the metaphor of the great film.', 'We were watching sed sed sed difficult', 'But in your voice, in your mind, in your fresh mind, is it done?', 'I made a film of me in my belly, and he knew evil.', 'I knew what I knew about the occasion.', \"For the first time, there's a premium of the cornnut that's fun.\", 'In the first time in a thousand years, Gargoyles returned to Romania, and all the priests who knew how to fight and killed them were long dead.', \"Michael the father's deputy, and other secret agents, bring to the bottom of which the heart of Gargoyles ran away.\", 'Unfortunately, the whole premise is lost in evil dialogue, and you have little enthusiasm for acting in part of human conduct.', 'Magnificence today is from G.C. Gargoyles', \"Finally, here's the picture of the poor Helsing van Helsing.\", 'And thou controlst thy request in the name of thee, that thou mayest transgress thee on Monday night.', 'Dedi was 3 out of 10 stars.']\n",
            "63\n",
            "[\"I can't believe it was a bad movie I saw in my life.\", \"I'll laugh for a while.\", \"(Probation of what a fool he was) if what he paid me to see the film I didn't want to see.\", 'It is a terrible thing to be sad, to be foolish, and to be unjust, and to be unjust, I cannot say, if they have tried.', 'which film is terrible rating: F']\n",
            "64\n",
            "['This is one of the rarity of movies, so that we may keep the popcorn that is kept in the vodka bottle.', 'In all truth is a group of people who know the man of Ogrodnik and decide to drink us in this film.', \"<br /><br /> Wolfgang's film appearance Some photographs have omitted a priori and pectorum\", 'Mo and Wolfgang collaborative invent passion two actresses, penens plasticus passion', 'But the scarab is evil.', 'As Violet was, \"I am a mountain of yours.\"', 'The porn and the succession of the rats is amazing.', '[br /><br />Derectus]', 'But if we explain who we are,', 'We are a group of people who are in the final stages of their career to help to help help to help to help to help to help to help to help to help to help to help to help to help to find a better way to help to help to help to help to find a better way of working.', 'I did write Uptown girls.', \"I can't tell you how much he had in our skull.\", 'This film is experienced', \"In the abdomen, that's when you're drunk, you're created by a movie, that's what you're doing.\", 'About 13 minus in haec game, none of us seeing straight', 'Just the amount Dido in the first thirty minutes created the reason that he drank to make peace with the elephant.', \"Secretly, there were two minors who entered Kurt Cobain in the forefather's place in no context whatsoever, as his mystery scene was in the convenience of what the local newspaper was, oh-so-naturally lectile.\", 'Which is what all of us do.', 'Heart-shaped glasses delicious derivatives is Lolita', 'And what a provocative scene of naked chin-up suggests historians of gay pornographic experiments', \"I wish you'd mocked me.\", '<br /><br />Enough intellectual contemplation', 'So that he may drink, and make sure that he sees a positive vision.', 'And thou shalt send one of thy two members to the court at once.', 'Mo Ogrodnik/Ripe Driving game: 1', 'Every time you look at pornography, what is it that you drink?', '2', 'Appear author Mo Ogrodnik name for other', '3', 'Sex', '4', '(Plastic peen) Bibis duo', '5', 'So that the time may come for another character to bring you drink.', '-This is the point you need to answer/pee picis quod sobriety the residue of your body.', '6', 'the last time the blood is (including \"LAD BLOOD\"), sorbem! 7', 'Hula-hoop family underutilized iniquity one drinketh for a second.', '8', 'Free use of the black magis, the wicked, drink one drink.', '9', \"If you can't decipher in line, keep beyotch beyotch\", '10', 'So that you can predict the line you drink.', 'Nobis Confidentiality', 'Easy East', '<br /><br /> ita est, internet and drink and do not intend to intrude', '<br /><br />-Hawaian Smirnoff Punch, Jr.']\n",
            "65\n",
            "[\"If he be a young man, and I am a Beatles, let my band be my favourite, don't listen to their music, as they loved them, which I remembered.\", 'For /> <br /> ipse film which is worth proving one', \"Video that was not thrown into the cinema if the film was big, it's in the TV.\", 'I myself am going through my TV, and I have seen this film, and it is not detailed what it is like with the same thing as with the same thing as with the same thing when it is connected by Lennon and Paul McCartney the Beatles scattered is Jared Harris stars.', \"I didn't hear from him (John) any Aiden Quinn who was with Paul\", 'Strictly underrated actors are! The film was slow to start as it evolved, put to see how well Quinn was ecce Harris played their characters', 'As long as I am wide, I know what Lennon and McCartney are true.', 'The Script was brilliant and Harris got accent Lennon, personality and manners spot I am Quinn to McCartney so that he could enter into his Irish accents', 'Artists make-up and their excellencies have excelled', '<br /><br />This paragraph may account for as A *Spoiler*:<br /><br />as mentioned above, graduated at the beginning slowly sed proximum evolved and became emotional films', 'Sell in the parchment in full time, and incarnation for women.', 'Linen Lennon in Italian messatur, super unnecessary', 'And the end was a mighty end, and the tears of my oculum, which I watch over her.', 'The extreme is different from the high biographical films I saw so that in which the Beatles gathered together and famous and did not in reality make characters that were good.', 'And', 'g', \"'Backbeat'\", \"So I'll tell you if you're Beatles or John Lennon or Paul McCartney fanum, give me a chance to be a good surprise.\", '95 minuscules ago, they were waiting for film to evolve.', \"If anything happens to the 1976 event, you make a comment page in this film, I'm interested in it.\"]\n",
            "66\n",
            "['The American lobes in London had a fun part, and this is no good so.', 'The computer wolves were terrible: all their visions were, and they saw them in the speculating deforming.', 'The authorities are passing through their mouths.', 'And he said unto the children of Paris, What is the cup of coffee? But they departed, and sighed at the children, and said, This is Paris.', '\"']\n",
            "67\n",
            "['Originally tenacious ego D fan of first album eorum and naturally listening to mica tracks off P', 'The', 'D', 'And they were disappointed.', 'After he saw the film, he saw me being moved.', 'The film is graceful in the end, and I find myself in it, because it was in reality a stupid story in the acts of which KG and Jaybles took hold in the film.', 'For a lot of fun and plausible things I saw in theaters.', 'ex ex ex ex ex ex ex ex ex ex ex ex ex ex ex ex ex ex ex ex ex ex ex ex ex ex ex ex ex ex ex ex ex ex ex ex ex ex ex ex ex ex ex ex ex ex ex ex ex ex ex ex ex ex ex ex ex ex ex ex ex ex ex ex ex ex ex ex ex ex ex ex ex ex ex ex ex ex ex ex ex ex ex ex ex ex ex ex ex ex ex ex ex ex ex ex ex ex ex ex ex', 'Vidum III, Casino Royale, which to homo-erotis which in the prior arrangement preedit me <br /><br />If you preedit Borat, preeditis cuntis de Grande Banda en Terre']\n",
            "68\n",
            "['This is one of the last of the hideous films that you enter into TV Life that hates women in empathy.', 'Suitable for other films such as \"Breathing Bed\" \"Superer\" or \"Monster\" this film brings disgusting criminals and tries to disperse the spectator who is not a bad person after all', 'And the Lord said unto the governor, If the LORD be a man, and the wicked have done twelve years, and sympathize, and empathize with this person? And he said, Hell no.', 'And see what is mine, and what is there, that is, that is, that is, that is, that is, that is, that is, that is, that is, that is, that is, that is, that is, that is, that is, that is, that is, that is, that is, that is, that is, that is, that is, that is, that is, that is, that is, that is, that is, that is, that is, that is, that is, that is, that is, and that is, that is, that is, that is, that is, that is, that is, that is, and that is, that is, that is, that is, that is, that is, that is, and that is, that is, that is, that is, that is, and that is, that is, that is, that is, that is, that is, that.', 'Sex changed is not meant to empathize with the criminal', 'Conversely, he was betrayed by the retraction of the monster and the horrendous man in the teenage acid, and his lewd behavior landed him in prison, and his victim washed his brain, and he was bulging with Stockholm syndrome.', 'The only reason LeTourneau did not receive a film in haec in his virtues sex.', \"♪ We're calling it a spaghetti ♪\", 'The Pedophile Tower is', 'Plains and plains', \"I don't know, but I don't know.\", 'It is a crime in prison, and you deserve to laugh, and you despise us, because we have mercy and compassion on us.']\n",
            "69\n",
            "['But the first of these was a decent film, which was under it by its act, and was bored.', \"The film didn't work by nature. It was an accident as a manslaughter. It wasn't a good thing he did.\", 'There is in one flash the secret which is revealed which is done by righteousness to the degree of righteousness.', 'There is no emotion in this film.', 'The first 20 minutes is a woman called her sister, and she hears her missus.', 'They were bored and bored.', 'For the sake of one polyminth, and that it might be that it might be good.']\n",
            "70\n",
            "['I saw Santis begin in the atmospheric vision of London, which city stirred up picturesque streets and sun.', 'I was waiting for this atmosphere, for in history there was no such thing as a child.', 'For />Othello operaunt to granum, fat Mr.', \"Karva, the lord of his father's crime (at least I can imagine what it was that you knew he had never defined, if he died in fat chills, he meant to me, he was a dagger) to make tiny scraps of his skanky at the same time he ruled over his father's handiwork.\", 'One of his colleges is Runner, who is always black from A to B.', 'What day did you come, as many as you, an indigent child, who gave him his voodoo, that we might stop running?', \"Runner beheaded the lost cattle in Othello's house, so that he would promptly grant the will of many.\", 'That he might have had his own eyes, and that Karva should have taken away his body.', 'But he was not taken away from whom he would bring happiness.', 'Is innocent the son of judgment, or innocent the hand of another? Therefore, that thou mayest not see a child, that thou mayest give him a second?', '<br /><br /> luxta eternitys exceed and luxta repetitive scene is', 'The end of the uncertainty is that he has no back-story in investing in any characters he has served only in the liberation of the bored audience.', '== sync, corrected by elderman == @elder_man', 'If he had given us a light that was not accessible to us, or a medium explanation for the characters in which we were all strange, then there was a film of many plausible things.', 'As it is, we lead to the anointing turbans who miraculously miraculously intelligently develop which confronts the mystery of the boon.', 'Which origins are not revealed?', 'Aside from sporadic weather moments and moody scores, this is the film of no lawyer.']\n",
            "71\n",
            "[\"You can't emphasize this, you can't get a movie from your sons.\", '##############################################################################################################################################################################################################################################################################################################################################################################################################################################################################################################################', '<br /><br />Right, I proved excessive minus', \"This is not the film of the baby's film.\", \"I don't reformulate what I reformulate.\", 'This is not the film film made film dissuscitation of film in dissuscitation of film that you mean revision/intestinal like fish)', '<br /><br />Adults did not learn amazing (they, if due, prominate in the anterums final credits in which they taught in Interesting Cosmic Phenomie)', \"I didn't end up doing what I wanted to do as a child, as we got you alive.\", 'Behold, I can tell the four years of the whole world in the school of art, and I will go down.', \"I don't know what kind of kid can get out of this movie.\", 'They were probably troubled (we saw the moment when Russ was traumatized in eight years)', 'It is a better film, \"Service of Delivery Kiki\", which the medium felt and handled it in which it was in your head.', 'But the adults were pleased with her, and there was a moment in the mature film MST3K-ers in the mind, when they thought of what Alter Bruce Willis filmed in the sadness of her.']\n",
            "72\n",
            "['Is it really boring? Easy, listen Phat Beach', 'But it is not spoken, and it is infinite, and it is not hidden.', 'What are the grains wandering around?', \"I've seen you on TV and I've been riding in certain spots.\", \"Don't laugh long and don't laugh hard\", 'Undoubtedly there was a dilemma, and I said, \"I\\'m laughing.\"', 'And seek the film \"hood\" upon the grace of the vigils Friday', \"If you're looking for a powerful emotional film (something you're trying to do)\", 'I watched what you dreamed of, or Lyricam Jasone.', 'If you set up what good black \"booty\" see the veil Dominique Simone porn film that you naked in this is almost non-existent.', \"If you don't do it, and it's in the funnel, go and wear it.\", 'Slightly dispersed', '<br /><br />***3 of 10***']\n",
            "73\n",
            "[\"Elegant Documentaries - <br /><br /> we don't sail the movie haec\", 'If you are egotistical know-how and physical student', 'This is the least of one percent (miniscule fraction) of the population who can access what they say, what are the righteous and the righteous?', '<br /><br /> vigilante haec film! - If you are a massive majority populus who falls into over 99% population who does not study or former have healthy cognitibus of whole physical theory Relativity, Quantum, String and M-theory', 'What a brilliant documentary architect is?', 'You shall begin that which you have served in history, that you may go into all the wise, pure, and full, in the highest.', 'Always ego wide appreciation mathematica', 'This is the film of the fact that you realized that the language is exquisitely beautiful mathematics does not make sense what it is that you do not like.', '<br /><br /> repeated show as original format was mini-series split into three shows', \"Therefore the city's senses, the melodies of the beginning, are perfect.\", 'I found this immensely useful as I was reminded of many questions and possible answers that make up this amazing tapestry of our existence.', 'All All All All All All All All All All All All All All All All All All All All All All All All All All All All All All All All All All All All All All All All All All All All All All All All All All All All All All All All All All All All All All All All All All All All All All All All All All All All All All All All All All All All All All All All All All All All All All All All All All All All All All All All All All All All All All All All All All All All All All All All All All All All All All All All All All All All All All All All All All All All All All All All All All All All All All All All All All All All All All All All All All All man man man man man man man man man man man man man man man man man man man man man man man man man man man man man man man man man man man man man man man man man man man man man man man man man man man man man man man man man man man man man man man man man man man man man man man man man man man man man man man man man man man man man man man man man man man man man man man man man man man man man man man man man man man man man man man man man man man man man man man man man man man man man man man man man man man man man man man man man man man man man man man man man man man man man man man man man man man man man man man man man man man man man man man man man man man man man man man man man man man man man man man man man man man man man man man man man man man man man man man man man man man man man man man man man man man man man man man man man man man man man man man man man man man man man man man man man man man man man man man man man man man man man man man man man man man man man man man man man man man man man man man man man man man man man man man man man man man man man man man man man man man man man man man man man man man man man man man man man man man man man man man man man man man man man man man man man man man man man man man man man man man man man man man man man man man man man man man man man man man man man man man man man man man', 'This is the film of yours that you may blow, but you may perceive that the world is much greater than we see in the Hubble Telescope, and much less than the protons and neutrons in the atoms in the atoms that are finished in high school.', 'Theory M Detends Magnificent Granulum Magnificences Possibility', 'So appropriate was it that all of this elegance moved in the medium nature (by admission in brilliant scientific grains presenting) of scientific and Philisophilic kings', \"You don't owe any religion to everyone to hear what this film is about you, one close to God.\", '[Breathing heavily] [Breathing heavily] [Breathing heavily] [Breathing heavily] [Breathing heavily] [Breathing heavily] Brian Greene]', \"It's a good thing it's done in them.\", '<br /><br />P', 'S', 'If you are interested in the medium and in the man in your speech in the universe and want mechanical inspection how much mechanics you can harmonize with the Spirituality (many) you can bring what you see that veil \"Which Bleep!? - Down Hole Jebbit', 'I know that the fools of Shaman could not see itah unless I saw one before (my eyes proceed light reflection above - I see what I did not see before) and the brain cells are in the body which in reality does not divide.', \"But if you can overcome these tiny obstacles and lay down those which you don't like and stick to what you do - this is the world of film plates.\", '<br /><br />Assistant \"Secretis\" (Documentary 2006 de Lege Attractis - research of IMDB title \"t0846789\")', 'His information changed your life deeply - eternal', 'And if you inquired into the depths of the universe, it was spoken to us in the vision, and there are some, and it is incredible.', 'Jesus/Mohammad/Buddha modern day (whoever between other things, historians suggested that the physical did not communicate is alive today and lives in Texas', \"I know one of you know what I'm talking about.\", 'I do not consider myself religious in the last tradition, but I never feel comfortable in the house in the universe that I do to you.']\n",
            "74\n",
            "['In 1993 with the success of Batman: The Animated Series, Warner Brothers commissioned the equivalent of the hit-show that produced a long film, initiated to Direct-to-Video, based on theatrical status.', 'Stay Night Batman Mask Phantasm', 'Ten years after Phantasm, we had three separate films released from bodies in WB, Sub-Zero, Return Joker and now Mystery Batwoman joined the family', '<br /><br />Locus basica est e en muticum ut similar to Mask Phantasma: the new vigilante modeled if after Batman began operations directed by Gotham mab boss Rupert Thorne and Oswald Cobblepot AKA Penguin', 'Batman tried to disperse the mystery of Batman before he transgressed the line.', '<br /><br /> animation is sleeker, estil futuristis quae usait Batman: Serie animata quinta e sesta esta seasoni (AKA The New Batman Adventures)', 'And this is a good thing, and what are the upright things, as the Joker returns?', 'Now one of the ways of the LORD was less likened in Sub-Zero.', 'Musica is good', \"How many different and exotics and similar to what is necessary to what extent Batman's animates are adequate to what extent and how far and how far and how far and how far and how far and how far and how far and how far and how far and how far and how far and how far and how far and how far and how far and how far and how far and how far and how far and how far and how far and how far and how far and how far and how far and how far and how far and how far and how far and how far, how far and how far, how far and how far and how far and how far and how far and how far and how far and how far, how far and how far and how far and how far and how far, how far and how far, how far and how far and how far and how far and how far and how far and how far, how far and how far and how far, how far and how far and how far and how far and how far, how far and how far and how far and how far and how far and how far, how far and how far and how far and how far and how far and how far and how far and how far and how far and how far and how far and how far and how far and how far and how far and how far and how far and how far and how far and how far and how far and how far and how far, how far and how far and how far and how far and how far and how far and how far and how far and how far and how far and how far and how far and how far and how far and how far and how far and how far and how far and how far and how far and how far and how far and how far and how far and how far and how far and how far and how far and how far and how far and how far and how far and how far and how far and how far and how far and how far and how far and how far and how far and how far and how far and how far and how far and how far and how far and how far and how far and how far and how far and how far and how far and how far and how far and how far and how far and how far and how far and how far and how far and how far and how far and how far and how far and how far and how far and how far and how far and how far and how far\", 'Kevin Conroy, as always, does a wonderful work as Bruce Wayne et Batman', 'Adiversam est grand Batman: Alumni Serie Animata quae inclue Bob Hastings (Commissioner Gordon), Robert Costanzo (Detective Bullock), Tara Strong (Barbara Gordon/Batgirl; Cameo eius insinua in romantis relationis inter eam and Bruce who was mentioned in Batman Beyond), and Efrem Zimbabweist Jr.', '(Alfred)', '<br /><br />Villains even great - here says what Rupert Thorne, old mafia boss of series beginnings, apparently for the first time in four stages', '<br /><br />Overall, if not met is standard set in Phantom Mask ten years ago, MOTB wears torture kindly for animated Batman film', 'And if you have DVDs and hardcore fanus, amebits five tiny me Chase me']\n",
            "75\n",
            "['I thought the movie was supposed to be shocking.', 'But the only way in which it is shaken is when it is shaken with evil.', 'and simple is', 'One hour is a storm medium.', 'More of a spectator than a five-girl movie.', '<br /><br />Surely princes bring bloodguilty to them in the way of evil, which is practically fine, thirst horror-movie', 'And eum (normal) som horror-movies', 'No problem in violence in type movies for itself', 'All the violence in this film did not serve the end of what', 'No spectacle is not grotesque, but grotesque.', 'And they shall go forth, and they shall go forth, and they shall go forth speedily.', '(If it was not evil for you above), this is what Blair Whitch intended to copy, filmed what films.', 'But he did not serve the end of what he had done.', 'In the \"Blair which\" signifies the explanation, and this is the camera which is the bruxic blair.', 'In this film there is no other explanation than: \"Hey we vodimos so that so that Blair Whitch may appear!\"', 'The gate cried out to the hysterics that you could not deny what he said.', 'It does not help to help to help to help help to help help to help help to help to help help to help to help to help to help to help to help to help to help to help to help to help to help to help to help to help to help to help to save the lives of others.', '<br /><br />Than is the soundtrack which is evil which is required and varies from euro-house good to hard-rock pessimistic grongy', \"For my council, don't watch this in any circumstances.\"]\n",
            "76\n",
            "['What can\\'t be movie numum zero? or even negative weddings? Some movies that \"Plan Nove De Other Space\" are bad tank fun that watch', \"HIS isn't one of them.\", '\"Dungeon Horror\" is a movie that I saw.', \"I'm going to dig in the grain of it!)\", 'Blessed are ye in the indiscretions of my youth, and besieged in my day, and the films of the films of the films that I have seen, that I have not remembered them at all.', 'Seven of them appear, and the card is made, and the end is sprinkled with tinted spray.', 'Performing diorama C+ diorama seed in shoesbox', 'The film continent unforgivable gaffs that when you mark it, it calls and kills his servants.', 'And he went into the ship with his escaped victim, who gathered his own, and called him, and loaded no weapon in him; and his copy of my DVD was called credit cards.', \"I can imagine which partner or studio didn't incriminate\", 'What do I imagine you filming in your garage and faces of unnecessary cardboard boxes is studio', 'I filmed in my canteen in all times film films film films in horrible sacrileges like \"Manipulatore\" film films film film film is in one time Hollywood man-Mickey Rooney', 'One time they\\'d be watching \"Dungeon Harrow\" (or \"Manipulator\" enim) if they paid you', 'There were $7 or $8 for \"Dungeon\" and ten for \"Manipulator\"', 'Phil-nunc cinematograph power']\n",
            "77\n",
            "[\"I'm surprised at this film.\", 'Opening sequence of credit and good animation', 'And after that they traded in the products of the semi-cheeses, and the budget of the water was sold to them.', 'Characters, typical American teenagers, are introduced slowly, more personal cunctis that inspect in similar films astis', 'In the time of his time, we saw all the characters, and we hated them, and they were right, and they were right, and they were different.', 'Slow separation in ascension, semi-bus ascending in inclination to the high coast of Russia', 'Fortunately, one act in iniquitous acts iniquitous iniquitous iniquitous Horror! The makeup effects of Steve Johnson are incredible', 'The same is true of the films of the grain of the budget.', \"You're afraid, aren't you?\", 'Kevin Tenney delivers his film superpressure cords and aberrentis suspense', 'Language in cheek, sometimes cheesey, humor mark haec film purus 80s horror, as opposed to tonus surivivants geneus incipientis such as \"Night of the Living Dead\" or \"Hills have Eyes', 'But the fan of horror, that is, the check-out.', 'To be the first voice in double remake 1999 \"House in Haunted Hill\"', '\"The agenda and dynamics of singular characters are what decided which films reeducabans?']\n",
            "78\n",
            "['If I heard that \"Cama de Gato\" was a bad Brazilian movie decade, I saw it give it a chance; after all, director/producer/writer Alexandre Stockler managed to make his debut (shot in video) pictures for me $4,000 and - when I specified it right ipso - I couldn\\'t imagine all that he spent to show in theaters in no great sponsors or producers in Quorum (almost I saw what)', 'However, every single time you disperse the \"Cama de Gato\" restricted to zero in ten lowercases: incredible is absurd, verbose, ideologically fanatical and technologically catastrophic temptation to retract high-class middle-class Brazilians as ungatis neonazis mimeatis ad adhere ad sex malvagis, drugs and violents (and facts appear to be gay armored), made in no visible trace of talent, imagination, expert or notio structure', \"Visually and aurologically, he remembered the pessimistic amateur talk that was then invented on YouTube - something that didn't last NEIENTEDUS minus hysteria and unceasing evil and is no malice-bad\", \"We've all seen the story before: hate you, go partying, bring drugs and all the erring errant -- this is gang-rape, spitting, murder, accidental death (captain on the fall of the ladder!!) of a man of bodies, culminating in the time when he decided to burn the girl's bodies and to land the shell.\", 'Moral and literal dispersion, get? Films is strongly influenced by Larry Clark (especially \"Kids\" and \"Bully\"), sed films by Clark - moralistic and exploitative silk - are high-class maestrificis compared to this crap', \"I don't believe that he was monomaniac in the direction to inculcate his ideas in the audience's throat: Grab our throats and try to force his moralist, I don't stop in our uncertainty in repetition and exhaustion - you are obstinate when you have balbutites, shouts, ineptites, ineptites cameram and terrible attitudes\", 'Stockler nolitis de tecnique (qualitat images, frame, sound recording, sound songs, dialogue, sets, editing, etc.) est uniformly terrifying), sed est control-frake narcissista: anticipates criticisms that I should add subtitles box comments and comment protagonistis in a point that faratus and false est omnis (could relate to WHO)', \"<br /><br />Aspects megalomaniac eius, Stockler seem unable to give us a minimum of visual instrumentation or narrative -- can't decide whether to want megaloman realism (hand-held camera etc.) or stylization (scene repetition, alternate utellem, etc.)\", 'The Lord cannot decide where to place his camera (to use the camera subject to which the three subjects are subject)! The dialogue has one of the banal verbs on the cunning and banalism which you have overreasoned is justified deep hatred of the king for his characters and for which he is standing.', 'All you see is a man who hates, preaches, condemned, morals for the benefit of the least talent (or technique) that you may judge.', \"For the sake of the truth, I'm sure you'll find Caius Blat in the hall of disfunction.\", 'Certainly one of the least promising films in Brazil, with puppies oculus somnolentis his specific and emotional memories of Sal Mineo, Blat is efficient under the right direction (as in \"Carandiru\", \"Lavora Arcaica\", \"Prohibited Prohibitor\")', 'This is what he says is above the top of the top, and he has a play with one of the \"actors\" in his recent memory in the taking of possessions.', 'Ingresa uxta reame riskgatis scenes de sexplore graphicae (accedem adamam porno web-cam)', '<br /><br />The film after and ends with real interviews to \"typical\" (?) middle class - Stockler volunteering to bring interviews as \"proof\" of what he tries to preach in fiction', 'And he despised, and mocked his disciples, and selected abject, a racist, a sexist, a prosthetic.', \"Stockler wants to prove that the Brazilian proletarians have ALL present or future fascists as they are middle classes and delight recreational drugs (say every neo-fascist is on drugs? or what drugs potentizing fascist behavior?? we couldn't say)\", '<br /><br />As dogmatics dogmatics his injustices, inducing technique headache and dominating noria, \"Cama de Gato\" malum is in 1000 reasons thirsting over omnibus, insidiously harmful: detractors of Brazilian cinema casus powerful arguments', '\"Cama de Gato\" is better unattended, unquoted, buried and forgotten']\n",
            "79\n",
            "['Incredible corporal of the creators Secret Nimh and Earth before Tempus this was an exciting bitter soul', 'Remember this good thing of my childhood, he was worthy and sad and beautiful.', 'The dark dog, who escaped and died to his friend, did not do so. He ended up in heaven and returned.', 'And it was sweet to his friend, and he made an orphan, which the beast spake.', 'Some scenes risked other caricatures, second to each other Charlie, and all were good, and songs of song were beautiful.', 'The Lord of Luise, and Burt Reynolds, the memorial, that I may be of them.', 'And Judith Barsi of Jaws demanded of God his soul, and the last one did not deserve the death of men in heaven, and now all the good people in heaven went to heaven.', 'Completely this is the good animation, the classic Bluth who in souls and Disney in shame', 'Reconstructed whole family', 'And behold, if thou hast an original video, then the film shall come upon the LORD out of Luise, and the message of the great and the special, Adam, which is good, behold,']\n",
            "80\n",
            "['This film fails with comedy and film in general', 'The slow film was that it always intended to convey the message and the photo misurition began.', 'This film fell to shame in the environment, and made iniquity wicked, and destroyed the LORD, and promoted the beast of the planet.', 'In this sediment we could not be noticed that Steve Carell had never had anything but a divisive reduction.', 'The only thing that we hypothesized was that as a comedy it is just trying to give relevant comic lines Wanda Sykes', 'Their characters often enter, rigid worthy in which they do not fit absolutely.', '<br /><br />Mouns of the brilliance of Bruce Onipotentius Evani omnipotentius pleaded in effect to be specific plots that advance forward plots', 'The medium building film in the evana building is at the end of which the ark was infinitely insignificant and the whole plot was righteous for foolish and foolish monthly gain.', \"The film concludes with the knowledge that the whole ark of the influence, and gathers together the beast, was the weak of the police in none other than God's.\", \"Here is God's attempt to influence politics.\"]\n",
            "81\n",
            "['Gratifying is the sight of a great arts converted into other undistorted or contrived.', \"I can't imagine in which I could recreate as a film worthy to see some extraordinary ones.\", 'But if the book of Bulgakov is understood, then the interpretation of it is wrong, and it is wrong in his mind, which is the art of the film, which he shall bring to the screen.', 'This is an example with Yahweh and Margarita.', 'The complex, and the things that are in this world, the film is not of any other kind.', 'As if circuit works Bulgakov ut ut to conduct orchestral sheet music-in notation not wrong notation', \"That we can't find in U this talent\", 'S', 'My books and films are my favorite, but I have a title.']\n",
            "82\n",
            "['This film is violent, for it exhilarates with the original dialogue and fresh characters', 'There is one of the movements, and the truth is life.', 'And he wronged the film with the act of Leo Fong, who came near to the end of his career, when he broke a great house, which involved corruption, corruption, corruption, and murder.', 'This is where the wicked kills.', 'End of the beginning Fong delivers in haec saw the act caper', 'Richard Roundtree Co-Star Films', 'I really enjoy this film, the son of her being with her adulthood, and she felt that this film is free and not good.', 'You do not plead with me on film, and you are very true, very evil.']\n",
            "83\n",
            "['And the day came unto me for ever and ever, and the fruit of his flesh for ever and ever, and the last will to bring me into the whole world, into the arm of the sword, and the first saga of the work.', 'For the purposes of this article, the following paragraphs shall be added: (a) The following paragraphs shall be added: (b) The following paragraphs shall be added: (c) The following paragraphs shall be added: (c) The following paragraphs shall be added: (d) The following paragraphs shall be added: (d) The following paragraphs shall be added: (d) The following paragraphs shall be added: (d) The following paragraphs shall be added: (d) The following paragraphs shall be added: (d) The following paragraphs shall be added: (e) The following paragraphs shall be added to the text of the text of the text of the text of the text of the text of the text of the text of the text of the text of the text of the text of the text of the text of the text of the text of the text of the text of the text of the text of the text of the text of the text of the text of the text of the text of the text of the text of the text of the text of the text of the text of the text of the text of the text of the text of the text of the text of the text of the text of the text of the text of the text of the text of the text of the text of the text of the text of the text of the text of the text of the text of the text of the text of the text of the text of the text of the text of the text of the text of the text of the text of the text of the text of the text of the text of the text of the text of the text of the text of the text of the text of the text of the text of the text of the text of the text of the text of the text of the text of the text of the text of the text of the text of the text of the text of the text of the text of the text of the text of the text of the text of the text of the text of the text of the text of the text of the text of the text of the text of the text of the text of the text of the text of the text of the text of the text of the text of the text of the text of the text of the text of the text of the text of the text of the text of the text of the text of the text of the text of the text of the text of the text of the text of the text of the text of the text of the text of the text', 'For the purpose of determining the occupation of the murder, he felt slow and uninspired, but many important elements were omitted from the whole experience.', 'In Azumi we saw the murderers using various stealth tactics (this is the number one priority) and logic facts to do the work of their signs when executing quickly and enabling them to escape.', \"But I do not hold what is against the film, which is a small army, which is a history in time, and which is a woman's obstacle in the way of Azumi, to prevent her from becoming senior warriors, and to show charismatic signs.\", \"Circum through Chiaki is foolishness is in the bulk of the film and basic is to tone down Go Go's little weapon and sense of threat.\", 'For I am at the end of the breath which the acts conceal in the title of the dead latum of the epic.', 'In the first half of the film, we see many adversaries who are promised to perform and in arms, right to the right, right to the right, right to the right, right to the right, right to the right, right to the right, right to the right, right to the right, right to the right, right to the right, right to the right, right to the right, right to the right, right to the right, right to the right, right to the right, right to the right, right to the right, right to the right, right to the right, right to the right, right to the right, right to the right, right to the right, right to the right, right to the right, right to the right.', 'These will not be on thee to these these these these these for these these these for thee to these for thee to be for thee to be for these for these these these for these these for these for these for these these for these for these for these for these for these for these for these for these for these for these for these for these for these for these for these for these for these for these for these for these for these for these for these for these for these for these for these for these for these for these for these for these for their for for their for their for this for these for their for their for their for for their for their for for their for for their for their for for their for for their for their for for their for for their for for their for for their for for their for for for their for for their for for their for for their for for for their for for for their for for for for their for for for their for their for for for their for for for their for for their for for their for for for their for for their for for for for for for for for for for for for their for for their for for for for their for for for for for for for for their for for for for for for for for for for for for for for for for for for their for for for for for for for for for for their for for for for for for for for for for for for their for for for for for for for for for for for for for for for for for for for for for for for for for for for for for for for for for for for for for for for for for for for for for for for for for for for for for for for for for for for for for for for for for for for for for for for for for for for for for for for for for for for for for for for for for for for for for for for for for for for for for for for for for for for for for for for for for for for for for for for for for for for for for for for for for for for for for for for for for for for for for for for for for for for for for for for for for for for for for for for for for for for for for for for for for for for for for for for for for for for for for for for for for for for for for for for for for for for for for for for for for for for for for for for for for for for for for for for for for for for', 'In Azumi 1, the young assassins dominated the opposition in quick combat but satisfied and finished against Azumi and Bijomaru in comparison to the fights in Azumi 2 was also culminated and valust.', 'It adopted some interesting effects but inaccessible to innovation than shortness occupying the opposite.', \"In no way shall I destroy the samurai's word, and the battles shall be fulfilled, and Azumi shall be filled with imagination, and shall be straight with the soul which they may have afraid the kings, and the acts shall be turned upside down.\", 'For the sake of the Romans, Azumi is there in time between the scenes of battle, and in the end he will not serve any purpose that is necessary to resolve them.', '<br /><br /> as a fan of open medium in grain variety films and animation, I do not lie and admit my neutrality and inverse impressivity film Azumi first, if I say what after seeing Azumi 2, the original was made to do with impeccable mastery.', 'Azumi 2: Death or Love may be joined to the video, with the invisible rigids and the power not to add or expand into the peripetum of the murderers desperately done to restore peace, unchangeable hearts to the dying steward.']\n",
            "84\n",
            "['This is the worst of the dispersals seen in time.', 'Is Heath Ledger deformed?', 'I desire new things which they and Naomi Watts are opposite in the real life which I pass two horms of my curious life which I saw in him.', \"Is Orlando Bloom corimus? Like barbum scraggly and cervis-in-the-the-the-headlights speedus eum, I can't say agree\", \"Rachel Griffiths was his usual fabulous, Geoffrey Rush was what he couldn't look like to exceed\", 'Do we suppose we should mourn for bankers and murderers? Haec is long crying out for Butch Cassidy who was actually the funny movie.', 'Tritis, clichés and boredom', 'We have replaced it, which we have convinced it, that it may be that it may be that it may be.', 'Nolite did not perform', '<br /><br />Last 10-15 minus otherwise unintentionally hilarus', 'And Heath, and his bands, in the hospital of the border, and the mules, and the sons of the mules, stood before them.', 'Nolius is not ungrateful.', 'But he was displeased that I went out of the hotel into the armor over whom all could imagine the Black Knight of Mount Python and the Holy Grail.', 'He waited for them and said, \"I bite thee in pieces,\" aloud in laughter, which were the members of the audience of the multitude of the disformed audience of the audience of the audience of the audience of the audience of the audience of the audience of the audience of the audience of the audience of the audience of the audience of the audience of the audience of the audience of the audience of the audience of the audience of the audience of the audience of the audience of the audience of the audience of the audience of the audience of the audience of the audience of the audience of the audience of the audience of the audience of the audience of the audience of the audience of the audience of the audience of the audience of the audience of the audience of the audience of the audience of the audience of the audience of the audience of the audience of the audience of the audience of the audience of the audience of the audience of the audience of the audience of the audience of the audience of the audience of the audience of the audience of the audience of the audience of the audience of the audience of the audience of the audience of the audience of the audience of the audience of the audience of the audience of the audience', 'When we left, almost all of them were talking about how much time they lost, this was the film.', \"He couldn't pay cash to see haec disaster (sneak previews), but he wasn't free.\", 'It cost me two but my life that I could not return.']\n",
            "85\n",
            "['Produced by TV banus, \"Tyson\" means to be serious biopics, while prolonging moments of distress in fact, progressing for corrupt exoterics of boxing and disturbing sensationals which is the only thing that Tyson does italy interesting', \"But the watch that you don't have a lawyer for the general public that's out of the box.\"]\n",
            "86\n",
            "[\"I'm sure I'll add to my mind Jack Blacks character Nacho Free is absolutely hilarious but he's not\", \"You can say that Jacks had been drinking whales for a long time to play smarty, mexicans sludy in dreams. He's a wrestler if he's filmed in every department.\", 'I followed there in the grain of films, \"Is this supposed to be different\" and \"Is this man tenacious D of right?\"', \"The truth is, the film didn't have anything to offer.\", 'ALL! Script unbelieving in scrappy characters and in reality naff act and direction', 'See the infinite moments when you think that it is uncertain what it is done that it is not done.', 'In the tenth minute in which the second-hand came.', 'Nolite did not perform', \"90 minutes post doesn't handle the minute auras were pains\", 'And behold, ye years ago, when ye saw that which was an actor in thee, and that was in it, and that was in it, and that was in the dust of it before the fame, and that was in the mouth of the man, saying,', 'So it was it.', \"I've tasted a few of Jack Black's original movies as the Lower Room and the minute the real Pick of Destiny was in the manhood.\", 'If you did this to us, I would turn back to Jack, and I would have come there, and you would have been a martyr.', \"I'll give you a minute. You'll be speaking.\", \"♪ I know what's in the picture, but this is one of the worst movies I've ever seen and for so many reasons ♪\"]\n",
            "87\n",
            "['Not the Roman legends of Anne Rice, which this film is based on, and who knoweth that the book is a legend, that they have troubled the queen with dignity, and that she may be better for your health.', 'It is not that this film is necessary for your health, but that you may deliver it, and exercise a severe active part of your film on which this film is made.', \"You can count Anne Rice's pages which are legends in a hand and after she sees a film and interviews the vampire to do what she writes a good novel.\", 'The place where the film was found in all the seas deep, and you kept the history of the vampires interstitute.', \"Now, Stuart Townsend's voice over narration adds mutu more irritating than vampire narration Brad Pitt's evere and can say which queen of DAMNED'S limited productive resources dispersamum give flesh to Anne Rice storyline\", 'Simulus interviewed decided to adhere to the lace and elegance, WHO incident in special effects budget low which intend to take seriously', 'One sees that the new beginning was powerful, that the film and the product of his attention in his speech erred.', 'Costumes and rock & roll theatre we can replace in the blood of many and sound string', '♪ For ♪ For ♪ For ♪ For ♪ For ♪ For ♪ For ♪ For ♪ For ♪ For ♪ For ♪ For ♪ For ♪ For ♪ For ♪ For ♪ For ♪ For ♪ For ♪ For ♪ For ♪ For ♪ For ♪ For ♪ For ♪ For ♪ For ♪ For ♪ For ♪ For ♪ For ♪ For ♪ For ♪ For ♪ For ♪ For ♪ For ♪ For ♪ For ♪ For ♪ For ♪ For ♪ For ♪ For ♪ For ♪ For ♪ ♪ For ♪ For ♪ For ♪ For ♪ For ♪ For ♪ ♪ For ♪ For ♪ For ♪ For ♪ For ♪ For ♪ For ♪ For ♪ For ♪ For ♪ For ♪ For ♪ For ♪ For ♪ For ♪ For ♪ ♪ For ♪ For ♪ ♪ For ♪ ♪ For ♪ For ♪ ♪ For ♪ For ♪ ♪ For ♪ ♪ For ♪ For ♪ For ♪ For ♪ ♪ For ♪ ♪ For ♪ For ♪ For ♪ For ♪ ♪ For ♪ For ♪ ♪ For ♪ For ♪ For ♪ For ♪ For ♪ For ♪ For ♪ For ♪ For ♪ For ♪ For ♪ For ♪ For ♪ For ♪ For ♪ For ♪ For ♪ For ♪ For ♪ For ♪ For ♪ For ♪ For ♪ For ♪ For ♪ For ♪ ♪ ♪ For ♪ ♪ For ♪ For ♪ For ♪ ♪ ♪ ♪ ♪ ♪ For ♪ For ♪ For ♪ For ♪ For ♪ For ♪ ♪ For ♪ For ♪ ♪ ♪ ♪ ♪ For ♪ For ♪ For ♪ ♪ For ♪ For ♪ For ♪ For ♪ For ♪ For ♪ For ♪ For ♪ ♪ For ♪ For ♪ For ♪ For ♪ For ♪ For ♪ For ♪', 'Excellent soundtrack east', 'Korn, and they troubled me, and came down with evil to my daughter-in-law, to the head.', '<br /><br />Pilm opening is in goth-rock granus and splice mounting, even after ten minus last, degenerates quickly direction', 'As if the film were so long that the director realized that it was not time and silver that Anne Rice made new righteousness.', 'What is a mediocre scene of vampires and abounding effects of particular things?', 'Sadly Queen Damna did not do righteous geniuses as his John Carpenter did not impress us.', 'Where are the yellow contacts? Where are the pale blue makeup? Scene after scene I stir my captain remembering the days Lot and Night Scared Salem which the lower places were made straight', 'The quality of redemption is what saves this movie from the worm.', 'And Aaliyah, and his soul for ever, shall rest in peace.', 'This is an actress who has been recognized as not having a life of his own prematureness, which has been given to him to help him to help him to help him to help him to help him to help him to help him to help him to help him to help him to help him to help him to help him to help him to help him to help to help him to help him to help him to help him to help to help him to help him to help him to help him to help him to help him to help him to help him to help him to help him to help him to help him to help in his own life to help to help to help him to help to to help to help to to help to help to to help to to help to to to to help to to to help to to to help to to to to to help to to to help to to to to help to to to help to to to help to to to to to to to to to to to to to to to to to to to to to to to to to to to to to to to to to to to to to to to to to to to to to to to to to to to to to to to to to to to to to to to to to to to to to to to to to to to to to to to to to to to to to to to to to to to to to to to to to to to to to to to to to to to to to to to to to to to to to to to to to to to to to to to to to to to to to to to to to to to to to to to to to to to to to to to to to to to to to to to to to to to to to to to to to to to to to to to to to to to to to to to to to to to to to to to to to to to to to to to to to to to to to to to to to to to to to to to to to to to to to to to to to to to to to to to to to to to to to to to to to to to to to to to to to to to to to to to to to to to to to to to to to to to to to to to to to to to to to to to to to to to to to to to to to to to to to to to to to to to to to to to to to to to to to to to to to to to to to to to to to', 'Do we mention what a good soundtrack was? Do we see what we could say? It was not too long.', 'Novel Ana Rice had facilum film three hour and ambitious director some Francis Ford Coppola incorporated his hands into her', 'There are small torsas in the plot, and there are small torsas in the plot.', 'And every man in every man was a rock, and a rock of law, and an addition to the dead of the vampire movies, there was a second one.', 'This is the director of the film, who is in charge of the battle of Galactica, who is what he says what he says to you.', '<br /><br />JY<br /><br />Jimbaduck-dot-com']\n",
            "88\n",
            "['Simulus me as a fan of Babylon 5 television, the original film that introduced series was weak start', 'And the elements that were grown up, and in the multitude, are many turned upside down, and the assembly was slow, and the make-up was inadequate, and the plot was confounded.', 'Worse, character in the episode is poor', 'Although the graph of the ratings shows that many fans are willing to ignore this problem, I remember the almost resembling of what next became a show series.']\n",
            "89\n",
            "['Leonard Maltin dedicates haec films BOMB rating feared in Suum 1995 Movie and Video Guide', 'What did the film wonder? Chid Vengeance or Gun Deo bombs are', \"Here's the movie. It's fun.\", 'Fantastic is', 'Letter is', 'Bridge is mounted', 'It is beautiful photographed here there are some bright colors used', 'From the opening scene the film will take your attention and you will have that film is satire of all Spaghetti Western genus', 'Films branching in the beginning at the end of all to Douglas Fairbanks, 77 Sunset Strip and famous show in good and evil and Ugly', 'Edd Byrnes, George Hilton and Gilbert Roland worked brilliantly on satire opera', 'The Lord is evil.', \"That's how bad the film is, because it's worth it.\", 'One who induces in his cause', 'I suspected that there was no point in the film, and he looked at what the film was going to be so that', 'Kudos to all of them entered into this project.', 'This is the film of the groaning, waiting for the people who would price the films of the alphabets and appreciate the satire.']\n",
            "90\n",
            "[\"I don't think there was ever a bad or bad TV show in America as 700 Clubs\", 'Equivalent Ku Klux Klan, 20th century', 'His hate is all good, and sweet, and all clean, and clean upon all abilities.', 'The daily attacks of all men, all men, all men, all men, all men, all men, all men, all men, all men, all men, all men, all of whom are televisions.', 'Licitas erunte and ridiculous Licitas erunte in veritate, ipse que ipse \"life after death\" or \"god\" or \"sin\" or \"devil\" is so absurd that it appears mentally evil, so lost in their fantasy', \"Healthy people know what religion is a drug, and they don't owe it to what fantasy.\", 'Grade 700 is in class in thirst', \"But I'm a seven-year-old.\", 'And he believed in the freedom of speech, saying, By means of the utterance of meekness, and of disinformation, and of inspection over all the borders.', 'I hope that one day the American Psychiatry Association will assume the study of the people who have deluded themselves in this, the people who have infused into the land fanciful religion which has no real concept of reality in all the people.', \"Human treatment has afflicted these necessary in this land as the world's people have lost their complete minds in religious fantasies.\", \"Granus 700 is then golden as the legal definition of 'culture' is due to the vast wealth of Granus 700 (condemned daily of million Americans in his deception) over the law in this country are they\", 'Whoever sees the film \"Matrix\" knows what the film was the metaphor of religion on earth: evils that are in the top of all religions that drain the films and cruel abuses for selfish purposes, their selfish ones and their millionaires who are in the dead sound and slowly draining of their life, represent the righteous people who lose all ability to perceive what is in them.', '<br /><br />In times of undercivility, good citizens served monsters every day to associate in civility 700 Clubs ex-civility in torches and forks', 'But in all the world today, that all might lose in the election of their television, which they shall preside, we shall not have what to deliver us from the law 700 Clubs.', '«br /><br />The system of TV ratings and V-chips on TV also has a vocal rating \"R\" in religiosum, so that rational people and uneasy parents could easily filter intellectuals and emotional brutals, as presented in all the days in all our country, to their sons and sisters.']\n",
            "91\n",
            "[\"If you would see Shakespeare's work in all of him, suggest you find him to see the BBC here.\", 'But in the four and a half hours Jacob worked as Hamlet and Patrick Stewart, as Claudius was good in arms.', 'I am amazed that the light is \"Hamlet\" when you see in his length and order as he declined in Bard.', 'All the films \"Hamlet\" tincture in his structure', \"Olivier concentrated on Hamlet Gibson's indecision in his passions.\", 'Jacobae capable of towing all aspects of Haec characters Hamlet as auxiliary scriptum Shakespeare', 'Hamlet doesn\\'t kill Claudius immediately? Hamlet says \"I\\'m proud, revenge, ambitious.', '\" Hamlet is troubled not only by his father\\'s death (and he suspects manslaughter) or by his husband\\'s mother\\'s name, but also largely by Claudius the throne appeared to Hamlet.', 'He was angry with his mother in the marriage of Claudius (marriages among the royal relatives were not unknown for political reasons) but solidified the claudius of the throne in order to return from Wittenburg to cry out to her in seed.', 'So the impotent is done what it is.', 'And when his fathers heard his ghosts, they cried out for vengeance.', \"You can't kill Rex. You can't lose the throne.\", '\"It was the secret of the king, and there was a tragedy!\" Hamlet went out to make Claudius guilty in public, and he had the opportunity to kill him, and not to kill him.', 'Who willed all vengeance on the throne, and damnation on the soul of Claudius in hell?', 'Hamlet in tragic classic form Hamlet superregitu', 'Theirs is theirs, and theirs is theirs to invalidate.', 'And it came to pass, that he slew the Poles, that Claudius and the rest of the hairs thereof, that they should be put to death; and Rosencranzes the Guildenstern Ophelia Laertes, Gertrude Claudius and Hamlet.']\n",
            "92\n",
            "['The golden LORD is history in the Sicilian road of Old Mondum (Italy) in Novel Mondum (America)', \"Salvatore, a medium who hoped for the life of his family's persuasion to persuade his country in Sicily, in excess of the arduous passage into the infuriating seas and the habitation of the earth, which flowed into the stream of milk.\", 'In short, they believe that all men are at risk in the new world, and that they prosper in their fulfillment.', 'Imagination of the new universe is intelligent and imaginative', 'The silver monsoon rained from heaven into the Saviour, as he anticipated the prosperity of the New World on the onion and the double grain of the human being, being gathered together to suggest the rivers and the healthy and the milky rivers, swimming and flowing into the mind, who anticipated the yielding of the New World.', 'This is the image of all the surrealists who are interconnected with characters, and help them to give real praise to what is spread to the audience.', 'In contrast to this picture, the reality of the Sicilian people is dark, but they hope that they will be on board the new ship of the whole world.', 'The journey into the new world is as much as the complete darkness of stone, except when the storm of the sea roars, and the people are almost killed within.', 'The dark reality returned to me from the Old World, and from the way to the new World.', 'The old world is deprecated, and the first as one in need.', 'This is shown as the slaying savior to sell what his possessions were (there are goats and herds) in order to obtain the appropriate clothing.', 'I thought that it was insignificant that they believed that it was appropriate to dress in order to accept in the new world in which he suggested that there should be a stereotype or a particular mold in order to recognize that it was morally appropriate.', \"And the image of the mighty in the film was with the ships of their fathers' land, and it was in the new world.\", 'This picture showed the sight of the people who were sluggishly separated from the other, deprecating separation between the Old World and the New World.', 'And he suggested that the people should be of all that were of one family, that they should divorce them from the scattered conditions of their former darkness, and that they should enter into all that they had promised.', 'When you see the last sight of Novel Mondum, the Old Mondum, the Dark One, and the Dark One, as you compare the light of Novel Mondum.', 'The idea that was especially interesting that the Statue of Liberty was never shown in the cloud in Ellis Island was hidden.', 'I believe that this was the intention of the saying which he denied what the statue of Liberty proposed: \"Give me your poor, your fatigue, your hunger\" seemed to me in view of what these people had to do with the journey that was coming to the New World.', 'And they came to the Americas, and they came by the testimony of the lowly men.', 'and', 'derousing, maths, puzzles, etc.', ') in order to be evident so as to be suitable for new universes', 'This complete test mutated perspective populus sicilium', 'The mother of the Saviour in particular was at the moment of difficulty, and she submitted herself to the kings and new laws of the whole world, and they were never raped.', 'So that when they thought of one of them, he gave hope and optimism which Novel Mondum had given, the reality which Novel Mondum needed was depreciating and harsh.', 'The savior shall not be much more than his attitude, which he hath heard of the new world, when he saw that the new world was cut off from him.', 'And this was a great deal of all that passed by with him.', 'The bow of their character, that they might accept the precious dreams of the troubled, and the dark reality that they should come to.', 'The film appeared as a commentary on the fortune that I was prepared to enter the heavenly and civil society.', 'Cleanness, marriage, and intelligence are prerequisites', 'Adhering to this regime is to prevent pathology, immoral behavior, and to study domination.', 'Thus is it possible for me to say that America was freed from want of other nations, and that they were careful that they should not infest plagues and destroy them.', 'And they shall protect them, and they shall help the people of the Fiorent.']\n",
            "93\n",
            "['Novelty the small episode laughs and the dollop hangs', 'Martian has vulcanized on board the division in his way in nullum thirst for what the passenger ipse is (we speak of illegal immigrants of yours!)', 'He replaced all the stars, from Jack Elam oculum (elunte invertuum), to sexy Jean Willes (if he was Martian, and I say we opened borders) to cruel John Hoyt (obvious suspicion), suitable for familiar John Archer and Barney Phillips (and good turn of Bill Kendis who was a driver)', 'A medium of a medium of entertainment if you act is confined to a single set.']\n",
            "94\n",
            "['I was doing evil sensations in all Russian films.', \"But I didn't see the film, I didn't.\", 'This is the thing about the king, who lives in the USSR.', 'I know the art of the film, and I am well with the child.', 'If I make movies come up: we buy or copy!']\n",
            "95\n",
            "[\"I saw a mask in the '80s and it was shown on Fox Kids in the UK (very late at night)\", 'And I said, What was it that was cold in the day, and there were young men of juba, and saw me in tears?', 'Never did he perceive how tedium and soft he was in reality animated.', 'There is no volcano in the water, and their transformations, and Thundercats, and almost all that are bound is like all that is no more.', 'Video in Fox Kids quod Ulysses 31 came straight after her (that if she masks do not sleep me first)', \"One of the less than 80 cartoons I wish I'd disperse the complete one that ended up in Fox Kids!\"]\n",
            "96\n",
            "['Ghost', 'Class', 'Phantasm II', 'Incredible', 'Phantasm III', 'Hermit', 'Terrible', \"For the sake of this film, I can't clean it up.\", 'Film was \"sold\"', 'The first sign of evil came, that the video of the other film had been taken at the beginning (the other one did not do it)', \"This is the many useless, first copies of the kid (who is cracking shot, you have fun getting started next to him dead), the woman who uses karate to stab the bile (herm didn't operate, oc no) and zombies in flower (whom hell is there in other Phatasms)\", 'But it is severe that the year is coming.', 'For the sake of /> <br />Unum bonum pedacis are started cracking and, of course, Reggie B', '<br /><br /> (Possible SPOILER above) <br /><br /> to me have film seed between II and IV as extra characters solementatur in finum sic potest continuum cunctis 4 in IV', '<br /><br />Moving area, VERY disappointing', 'Laboratory / 10']\n",
            "97\n",
            "['Lodicum', 'Annakin angelic 9 years if converted into Angolans said 19 years Annakin who are unfair lawyers Amidala 5 years his senior', '22 years old warrior Jedi warrior Annakin had foolish fathers and so to slaughter his sons and his friends and all his body existing that came to him to) his precious adulterer actually died and b) only he could prevent this.', 'Square ludicrosity', \"I think people who like movies don't pay attention.\", \"It's a ridiculous story.\", 'Incredible are characters (literally, not perverted sensus \"fantastic\" \"minusculum\" etc.', '...................................................................................................................................................................................................................................................................................................................................................................................................................................................................................................................................................................................................................................................................................................................................................................................................................................................................................................................................................................................................................................................................', \"And Obi-wan Kenobi was wise, and good in all manner, and in all manner, and in the climax was Annakin's smite, and in the washing was burned with it, and he smote him to the top.\", \"Who doesn't believe what is no character? He doesn't say what is stupid so that they co-opt in his life as it turns out?\", 'We were waiting for a resume that was consistent with plausible animations.', 'None of which', 'But the historians write in the tenth year.', \"Oh, yeah, CGI's really cool.\"]\n",
            "98\n",
            "['Scotty (Grant Cramer, who was a great B-movie \"Klowns Killer of Species\") agreed to adjure trio to educatis learned what \\'dialogue\\' dominees in bad \\'80 comedy', 'I am not evil, as I am in the garden 80, which is good.', 'Evil which is in evil', 'In the unreadable characters, in the unreserved, in the unremarkable, in the unremarkable, in the unrepentant, in the unrepentant, in the unrepentant, in the unrepentant, in the unrepentant, in the unreserved, in the unrepentant, in the unrepentant, in the unrepentant, in the unrepentant, in the unrepentant, in the unrepentant, in the unrepentant, in the unrepentant, in the unreserved, indwelling, in the unreserved, indwelling, in the unreserved, indwelling, in the unreserved, indwelling, in the unreserved, indwelling, in the unreserved, indwelling, indwelling, in the unreserved, indwelling, in the unreserved, indwelling, in the unreserved, indulgent, in which shewish, in which she is 13 part, in the woman, indulient, in the unreserved, in the unreserved, that she is shewish, that she is shewish, that shewish, that shewish, that she is shewish, that shewish, that shewish, that shewish, that shewish, that shewish, that shewish, that shewish, that shewish, that shewish, that shewish, that shewish, that shewish, that shewish, that shewish, that shewish, that shewish,wish, that all that all that all that all,wish, that all that all that all that is that is that is that all that is that is, that is, that is, that is, that is,wish,wish, that is, that is, that is, that is, that is, that is, that is, that is, that is, that is,that is,that is,that is,that is, that is, that is, that is, that is, that is,that is,that is,that is,that is,that is,that is,that is,that is,that is,that', 'This film is low barrel sex comedy 80 is', 'And afterward came he afterward, saying, A proverbial barrel.', 'For the sake of the truth, I\\'m going to say, \"I\\'m going to say, \"I\\'m going to say, \"I\\'m going to say, \"I\\'m going to say, \"I\\'m going to say, \"I\\'m going to say, \"I\\'m going to say, \"I\\'m going to say, \"I\\'m going to say, \"I\\'m going to say, \"I\\'m going to say, \"I\\'m going to say, \"I\\'m going to say, \"I\\'m going to say, \"I\\'m going to say, \"I\\'m going to say, \"I\\'m going to say, \"I\\'m going to say, \"I\\'m going to say, \"I\\'m going to say, \"I\\'m going to say, I\\'m going to say, \"I\\'m going to say, I\\'m going to say, I\\'m going to say, \"I\\'m going to say, I\\'m going to say, I\\'m going to say, I\\'m going to say, I\\'m going to say, I\\'m going to say, I\\'m going to say, I\\'m going to say, I\\'m going to say, I\\'m going to say, I\\'m going to say, I\\'m going to say, I\\'m going to say, I\\'m going to say, I\\'m going to say, I\\'m going to say, I\\'I\\'I\\'I\\'m going to say, I\\'m going to say, I\\'m going to say, \"I\\'m going to say, I\\'m going to say, I\\'m going to say, I\\'m going to say, I\\'m going to say, I\\'m going to say, I\\'m going to say, I\\'m going to say, I\\'m going to say, I\\'m gonna say, I\\'m going to say, I\\'m going to say, I\\'m going to say, I\\'m gonna say, I\\'m going to say, I\\'m going to say, I\\'m going to say, I\\'m going to say, I\\'m going to say, I\\'m going to say, I\\'m going to say, I\\'m gonna say, I\\'m gonna say, \"', \"For the first time, I've seen Moviepass Comcast.\"]\n",
            "99\n",
            "['If you have a rigid historical perspective on it, this film is actually fun.', 'there are acts, adventures and romance and one of the first castings of the era with Errol Flynn and Olivia de Havilland in roles leaders', 'As it is evident in this table, I do not pass through the picture when you have cleansed it, which is a hundred percent accurate in the account of them.', 'So that upon what is necessary, the books of history are turned aside, and history delights, as if it were the opposite of fiction.', \"I know, I know, how difficult it is for you to consider Custer's Last Stand in Little Big Horn and prominent in history after the American Civil War.\", 'I assume that the picture cannot be solved, not that you see it there.', 'This is the mountain where two times the time is running.', \"Custer's arrival at West Point is likely to scrape first, inegrant as it did in the royal military fullness\", 'You must have drunk them in their difficulty in the major sediment, preparing in Sharp (Arthur Kennedy)', '<br /><br />Ironically, mutuus scenes in haec military film play for comedy, as in the first assembly Custer cum Libby Bacon et adversaris sequentis quae inducant lector te Callie (Hattie McDaniel)', \"In other cinemas I didn't notice me in forty and McDaniel me in my actor's favorite actor at night Moreland\", 'So much so that in one scene he heard that Moreland was drunk in clothing.', 'Wherein in the mind was the scene of the whirlwind, and the hoot.', \"As for Flynn, it is interesting to note what a year's history depreciates J\", 'And', 'B', 'Stuart opposite Ronald Reagan\\'s representation General Custer in \"Santa Fe Trail\" ut disputing in the attention of none that Olivia of Havilland', 'In the film he did not put in character Custer nihibus and flamboyance which his stories commemorate, in ibi Flynn retraction ibi above what is evident', 'But Richard Mulligan didn\\'t take the water for a military hero in 1970, \"Little Big Man.\"', 'We say that one was very bad on the top.', \"For my sake, there was a picture of me in which Custer persevered to keep his good name, and you didn't take any chances.\", 'So that his loyalty to men might be brought forth in battle, as the discipline evolved into the law of history.', \"Most poignant was the final confrontation with arch Sharp's rival in iniquity in the lowermost horn in which he decreed what hall or glory depended on the title of one's viewpoint.\", 'Previously we had the uniform of all the perceptive in Custer\\'s character to assert - \"Your glorification is as your time is.\"']\n",
            "100\n",
            "['Film on the scene of the percussion in destruction will always increase', 'The first evil is taken away, and Steven Seagal is taken away in the flesh in the conduct of Seagal, but the infinite is the chief of the film.', 'It seems to say that all kinds of changes in cinematographic diagrams are different, so we plan to enjoy the act and do not look like coherent diagrams.', 'Turn the logics you have, decrease your chance of having a headache', 'I give myself a hope that Steven Seagal will try to return to the type of characters in his popular movies.']\n"
          ]
        }
      ]
    },
    {
      "cell_type": "code",
      "metadata": {
        "id": "lF4bedTgJnoX"
      },
      "source": [
        "df_new=pd.DataFrame()"
      ],
      "execution_count": null,
      "outputs": []
    },
    {
      "cell_type": "code",
      "metadata": {
        "id": "ZCFIxl4NHDiJ"
      },
      "source": [
        "df_new['review']=X_augmented"
      ],
      "execution_count": null,
      "outputs": []
    },
    {
      "cell_type": "code",
      "metadata": {
        "id": "W_dF6-csfWMM"
      },
      "source": [
        "df_new.to_csv(\"/content/drive/MyDrive/PRISM/augmented_la_0to100.csv\")"
      ],
      "execution_count": null,
      "outputs": []
    },
    {
      "cell_type": "code",
      "metadata": {
        "id": "kabxjgF8fh9i"
      },
      "source": [
        ""
      ],
      "execution_count": null,
      "outputs": []
    },
    {
      "cell_type": "code",
      "metadata": {
        "id": "bNxincwivUIb"
      },
      "source": [
        "df=pd.read_csv(\"/content/drive/MyDrive/PRISM/IMDB Dataset.csv\")"
      ],
      "execution_count": null,
      "outputs": []
    },
    {
      "cell_type": "code",
      "metadata": {
        "id": "ERwYfnSAvV-J"
      },
      "source": [
        "X_text=df['review']"
      ],
      "execution_count": null,
      "outputs": []
    },
    {
      "cell_type": "code",
      "metadata": {
        "id": "4MbbJdbOwANK"
      },
      "source": [
        "X_text=X_text[:200]"
      ],
      "execution_count": null,
      "outputs": []
    },
    {
      "cell_type": "code",
      "metadata": {
        "colab": {
          "base_uri": "https://localhost:8080/"
        },
        "id": "SrloFQPPw2o0",
        "outputId": "1165b805-9f1f-4a01-e46f-47f502b0576e"
      },
      "source": [
        "len(augmented)"
      ],
      "execution_count": null,
      "outputs": [
        {
          "output_type": "execute_result",
          "data": {
            "text/plain": [
              "200"
            ]
          },
          "metadata": {},
          "execution_count": 118
        }
      ]
    },
    {
      "cell_type": "code",
      "metadata": {
        "id": "3jXlLclbwCiX"
      },
      "source": [
        "X_augment=[]\n",
        "y_train=[]\n",
        "y_augmented_train=[]\n",
        "for i in range(200):\n",
        "  X_augment.append(X_text[i])\n",
        "  X_augment.append(augmented[i])\n",
        "  if df['sentiment'][i]=='positive':\n",
        "    y_train.append(1)\n",
        "    y_augmented_train.append(1)\n",
        "    y_augmented_train.append(1)\n",
        "  else:\n",
        "    y_train.append(0)\n",
        "    y_augmented_train.append(0)\n",
        "    y_augmented_train.append(0)"
      ],
      "execution_count": null,
      "outputs": []
    },
    {
      "cell_type": "code",
      "metadata": {
        "colab": {
          "base_uri": "https://localhost:8080/"
        },
        "id": "sOn2yvn2wlUL",
        "outputId": "cebdde4f-d4ae-4ad6-cbab-0e6c658008e3"
      },
      "source": [
        "len(X_augment)"
      ],
      "execution_count": null,
      "outputs": [
        {
          "output_type": "execute_result",
          "data": {
            "text/plain": [
              "400"
            ]
          },
          "metadata": {},
          "execution_count": 120
        }
      ]
    },
    {
      "cell_type": "code",
      "metadata": {
        "id": "xj6_kjp2x0EA"
      },
      "source": [
        "en_stopwords=set(stopwords.words('english'))\n",
        "wn = nltk.WordNetLemmatizer()"
      ],
      "execution_count": null,
      "outputs": []
    },
    {
      "cell_type": "code",
      "metadata": {
        "id": "I7yqZOp9x7mc"
      },
      "source": [
        "def getCleanedReview(review):\n",
        "    review=review.lower()\n",
        "    text_lc = \"\".join([word.lower() for word in review if word not in string.punctuation])\n",
        "    #print(text_lc)\n",
        "    text_rc=re.sub('[0-9]+',' ',text_lc)\n",
        "    #tokenize\n",
        "    tokens=word_tokenize(text_rc,language='english')\n",
        "    #print(tokens)\n",
        "    new_tokens=[token for token in tokens if token not in en_stopwords]\n",
        "    #print(new_tokens)\n",
        "    lemmatized_tokens=[wn.lemmatize(token) for token in new_tokens]\n",
        "    return lemmatized_tokens"
      ],
      "execution_count": null,
      "outputs": []
    },
    {
      "cell_type": "code",
      "metadata": {
        "id": "Ak0_i4IlyJgQ"
      },
      "source": [
        "original=[]\n",
        "y_augmented=[]\n",
        "X_train=[]\n",
        "X_augmented_train=[]\n",
        "y=df['sentiment']"
      ],
      "execution_count": null,
      "outputs": []
    },
    {
      "cell_type": "code",
      "metadata": {
        "id": "fyiFCp-SyN-g"
      },
      "source": [
        "for i in range(len(X_text)):\n",
        "    X_train.append(getCleanedReview(X_text[i]))\n",
        "    if y[i] == 'positive':\n",
        "        original.append(1)\n",
        "        y_augmented.append(1)\n",
        "        y_augmented.append(1)\n",
        "    else:\n",
        "        original.append(0)\n",
        "        y_augmented.append(0)\n",
        "        y_augmented.append(0)"
      ],
      "execution_count": null,
      "outputs": []
    },
    {
      "cell_type": "code",
      "metadata": {
        "id": "mWB93j95ydpT"
      },
      "source": [
        "for i in range(len(X_augment)):\n",
        "    X_augmented_train.append(getCleanedReview(X_augment[i]))"
      ],
      "execution_count": null,
      "outputs": []
    },
    {
      "cell_type": "code",
      "metadata": {
        "colab": {
          "base_uri": "https://localhost:8080/"
        },
        "id": "dHIuu2cbyjtO",
        "outputId": "7ea11d0b-662d-414e-bc57-8c2fffdad09a"
      },
      "source": [
        "len(X_augmented_train)"
      ],
      "execution_count": null,
      "outputs": [
        {
          "output_type": "execute_result",
          "data": {
            "text/plain": [
              "400"
            ]
          },
          "metadata": {},
          "execution_count": 132
        }
      ]
    },
    {
      "cell_type": "code",
      "metadata": {
        "id": "A2Gx4vblyoSV"
      },
      "source": [
        "df_new=[]\n",
        "df_new=pd.DataFrame(df_new)"
      ],
      "execution_count": null,
      "outputs": []
    },
    {
      "cell_type": "code",
      "metadata": {
        "id": "XZqJgTHby2J7"
      },
      "source": [
        "df_new[\"cleaned_review\"]=X_train\n",
        "X_train=df_new[\"cleaned_review\"]"
      ],
      "execution_count": null,
      "outputs": []
    },
    {
      "cell_type": "code",
      "metadata": {
        "id": "GCADoZfzy3xb"
      },
      "source": [
        "df_new_=[]\n",
        "df_new_=pd.DataFrame(df_new_)\n",
        "df_new_[\"cleaned_augmented_review\"]=X_augmented_train\n",
        "X_augmented_train=df_new_[\"cleaned_augmented_review\"]"
      ],
      "execution_count": null,
      "outputs": []
    },
    {
      "cell_type": "code",
      "metadata": {
        "id": "ndBWN1LSy5nq"
      },
      "source": [
        "\n",
        "from sklearn.feature_extraction.text import CountVectorizer\n",
        "from sklearn.model_selection import train_test_split\n",
        "import sklearn.metrics"
      ],
      "execution_count": null,
      "outputs": []
    },
    {
      "cell_type": "code",
      "metadata": {
        "id": "AARK38NUy7kQ"
      },
      "source": [
        "X_train.dropna()\n",
        "cvt = CountVectorizer(analyzer=getCleanedReview,max_features=6000)\n",
        "#cvt2 = CountVectorizer(analyzer=getCleanedReview,max_features=6000)\n",
        "X_v = cvt.fit_transform(X_train.apply(lambda x: np.str_(x)))\n",
        "X_augmented_v=cvt.fit_transform(X_augmented_train.apply(lambda x: np.str_(x)))"
      ],
      "execution_count": null,
      "outputs": []
    },
    {
      "cell_type": "code",
      "metadata": {
        "id": "byhb9x5hy9WS"
      },
      "source": [
        "y_train=np.array(original)\n",
        "y_augmented=np.array(y_augmented)"
      ],
      "execution_count": null,
      "outputs": []
    },
    {
      "cell_type": "code",
      "metadata": {
        "colab": {
          "base_uri": "https://localhost:8080/"
        },
        "id": "EqjK93tJy_PM",
        "outputId": "d0ff4da1-6416-49e3-be67-623aeafe6518"
      },
      "source": [
        "gnb=GaussianNB()\n",
        "X_v=X_v.toarray()\n",
        "X_augmented_v=X_augmented_v.toarray()\n",
        "gnb.fit(X_v,y_train)"
      ],
      "execution_count": null,
      "outputs": [
        {
          "output_type": "execute_result",
          "data": {
            "text/plain": [
              "GaussianNB(priors=None, var_smoothing=1e-09)"
            ]
          },
          "metadata": {},
          "execution_count": 139
        }
      ]
    },
    {
      "cell_type": "code",
      "metadata": {
        "colab": {
          "base_uri": "https://localhost:8080/"
        },
        "id": "TsMqeku0zAv4",
        "outputId": "9fef5e91-8f78-4596-a9af-a78d28d26d80"
      },
      "source": [
        "gnb2=GaussianNB()\n",
        "gnb2.fit(X_augmented_v,y_augmented)"
      ],
      "execution_count": null,
      "outputs": [
        {
          "output_type": "execute_result",
          "data": {
            "text/plain": [
              "GaussianNB(priors=None, var_smoothing=1e-09)"
            ]
          },
          "metadata": {},
          "execution_count": 140
        }
      ]
    },
    {
      "cell_type": "code",
      "metadata": {
        "id": "L9WNvauczChI"
      },
      "source": [
        "X_test=df['review'].iloc[25000:25600]\n",
        "y_test=df['sentiment'].iloc[25000:25600]"
      ],
      "execution_count": null,
      "outputs": []
    },
    {
      "cell_type": "code",
      "metadata": {
        "id": "22sUUV9xzFmx"
      },
      "source": [
        "X_test=X_test.values.tolist()"
      ],
      "execution_count": null,
      "outputs": []
    },
    {
      "cell_type": "code",
      "metadata": {
        "id": "yaSpjts4zHng"
      },
      "source": [
        "X_test_new=[]\n",
        "y_test_new=[]"
      ],
      "execution_count": null,
      "outputs": []
    },
    {
      "cell_type": "code",
      "metadata": {
        "id": "HryCKieOzJBY"
      },
      "source": [
        "for i in range(len(X_test)):\n",
        "    X_test_new.append(getCleanedReview(X_test[i]))\n",
        "    if y_test[25000+i] == 'positive':\n",
        "        y_test_new.append(1)\n",
        "    else:\n",
        "        y_test_new.append(0)"
      ],
      "execution_count": null,
      "outputs": []
    },
    {
      "cell_type": "code",
      "metadata": {
        "id": "ZIBGfpAGzKdC"
      },
      "source": [
        "df_test=pd.DataFrame()"
      ],
      "execution_count": null,
      "outputs": []
    },
    {
      "cell_type": "code",
      "metadata": {
        "id": "m6twYJImzMgm"
      },
      "source": [
        "\n",
        "df_test[\"cleaned_test_review\"]=X_test_new\n",
        "X_test=df_test[\"cleaned_test_review\"]"
      ],
      "execution_count": null,
      "outputs": []
    },
    {
      "cell_type": "code",
      "metadata": {
        "id": "pX7dDcnazOPg"
      },
      "source": [
        "X_test.dropna()\n",
        "cvt1 = CountVectorizer(analyzer=getCleanedReview,max_features=6000)\n",
        "#cvta= CountVectorizer(analyzer=getCleanedReview,max_features=6000)\n",
        "X_test_v = cvt1.fit_transform(X_test.apply(lambda x: np.str_(x)))\n",
        "#X_test_v_a = cvta.fit_transform(X_test.apply(lambda x: np.str_(x)))"
      ],
      "execution_count": null,
      "outputs": []
    },
    {
      "cell_type": "code",
      "metadata": {
        "id": "cm33-C5JzRe4"
      },
      "source": [
        "y_test=np.array(y_test_new)"
      ],
      "execution_count": null,
      "outputs": []
    },
    {
      "cell_type": "code",
      "metadata": {
        "id": "46g9KrHhzTQy"
      },
      "source": [
        "X_test_v=X_test_v.toarray()\n",
        "#X_test_v_a=X_test_v_a.toarray()"
      ],
      "execution_count": null,
      "outputs": []
    },
    {
      "cell_type": "code",
      "metadata": {
        "colab": {
          "base_uri": "https://localhost:8080/"
        },
        "id": "ejZBzi7AzU5p",
        "outputId": "3035e6bb-fd02-4ed2-ff9c-9d0741f6fb52"
      },
      "source": [
        "gnb.score(X_test_v,y_test) #original accuracy"
      ],
      "execution_count": null,
      "outputs": [
        {
          "output_type": "execute_result",
          "data": {
            "text/plain": [
              "0.49"
            ]
          },
          "metadata": {},
          "execution_count": 151
        }
      ]
    },
    {
      "cell_type": "code",
      "metadata": {
        "colab": {
          "base_uri": "https://localhost:8080/"
        },
        "id": "bAHKMAxRzWeX",
        "outputId": "0a4788da-9a7f-4cfd-c3cc-5bab8193c48a"
      },
      "source": [
        "gnb2.score(X_test_v,y_test) #augmented accuracy"
      ],
      "execution_count": null,
      "outputs": [
        {
          "output_type": "execute_result",
          "data": {
            "text/plain": [
              "0.5433333333333333"
            ]
          },
          "metadata": {},
          "execution_count": 152
        }
      ]
    },
    {
      "cell_type": "code",
      "metadata": {
        "id": "R0Mc7jENzeHc"
      },
      "source": [
        ""
      ],
      "execution_count": null,
      "outputs": []
    }
  ]
}