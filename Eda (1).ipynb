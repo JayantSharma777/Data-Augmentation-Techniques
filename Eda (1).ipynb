{
  "nbformat": 4,
  "nbformat_minor": 0,
  "metadata": {
    "colab": {
      "provenance": []
    },
    "kernelspec": {
      "name": "python3",
      "display_name": "Python 3"
    },
    "language_info": {
      "name": "python"
    }
  },
  "cells": [
    {
      "cell_type": "code",
      "metadata": {
        "colab": {
          "base_uri": "https://localhost:8080/"
        },
        "id": "-95_WcA9mqSt",
        "outputId": "cbad4c16-a787-499a-89f7-42a0561a1b33"
      },
      "source": [
        "! pip install nltk\n",
        "import nltk\n",
        "#nltk.download()\n",
        "nltk.download('wordnet')"
      ],
      "execution_count": null,
      "outputs": [
        {
          "output_type": "stream",
          "text": [
            "Requirement already satisfied: nltk in /usr/local/lib/python3.7/dist-packages (3.2.5)\n",
            "Requirement already satisfied: six in /usr/local/lib/python3.7/dist-packages (from nltk) (1.15.0)\n",
            "[nltk_data] Downloading package wordnet to /root/nltk_data...\n",
            "[nltk_data]   Package wordnet is already up-to-date!\n"
          ],
          "name": "stdout"
        },
        {
          "output_type": "execute_result",
          "data": {
            "text/plain": [
              "True"
            ]
          },
          "metadata": {
            "tags": []
          },
          "execution_count": 31
        }
      ]
    },
    {
      "cell_type": "code",
      "metadata": {
        "id": "0l7rtd_qoJ2f"
      },
      "source": [
        "import numpy as np\n",
        "import pandas as pd\n",
        "from nltk.corpus import wordnet\n",
        "from nltk.corpus import stopwords"
      ],
      "execution_count": null,
      "outputs": []
    },
    {
      "cell_type": "code",
      "metadata": {
        "colab": {
          "base_uri": "https://localhost:8080/",
          "height": 202
        },
        "id": "zTKqnkZI08y8",
        "outputId": "701eb89c-8330-44e5-f1f9-9873613ab08b"
      },
      "source": [
        "data=pd.read_csv('train.csv')\n",
        "list_to_drop = ['textID','selected_text','sentiment']\n",
        "data.drop(list_to_drop,axis=1,inplace=True)\n",
        "data.head()\n"
      ],
      "execution_count": null,
      "outputs": [
        {
          "output_type": "execute_result",
          "data": {
            "text/html": [
              "<div>\n",
              "<style scoped>\n",
              "    .dataframe tbody tr th:only-of-type {\n",
              "        vertical-align: middle;\n",
              "    }\n",
              "\n",
              "    .dataframe tbody tr th {\n",
              "        vertical-align: top;\n",
              "    }\n",
              "\n",
              "    .dataframe thead th {\n",
              "        text-align: right;\n",
              "    }\n",
              "</style>\n",
              "<table border=\"1\" class=\"dataframe\">\n",
              "  <thead>\n",
              "    <tr style=\"text-align: right;\">\n",
              "      <th></th>\n",
              "      <th>text</th>\n",
              "    </tr>\n",
              "  </thead>\n",
              "  <tbody>\n",
              "    <tr>\n",
              "      <th>0</th>\n",
              "      <td>I`d have responded, if I were going</td>\n",
              "    </tr>\n",
              "    <tr>\n",
              "      <th>1</th>\n",
              "      <td>Sooo SAD I will miss you here in San Diego!!!</td>\n",
              "    </tr>\n",
              "    <tr>\n",
              "      <th>2</th>\n",
              "      <td>my boss is bullying me...</td>\n",
              "    </tr>\n",
              "    <tr>\n",
              "      <th>3</th>\n",
              "      <td>what interview! leave me alone</td>\n",
              "    </tr>\n",
              "    <tr>\n",
              "      <th>4</th>\n",
              "      <td>Sons of ****, why couldn`t they put them on t...</td>\n",
              "    </tr>\n",
              "  </tbody>\n",
              "</table>\n",
              "</div>"
            ],
            "text/plain": [
              "                                                text\n",
              "0                I`d have responded, if I were going\n",
              "1      Sooo SAD I will miss you here in San Diego!!!\n",
              "2                          my boss is bullying me...\n",
              "3                     what interview! leave me alone\n",
              "4   Sons of ****, why couldn`t they put them on t..."
            ]
          },
          "metadata": {
            "tags": []
          },
          "execution_count": 71
        }
      ]
    },
    {
      "cell_type": "code",
      "metadata": {
        "id": "QydOJCwTm-xb"
      },
      "source": [
        "\n",
        "import random"
      ],
      "execution_count": null,
      "outputs": []
    },
    {
      "cell_type": "markdown",
      "metadata": {
        "id": "9Fi9uTHvqjd-"
      },
      "source": [
        "**Synonym Replacement(SR)**"
      ]
    },
    {
      "cell_type": "code",
      "metadata": {
        "colab": {
          "base_uri": "https://localhost:8080/"
        },
        "id": "YQ47NK3Lm3hC",
        "outputId": "0c573caf-de81-4742-a74c-1f1f5c098a97"
      },
      "source": [
        "stop_words = []\n",
        "for w in stopwords.words('english'):\n",
        "    stop_words.append(w)\n",
        "print(stop_words)"
      ],
      "execution_count": null,
      "outputs": [
        {
          "output_type": "stream",
          "text": [
            "['i', 'me', 'my', 'myself', 'we', 'our', 'ours', 'ourselves', 'you', \"you're\", \"you've\", \"you'll\", \"you'd\", 'your', 'yours', 'yourself', 'yourselves', 'he', 'him', 'his', 'himself', 'she', \"she's\", 'her', 'hers', 'herself', 'it', \"it's\", 'its', 'itself', 'they', 'them', 'their', 'theirs', 'themselves', 'what', 'which', 'who', 'whom', 'this', 'that', \"that'll\", 'these', 'those', 'am', 'is', 'are', 'was', 'were', 'be', 'been', 'being', 'have', 'has', 'had', 'having', 'do', 'does', 'did', 'doing', 'a', 'an', 'the', 'and', 'but', 'if', 'or', 'because', 'as', 'until', 'while', 'of', 'at', 'by', 'for', 'with', 'about', 'against', 'between', 'into', 'through', 'during', 'before', 'after', 'above', 'below', 'to', 'from', 'up', 'down', 'in', 'out', 'on', 'off', 'over', 'under', 'again', 'further', 'then', 'once', 'here', 'there', 'when', 'where', 'why', 'how', 'all', 'any', 'both', 'each', 'few', 'more', 'most', 'other', 'some', 'such', 'no', 'nor', 'not', 'only', 'own', 'same', 'so', 'than', 'too', 'very', 's', 't', 'can', 'will', 'just', 'don', \"don't\", 'should', \"should've\", 'now', 'd', 'll', 'm', 'o', 're', 've', 'y', 'ain', 'aren', \"aren't\", 'couldn', \"couldn't\", 'didn', \"didn't\", 'doesn', \"doesn't\", 'hadn', \"hadn't\", 'hasn', \"hasn't\", 'haven', \"haven't\", 'isn', \"isn't\", 'ma', 'mightn', \"mightn't\", 'mustn', \"mustn't\", 'needn', \"needn't\", 'shan', \"shan't\", 'shouldn', \"shouldn't\", 'wasn', \"wasn't\", 'weren', \"weren't\", 'won', \"won't\", 'wouldn', \"wouldn't\"]\n"
          ],
          "name": "stdout"
        }
      ]
    },
    {
      "cell_type": "code",
      "metadata": {
        "id": "dq0-nP-4mx0W"
      },
      "source": [
        "def get_synonyms(word):\n",
        "    \n",
        "    synonyms = set()\n",
        "    \n",
        "    for syn in wordnet.synsets(word):\n",
        "        for l in syn.lemmas():\n",
        "            synonym = l.name().replace(\"_\", \" \").replace(\"-\", \" \").lower()\n",
        "            synonyms.add(synonym) \n",
        "    if word in synonyms:\n",
        "        synonyms.remove(word)\n",
        "    \n",
        "    return list(synonyms)"
      ],
      "execution_count": null,
      "outputs": []
    },
    {
      "cell_type": "code",
      "metadata": {
        "id": "2qZ6uCPnp7P5"
      },
      "source": [
        "def synonym_replacement(words, n):\n",
        "    \n",
        "    words = words.split()\n",
        "    #print(words)\n",
        "    \n",
        "    new_words = words.copy()\n",
        "    random_word_list = list(set([word for word in words if word not in stop_words]))\n",
        "    random.shuffle(random_word_list)\n",
        "    num_replaced = 0\n",
        "    \n",
        "    for random_word in random_word_list:\n",
        "        synonyms = get_synonyms(random_word)\n",
        "        \n",
        "        if len(synonyms) >= 1:\n",
        "            synonym = random.choice(list(synonyms))\n",
        "            new_words = [synonym if word == random_word else word for word in new_words]\n",
        "            num_replaced += 1\n",
        "        \n",
        "        if num_replaced >= n: #only replace up to n words\n",
        "            break\n",
        "\n",
        "    sentence = ' '.join(new_words)\n",
        "\n",
        "    return sentence"
      ],
      "execution_count": null,
      "outputs": []
    },
    {
      "cell_type": "code",
      "metadata": {
        "colab": {
          "base_uri": "https://localhost:8080/",
          "height": 35
        },
        "id": "k-pQ_aqfqIdQ",
        "outputId": "d32729c8-8e8a-44b1-da01-8108d15f09b4"
      },
      "source": [
        "synonym_replacement('hey man how are you doing',3)"
      ],
      "execution_count": null,
      "outputs": [
        {
          "output_type": "execute_result",
          "data": {
            "application/vnd.google.colaboratory.intrinsic+json": {
              "type": "string"
            },
            "text/plain": [
              "'hey homo how are you doing'"
            ]
          },
          "metadata": {
            "tags": []
          },
          "execution_count": 62
        }
      ]
    },
    {
      "cell_type": "markdown",
      "metadata": {
        "id": "WcxMDOZxqrIk"
      },
      "source": [
        "**Random Deletion(RD)**"
      ]
    },
    {
      "cell_type": "code",
      "metadata": {
        "id": "dpubPbkvqPvp"
      },
      "source": [
        "def random_deletion(words, p):\n",
        "\n",
        "    words = words.split()\n",
        "    \n",
        "    #obviously, if there's only one word, don't delete it\n",
        "    if len(words) == 1:\n",
        "        return words\n",
        "\n",
        "    #randomly delete words with probability p\n",
        "    new_words = []\n",
        "    for word in words:\n",
        "        r = random.uniform(0, 1)\n",
        "        if r > p:\n",
        "            new_words.append(word)\n",
        "\n",
        "    #if you end up deleting all words, just return a random word\n",
        "    if len(new_words) == 0:\n",
        "        rand_int = random.randint(0, len(words)-1)\n",
        "        return [words[rand_int]]\n",
        "\n",
        "    sentence = ' '.join(new_words)\n",
        "    \n",
        "    return sentence"
      ],
      "execution_count": null,
      "outputs": []
    },
    {
      "cell_type": "markdown",
      "metadata": {
        "id": "4t14a-VSrn1u"
      },
      "source": [
        "**Random Swap (RS)**"
      ]
    },
    {
      "cell_type": "code",
      "metadata": {
        "id": "B8H9nunfruNr"
      },
      "source": [
        "def swap_word(new_words):\n",
        "    \n",
        "    random_idx_1 = random.randint(0, len(new_words)-1)\n",
        "    random_idx_2 = random_idx_1\n",
        "    counter = 0\n",
        "    \n",
        "    while random_idx_2 == random_idx_1:\n",
        "        random_idx_2 = random.randint(0, len(new_words)-1)\n",
        "        counter += 1\n",
        "        if counter > 3:\n",
        "            return new_words\n",
        "    \n",
        "    new_words[random_idx_1], new_words[random_idx_2] = new_words[random_idx_2], new_words[random_idx_1] \n",
        "    return new_words\n",
        "\n",
        "# This will Swap the words"
      ],
      "execution_count": null,
      "outputs": []
    },
    {
      "cell_type": "code",
      "metadata": {
        "id": "JHCZGy6yrzWV"
      },
      "source": [
        "def random_swap(words, n):\n",
        "    \n",
        "    words = words.split()\n",
        "    new_words = words.copy()\n",
        "    # n is the number of words to be swapped\n",
        "    for _ in range(n):\n",
        "        new_words = swap_word(new_words)\n",
        "        \n",
        "    sentence = ' '.join(new_words)\n",
        "    \n",
        "    return sentence"
      ],
      "execution_count": null,
      "outputs": []
    },
    {
      "cell_type": "markdown",
      "metadata": {
        "id": "tgkyuglNtmQR"
      },
      "source": [
        "**`Random Insertion(RI)`**"
      ]
    },
    {
      "cell_type": "code",
      "metadata": {
        "id": "qGG7WToer2KG"
      },
      "source": [
        "def random_insertion(words, n):\n",
        "    \n",
        "    words = words.split()\n",
        "    new_words = words.copy()\n",
        "    \n",
        "    for _ in range(n):\n",
        "        add_word(new_words)\n",
        "        \n",
        "    sentence = ' '.join(new_words)\n",
        "    return sentence\n",
        "\n",
        "def add_word(new_words):\n",
        "    \n",
        "    synonyms = []\n",
        "    counter = 0\n",
        "    \n",
        "    while len(synonyms) < 1:\n",
        "        random_word = new_words[random.randint(0, len(new_words)-1)]\n",
        "        synonyms = get_synonyms(random_word)\n",
        "        counter += 1\n",
        "        if counter >= 10:\n",
        "            return\n",
        "        \n",
        "    random_synonym = synonyms[0]\n",
        "    random_idx = random.randint(0, len(new_words)-1)\n",
        "    new_words.insert(random_idx, random_synonym)"
      ],
      "execution_count": null,
      "outputs": []
    },
    {
      "cell_type": "code",
      "metadata": {
        "id": "mNB_QT-_tzhX"
      },
      "source": [
        "def aug(sent,n,p):\n",
        "    print(f\" Original Sentence : {sent}\")\n",
        "    print(f\" SR Augmented Sentence : {synonym_replacement(sent,n)}\")\n",
        "    print(f\" RD Augmented Sentence : {random_deletion(sent,p)}\")\n",
        "    print(f\" RS Augmented Sentence : {random_swap(sent,n)}\")\n",
        "    print(f\" RI Augmented Sentence : {random_insertion(sent,n)}\")\n",
        "    "
      ],
      "execution_count": null,
      "outputs": []
    },
    {
      "cell_type": "code",
      "metadata": {
        "colab": {
          "base_uri": "https://localhost:8080/"
        },
        "id": "TXEfcKI332OM",
        "outputId": "8c5da447-9bcc-481e-b07e-889b2263a73b"
      },
      "source": [
        "aug(data['text'][0],4,0.3)"
      ],
      "execution_count": null,
      "outputs": [
        {
          "output_type": "stream",
          "text": [
            " Original Sentence :  I`d have responded, if I were going\n",
            " SR Augmented Sentence : I`d have responded, if one were croak\n",
            " RD Augmented Sentence : I`d have responded, if going\n",
            " RS Augmented Sentence : if have were I`d going I responded,\n",
            " RI Augmented Sentence : I`d have receive responded, cost receive if I were receive going\n"
          ],
          "name": "stdout"
        }
      ]
    },
    {
      "cell_type": "code",
      "metadata": {
        "id": "VxMMx6ix37tl"
      },
      "source": [],
      "execution_count": null,
      "outputs": []
    }
  ]
}