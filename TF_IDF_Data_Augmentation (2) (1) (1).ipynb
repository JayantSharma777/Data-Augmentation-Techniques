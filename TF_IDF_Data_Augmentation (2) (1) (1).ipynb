{
  "nbformat": 4,
  "nbformat_minor": 0,
  "metadata": {
    "colab": {
      "name": "TF_IDF_Data_Augmentation.ipynb",
      "provenance": [],
      "collapsed_sections": [],
      "machine_shape": "hm"
    },
    "kernelspec": {
      "name": "python3",
      "display_name": "Python 3"
    },
    "language_info": {
      "name": "python"
    },
    "accelerator": "GPU"
  },
  "cells": [
    {
      "cell_type": "code",
      "metadata": {
        "id": "IE-oob0eXMnJ"
      },
      "source": [
        "import numpy as np\n",
        "import matplotlib.pyplot as plt\n",
        "import pandas as pd\n",
        "import random\n",
        "import string \n",
        "import re\n",
        "from scipy import spatial\n",
        "from sklearn.manifold import TSNE\n",
        "from nltk.tokenize import word_tokenize\n",
        "from nltk.stem import PorterStemmer\n",
        "from nltk import pos_tag\n",
        "import os\n",
        "from sklearn.naive_bayes import GaussianNB"
      ],
      "execution_count": 1,
      "outputs": []
    },
    {
      "cell_type": "code",
      "metadata": {
        "id": "t67YkRJoXbQr"
      },
      "source": [
        "# example1=[\"I loved this movie since I was 7 and I saw it on the opening day. It was so touching and beautiful. I strongly recommend seeing for all. It's a movie to watch with your family by far.\",\n",
        "#           \"My MPAA rating: PG-13 for thematic elements, prolonged scenes of disastor, nudity/sexuality and some language.\",\n",
        "#           \"First things first Edison Chen did a fantastic believable job as a Cambodian hit-man born and bred in the dumps and a gladiatorial ring where he honed his craft of savage battery in order to survive living on the mantra of kill or be killed.\",\n",
        "#           \"In a role that had little dialogue or at least a few lines in Cambodian/Thai his performance is compelling  probably what should have been in the Jet Li vehicle Danny the Dog, where a man is bred for the sole purpose of fighting and on someone else's leash.\",\n",
        "#           \"Like Danny the Dog the much talked about bare knuckle fight sequences are not choreographed stylistically but rather designed as normal brutal fisticuffs where everything goes. This probably brought a sense of realism and grit when you see the characters slug it out at each other's throats in defending their own lives while taking it away from others. It's a grim gritty and dark movie both literally and figuratively and this sets it apart from the usual run off the mill cop thriller production.\",\n",
        "#           \"I study at Thapar Institute of Engineering and Technology Patiala. I am a prefinal year student there.\"]\n"
      ],
      "execution_count": 2,
      "outputs": []
    },
    {
      "cell_type": "code",
      "metadata": {
        "id": "19_O3it_YQOi",
        "colab": {
          "base_uri": "https://localhost:8080/"
        },
        "outputId": "81fbd706-080a-4758-cfc4-13a9f1020444"
      },
      "source": [
        "import numpy as np\n",
        "from nltk.corpus import wordnet\n",
        "from nltk.corpus import stopwords\n",
        "import nltk\n",
        "nltk.download('wordnet')\n",
        "nltk.download('stopwords')\n",
        "nltk.download('punkt')\n",
        "stopword = nltk.corpus.stopwords.words('english')"
      ],
      "execution_count": 3,
      "outputs": [
        {
          "output_type": "stream",
          "name": "stdout",
          "text": [
            "[nltk_data] Downloading package wordnet to /root/nltk_data...\n",
            "[nltk_data]   Package wordnet is already up-to-date!\n",
            "[nltk_data] Downloading package stopwords to /root/nltk_data...\n",
            "[nltk_data]   Package stopwords is already up-to-date!\n",
            "[nltk_data] Downloading package punkt to /root/nltk_data...\n",
            "[nltk_data]   Package punkt is already up-to-date!\n"
          ]
        }
      ]
    },
    {
      "cell_type": "code",
      "metadata": {
        "colab": {
          "base_uri": "https://localhost:8080/"
        },
        "id": "YmibIilp5VTA",
        "outputId": "8ced4bd4-6a67-4230-e7ce-84a96d05a915"
      },
      "source": [
        "print(stopword)"
      ],
      "execution_count": 4,
      "outputs": [
        {
          "output_type": "stream",
          "name": "stdout",
          "text": [
            "['i', 'me', 'my', 'myself', 'we', 'our', 'ours', 'ourselves', 'you', \"you're\", \"you've\", \"you'll\", \"you'd\", 'your', 'yours', 'yourself', 'yourselves', 'he', 'him', 'his', 'himself', 'she', \"she's\", 'her', 'hers', 'herself', 'it', \"it's\", 'its', 'itself', 'they', 'them', 'their', 'theirs', 'themselves', 'what', 'which', 'who', 'whom', 'this', 'that', \"that'll\", 'these', 'those', 'am', 'is', 'are', 'was', 'were', 'be', 'been', 'being', 'have', 'has', 'had', 'having', 'do', 'does', 'did', 'doing', 'a', 'an', 'the', 'and', 'but', 'if', 'or', 'because', 'as', 'until', 'while', 'of', 'at', 'by', 'for', 'with', 'about', 'against', 'between', 'into', 'through', 'during', 'before', 'after', 'above', 'below', 'to', 'from', 'up', 'down', 'in', 'out', 'on', 'off', 'over', 'under', 'again', 'further', 'then', 'once', 'here', 'there', 'when', 'where', 'why', 'how', 'all', 'any', 'both', 'each', 'few', 'more', 'most', 'other', 'some', 'such', 'no', 'nor', 'not', 'only', 'own', 'same', 'so', 'than', 'too', 'very', 's', 't', 'can', 'will', 'just', 'don', \"don't\", 'should', \"should've\", 'now', 'd', 'll', 'm', 'o', 're', 've', 'y', 'ain', 'aren', \"aren't\", 'couldn', \"couldn't\", 'didn', \"didn't\", 'doesn', \"doesn't\", 'hadn', \"hadn't\", 'hasn', \"hasn't\", 'haven', \"haven't\", 'isn', \"isn't\", 'ma', 'mightn', \"mightn't\", 'mustn', \"mustn't\", 'needn', \"needn't\", 'shan', \"shan't\", 'shouldn', \"shouldn't\", 'wasn', \"wasn't\", 'weren', \"weren't\", 'won', \"won't\", 'wouldn', \"wouldn't\"]\n"
          ]
        }
      ]
    },
    {
      "cell_type": "code",
      "metadata": {
        "id": "Dj31BzavYXFb"
      },
      "source": [
        "def get_synonyms(word):    \n",
        "    synonyms = set()\n",
        "    for syn in wordnet.synsets(word):\n",
        "        for l in syn.lemmas():\n",
        "            synonym = l.name().replace(\"_\", \" \").replace(\"-\", \" \").lower()\n",
        "            synonyms.add(synonym) \n",
        "    if word in synonyms:\n",
        "        synonyms.remove(word)\n",
        "    \n",
        "    return list(synonyms)\n",
        "def synonym_replacement(word):\n",
        "\n",
        "  synonyms = get_synonyms(word)\n",
        "  if len(synonyms) >= 1:\n",
        "    synonym = random.choice(list(synonyms))\n",
        "    return synonym\n",
        "  return word"
      ],
      "execution_count": 5,
      "outputs": []
    },
    {
      "cell_type": "code",
      "metadata": {
        "id": "52MesH04ZliB"
      },
      "source": [
        "from sklearn.feature_extraction.text import TfidfVectorizer\n",
        "def get_tf_idf_augment(text):\n",
        "  x=len(text)\n",
        "  tfidf=TfidfVectorizer()\n",
        "  vc=tfidf.fit_transform(text).toarray()\n",
        "  print(vc)\n",
        "  #print(tfidf.vocabulary_)\n",
        "  words_lib=tfidf.vocabulary_\n",
        "  new_corpus=[]\n",
        "  for i in range(x):\n",
        "    words=text[i]\n",
        "    words=words.replace(\".\",\"\")\n",
        "    #print(words)  \n",
        "    words=words.split(\" \")\n",
        "    new_words=\"\"\n",
        "    for m in words:\n",
        "      if m.lower() not in stopword:\n",
        "        if words_lib.__contains__(m):\n",
        "          if vc[i][words_lib[m.lower()]]<0.20:\n",
        "              replaced_word=synonym_replacement(m)\n",
        "              new_words+=(replaced_word)\n",
        "          else:\n",
        "            new_words+=(m.lower())\n",
        "        else:\n",
        "          new_words+=m.lower()\n",
        "      else:\n",
        "        new_words+=(m.lower())\n",
        "      new_words+=\" \"\n",
        "    #new_words=(str(new_words))\n",
        "    new_corpus.append(new_words)\n",
        "  return new_corpus "
      ],
      "execution_count": 6,
      "outputs": []
    },
    {
      "cell_type": "code",
      "metadata": {
        "id": "6P3CdJGMpMaK"
      },
      "source": [
        "df=pd.read_csv('/content/drive/MyDrive/PRISM/IMDB Dataset.csv')"
      ],
      "execution_count": 7,
      "outputs": []
    },
    {
      "cell_type": "code",
      "metadata": {
        "id": "a-_MQba8peWt",
        "outputId": "3cba835b-bdc0-4c4a-e78f-2e9461afb4f8",
        "colab": {
          "base_uri": "https://localhost:8080/",
          "height": 203
        }
      },
      "source": [
        "df.head()"
      ],
      "execution_count": 8,
      "outputs": [
        {
          "output_type": "execute_result",
          "data": {
            "text/html": [
              "<div>\n",
              "<style scoped>\n",
              "    .dataframe tbody tr th:only-of-type {\n",
              "        vertical-align: middle;\n",
              "    }\n",
              "\n",
              "    .dataframe tbody tr th {\n",
              "        vertical-align: top;\n",
              "    }\n",
              "\n",
              "    .dataframe thead th {\n",
              "        text-align: right;\n",
              "    }\n",
              "</style>\n",
              "<table border=\"1\" class=\"dataframe\">\n",
              "  <thead>\n",
              "    <tr style=\"text-align: right;\">\n",
              "      <th></th>\n",
              "      <th>review</th>\n",
              "      <th>sentiment</th>\n",
              "    </tr>\n",
              "  </thead>\n",
              "  <tbody>\n",
              "    <tr>\n",
              "      <th>0</th>\n",
              "      <td>One of the other reviewers has mentioned that ...</td>\n",
              "      <td>positive</td>\n",
              "    </tr>\n",
              "    <tr>\n",
              "      <th>1</th>\n",
              "      <td>A wonderful little production. &lt;br /&gt;&lt;br /&gt;The...</td>\n",
              "      <td>positive</td>\n",
              "    </tr>\n",
              "    <tr>\n",
              "      <th>2</th>\n",
              "      <td>I thought this was a wonderful way to spend ti...</td>\n",
              "      <td>positive</td>\n",
              "    </tr>\n",
              "    <tr>\n",
              "      <th>3</th>\n",
              "      <td>Basically there's a family where a little boy ...</td>\n",
              "      <td>negative</td>\n",
              "    </tr>\n",
              "    <tr>\n",
              "      <th>4</th>\n",
              "      <td>Petter Mattei's \"Love in the Time of Money\" is...</td>\n",
              "      <td>positive</td>\n",
              "    </tr>\n",
              "  </tbody>\n",
              "</table>\n",
              "</div>"
            ],
            "text/plain": [
              "                                              review sentiment\n",
              "0  One of the other reviewers has mentioned that ...  positive\n",
              "1  A wonderful little production. <br /><br />The...  positive\n",
              "2  I thought this was a wonderful way to spend ti...  positive\n",
              "3  Basically there's a family where a little boy ...  negative\n",
              "4  Petter Mattei's \"Love in the Time of Money\" is...  positive"
            ]
          },
          "metadata": {},
          "execution_count": 8
        }
      ]
    },
    {
      "cell_type": "code",
      "metadata": {
        "id": "estKm0kjpoaP"
      },
      "source": [
        "X=df['review']\n",
        "y=df['sentiment']"
      ],
      "execution_count": 9,
      "outputs": []
    },
    {
      "cell_type": "code",
      "metadata": {
        "id": "5u3PVRHWq74n"
      },
      "source": [
        "X=X.values.tolist()"
      ],
      "execution_count": 10,
      "outputs": []
    },
    {
      "cell_type": "code",
      "metadata": {
        "id": "QgizDyV2rb8C"
      },
      "source": [
        "X=X[:25000]\n",
        "y=y[:25000]"
      ],
      "execution_count": 11,
      "outputs": []
    },
    {
      "cell_type": "code",
      "metadata": {
        "id": "ViZdcfnJq_JI",
        "outputId": "e768fdc9-4146-49a0-ade7-bb63eed4cc53",
        "colab": {
          "base_uri": "https://localhost:8080/",
          "height": 137
        }
      },
      "source": [
        "X[0]"
      ],
      "execution_count": 12,
      "outputs": [
        {
          "output_type": "execute_result",
          "data": {
            "application/vnd.google.colaboratory.intrinsic+json": {
              "type": "string"
            },
            "text/plain": [
              "\"One of the other reviewers has mentioned that after watching just 1 Oz episode you'll be hooked. They are right, as this is exactly what happened with me.<br /><br />The first thing that struck me about Oz was its brutality and unflinching scenes of violence, which set in right from the word GO. Trust me, this is not a show for the faint hearted or timid. This show pulls no punches with regards to drugs, sex or violence. Its is hardcore, in the classic use of the word.<br /><br />It is called OZ as that is the nickname given to the Oswald Maximum Security State Penitentary. It focuses mainly on Emerald City, an experimental section of the prison where all the cells have glass fronts and face inwards, so privacy is not high on the agenda. Em City is home to many..Aryans, Muslims, gangstas, Latinos, Christians, Italians, Irish and more....so scuffles, death stares, dodgy dealings and shady agreements are never far away.<br /><br />I would say the main appeal of the show is due to the fact that it goes where other shows wouldn't dare. Forget pretty pictures painted for mainstream audiences, forget charm, forget romance...OZ doesn't mess around. The first episode I ever saw struck me as so nasty it was surreal, I couldn't say I was ready for it, but as I watched more, I developed a taste for Oz, and got accustomed to the high levels of graphic violence. Not just violence, but injustice (crooked guards who'll be sold out for a nickel, inmates who'll kill on order and get away with it, well mannered, middle class inmates being turned into prison bitches due to their lack of street skills or prison experience) Watching Oz, you may become comfortable with what is uncomfortable viewing....thats if you can get in touch with your darker side.\""
            ]
          },
          "metadata": {},
          "execution_count": 12
        }
      ]
    },
    {
      "cell_type": "code",
      "metadata": {
        "colab": {
          "base_uri": "https://localhost:8080/"
        },
        "id": "tZpi_y4TbL7H",
        "outputId": "a75250a0-9e58-40d0-ee66-81604b9e0532"
      },
      "source": [
        "Augmented_text=get_tf_idf_augment(X)"
      ],
      "execution_count": 13,
      "outputs": [
        {
          "output_type": "stream",
          "name": "stdout",
          "text": [
            "[[0. 0. 0. ... 0. 0. 0.]\n",
            " [0. 0. 0. ... 0. 0. 0.]\n",
            " [0. 0. 0. ... 0. 0. 0.]\n",
            " ...\n",
            " [0. 0. 0. ... 0. 0. 0.]\n",
            " [0. 0. 0. ... 0. 0. 0.]\n",
            " [0. 0. 0. ... 0. 0. 0.]]\n"
          ]
        }
      ]
    },
    {
      "cell_type": "code",
      "metadata": {
        "id": "UnqhN_2TsSvV",
        "outputId": "ae1c42c6-ba55-44f6-ee3a-e0b210436166",
        "colab": {
          "base_uri": "https://localhost:8080/",
          "height": 137
        }
      },
      "source": [
        "Augmented_text[0]"
      ],
      "execution_count": 14,
      "outputs": [
        {
          "output_type": "execute_result",
          "data": {
            "application/vnd.google.colaboratory.intrinsic+json": {
              "type": "string"
            },
            "text/plain": [
              "\"one of the other commentator has refer that after keep an eye on just 1 oz instalment you'll be snare they are right, as this is on the dot what find with me<br /><br />the number 1 matter that chance on me about oz was its savagery and unshrinking shot of violence, which congeal in decently from the give voice go trust me, this is not a express for the fainthearted hearted or faint this record extract no puncher with affect to drugs, excite or fury its is hardcore, in the greco roman utilise of the word<br /><br />it is ring oz as that is the moniker contribute to the oswald maximum security state penitentary it concenter in the main on emerald city, an observational surgical incision of the prison house where all the electric cell have drinking glass movement and aspect inwards, so secrecy is not eminent on the order of business em city is menage to manyaryans, muslims, gangstas, latinos, christians, italians, irish and moreso scuffles, demise stares, wily grapple and shadowed arrangement are ne'er interahamwe away<br /><br />i would articulate the primary collection of the prove is ascribable to the fact that it spell where other picture wouldn't daring forget jolly show particolored for mainstream audiences, block charm, block romanceoz doesn't muddle close to the beginning installment i of all time see shine me as so smutty it was surreal, i couldn't suppose i was fix for it, but as i watch over more, i grow a try out for oz, and sire habituate to the heights flush of lifelike force not just violence, but unfairness (crooked precaution who'll be trade out for a nickel, yardbird who'll belt down on ordinate and cause off with it, easily mannered, mediate assort inmate being turn into prison house beef imputable to their want of street skill or prison house experience) watching oz, you english hawthorn get easy with what is uncomfortable viewingthats if you can induce in advert with your coloured side of meat \""
            ]
          },
          "metadata": {},
          "execution_count": 14
        }
      ]
    },
    {
      "cell_type": "code",
      "metadata": {
        "id": "C4ENQ8Jcu6B2"
      },
      "source": [
        "en_stopwords=set(stopwords.words('english'))\n",
        "wn = nltk.WordNetLemmatizer()"
      ],
      "execution_count": 15,
      "outputs": []
    },
    {
      "cell_type": "code",
      "metadata": {
        "id": "aWvOaUGzslZc"
      },
      "source": [
        "def getCleanedReview(review):\n",
        "    review=review.lower()\n",
        "    text_lc = \"\".join([word.lower() for word in review if word not in string.punctuation])\n",
        "    #print(text_lc)\n",
        "    text_rc=re.sub('[0-9]+',' ',text_lc)\n",
        "    #tokenize\n",
        "    tokens=word_tokenize(text_rc,language='english')\n",
        "    #print(tokens)\n",
        "    new_tokens=[token for token in tokens if token not in en_stopwords]\n",
        "    #print(new_tokens)\n",
        "    lemmatized_tokens=[wn.lemmatize(token) for token in new_tokens]\n",
        "    return lemmatized_tokens"
      ],
      "execution_count": 16,
      "outputs": []
    },
    {
      "cell_type": "code",
      "metadata": {
        "id": "tmFZh4wAbWWz"
      },
      "source": [
        "original=[]\n",
        "X_train=[]\n",
        "X_augmented_train=[]"
      ],
      "execution_count": 17,
      "outputs": []
    },
    {
      "cell_type": "code",
      "metadata": {
        "id": "uNiNevLdvFdR"
      },
      "source": [
        "for i in range(len(X)):\n",
        "    X_train.append(getCleanedReview(X[i]))\n",
        "    X_augmented_train.append(getCleanedReview(Augmented_text[i]))\n",
        "    if y[i] == 'positive':\n",
        "        original.append(1)\n",
        "    else:\n",
        "        original.append(0)\n"
      ],
      "execution_count": 18,
      "outputs": []
    },
    {
      "cell_type": "code",
      "metadata": {
        "id": "Lw2IZTFfythW"
      },
      "source": [
        "df_new=[]\n",
        "df_new=pd.DataFrame(df_new)\n"
      ],
      "execution_count": 19,
      "outputs": []
    },
    {
      "cell_type": "code",
      "metadata": {
        "id": "Qiv8Y5vxv8uL"
      },
      "source": [
        "df_new[\"cleaned_review\"]=X_train\n",
        "X_train=df_new[\"cleaned_review\"]\n",
        "df_new[\"cleaned_augmented_review\"]=X_augmented_train\n",
        "X_augmented_train=df_new[\"cleaned_augmented_review\"]"
      ],
      "execution_count": 20,
      "outputs": []
    },
    {
      "cell_type": "code",
      "metadata": {
        "id": "-eKKjQOhx2Nl",
        "outputId": "808ff761-4656-4640-9024-ef79559682b4",
        "colab": {
          "base_uri": "https://localhost:8080/",
          "height": 203
        }
      },
      "source": [
        "df_new.head()"
      ],
      "execution_count": 21,
      "outputs": [
        {
          "output_type": "execute_result",
          "data": {
            "text/html": [
              "<div>\n",
              "<style scoped>\n",
              "    .dataframe tbody tr th:only-of-type {\n",
              "        vertical-align: middle;\n",
              "    }\n",
              "\n",
              "    .dataframe tbody tr th {\n",
              "        vertical-align: top;\n",
              "    }\n",
              "\n",
              "    .dataframe thead th {\n",
              "        text-align: right;\n",
              "    }\n",
              "</style>\n",
              "<table border=\"1\" class=\"dataframe\">\n",
              "  <thead>\n",
              "    <tr style=\"text-align: right;\">\n",
              "      <th></th>\n",
              "      <th>cleaned_review</th>\n",
              "      <th>cleaned_augmented_review</th>\n",
              "    </tr>\n",
              "  </thead>\n",
              "  <tbody>\n",
              "    <tr>\n",
              "      <th>0</th>\n",
              "      <td>[one, reviewer, mentioned, watching, oz, episo...</td>\n",
              "      <td>[one, commentator, refer, keep, eye, oz, insta...</td>\n",
              "    </tr>\n",
              "    <tr>\n",
              "      <th>1</th>\n",
              "      <td>[wonderful, little, production, br, br, filmin...</td>\n",
              "      <td>[fantastic, short, output, br, br, take, profi...</td>\n",
              "    </tr>\n",
              "    <tr>\n",
              "      <th>2</th>\n",
              "      <td>[thought, wonderful, way, spend, time, hot, su...</td>\n",
              "      <td>[retrieve, howling, agency, expend, prison, te...</td>\n",
              "    </tr>\n",
              "    <tr>\n",
              "      <th>3</th>\n",
              "      <td>[basically, there, family, little, boy, jake, ...</td>\n",
              "      <td>[basically, there, household, minuscule, son, ...</td>\n",
              "    </tr>\n",
              "    <tr>\n",
              "      <th>4</th>\n",
              "      <td>[petter, matteis, love, time, money, visually,...</td>\n",
              "      <td>[petter, matteis, love, time, money, visually,...</td>\n",
              "    </tr>\n",
              "  </tbody>\n",
              "</table>\n",
              "</div>"
            ],
            "text/plain": [
              "                                      cleaned_review                           cleaned_augmented_review\n",
              "0  [one, reviewer, mentioned, watching, oz, episo...  [one, commentator, refer, keep, eye, oz, insta...\n",
              "1  [wonderful, little, production, br, br, filmin...  [fantastic, short, output, br, br, take, profi...\n",
              "2  [thought, wonderful, way, spend, time, hot, su...  [retrieve, howling, agency, expend, prison, te...\n",
              "3  [basically, there, family, little, boy, jake, ...  [basically, there, household, minuscule, son, ...\n",
              "4  [petter, matteis, love, time, money, visually,...  [petter, matteis, love, time, money, visually,..."
            ]
          },
          "metadata": {},
          "execution_count": 21
        }
      ]
    },
    {
      "cell_type": "code",
      "metadata": {
        "id": "LY8m1roE1Ssy"
      },
      "source": [
        "from sklearn.feature_extraction.text import CountVectorizer\n",
        "from sklearn.model_selection import train_test_split\n",
        "import sklearn.metrics"
      ],
      "execution_count": 22,
      "outputs": []
    },
    {
      "cell_type": "code",
      "metadata": {
        "id": "RVQLPYWc0IvS"
      },
      "source": [
        "X_train.dropna()\n",
        "cvt = CountVectorizer(analyzer=getCleanedReview,max_features=20000)\n",
        "X_v = cvt.fit_transform(X_train.apply(lambda x: np.str_(x)))\n",
        "X_augmented_v=cvt.fit_transform(X_augmented_train.apply(lambda x: np.str_(x)))"
      ],
      "execution_count": 38,
      "outputs": []
    },
    {
      "cell_type": "code",
      "metadata": {
        "id": "u9w9OZMO0j4T"
      },
      "source": [
        "y_train=np.array(original)"
      ],
      "execution_count": 39,
      "outputs": []
    },
    {
      "cell_type": "code",
      "metadata": {
        "id": "8_oTZFBo1jSr",
        "outputId": "2e0c0d05-3d9f-47fd-d581-4069cc9bfef5",
        "colab": {
          "base_uri": "https://localhost:8080/"
        }
      },
      "source": [
        "gnb=GaussianNB()\n",
        "X_v=X_v.toarray()\n",
        "X_augmented_v=X_augmented_v.toarray()\n",
        "gnb.fit(X_v,y_train)"
      ],
      "execution_count": 40,
      "outputs": [
        {
          "output_type": "execute_result",
          "data": {
            "text/plain": [
              "GaussianNB(priors=None, var_smoothing=1e-09)"
            ]
          },
          "metadata": {},
          "execution_count": 40
        }
      ]
    },
    {
      "cell_type": "code",
      "metadata": {
        "id": "iWfHLylV14z4",
        "outputId": "38a4fae1-9e00-42f8-b52f-97f5484dd0e8",
        "colab": {
          "base_uri": "https://localhost:8080/"
        }
      },
      "source": [
        "gnb2=GaussianNB()\n",
        "gnb2.fit(X_augmented_v,y_train)"
      ],
      "execution_count": 41,
      "outputs": [
        {
          "output_type": "execute_result",
          "data": {
            "text/plain": [
              "GaussianNB(priors=None, var_smoothing=1e-09)"
            ]
          },
          "metadata": {},
          "execution_count": 41
        }
      ]
    },
    {
      "cell_type": "code",
      "metadata": {
        "id": "lugSEzL22peQ"
      },
      "source": [
        "X_test=df['review'].iloc[25000:50000]\n",
        "y_test=df['sentiment'].iloc[25000:50000]"
      ],
      "execution_count": 42,
      "outputs": []
    },
    {
      "cell_type": "code",
      "metadata": {
        "id": "MXm0UPnL6atZ",
        "outputId": "8a81f2ec-03dd-40d3-a807-f7cc07a734a8",
        "colab": {
          "base_uri": "https://localhost:8080/"
        }
      },
      "source": [
        "print(y_test)"
      ],
      "execution_count": 43,
      "outputs": [
        {
          "output_type": "stream",
          "name": "stdout",
          "text": [
            "25000    negative\n",
            "25001    negative\n",
            "25002    positive\n",
            "25003    positive\n",
            "25004    negative\n",
            "           ...   \n",
            "49995    positive\n",
            "49996    negative\n",
            "49997    negative\n",
            "49998    negative\n",
            "49999    negative\n",
            "Name: sentiment, Length: 25000, dtype: object\n"
          ]
        }
      ]
    },
    {
      "cell_type": "code",
      "metadata": {
        "id": "sPu-Ww9m6NGh"
      },
      "source": [
        "X_test=X_test.values.tolist()"
      ],
      "execution_count": 44,
      "outputs": []
    },
    {
      "cell_type": "code",
      "metadata": {
        "id": "LawuXBoK5fr-"
      },
      "source": [
        "X_test_new=[]\n",
        "y_test_new=[]"
      ],
      "execution_count": 45,
      "outputs": []
    },
    {
      "cell_type": "code",
      "metadata": {
        "id": "9fP8Mn5K4IVv"
      },
      "source": [
        "for i in range(len(X_test)):\n",
        "    X_test_new.append(getCleanedReview(X_test[i]))\n",
        "    if y_test[25000+i] == 'positive':\n",
        "        y_test_new.append(1)\n",
        "    else:\n",
        "        y_test_new.append(0)"
      ],
      "execution_count": 46,
      "outputs": []
    },
    {
      "cell_type": "code",
      "metadata": {
        "id": "gpdzhJsU5eyr"
      },
      "source": [
        "df_new[\"cleaned_test_review\"]=X_test_new\n",
        "X_test=df_new[\"cleaned_test_review\"]"
      ],
      "execution_count": 47,
      "outputs": []
    },
    {
      "cell_type": "code",
      "metadata": {
        "id": "qtFBigCb5e2I"
      },
      "source": [
        "X_test.dropna()\n",
        "cvt1 = CountVectorizer(analyzer=getCleanedReview,max_features=20000)\n",
        "X_test_v = cvt1.fit_transform(X_test.apply(lambda x: np.str_(x)))"
      ],
      "execution_count": 48,
      "outputs": []
    },
    {
      "cell_type": "code",
      "metadata": {
        "id": "Aj_9UZ6c7JU_"
      },
      "source": [
        "y_test=np.array(y_test_new)"
      ],
      "execution_count": 49,
      "outputs": []
    },
    {
      "cell_type": "code",
      "metadata": {
        "id": "kO7mrp0n7Ppp"
      },
      "source": [
        "X_test_v=X_test_v.toarray()"
      ],
      "execution_count": 50,
      "outputs": []
    },
    {
      "cell_type": "code",
      "metadata": {
        "id": "FiN1UMa97VJa",
        "outputId": "c875f1b8-729f-4b5d-a86a-730f5c18be8a",
        "colab": {
          "base_uri": "https://localhost:8080/"
        }
      },
      "source": [
        "gnb.score(X_test_v,y_test)"
      ],
      "execution_count": 51,
      "outputs": [
        {
          "output_type": "execute_result",
          "data": {
            "text/plain": [
              "0.49884"
            ]
          },
          "metadata": {},
          "execution_count": 51
        }
      ]
    },
    {
      "cell_type": "code",
      "metadata": {
        "id": "9tZuEpow7bzn",
        "outputId": "07d8850e-2961-4704-89b9-09c3d9e99346",
        "colab": {
          "base_uri": "https://localhost:8080/"
        }
      },
      "source": [
        "gnb2.score(X_test_v,y_test)"
      ],
      "execution_count": 52,
      "outputs": [
        {
          "output_type": "execute_result",
          "data": {
            "text/plain": [
              "0.49924"
            ]
          },
          "metadata": {},
          "execution_count": 52
        }
      ]
    },
    {
      "cell_type": "code",
      "metadata": {
        "id": "doZh5Ayk7xz6"
      },
      "source": [
        ""
      ],
      "execution_count": null,
      "outputs": []
    }
  ]
}