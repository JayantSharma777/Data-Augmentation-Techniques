{
  "nbformat": 4,
  "nbformat_minor": 0,
  "metadata": {
    "accelerator": "GPU",
    "colab": {
      "name": "Back_Translation_Using_MarianMt_fr.ipynb",
      "provenance": []
    },
    "kernelspec": {
      "display_name": "Python 3",
      "language": "python",
      "name": "python3"
    },
    "language_info": {
      "codemirror_mode": {
        "name": "ipython",
        "version": 3
      },
      "file_extension": ".py",
      "mimetype": "text/x-python",
      "name": "python",
      "nbconvert_exporter": "python",
      "pygments_lexer": "ipython3",
      "version": "3.8.5"
    },
    "widgets": {
      "application/vnd.jupyter.widget-state+json": {
        "524249dd9fa64ab3802b1ca395f80dbc": {
          "model_module": "@jupyter-widgets/controls",
          "model_name": "HBoxModel",
          "model_module_version": "1.5.0",
          "state": {
            "_dom_classes": [],
            "_model_module": "@jupyter-widgets/controls",
            "_model_module_version": "1.5.0",
            "_model_name": "HBoxModel",
            "_view_count": null,
            "_view_module": "@jupyter-widgets/controls",
            "_view_module_version": "1.5.0",
            "_view_name": "HBoxView",
            "box_style": "",
            "children": [
              "IPY_MODEL_977d46b05ae04e3094688f8fb364085f",
              "IPY_MODEL_deab94674cbf4992a10da3dea99e6224",
              "IPY_MODEL_0037e4ddc58741fa8ffc79246e2d168c"
            ],
            "layout": "IPY_MODEL_995e12f612814c6494a8e281a7e20911"
          }
        },
        "995e12f612814c6494a8e281a7e20911": {
          "model_module": "@jupyter-widgets/base",
          "model_name": "LayoutModel",
          "model_module_version": "1.2.0",
          "state": {
            "_model_module": "@jupyter-widgets/base",
            "_model_module_version": "1.2.0",
            "_model_name": "LayoutModel",
            "_view_count": null,
            "_view_module": "@jupyter-widgets/base",
            "_view_module_version": "1.2.0",
            "_view_name": "LayoutView",
            "align_content": null,
            "align_items": null,
            "align_self": null,
            "border": null,
            "bottom": null,
            "display": null,
            "flex": null,
            "flex_flow": null,
            "grid_area": null,
            "grid_auto_columns": null,
            "grid_auto_flow": null,
            "grid_auto_rows": null,
            "grid_column": null,
            "grid_gap": null,
            "grid_row": null,
            "grid_template_areas": null,
            "grid_template_columns": null,
            "grid_template_rows": null,
            "height": null,
            "justify_content": null,
            "justify_items": null,
            "left": null,
            "margin": null,
            "max_height": null,
            "max_width": null,
            "min_height": null,
            "min_width": null,
            "object_fit": null,
            "object_position": null,
            "order": null,
            "overflow": null,
            "overflow_x": null,
            "overflow_y": null,
            "padding": null,
            "right": null,
            "top": null,
            "visibility": null,
            "width": null
          }
        },
        "977d46b05ae04e3094688f8fb364085f": {
          "model_module": "@jupyter-widgets/controls",
          "model_name": "HTMLModel",
          "model_module_version": "1.5.0",
          "state": {
            "_dom_classes": [],
            "_model_module": "@jupyter-widgets/controls",
            "_model_module_version": "1.5.0",
            "_model_name": "HTMLModel",
            "_view_count": null,
            "_view_module": "@jupyter-widgets/controls",
            "_view_module_version": "1.5.0",
            "_view_name": "HTMLView",
            "description": "",
            "description_tooltip": null,
            "layout": "IPY_MODEL_66d6f33de8a046f8a9f449797c1f38ed",
            "placeholder": "​",
            "style": "IPY_MODEL_54d47095a1544911b6ba806b3780c3c7",
            "value": "Downloading: 100%"
          }
        },
        "deab94674cbf4992a10da3dea99e6224": {
          "model_module": "@jupyter-widgets/controls",
          "model_name": "FloatProgressModel",
          "model_module_version": "1.5.0",
          "state": {
            "_dom_classes": [],
            "_model_module": "@jupyter-widgets/controls",
            "_model_module_version": "1.5.0",
            "_model_name": "FloatProgressModel",
            "_view_count": null,
            "_view_module": "@jupyter-widgets/controls",
            "_view_module_version": "1.5.0",
            "_view_name": "ProgressView",
            "bar_style": "success",
            "description": "",
            "description_tooltip": null,
            "layout": "IPY_MODEL_1a402d15f45046c090260ff6441895d4",
            "max": 779155,
            "min": 0,
            "orientation": "horizontal",
            "style": "IPY_MODEL_285b95f537c948df860f851091f72589",
            "value": 779155
          }
        },
        "0037e4ddc58741fa8ffc79246e2d168c": {
          "model_module": "@jupyter-widgets/controls",
          "model_name": "HTMLModel",
          "model_module_version": "1.5.0",
          "state": {
            "_dom_classes": [],
            "_model_module": "@jupyter-widgets/controls",
            "_model_module_version": "1.5.0",
            "_model_name": "HTMLModel",
            "_view_count": null,
            "_view_module": "@jupyter-widgets/controls",
            "_view_module_version": "1.5.0",
            "_view_name": "HTMLView",
            "description": "",
            "description_tooltip": null,
            "layout": "IPY_MODEL_4e0855d44c0b46c9979d099afd2cdbb9",
            "placeholder": "​",
            "style": "IPY_MODEL_4b0055cd17c94b89abff806c405a17b0",
            "value": " 779k/779k [00:00&lt;00:00, 1.88MB/s]"
          }
        },
        "54d47095a1544911b6ba806b3780c3c7": {
          "model_module": "@jupyter-widgets/controls",
          "model_name": "DescriptionStyleModel",
          "model_module_version": "1.5.0",
          "state": {
            "_model_module": "@jupyter-widgets/controls",
            "_model_module_version": "1.5.0",
            "_model_name": "DescriptionStyleModel",
            "_view_count": null,
            "_view_module": "@jupyter-widgets/base",
            "_view_module_version": "1.2.0",
            "_view_name": "StyleView",
            "description_width": ""
          }
        },
        "66d6f33de8a046f8a9f449797c1f38ed": {
          "model_module": "@jupyter-widgets/base",
          "model_name": "LayoutModel",
          "model_module_version": "1.2.0",
          "state": {
            "_model_module": "@jupyter-widgets/base",
            "_model_module_version": "1.2.0",
            "_model_name": "LayoutModel",
            "_view_count": null,
            "_view_module": "@jupyter-widgets/base",
            "_view_module_version": "1.2.0",
            "_view_name": "LayoutView",
            "align_content": null,
            "align_items": null,
            "align_self": null,
            "border": null,
            "bottom": null,
            "display": null,
            "flex": null,
            "flex_flow": null,
            "grid_area": null,
            "grid_auto_columns": null,
            "grid_auto_flow": null,
            "grid_auto_rows": null,
            "grid_column": null,
            "grid_gap": null,
            "grid_row": null,
            "grid_template_areas": null,
            "grid_template_columns": null,
            "grid_template_rows": null,
            "height": null,
            "justify_content": null,
            "justify_items": null,
            "left": null,
            "margin": null,
            "max_height": null,
            "max_width": null,
            "min_height": null,
            "min_width": null,
            "object_fit": null,
            "object_position": null,
            "order": null,
            "overflow": null,
            "overflow_x": null,
            "overflow_y": null,
            "padding": null,
            "right": null,
            "top": null,
            "visibility": null,
            "width": null
          }
        },
        "285b95f537c948df860f851091f72589": {
          "model_module": "@jupyter-widgets/controls",
          "model_name": "ProgressStyleModel",
          "model_module_version": "1.5.0",
          "state": {
            "_model_module": "@jupyter-widgets/controls",
            "_model_module_version": "1.5.0",
            "_model_name": "ProgressStyleModel",
            "_view_count": null,
            "_view_module": "@jupyter-widgets/base",
            "_view_module_version": "1.2.0",
            "_view_name": "StyleView",
            "bar_color": null,
            "description_width": ""
          }
        },
        "1a402d15f45046c090260ff6441895d4": {
          "model_module": "@jupyter-widgets/base",
          "model_name": "LayoutModel",
          "model_module_version": "1.2.0",
          "state": {
            "_model_module": "@jupyter-widgets/base",
            "_model_module_version": "1.2.0",
            "_model_name": "LayoutModel",
            "_view_count": null,
            "_view_module": "@jupyter-widgets/base",
            "_view_module_version": "1.2.0",
            "_view_name": "LayoutView",
            "align_content": null,
            "align_items": null,
            "align_self": null,
            "border": null,
            "bottom": null,
            "display": null,
            "flex": null,
            "flex_flow": null,
            "grid_area": null,
            "grid_auto_columns": null,
            "grid_auto_flow": null,
            "grid_auto_rows": null,
            "grid_column": null,
            "grid_gap": null,
            "grid_row": null,
            "grid_template_areas": null,
            "grid_template_columns": null,
            "grid_template_rows": null,
            "height": null,
            "justify_content": null,
            "justify_items": null,
            "left": null,
            "margin": null,
            "max_height": null,
            "max_width": null,
            "min_height": null,
            "min_width": null,
            "object_fit": null,
            "object_position": null,
            "order": null,
            "overflow": null,
            "overflow_x": null,
            "overflow_y": null,
            "padding": null,
            "right": null,
            "top": null,
            "visibility": null,
            "width": null
          }
        },
        "4b0055cd17c94b89abff806c405a17b0": {
          "model_module": "@jupyter-widgets/controls",
          "model_name": "DescriptionStyleModel",
          "model_module_version": "1.5.0",
          "state": {
            "_model_module": "@jupyter-widgets/controls",
            "_model_module_version": "1.5.0",
            "_model_name": "DescriptionStyleModel",
            "_view_count": null,
            "_view_module": "@jupyter-widgets/base",
            "_view_module_version": "1.2.0",
            "_view_name": "StyleView",
            "description_width": ""
          }
        },
        "4e0855d44c0b46c9979d099afd2cdbb9": {
          "model_module": "@jupyter-widgets/base",
          "model_name": "LayoutModel",
          "model_module_version": "1.2.0",
          "state": {
            "_model_module": "@jupyter-widgets/base",
            "_model_module_version": "1.2.0",
            "_model_name": "LayoutModel",
            "_view_count": null,
            "_view_module": "@jupyter-widgets/base",
            "_view_module_version": "1.2.0",
            "_view_name": "LayoutView",
            "align_content": null,
            "align_items": null,
            "align_self": null,
            "border": null,
            "bottom": null,
            "display": null,
            "flex": null,
            "flex_flow": null,
            "grid_area": null,
            "grid_auto_columns": null,
            "grid_auto_flow": null,
            "grid_auto_rows": null,
            "grid_column": null,
            "grid_gap": null,
            "grid_row": null,
            "grid_template_areas": null,
            "grid_template_columns": null,
            "grid_template_rows": null,
            "height": null,
            "justify_content": null,
            "justify_items": null,
            "left": null,
            "margin": null,
            "max_height": null,
            "max_width": null,
            "min_height": null,
            "min_width": null,
            "object_fit": null,
            "object_position": null,
            "order": null,
            "overflow": null,
            "overflow_x": null,
            "overflow_y": null,
            "padding": null,
            "right": null,
            "top": null,
            "visibility": null,
            "width": null
          }
        },
        "2fd9f9c1c8294dff92fb53bae8bf5235": {
          "model_module": "@jupyter-widgets/controls",
          "model_name": "HBoxModel",
          "model_module_version": "1.5.0",
          "state": {
            "_dom_classes": [],
            "_model_module": "@jupyter-widgets/controls",
            "_model_module_version": "1.5.0",
            "_model_name": "HBoxModel",
            "_view_count": null,
            "_view_module": "@jupyter-widgets/controls",
            "_view_module_version": "1.5.0",
            "_view_name": "HBoxView",
            "box_style": "",
            "children": [
              "IPY_MODEL_aa3a7dec3c074d879cf5c7699480f8de",
              "IPY_MODEL_dd354d47bf934ce38831647d3ed554d2",
              "IPY_MODEL_bb9497b3f12b4ecc9e52dcb301613f4c"
            ],
            "layout": "IPY_MODEL_47e8551f914a48e499ac7195c8737191"
          }
        },
        "47e8551f914a48e499ac7195c8737191": {
          "model_module": "@jupyter-widgets/base",
          "model_name": "LayoutModel",
          "model_module_version": "1.2.0",
          "state": {
            "_model_module": "@jupyter-widgets/base",
            "_model_module_version": "1.2.0",
            "_model_name": "LayoutModel",
            "_view_count": null,
            "_view_module": "@jupyter-widgets/base",
            "_view_module_version": "1.2.0",
            "_view_name": "LayoutView",
            "align_content": null,
            "align_items": null,
            "align_self": null,
            "border": null,
            "bottom": null,
            "display": null,
            "flex": null,
            "flex_flow": null,
            "grid_area": null,
            "grid_auto_columns": null,
            "grid_auto_flow": null,
            "grid_auto_rows": null,
            "grid_column": null,
            "grid_gap": null,
            "grid_row": null,
            "grid_template_areas": null,
            "grid_template_columns": null,
            "grid_template_rows": null,
            "height": null,
            "justify_content": null,
            "justify_items": null,
            "left": null,
            "margin": null,
            "max_height": null,
            "max_width": null,
            "min_height": null,
            "min_width": null,
            "object_fit": null,
            "object_position": null,
            "order": null,
            "overflow": null,
            "overflow_x": null,
            "overflow_y": null,
            "padding": null,
            "right": null,
            "top": null,
            "visibility": null,
            "width": null
          }
        },
        "aa3a7dec3c074d879cf5c7699480f8de": {
          "model_module": "@jupyter-widgets/controls",
          "model_name": "HTMLModel",
          "model_module_version": "1.5.0",
          "state": {
            "_dom_classes": [],
            "_model_module": "@jupyter-widgets/controls",
            "_model_module_version": "1.5.0",
            "_model_name": "HTMLModel",
            "_view_count": null,
            "_view_module": "@jupyter-widgets/controls",
            "_view_module_version": "1.5.0",
            "_view_name": "HTMLView",
            "description": "",
            "description_tooltip": null,
            "layout": "IPY_MODEL_142ab08d4a654b508da8a81b57f370a0",
            "placeholder": "​",
            "style": "IPY_MODEL_53d096ecbe6c4b539bc61b5521b0b797",
            "value": "Downloading: 100%"
          }
        },
        "dd354d47bf934ce38831647d3ed554d2": {
          "model_module": "@jupyter-widgets/controls",
          "model_name": "FloatProgressModel",
          "model_module_version": "1.5.0",
          "state": {
            "_dom_classes": [],
            "_model_module": "@jupyter-widgets/controls",
            "_model_module_version": "1.5.0",
            "_model_name": "FloatProgressModel",
            "_view_count": null,
            "_view_module": "@jupyter-widgets/controls",
            "_view_module_version": "1.5.0",
            "_view_name": "ProgressView",
            "bar_style": "success",
            "description": "",
            "description_tooltip": null,
            "layout": "IPY_MODEL_aceadb8cb2034dfa9bf389abf00c67d8",
            "max": 799001,
            "min": 0,
            "orientation": "horizontal",
            "style": "IPY_MODEL_9d70bb4975004b188ffcea68371fd3cd",
            "value": 799001
          }
        },
        "bb9497b3f12b4ecc9e52dcb301613f4c": {
          "model_module": "@jupyter-widgets/controls",
          "model_name": "HTMLModel",
          "model_module_version": "1.5.0",
          "state": {
            "_dom_classes": [],
            "_model_module": "@jupyter-widgets/controls",
            "_model_module_version": "1.5.0",
            "_model_name": "HTMLModel",
            "_view_count": null,
            "_view_module": "@jupyter-widgets/controls",
            "_view_module_version": "1.5.0",
            "_view_name": "HTMLView",
            "description": "",
            "description_tooltip": null,
            "layout": "IPY_MODEL_2ba9eebbe6c440d494d454ced1a7f242",
            "placeholder": "​",
            "style": "IPY_MODEL_a939ba48bac447e38cf6787ac23cc406",
            "value": " 799k/799k [00:00&lt;00:00, 751kB/s]"
          }
        },
        "53d096ecbe6c4b539bc61b5521b0b797": {
          "model_module": "@jupyter-widgets/controls",
          "model_name": "DescriptionStyleModel",
          "model_module_version": "1.5.0",
          "state": {
            "_model_module": "@jupyter-widgets/controls",
            "_model_module_version": "1.5.0",
            "_model_name": "DescriptionStyleModel",
            "_view_count": null,
            "_view_module": "@jupyter-widgets/base",
            "_view_module_version": "1.2.0",
            "_view_name": "StyleView",
            "description_width": ""
          }
        },
        "142ab08d4a654b508da8a81b57f370a0": {
          "model_module": "@jupyter-widgets/base",
          "model_name": "LayoutModel",
          "model_module_version": "1.2.0",
          "state": {
            "_model_module": "@jupyter-widgets/base",
            "_model_module_version": "1.2.0",
            "_model_name": "LayoutModel",
            "_view_count": null,
            "_view_module": "@jupyter-widgets/base",
            "_view_module_version": "1.2.0",
            "_view_name": "LayoutView",
            "align_content": null,
            "align_items": null,
            "align_self": null,
            "border": null,
            "bottom": null,
            "display": null,
            "flex": null,
            "flex_flow": null,
            "grid_area": null,
            "grid_auto_columns": null,
            "grid_auto_flow": null,
            "grid_auto_rows": null,
            "grid_column": null,
            "grid_gap": null,
            "grid_row": null,
            "grid_template_areas": null,
            "grid_template_columns": null,
            "grid_template_rows": null,
            "height": null,
            "justify_content": null,
            "justify_items": null,
            "left": null,
            "margin": null,
            "max_height": null,
            "max_width": null,
            "min_height": null,
            "min_width": null,
            "object_fit": null,
            "object_position": null,
            "order": null,
            "overflow": null,
            "overflow_x": null,
            "overflow_y": null,
            "padding": null,
            "right": null,
            "top": null,
            "visibility": null,
            "width": null
          }
        },
        "9d70bb4975004b188ffcea68371fd3cd": {
          "model_module": "@jupyter-widgets/controls",
          "model_name": "ProgressStyleModel",
          "model_module_version": "1.5.0",
          "state": {
            "_model_module": "@jupyter-widgets/controls",
            "_model_module_version": "1.5.0",
            "_model_name": "ProgressStyleModel",
            "_view_count": null,
            "_view_module": "@jupyter-widgets/base",
            "_view_module_version": "1.2.0",
            "_view_name": "StyleView",
            "bar_color": null,
            "description_width": ""
          }
        },
        "aceadb8cb2034dfa9bf389abf00c67d8": {
          "model_module": "@jupyter-widgets/base",
          "model_name": "LayoutModel",
          "model_module_version": "1.2.0",
          "state": {
            "_model_module": "@jupyter-widgets/base",
            "_model_module_version": "1.2.0",
            "_model_name": "LayoutModel",
            "_view_count": null,
            "_view_module": "@jupyter-widgets/base",
            "_view_module_version": "1.2.0",
            "_view_name": "LayoutView",
            "align_content": null,
            "align_items": null,
            "align_self": null,
            "border": null,
            "bottom": null,
            "display": null,
            "flex": null,
            "flex_flow": null,
            "grid_area": null,
            "grid_auto_columns": null,
            "grid_auto_flow": null,
            "grid_auto_rows": null,
            "grid_column": null,
            "grid_gap": null,
            "grid_row": null,
            "grid_template_areas": null,
            "grid_template_columns": null,
            "grid_template_rows": null,
            "height": null,
            "justify_content": null,
            "justify_items": null,
            "left": null,
            "margin": null,
            "max_height": null,
            "max_width": null,
            "min_height": null,
            "min_width": null,
            "object_fit": null,
            "object_position": null,
            "order": null,
            "overflow": null,
            "overflow_x": null,
            "overflow_y": null,
            "padding": null,
            "right": null,
            "top": null,
            "visibility": null,
            "width": null
          }
        },
        "a939ba48bac447e38cf6787ac23cc406": {
          "model_module": "@jupyter-widgets/controls",
          "model_name": "DescriptionStyleModel",
          "model_module_version": "1.5.0",
          "state": {
            "_model_module": "@jupyter-widgets/controls",
            "_model_module_version": "1.5.0",
            "_model_name": "DescriptionStyleModel",
            "_view_count": null,
            "_view_module": "@jupyter-widgets/base",
            "_view_module_version": "1.2.0",
            "_view_name": "StyleView",
            "description_width": ""
          }
        },
        "2ba9eebbe6c440d494d454ced1a7f242": {
          "model_module": "@jupyter-widgets/base",
          "model_name": "LayoutModel",
          "model_module_version": "1.2.0",
          "state": {
            "_model_module": "@jupyter-widgets/base",
            "_model_module_version": "1.2.0",
            "_model_name": "LayoutModel",
            "_view_count": null,
            "_view_module": "@jupyter-widgets/base",
            "_view_module_version": "1.2.0",
            "_view_name": "LayoutView",
            "align_content": null,
            "align_items": null,
            "align_self": null,
            "border": null,
            "bottom": null,
            "display": null,
            "flex": null,
            "flex_flow": null,
            "grid_area": null,
            "grid_auto_columns": null,
            "grid_auto_flow": null,
            "grid_auto_rows": null,
            "grid_column": null,
            "grid_gap": null,
            "grid_row": null,
            "grid_template_areas": null,
            "grid_template_columns": null,
            "grid_template_rows": null,
            "height": null,
            "justify_content": null,
            "justify_items": null,
            "left": null,
            "margin": null,
            "max_height": null,
            "max_width": null,
            "min_height": null,
            "min_width": null,
            "object_fit": null,
            "object_position": null,
            "order": null,
            "overflow": null,
            "overflow_x": null,
            "overflow_y": null,
            "padding": null,
            "right": null,
            "top": null,
            "visibility": null,
            "width": null
          }
        },
        "fc3cc57377b54812b427fc4236bfc3f1": {
          "model_module": "@jupyter-widgets/controls",
          "model_name": "HBoxModel",
          "model_module_version": "1.5.0",
          "state": {
            "_dom_classes": [],
            "_model_module": "@jupyter-widgets/controls",
            "_model_module_version": "1.5.0",
            "_model_name": "HBoxModel",
            "_view_count": null,
            "_view_module": "@jupyter-widgets/controls",
            "_view_module_version": "1.5.0",
            "_view_name": "HBoxView",
            "box_style": "",
            "children": [
              "IPY_MODEL_953c5a5a2b2b42e1aeb85c5d467d18a4",
              "IPY_MODEL_bf63f7359f6e42d78e3439d95ea39efd",
              "IPY_MODEL_29c214f537cc46ee94c7870a4a229acd"
            ],
            "layout": "IPY_MODEL_83e6514c0354499fa9ffa6101fdf0847"
          }
        },
        "83e6514c0354499fa9ffa6101fdf0847": {
          "model_module": "@jupyter-widgets/base",
          "model_name": "LayoutModel",
          "model_module_version": "1.2.0",
          "state": {
            "_model_module": "@jupyter-widgets/base",
            "_model_module_version": "1.2.0",
            "_model_name": "LayoutModel",
            "_view_count": null,
            "_view_module": "@jupyter-widgets/base",
            "_view_module_version": "1.2.0",
            "_view_name": "LayoutView",
            "align_content": null,
            "align_items": null,
            "align_self": null,
            "border": null,
            "bottom": null,
            "display": null,
            "flex": null,
            "flex_flow": null,
            "grid_area": null,
            "grid_auto_columns": null,
            "grid_auto_flow": null,
            "grid_auto_rows": null,
            "grid_column": null,
            "grid_gap": null,
            "grid_row": null,
            "grid_template_areas": null,
            "grid_template_columns": null,
            "grid_template_rows": null,
            "height": null,
            "justify_content": null,
            "justify_items": null,
            "left": null,
            "margin": null,
            "max_height": null,
            "max_width": null,
            "min_height": null,
            "min_width": null,
            "object_fit": null,
            "object_position": null,
            "order": null,
            "overflow": null,
            "overflow_x": null,
            "overflow_y": null,
            "padding": null,
            "right": null,
            "top": null,
            "visibility": null,
            "width": null
          }
        },
        "953c5a5a2b2b42e1aeb85c5d467d18a4": {
          "model_module": "@jupyter-widgets/controls",
          "model_name": "HTMLModel",
          "model_module_version": "1.5.0",
          "state": {
            "_dom_classes": [],
            "_model_module": "@jupyter-widgets/controls",
            "_model_module_version": "1.5.0",
            "_model_name": "HTMLModel",
            "_view_count": null,
            "_view_module": "@jupyter-widgets/controls",
            "_view_module_version": "1.5.0",
            "_view_name": "HTMLView",
            "description": "",
            "description_tooltip": null,
            "layout": "IPY_MODEL_ee395c4711904165a67f214085e3c98f",
            "placeholder": "​",
            "style": "IPY_MODEL_bb29295492f0406081d3765fecb71f46",
            "value": "Downloading: 100%"
          }
        },
        "bf63f7359f6e42d78e3439d95ea39efd": {
          "model_module": "@jupyter-widgets/controls",
          "model_name": "FloatProgressModel",
          "model_module_version": "1.5.0",
          "state": {
            "_dom_classes": [],
            "_model_module": "@jupyter-widgets/controls",
            "_model_module_version": "1.5.0",
            "_model_name": "FloatProgressModel",
            "_view_count": null,
            "_view_module": "@jupyter-widgets/controls",
            "_view_module_version": "1.5.0",
            "_view_name": "ProgressView",
            "bar_style": "success",
            "description": "",
            "description_tooltip": null,
            "layout": "IPY_MODEL_ad7f1dbc417949e9ac9604a6c98d3719",
            "max": 1457360,
            "min": 0,
            "orientation": "horizontal",
            "style": "IPY_MODEL_366c6d9e0f7c454b99af5f1c73cbec34",
            "value": 1457360
          }
        },
        "29c214f537cc46ee94c7870a4a229acd": {
          "model_module": "@jupyter-widgets/controls",
          "model_name": "HTMLModel",
          "model_module_version": "1.5.0",
          "state": {
            "_dom_classes": [],
            "_model_module": "@jupyter-widgets/controls",
            "_model_module_version": "1.5.0",
            "_model_name": "HTMLModel",
            "_view_count": null,
            "_view_module": "@jupyter-widgets/controls",
            "_view_module_version": "1.5.0",
            "_view_name": "HTMLView",
            "description": "",
            "description_tooltip": null,
            "layout": "IPY_MODEL_8b9a14f81f5d4a238451f69ca5f46905",
            "placeholder": "​",
            "style": "IPY_MODEL_8c9682777a0d452fa6804ea869fd92f0",
            "value": " 1.46M/1.46M [00:00&lt;00:00, 3.50MB/s]"
          }
        },
        "bb29295492f0406081d3765fecb71f46": {
          "model_module": "@jupyter-widgets/controls",
          "model_name": "DescriptionStyleModel",
          "model_module_version": "1.5.0",
          "state": {
            "_model_module": "@jupyter-widgets/controls",
            "_model_module_version": "1.5.0",
            "_model_name": "DescriptionStyleModel",
            "_view_count": null,
            "_view_module": "@jupyter-widgets/base",
            "_view_module_version": "1.2.0",
            "_view_name": "StyleView",
            "description_width": ""
          }
        },
        "ee395c4711904165a67f214085e3c98f": {
          "model_module": "@jupyter-widgets/base",
          "model_name": "LayoutModel",
          "model_module_version": "1.2.0",
          "state": {
            "_model_module": "@jupyter-widgets/base",
            "_model_module_version": "1.2.0",
            "_model_name": "LayoutModel",
            "_view_count": null,
            "_view_module": "@jupyter-widgets/base",
            "_view_module_version": "1.2.0",
            "_view_name": "LayoutView",
            "align_content": null,
            "align_items": null,
            "align_self": null,
            "border": null,
            "bottom": null,
            "display": null,
            "flex": null,
            "flex_flow": null,
            "grid_area": null,
            "grid_auto_columns": null,
            "grid_auto_flow": null,
            "grid_auto_rows": null,
            "grid_column": null,
            "grid_gap": null,
            "grid_row": null,
            "grid_template_areas": null,
            "grid_template_columns": null,
            "grid_template_rows": null,
            "height": null,
            "justify_content": null,
            "justify_items": null,
            "left": null,
            "margin": null,
            "max_height": null,
            "max_width": null,
            "min_height": null,
            "min_width": null,
            "object_fit": null,
            "object_position": null,
            "order": null,
            "overflow": null,
            "overflow_x": null,
            "overflow_y": null,
            "padding": null,
            "right": null,
            "top": null,
            "visibility": null,
            "width": null
          }
        },
        "366c6d9e0f7c454b99af5f1c73cbec34": {
          "model_module": "@jupyter-widgets/controls",
          "model_name": "ProgressStyleModel",
          "model_module_version": "1.5.0",
          "state": {
            "_model_module": "@jupyter-widgets/controls",
            "_model_module_version": "1.5.0",
            "_model_name": "ProgressStyleModel",
            "_view_count": null,
            "_view_module": "@jupyter-widgets/base",
            "_view_module_version": "1.2.0",
            "_view_name": "StyleView",
            "bar_color": null,
            "description_width": ""
          }
        },
        "ad7f1dbc417949e9ac9604a6c98d3719": {
          "model_module": "@jupyter-widgets/base",
          "model_name": "LayoutModel",
          "model_module_version": "1.2.0",
          "state": {
            "_model_module": "@jupyter-widgets/base",
            "_model_module_version": "1.2.0",
            "_model_name": "LayoutModel",
            "_view_count": null,
            "_view_module": "@jupyter-widgets/base",
            "_view_module_version": "1.2.0",
            "_view_name": "LayoutView",
            "align_content": null,
            "align_items": null,
            "align_self": null,
            "border": null,
            "bottom": null,
            "display": null,
            "flex": null,
            "flex_flow": null,
            "grid_area": null,
            "grid_auto_columns": null,
            "grid_auto_flow": null,
            "grid_auto_rows": null,
            "grid_column": null,
            "grid_gap": null,
            "grid_row": null,
            "grid_template_areas": null,
            "grid_template_columns": null,
            "grid_template_rows": null,
            "height": null,
            "justify_content": null,
            "justify_items": null,
            "left": null,
            "margin": null,
            "max_height": null,
            "max_width": null,
            "min_height": null,
            "min_width": null,
            "object_fit": null,
            "object_position": null,
            "order": null,
            "overflow": null,
            "overflow_x": null,
            "overflow_y": null,
            "padding": null,
            "right": null,
            "top": null,
            "visibility": null,
            "width": null
          }
        },
        "8c9682777a0d452fa6804ea869fd92f0": {
          "model_module": "@jupyter-widgets/controls",
          "model_name": "DescriptionStyleModel",
          "model_module_version": "1.5.0",
          "state": {
            "_model_module": "@jupyter-widgets/controls",
            "_model_module_version": "1.5.0",
            "_model_name": "DescriptionStyleModel",
            "_view_count": null,
            "_view_module": "@jupyter-widgets/base",
            "_view_module_version": "1.2.0",
            "_view_name": "StyleView",
            "description_width": ""
          }
        },
        "8b9a14f81f5d4a238451f69ca5f46905": {
          "model_module": "@jupyter-widgets/base",
          "model_name": "LayoutModel",
          "model_module_version": "1.2.0",
          "state": {
            "_model_module": "@jupyter-widgets/base",
            "_model_module_version": "1.2.0",
            "_model_name": "LayoutModel",
            "_view_count": null,
            "_view_module": "@jupyter-widgets/base",
            "_view_module_version": "1.2.0",
            "_view_name": "LayoutView",
            "align_content": null,
            "align_items": null,
            "align_self": null,
            "border": null,
            "bottom": null,
            "display": null,
            "flex": null,
            "flex_flow": null,
            "grid_area": null,
            "grid_auto_columns": null,
            "grid_auto_flow": null,
            "grid_auto_rows": null,
            "grid_column": null,
            "grid_gap": null,
            "grid_row": null,
            "grid_template_areas": null,
            "grid_template_columns": null,
            "grid_template_rows": null,
            "height": null,
            "justify_content": null,
            "justify_items": null,
            "left": null,
            "margin": null,
            "max_height": null,
            "max_width": null,
            "min_height": null,
            "min_width": null,
            "object_fit": null,
            "object_position": null,
            "order": null,
            "overflow": null,
            "overflow_x": null,
            "overflow_y": null,
            "padding": null,
            "right": null,
            "top": null,
            "visibility": null,
            "width": null
          }
        },
        "449a262d89c442dfadef0c7caa657d7e": {
          "model_module": "@jupyter-widgets/controls",
          "model_name": "HBoxModel",
          "model_module_version": "1.5.0",
          "state": {
            "_dom_classes": [],
            "_model_module": "@jupyter-widgets/controls",
            "_model_module_version": "1.5.0",
            "_model_name": "HBoxModel",
            "_view_count": null,
            "_view_module": "@jupyter-widgets/controls",
            "_view_module_version": "1.5.0",
            "_view_name": "HBoxView",
            "box_style": "",
            "children": [
              "IPY_MODEL_e2b7c5fb81dc4ec68b4b5a8a7a4abaed",
              "IPY_MODEL_d34dd05c18e24833b57c4dd78f64efcd",
              "IPY_MODEL_a85df08d104a4a208a5a38e8ac26cf1a"
            ],
            "layout": "IPY_MODEL_b51eec1aaa004e2fa6253c40f24e130d"
          }
        },
        "b51eec1aaa004e2fa6253c40f24e130d": {
          "model_module": "@jupyter-widgets/base",
          "model_name": "LayoutModel",
          "model_module_version": "1.2.0",
          "state": {
            "_model_module": "@jupyter-widgets/base",
            "_model_module_version": "1.2.0",
            "_model_name": "LayoutModel",
            "_view_count": null,
            "_view_module": "@jupyter-widgets/base",
            "_view_module_version": "1.2.0",
            "_view_name": "LayoutView",
            "align_content": null,
            "align_items": null,
            "align_self": null,
            "border": null,
            "bottom": null,
            "display": null,
            "flex": null,
            "flex_flow": null,
            "grid_area": null,
            "grid_auto_columns": null,
            "grid_auto_flow": null,
            "grid_auto_rows": null,
            "grid_column": null,
            "grid_gap": null,
            "grid_row": null,
            "grid_template_areas": null,
            "grid_template_columns": null,
            "grid_template_rows": null,
            "height": null,
            "justify_content": null,
            "justify_items": null,
            "left": null,
            "margin": null,
            "max_height": null,
            "max_width": null,
            "min_height": null,
            "min_width": null,
            "object_fit": null,
            "object_position": null,
            "order": null,
            "overflow": null,
            "overflow_x": null,
            "overflow_y": null,
            "padding": null,
            "right": null,
            "top": null,
            "visibility": null,
            "width": null
          }
        },
        "e2b7c5fb81dc4ec68b4b5a8a7a4abaed": {
          "model_module": "@jupyter-widgets/controls",
          "model_name": "HTMLModel",
          "model_module_version": "1.5.0",
          "state": {
            "_dom_classes": [],
            "_model_module": "@jupyter-widgets/controls",
            "_model_module_version": "1.5.0",
            "_model_name": "HTMLModel",
            "_view_count": null,
            "_view_module": "@jupyter-widgets/controls",
            "_view_module_version": "1.5.0",
            "_view_name": "HTMLView",
            "description": "",
            "description_tooltip": null,
            "layout": "IPY_MODEL_5b5f9131a40446a3b2359b4c10f433bb",
            "placeholder": "​",
            "style": "IPY_MODEL_548768ce637d4608a3fb8a3ee2fb04f9",
            "value": "Downloading: 100%"
          }
        },
        "d34dd05c18e24833b57c4dd78f64efcd": {
          "model_module": "@jupyter-widgets/controls",
          "model_name": "FloatProgressModel",
          "model_module_version": "1.5.0",
          "state": {
            "_dom_classes": [],
            "_model_module": "@jupyter-widgets/controls",
            "_model_module_version": "1.5.0",
            "_model_name": "FloatProgressModel",
            "_view_count": null,
            "_view_module": "@jupyter-widgets/controls",
            "_view_module_version": "1.5.0",
            "_view_name": "ProgressView",
            "bar_style": "success",
            "description": "",
            "description_tooltip": null,
            "layout": "IPY_MODEL_ee2596faa8d549faa44a28ff7f0fba26",
            "max": 265,
            "min": 0,
            "orientation": "horizontal",
            "style": "IPY_MODEL_54c0ec4f626348949987cf414352b864",
            "value": 265
          }
        },
        "a85df08d104a4a208a5a38e8ac26cf1a": {
          "model_module": "@jupyter-widgets/controls",
          "model_name": "HTMLModel",
          "model_module_version": "1.5.0",
          "state": {
            "_dom_classes": [],
            "_model_module": "@jupyter-widgets/controls",
            "_model_module_version": "1.5.0",
            "_model_name": "HTMLModel",
            "_view_count": null,
            "_view_module": "@jupyter-widgets/controls",
            "_view_module_version": "1.5.0",
            "_view_name": "HTMLView",
            "description": "",
            "description_tooltip": null,
            "layout": "IPY_MODEL_c4b56de8c8574bb0b9b2fa8c1bc0fa29",
            "placeholder": "​",
            "style": "IPY_MODEL_edd4df59ca90413284e0eaa58a62d1fd",
            "value": " 265/265 [00:00&lt;00:00, 5.49kB/s]"
          }
        },
        "548768ce637d4608a3fb8a3ee2fb04f9": {
          "model_module": "@jupyter-widgets/controls",
          "model_name": "DescriptionStyleModel",
          "model_module_version": "1.5.0",
          "state": {
            "_model_module": "@jupyter-widgets/controls",
            "_model_module_version": "1.5.0",
            "_model_name": "DescriptionStyleModel",
            "_view_count": null,
            "_view_module": "@jupyter-widgets/base",
            "_view_module_version": "1.2.0",
            "_view_name": "StyleView",
            "description_width": ""
          }
        },
        "5b5f9131a40446a3b2359b4c10f433bb": {
          "model_module": "@jupyter-widgets/base",
          "model_name": "LayoutModel",
          "model_module_version": "1.2.0",
          "state": {
            "_model_module": "@jupyter-widgets/base",
            "_model_module_version": "1.2.0",
            "_model_name": "LayoutModel",
            "_view_count": null,
            "_view_module": "@jupyter-widgets/base",
            "_view_module_version": "1.2.0",
            "_view_name": "LayoutView",
            "align_content": null,
            "align_items": null,
            "align_self": null,
            "border": null,
            "bottom": null,
            "display": null,
            "flex": null,
            "flex_flow": null,
            "grid_area": null,
            "grid_auto_columns": null,
            "grid_auto_flow": null,
            "grid_auto_rows": null,
            "grid_column": null,
            "grid_gap": null,
            "grid_row": null,
            "grid_template_areas": null,
            "grid_template_columns": null,
            "grid_template_rows": null,
            "height": null,
            "justify_content": null,
            "justify_items": null,
            "left": null,
            "margin": null,
            "max_height": null,
            "max_width": null,
            "min_height": null,
            "min_width": null,
            "object_fit": null,
            "object_position": null,
            "order": null,
            "overflow": null,
            "overflow_x": null,
            "overflow_y": null,
            "padding": null,
            "right": null,
            "top": null,
            "visibility": null,
            "width": null
          }
        },
        "54c0ec4f626348949987cf414352b864": {
          "model_module": "@jupyter-widgets/controls",
          "model_name": "ProgressStyleModel",
          "model_module_version": "1.5.0",
          "state": {
            "_model_module": "@jupyter-widgets/controls",
            "_model_module_version": "1.5.0",
            "_model_name": "ProgressStyleModel",
            "_view_count": null,
            "_view_module": "@jupyter-widgets/base",
            "_view_module_version": "1.2.0",
            "_view_name": "StyleView",
            "bar_color": null,
            "description_width": ""
          }
        },
        "ee2596faa8d549faa44a28ff7f0fba26": {
          "model_module": "@jupyter-widgets/base",
          "model_name": "LayoutModel",
          "model_module_version": "1.2.0",
          "state": {
            "_model_module": "@jupyter-widgets/base",
            "_model_module_version": "1.2.0",
            "_model_name": "LayoutModel",
            "_view_count": null,
            "_view_module": "@jupyter-widgets/base",
            "_view_module_version": "1.2.0",
            "_view_name": "LayoutView",
            "align_content": null,
            "align_items": null,
            "align_self": null,
            "border": null,
            "bottom": null,
            "display": null,
            "flex": null,
            "flex_flow": null,
            "grid_area": null,
            "grid_auto_columns": null,
            "grid_auto_flow": null,
            "grid_auto_rows": null,
            "grid_column": null,
            "grid_gap": null,
            "grid_row": null,
            "grid_template_areas": null,
            "grid_template_columns": null,
            "grid_template_rows": null,
            "height": null,
            "justify_content": null,
            "justify_items": null,
            "left": null,
            "margin": null,
            "max_height": null,
            "max_width": null,
            "min_height": null,
            "min_width": null,
            "object_fit": null,
            "object_position": null,
            "order": null,
            "overflow": null,
            "overflow_x": null,
            "overflow_y": null,
            "padding": null,
            "right": null,
            "top": null,
            "visibility": null,
            "width": null
          }
        },
        "edd4df59ca90413284e0eaa58a62d1fd": {
          "model_module": "@jupyter-widgets/controls",
          "model_name": "DescriptionStyleModel",
          "model_module_version": "1.5.0",
          "state": {
            "_model_module": "@jupyter-widgets/controls",
            "_model_module_version": "1.5.0",
            "_model_name": "DescriptionStyleModel",
            "_view_count": null,
            "_view_module": "@jupyter-widgets/base",
            "_view_module_version": "1.2.0",
            "_view_name": "StyleView",
            "description_width": ""
          }
        },
        "c4b56de8c8574bb0b9b2fa8c1bc0fa29": {
          "model_module": "@jupyter-widgets/base",
          "model_name": "LayoutModel",
          "model_module_version": "1.2.0",
          "state": {
            "_model_module": "@jupyter-widgets/base",
            "_model_module_version": "1.2.0",
            "_model_name": "LayoutModel",
            "_view_count": null,
            "_view_module": "@jupyter-widgets/base",
            "_view_module_version": "1.2.0",
            "_view_name": "LayoutView",
            "align_content": null,
            "align_items": null,
            "align_self": null,
            "border": null,
            "bottom": null,
            "display": null,
            "flex": null,
            "flex_flow": null,
            "grid_area": null,
            "grid_auto_columns": null,
            "grid_auto_flow": null,
            "grid_auto_rows": null,
            "grid_column": null,
            "grid_gap": null,
            "grid_row": null,
            "grid_template_areas": null,
            "grid_template_columns": null,
            "grid_template_rows": null,
            "height": null,
            "justify_content": null,
            "justify_items": null,
            "left": null,
            "margin": null,
            "max_height": null,
            "max_width": null,
            "min_height": null,
            "min_width": null,
            "object_fit": null,
            "object_position": null,
            "order": null,
            "overflow": null,
            "overflow_x": null,
            "overflow_y": null,
            "padding": null,
            "right": null,
            "top": null,
            "visibility": null,
            "width": null
          }
        },
        "bdea3bf05e274dc2a6c8e70f964fdbe2": {
          "model_module": "@jupyter-widgets/controls",
          "model_name": "HBoxModel",
          "model_module_version": "1.5.0",
          "state": {
            "_dom_classes": [],
            "_model_module": "@jupyter-widgets/controls",
            "_model_module_version": "1.5.0",
            "_model_name": "HBoxModel",
            "_view_count": null,
            "_view_module": "@jupyter-widgets/controls",
            "_view_module_version": "1.5.0",
            "_view_name": "HBoxView",
            "box_style": "",
            "children": [
              "IPY_MODEL_9c343ce3b57f414a816ad3eee5ceabea",
              "IPY_MODEL_e8bb534562be4866b802024a50e9f7c7",
              "IPY_MODEL_bb7dc3c438f14717b8efe5d65f408999"
            ],
            "layout": "IPY_MODEL_69d7f38ec5a846499462777ceb01611f"
          }
        },
        "69d7f38ec5a846499462777ceb01611f": {
          "model_module": "@jupyter-widgets/base",
          "model_name": "LayoutModel",
          "model_module_version": "1.2.0",
          "state": {
            "_model_module": "@jupyter-widgets/base",
            "_model_module_version": "1.2.0",
            "_model_name": "LayoutModel",
            "_view_count": null,
            "_view_module": "@jupyter-widgets/base",
            "_view_module_version": "1.2.0",
            "_view_name": "LayoutView",
            "align_content": null,
            "align_items": null,
            "align_self": null,
            "border": null,
            "bottom": null,
            "display": null,
            "flex": null,
            "flex_flow": null,
            "grid_area": null,
            "grid_auto_columns": null,
            "grid_auto_flow": null,
            "grid_auto_rows": null,
            "grid_column": null,
            "grid_gap": null,
            "grid_row": null,
            "grid_template_areas": null,
            "grid_template_columns": null,
            "grid_template_rows": null,
            "height": null,
            "justify_content": null,
            "justify_items": null,
            "left": null,
            "margin": null,
            "max_height": null,
            "max_width": null,
            "min_height": null,
            "min_width": null,
            "object_fit": null,
            "object_position": null,
            "order": null,
            "overflow": null,
            "overflow_x": null,
            "overflow_y": null,
            "padding": null,
            "right": null,
            "top": null,
            "visibility": null,
            "width": null
          }
        },
        "9c343ce3b57f414a816ad3eee5ceabea": {
          "model_module": "@jupyter-widgets/controls",
          "model_name": "HTMLModel",
          "model_module_version": "1.5.0",
          "state": {
            "_dom_classes": [],
            "_model_module": "@jupyter-widgets/controls",
            "_model_module_version": "1.5.0",
            "_model_name": "HTMLModel",
            "_view_count": null,
            "_view_module": "@jupyter-widgets/controls",
            "_view_module_version": "1.5.0",
            "_view_name": "HTMLView",
            "description": "",
            "description_tooltip": null,
            "layout": "IPY_MODEL_59ca5cde337d4e1a82216405a6515b4c",
            "placeholder": "​",
            "style": "IPY_MODEL_6fcbfa867c384779b2186f7db7a026d7",
            "value": "Downloading: 100%"
          }
        },
        "e8bb534562be4866b802024a50e9f7c7": {
          "model_module": "@jupyter-widgets/controls",
          "model_name": "FloatProgressModel",
          "model_module_version": "1.5.0",
          "state": {
            "_dom_classes": [],
            "_model_module": "@jupyter-widgets/controls",
            "_model_module_version": "1.5.0",
            "_model_name": "FloatProgressModel",
            "_view_count": null,
            "_view_module": "@jupyter-widgets/controls",
            "_view_module_version": "1.5.0",
            "_view_name": "ProgressView",
            "bar_style": "success",
            "description": "",
            "description_tooltip": null,
            "layout": "IPY_MODEL_c8b9bc129116440298b9563b3ec9c553",
            "max": 1403,
            "min": 0,
            "orientation": "horizontal",
            "style": "IPY_MODEL_42068b01b87a480884b5cbe8558f5e92",
            "value": 1403
          }
        },
        "bb7dc3c438f14717b8efe5d65f408999": {
          "model_module": "@jupyter-widgets/controls",
          "model_name": "HTMLModel",
          "model_module_version": "1.5.0",
          "state": {
            "_dom_classes": [],
            "_model_module": "@jupyter-widgets/controls",
            "_model_module_version": "1.5.0",
            "_model_name": "HTMLModel",
            "_view_count": null,
            "_view_module": "@jupyter-widgets/controls",
            "_view_module_version": "1.5.0",
            "_view_name": "HTMLView",
            "description": "",
            "description_tooltip": null,
            "layout": "IPY_MODEL_928672fe85b5444c944c945a93067455",
            "placeholder": "​",
            "style": "IPY_MODEL_292771de34bd4a91922ad927158df3df",
            "value": " 1.40k/1.40k [00:00&lt;00:00, 26.6kB/s]"
          }
        },
        "6fcbfa867c384779b2186f7db7a026d7": {
          "model_module": "@jupyter-widgets/controls",
          "model_name": "DescriptionStyleModel",
          "model_module_version": "1.5.0",
          "state": {
            "_model_module": "@jupyter-widgets/controls",
            "_model_module_version": "1.5.0",
            "_model_name": "DescriptionStyleModel",
            "_view_count": null,
            "_view_module": "@jupyter-widgets/base",
            "_view_module_version": "1.2.0",
            "_view_name": "StyleView",
            "description_width": ""
          }
        },
        "59ca5cde337d4e1a82216405a6515b4c": {
          "model_module": "@jupyter-widgets/base",
          "model_name": "LayoutModel",
          "model_module_version": "1.2.0",
          "state": {
            "_model_module": "@jupyter-widgets/base",
            "_model_module_version": "1.2.0",
            "_model_name": "LayoutModel",
            "_view_count": null,
            "_view_module": "@jupyter-widgets/base",
            "_view_module_version": "1.2.0",
            "_view_name": "LayoutView",
            "align_content": null,
            "align_items": null,
            "align_self": null,
            "border": null,
            "bottom": null,
            "display": null,
            "flex": null,
            "flex_flow": null,
            "grid_area": null,
            "grid_auto_columns": null,
            "grid_auto_flow": null,
            "grid_auto_rows": null,
            "grid_column": null,
            "grid_gap": null,
            "grid_row": null,
            "grid_template_areas": null,
            "grid_template_columns": null,
            "grid_template_rows": null,
            "height": null,
            "justify_content": null,
            "justify_items": null,
            "left": null,
            "margin": null,
            "max_height": null,
            "max_width": null,
            "min_height": null,
            "min_width": null,
            "object_fit": null,
            "object_position": null,
            "order": null,
            "overflow": null,
            "overflow_x": null,
            "overflow_y": null,
            "padding": null,
            "right": null,
            "top": null,
            "visibility": null,
            "width": null
          }
        },
        "42068b01b87a480884b5cbe8558f5e92": {
          "model_module": "@jupyter-widgets/controls",
          "model_name": "ProgressStyleModel",
          "model_module_version": "1.5.0",
          "state": {
            "_model_module": "@jupyter-widgets/controls",
            "_model_module_version": "1.5.0",
            "_model_name": "ProgressStyleModel",
            "_view_count": null,
            "_view_module": "@jupyter-widgets/base",
            "_view_module_version": "1.2.0",
            "_view_name": "StyleView",
            "bar_color": null,
            "description_width": ""
          }
        },
        "c8b9bc129116440298b9563b3ec9c553": {
          "model_module": "@jupyter-widgets/base",
          "model_name": "LayoutModel",
          "model_module_version": "1.2.0",
          "state": {
            "_model_module": "@jupyter-widgets/base",
            "_model_module_version": "1.2.0",
            "_model_name": "LayoutModel",
            "_view_count": null,
            "_view_module": "@jupyter-widgets/base",
            "_view_module_version": "1.2.0",
            "_view_name": "LayoutView",
            "align_content": null,
            "align_items": null,
            "align_self": null,
            "border": null,
            "bottom": null,
            "display": null,
            "flex": null,
            "flex_flow": null,
            "grid_area": null,
            "grid_auto_columns": null,
            "grid_auto_flow": null,
            "grid_auto_rows": null,
            "grid_column": null,
            "grid_gap": null,
            "grid_row": null,
            "grid_template_areas": null,
            "grid_template_columns": null,
            "grid_template_rows": null,
            "height": null,
            "justify_content": null,
            "justify_items": null,
            "left": null,
            "margin": null,
            "max_height": null,
            "max_width": null,
            "min_height": null,
            "min_width": null,
            "object_fit": null,
            "object_position": null,
            "order": null,
            "overflow": null,
            "overflow_x": null,
            "overflow_y": null,
            "padding": null,
            "right": null,
            "top": null,
            "visibility": null,
            "width": null
          }
        },
        "292771de34bd4a91922ad927158df3df": {
          "model_module": "@jupyter-widgets/controls",
          "model_name": "DescriptionStyleModel",
          "model_module_version": "1.5.0",
          "state": {
            "_model_module": "@jupyter-widgets/controls",
            "_model_module_version": "1.5.0",
            "_model_name": "DescriptionStyleModel",
            "_view_count": null,
            "_view_module": "@jupyter-widgets/base",
            "_view_module_version": "1.2.0",
            "_view_name": "StyleView",
            "description_width": ""
          }
        },
        "928672fe85b5444c944c945a93067455": {
          "model_module": "@jupyter-widgets/base",
          "model_name": "LayoutModel",
          "model_module_version": "1.2.0",
          "state": {
            "_model_module": "@jupyter-widgets/base",
            "_model_module_version": "1.2.0",
            "_model_name": "LayoutModel",
            "_view_count": null,
            "_view_module": "@jupyter-widgets/base",
            "_view_module_version": "1.2.0",
            "_view_name": "LayoutView",
            "align_content": null,
            "align_items": null,
            "align_self": null,
            "border": null,
            "bottom": null,
            "display": null,
            "flex": null,
            "flex_flow": null,
            "grid_area": null,
            "grid_auto_columns": null,
            "grid_auto_flow": null,
            "grid_auto_rows": null,
            "grid_column": null,
            "grid_gap": null,
            "grid_row": null,
            "grid_template_areas": null,
            "grid_template_columns": null,
            "grid_template_rows": null,
            "height": null,
            "justify_content": null,
            "justify_items": null,
            "left": null,
            "margin": null,
            "max_height": null,
            "max_width": null,
            "min_height": null,
            "min_width": null,
            "object_fit": null,
            "object_position": null,
            "order": null,
            "overflow": null,
            "overflow_x": null,
            "overflow_y": null,
            "padding": null,
            "right": null,
            "top": null,
            "visibility": null,
            "width": null
          }
        },
        "c6d75fd269a648e397d3d9a2744a545c": {
          "model_module": "@jupyter-widgets/controls",
          "model_name": "HBoxModel",
          "model_module_version": "1.5.0",
          "state": {
            "_dom_classes": [],
            "_model_module": "@jupyter-widgets/controls",
            "_model_module_version": "1.5.0",
            "_model_name": "HBoxModel",
            "_view_count": null,
            "_view_module": "@jupyter-widgets/controls",
            "_view_module_version": "1.5.0",
            "_view_name": "HBoxView",
            "box_style": "",
            "children": [
              "IPY_MODEL_a49879cde462488ba37bfc7fe1edc0c6",
              "IPY_MODEL_c3c53167c5e84671bfe30fbd98b767e8",
              "IPY_MODEL_76b2a0fbfddc4a29ac43d3fc67a3f9dc"
            ],
            "layout": "IPY_MODEL_98edf43103ca449cbd8dbfa6bf600c3e"
          }
        },
        "98edf43103ca449cbd8dbfa6bf600c3e": {
          "model_module": "@jupyter-widgets/base",
          "model_name": "LayoutModel",
          "model_module_version": "1.2.0",
          "state": {
            "_model_module": "@jupyter-widgets/base",
            "_model_module_version": "1.2.0",
            "_model_name": "LayoutModel",
            "_view_count": null,
            "_view_module": "@jupyter-widgets/base",
            "_view_module_version": "1.2.0",
            "_view_name": "LayoutView",
            "align_content": null,
            "align_items": null,
            "align_self": null,
            "border": null,
            "bottom": null,
            "display": null,
            "flex": null,
            "flex_flow": null,
            "grid_area": null,
            "grid_auto_columns": null,
            "grid_auto_flow": null,
            "grid_auto_rows": null,
            "grid_column": null,
            "grid_gap": null,
            "grid_row": null,
            "grid_template_areas": null,
            "grid_template_columns": null,
            "grid_template_rows": null,
            "height": null,
            "justify_content": null,
            "justify_items": null,
            "left": null,
            "margin": null,
            "max_height": null,
            "max_width": null,
            "min_height": null,
            "min_width": null,
            "object_fit": null,
            "object_position": null,
            "order": null,
            "overflow": null,
            "overflow_x": null,
            "overflow_y": null,
            "padding": null,
            "right": null,
            "top": null,
            "visibility": null,
            "width": null
          }
        },
        "a49879cde462488ba37bfc7fe1edc0c6": {
          "model_module": "@jupyter-widgets/controls",
          "model_name": "HTMLModel",
          "model_module_version": "1.5.0",
          "state": {
            "_dom_classes": [],
            "_model_module": "@jupyter-widgets/controls",
            "_model_module_version": "1.5.0",
            "_model_name": "HTMLModel",
            "_view_count": null,
            "_view_module": "@jupyter-widgets/controls",
            "_view_module_version": "1.5.0",
            "_view_name": "HTMLView",
            "description": "",
            "description_tooltip": null,
            "layout": "IPY_MODEL_04b4c1920c0c4ccf9d17971a8230229a",
            "placeholder": "​",
            "style": "IPY_MODEL_d2bc14896d8140378c7d79b5d5c57b78",
            "value": "Downloading: 100%"
          }
        },
        "c3c53167c5e84671bfe30fbd98b767e8": {
          "model_module": "@jupyter-widgets/controls",
          "model_name": "FloatProgressModel",
          "model_module_version": "1.5.0",
          "state": {
            "_dom_classes": [],
            "_model_module": "@jupyter-widgets/controls",
            "_model_module_version": "1.5.0",
            "_model_name": "FloatProgressModel",
            "_view_count": null,
            "_view_module": "@jupyter-widgets/controls",
            "_view_module_version": "1.5.0",
            "_view_name": "ProgressView",
            "bar_style": "success",
            "description": "",
            "description_tooltip": null,
            "layout": "IPY_MODEL_af9f00a86e20458582c6abe19e13f32d",
            "max": 312087009,
            "min": 0,
            "orientation": "horizontal",
            "style": "IPY_MODEL_937af95abccc4101874cd625c6d37ccc",
            "value": 312087009
          }
        },
        "76b2a0fbfddc4a29ac43d3fc67a3f9dc": {
          "model_module": "@jupyter-widgets/controls",
          "model_name": "HTMLModel",
          "model_module_version": "1.5.0",
          "state": {
            "_dom_classes": [],
            "_model_module": "@jupyter-widgets/controls",
            "_model_module_version": "1.5.0",
            "_model_name": "HTMLModel",
            "_view_count": null,
            "_view_module": "@jupyter-widgets/controls",
            "_view_module_version": "1.5.0",
            "_view_name": "HTMLView",
            "description": "",
            "description_tooltip": null,
            "layout": "IPY_MODEL_ca05b8fcae4e4ec39556ca0ae9a10ebd",
            "placeholder": "​",
            "style": "IPY_MODEL_649a7ce8a5e14a3a8bc07b98e97c8d42",
            "value": " 312M/312M [00:07&lt;00:00, 40.1MB/s]"
          }
        },
        "d2bc14896d8140378c7d79b5d5c57b78": {
          "model_module": "@jupyter-widgets/controls",
          "model_name": "DescriptionStyleModel",
          "model_module_version": "1.5.0",
          "state": {
            "_model_module": "@jupyter-widgets/controls",
            "_model_module_version": "1.5.0",
            "_model_name": "DescriptionStyleModel",
            "_view_count": null,
            "_view_module": "@jupyter-widgets/base",
            "_view_module_version": "1.2.0",
            "_view_name": "StyleView",
            "description_width": ""
          }
        },
        "04b4c1920c0c4ccf9d17971a8230229a": {
          "model_module": "@jupyter-widgets/base",
          "model_name": "LayoutModel",
          "model_module_version": "1.2.0",
          "state": {
            "_model_module": "@jupyter-widgets/base",
            "_model_module_version": "1.2.0",
            "_model_name": "LayoutModel",
            "_view_count": null,
            "_view_module": "@jupyter-widgets/base",
            "_view_module_version": "1.2.0",
            "_view_name": "LayoutView",
            "align_content": null,
            "align_items": null,
            "align_self": null,
            "border": null,
            "bottom": null,
            "display": null,
            "flex": null,
            "flex_flow": null,
            "grid_area": null,
            "grid_auto_columns": null,
            "grid_auto_flow": null,
            "grid_auto_rows": null,
            "grid_column": null,
            "grid_gap": null,
            "grid_row": null,
            "grid_template_areas": null,
            "grid_template_columns": null,
            "grid_template_rows": null,
            "height": null,
            "justify_content": null,
            "justify_items": null,
            "left": null,
            "margin": null,
            "max_height": null,
            "max_width": null,
            "min_height": null,
            "min_width": null,
            "object_fit": null,
            "object_position": null,
            "order": null,
            "overflow": null,
            "overflow_x": null,
            "overflow_y": null,
            "padding": null,
            "right": null,
            "top": null,
            "visibility": null,
            "width": null
          }
        },
        "937af95abccc4101874cd625c6d37ccc": {
          "model_module": "@jupyter-widgets/controls",
          "model_name": "ProgressStyleModel",
          "model_module_version": "1.5.0",
          "state": {
            "_model_module": "@jupyter-widgets/controls",
            "_model_module_version": "1.5.0",
            "_model_name": "ProgressStyleModel",
            "_view_count": null,
            "_view_module": "@jupyter-widgets/base",
            "_view_module_version": "1.2.0",
            "_view_name": "StyleView",
            "bar_color": null,
            "description_width": ""
          }
        },
        "af9f00a86e20458582c6abe19e13f32d": {
          "model_module": "@jupyter-widgets/base",
          "model_name": "LayoutModel",
          "model_module_version": "1.2.0",
          "state": {
            "_model_module": "@jupyter-widgets/base",
            "_model_module_version": "1.2.0",
            "_model_name": "LayoutModel",
            "_view_count": null,
            "_view_module": "@jupyter-widgets/base",
            "_view_module_version": "1.2.0",
            "_view_name": "LayoutView",
            "align_content": null,
            "align_items": null,
            "align_self": null,
            "border": null,
            "bottom": null,
            "display": null,
            "flex": null,
            "flex_flow": null,
            "grid_area": null,
            "grid_auto_columns": null,
            "grid_auto_flow": null,
            "grid_auto_rows": null,
            "grid_column": null,
            "grid_gap": null,
            "grid_row": null,
            "grid_template_areas": null,
            "grid_template_columns": null,
            "grid_template_rows": null,
            "height": null,
            "justify_content": null,
            "justify_items": null,
            "left": null,
            "margin": null,
            "max_height": null,
            "max_width": null,
            "min_height": null,
            "min_width": null,
            "object_fit": null,
            "object_position": null,
            "order": null,
            "overflow": null,
            "overflow_x": null,
            "overflow_y": null,
            "padding": null,
            "right": null,
            "top": null,
            "visibility": null,
            "width": null
          }
        },
        "649a7ce8a5e14a3a8bc07b98e97c8d42": {
          "model_module": "@jupyter-widgets/controls",
          "model_name": "DescriptionStyleModel",
          "model_module_version": "1.5.0",
          "state": {
            "_model_module": "@jupyter-widgets/controls",
            "_model_module_version": "1.5.0",
            "_model_name": "DescriptionStyleModel",
            "_view_count": null,
            "_view_module": "@jupyter-widgets/base",
            "_view_module_version": "1.2.0",
            "_view_name": "StyleView",
            "description_width": ""
          }
        },
        "ca05b8fcae4e4ec39556ca0ae9a10ebd": {
          "model_module": "@jupyter-widgets/base",
          "model_name": "LayoutModel",
          "model_module_version": "1.2.0",
          "state": {
            "_model_module": "@jupyter-widgets/base",
            "_model_module_version": "1.2.0",
            "_model_name": "LayoutModel",
            "_view_count": null,
            "_view_module": "@jupyter-widgets/base",
            "_view_module_version": "1.2.0",
            "_view_name": "LayoutView",
            "align_content": null,
            "align_items": null,
            "align_self": null,
            "border": null,
            "bottom": null,
            "display": null,
            "flex": null,
            "flex_flow": null,
            "grid_area": null,
            "grid_auto_columns": null,
            "grid_auto_flow": null,
            "grid_auto_rows": null,
            "grid_column": null,
            "grid_gap": null,
            "grid_row": null,
            "grid_template_areas": null,
            "grid_template_columns": null,
            "grid_template_rows": null,
            "height": null,
            "justify_content": null,
            "justify_items": null,
            "left": null,
            "margin": null,
            "max_height": null,
            "max_width": null,
            "min_height": null,
            "min_width": null,
            "object_fit": null,
            "object_position": null,
            "order": null,
            "overflow": null,
            "overflow_x": null,
            "overflow_y": null,
            "padding": null,
            "right": null,
            "top": null,
            "visibility": null,
            "width": null
          }
        },
        "33c7d52432744f84b622b955670877ae": {
          "model_module": "@jupyter-widgets/controls",
          "model_name": "HBoxModel",
          "model_module_version": "1.5.0",
          "state": {
            "_dom_classes": [],
            "_model_module": "@jupyter-widgets/controls",
            "_model_module_version": "1.5.0",
            "_model_name": "HBoxModel",
            "_view_count": null,
            "_view_module": "@jupyter-widgets/controls",
            "_view_module_version": "1.5.0",
            "_view_name": "HBoxView",
            "box_style": "",
            "children": [
              "IPY_MODEL_20d4dc5f647442f5b97c34590947aabd",
              "IPY_MODEL_023c6f4a6a10401ba80f920a81d311cf",
              "IPY_MODEL_a414ec5489584c6385cda527d7a9f958"
            ],
            "layout": "IPY_MODEL_866f1d73f4b34e97af0a09a84259e4fe"
          }
        },
        "866f1d73f4b34e97af0a09a84259e4fe": {
          "model_module": "@jupyter-widgets/base",
          "model_name": "LayoutModel",
          "model_module_version": "1.2.0",
          "state": {
            "_model_module": "@jupyter-widgets/base",
            "_model_module_version": "1.2.0",
            "_model_name": "LayoutModel",
            "_view_count": null,
            "_view_module": "@jupyter-widgets/base",
            "_view_module_version": "1.2.0",
            "_view_name": "LayoutView",
            "align_content": null,
            "align_items": null,
            "align_self": null,
            "border": null,
            "bottom": null,
            "display": null,
            "flex": null,
            "flex_flow": null,
            "grid_area": null,
            "grid_auto_columns": null,
            "grid_auto_flow": null,
            "grid_auto_rows": null,
            "grid_column": null,
            "grid_gap": null,
            "grid_row": null,
            "grid_template_areas": null,
            "grid_template_columns": null,
            "grid_template_rows": null,
            "height": null,
            "justify_content": null,
            "justify_items": null,
            "left": null,
            "margin": null,
            "max_height": null,
            "max_width": null,
            "min_height": null,
            "min_width": null,
            "object_fit": null,
            "object_position": null,
            "order": null,
            "overflow": null,
            "overflow_x": null,
            "overflow_y": null,
            "padding": null,
            "right": null,
            "top": null,
            "visibility": null,
            "width": null
          }
        },
        "20d4dc5f647442f5b97c34590947aabd": {
          "model_module": "@jupyter-widgets/controls",
          "model_name": "HTMLModel",
          "model_module_version": "1.5.0",
          "state": {
            "_dom_classes": [],
            "_model_module": "@jupyter-widgets/controls",
            "_model_module_version": "1.5.0",
            "_model_name": "HTMLModel",
            "_view_count": null,
            "_view_module": "@jupyter-widgets/controls",
            "_view_module_version": "1.5.0",
            "_view_name": "HTMLView",
            "description": "",
            "description_tooltip": null,
            "layout": "IPY_MODEL_7d972c87f4b646acb5341bf810dadf47",
            "placeholder": "​",
            "style": "IPY_MODEL_842649532e0b4c07bbce36ac8eef4ec6",
            "value": "Downloading: 100%"
          }
        },
        "023c6f4a6a10401ba80f920a81d311cf": {
          "model_module": "@jupyter-widgets/controls",
          "model_name": "FloatProgressModel",
          "model_module_version": "1.5.0",
          "state": {
            "_dom_classes": [],
            "_model_module": "@jupyter-widgets/controls",
            "_model_module_version": "1.5.0",
            "_model_name": "FloatProgressModel",
            "_view_count": null,
            "_view_module": "@jupyter-widgets/controls",
            "_view_module_version": "1.5.0",
            "_view_name": "ProgressView",
            "bar_style": "success",
            "description": "",
            "description_tooltip": null,
            "layout": "IPY_MODEL_1ed852b2b6464599a569f317329c0a2a",
            "max": 800087,
            "min": 0,
            "orientation": "horizontal",
            "style": "IPY_MODEL_9619a0937ebc44668d33e790c045361a",
            "value": 800087
          }
        },
        "a414ec5489584c6385cda527d7a9f958": {
          "model_module": "@jupyter-widgets/controls",
          "model_name": "HTMLModel",
          "model_module_version": "1.5.0",
          "state": {
            "_dom_classes": [],
            "_model_module": "@jupyter-widgets/controls",
            "_model_module_version": "1.5.0",
            "_model_name": "HTMLModel",
            "_view_count": null,
            "_view_module": "@jupyter-widgets/controls",
            "_view_module_version": "1.5.0",
            "_view_name": "HTMLView",
            "description": "",
            "description_tooltip": null,
            "layout": "IPY_MODEL_5d9ee777382c4a5b97fbe416546a38bf",
            "placeholder": "​",
            "style": "IPY_MODEL_f8f32c4803df43acba1a55b4df15addc",
            "value": " 800k/800k [00:00&lt;00:00, 1.66MB/s]"
          }
        },
        "842649532e0b4c07bbce36ac8eef4ec6": {
          "model_module": "@jupyter-widgets/controls",
          "model_name": "DescriptionStyleModel",
          "model_module_version": "1.5.0",
          "state": {
            "_model_module": "@jupyter-widgets/controls",
            "_model_module_version": "1.5.0",
            "_model_name": "DescriptionStyleModel",
            "_view_count": null,
            "_view_module": "@jupyter-widgets/base",
            "_view_module_version": "1.2.0",
            "_view_name": "StyleView",
            "description_width": ""
          }
        },
        "7d972c87f4b646acb5341bf810dadf47": {
          "model_module": "@jupyter-widgets/base",
          "model_name": "LayoutModel",
          "model_module_version": "1.2.0",
          "state": {
            "_model_module": "@jupyter-widgets/base",
            "_model_module_version": "1.2.0",
            "_model_name": "LayoutModel",
            "_view_count": null,
            "_view_module": "@jupyter-widgets/base",
            "_view_module_version": "1.2.0",
            "_view_name": "LayoutView",
            "align_content": null,
            "align_items": null,
            "align_self": null,
            "border": null,
            "bottom": null,
            "display": null,
            "flex": null,
            "flex_flow": null,
            "grid_area": null,
            "grid_auto_columns": null,
            "grid_auto_flow": null,
            "grid_auto_rows": null,
            "grid_column": null,
            "grid_gap": null,
            "grid_row": null,
            "grid_template_areas": null,
            "grid_template_columns": null,
            "grid_template_rows": null,
            "height": null,
            "justify_content": null,
            "justify_items": null,
            "left": null,
            "margin": null,
            "max_height": null,
            "max_width": null,
            "min_height": null,
            "min_width": null,
            "object_fit": null,
            "object_position": null,
            "order": null,
            "overflow": null,
            "overflow_x": null,
            "overflow_y": null,
            "padding": null,
            "right": null,
            "top": null,
            "visibility": null,
            "width": null
          }
        },
        "9619a0937ebc44668d33e790c045361a": {
          "model_module": "@jupyter-widgets/controls",
          "model_name": "ProgressStyleModel",
          "model_module_version": "1.5.0",
          "state": {
            "_model_module": "@jupyter-widgets/controls",
            "_model_module_version": "1.5.0",
            "_model_name": "ProgressStyleModel",
            "_view_count": null,
            "_view_module": "@jupyter-widgets/base",
            "_view_module_version": "1.2.0",
            "_view_name": "StyleView",
            "bar_color": null,
            "description_width": ""
          }
        },
        "1ed852b2b6464599a569f317329c0a2a": {
          "model_module": "@jupyter-widgets/base",
          "model_name": "LayoutModel",
          "model_module_version": "1.2.0",
          "state": {
            "_model_module": "@jupyter-widgets/base",
            "_model_module_version": "1.2.0",
            "_model_name": "LayoutModel",
            "_view_count": null,
            "_view_module": "@jupyter-widgets/base",
            "_view_module_version": "1.2.0",
            "_view_name": "LayoutView",
            "align_content": null,
            "align_items": null,
            "align_self": null,
            "border": null,
            "bottom": null,
            "display": null,
            "flex": null,
            "flex_flow": null,
            "grid_area": null,
            "grid_auto_columns": null,
            "grid_auto_flow": null,
            "grid_auto_rows": null,
            "grid_column": null,
            "grid_gap": null,
            "grid_row": null,
            "grid_template_areas": null,
            "grid_template_columns": null,
            "grid_template_rows": null,
            "height": null,
            "justify_content": null,
            "justify_items": null,
            "left": null,
            "margin": null,
            "max_height": null,
            "max_width": null,
            "min_height": null,
            "min_width": null,
            "object_fit": null,
            "object_position": null,
            "order": null,
            "overflow": null,
            "overflow_x": null,
            "overflow_y": null,
            "padding": null,
            "right": null,
            "top": null,
            "visibility": null,
            "width": null
          }
        },
        "f8f32c4803df43acba1a55b4df15addc": {
          "model_module": "@jupyter-widgets/controls",
          "model_name": "DescriptionStyleModel",
          "model_module_version": "1.5.0",
          "state": {
            "_model_module": "@jupyter-widgets/controls",
            "_model_module_version": "1.5.0",
            "_model_name": "DescriptionStyleModel",
            "_view_count": null,
            "_view_module": "@jupyter-widgets/base",
            "_view_module_version": "1.2.0",
            "_view_name": "StyleView",
            "description_width": ""
          }
        },
        "5d9ee777382c4a5b97fbe416546a38bf": {
          "model_module": "@jupyter-widgets/base",
          "model_name": "LayoutModel",
          "model_module_version": "1.2.0",
          "state": {
            "_model_module": "@jupyter-widgets/base",
            "_model_module_version": "1.2.0",
            "_model_name": "LayoutModel",
            "_view_count": null,
            "_view_module": "@jupyter-widgets/base",
            "_view_module_version": "1.2.0",
            "_view_name": "LayoutView",
            "align_content": null,
            "align_items": null,
            "align_self": null,
            "border": null,
            "bottom": null,
            "display": null,
            "flex": null,
            "flex_flow": null,
            "grid_area": null,
            "grid_auto_columns": null,
            "grid_auto_flow": null,
            "grid_auto_rows": null,
            "grid_column": null,
            "grid_gap": null,
            "grid_row": null,
            "grid_template_areas": null,
            "grid_template_columns": null,
            "grid_template_rows": null,
            "height": null,
            "justify_content": null,
            "justify_items": null,
            "left": null,
            "margin": null,
            "max_height": null,
            "max_width": null,
            "min_height": null,
            "min_width": null,
            "object_fit": null,
            "object_position": null,
            "order": null,
            "overflow": null,
            "overflow_x": null,
            "overflow_y": null,
            "padding": null,
            "right": null,
            "top": null,
            "visibility": null,
            "width": null
          }
        },
        "5eb6b9d0bddf4fffa71b70a6ffa5faab": {
          "model_module": "@jupyter-widgets/controls",
          "model_name": "HBoxModel",
          "model_module_version": "1.5.0",
          "state": {
            "_dom_classes": [],
            "_model_module": "@jupyter-widgets/controls",
            "_model_module_version": "1.5.0",
            "_model_name": "HBoxModel",
            "_view_count": null,
            "_view_module": "@jupyter-widgets/controls",
            "_view_module_version": "1.5.0",
            "_view_name": "HBoxView",
            "box_style": "",
            "children": [
              "IPY_MODEL_db79600d6f23443d9b531dbc4ea76541",
              "IPY_MODEL_217232f1903640c6acd63f419953702e",
              "IPY_MODEL_9e837c1895c7497daebc04493d0ec631"
            ],
            "layout": "IPY_MODEL_31e0bcf712204996ad83f287d617cfdf"
          }
        },
        "31e0bcf712204996ad83f287d617cfdf": {
          "model_module": "@jupyter-widgets/base",
          "model_name": "LayoutModel",
          "model_module_version": "1.2.0",
          "state": {
            "_model_module": "@jupyter-widgets/base",
            "_model_module_version": "1.2.0",
            "_model_name": "LayoutModel",
            "_view_count": null,
            "_view_module": "@jupyter-widgets/base",
            "_view_module_version": "1.2.0",
            "_view_name": "LayoutView",
            "align_content": null,
            "align_items": null,
            "align_self": null,
            "border": null,
            "bottom": null,
            "display": null,
            "flex": null,
            "flex_flow": null,
            "grid_area": null,
            "grid_auto_columns": null,
            "grid_auto_flow": null,
            "grid_auto_rows": null,
            "grid_column": null,
            "grid_gap": null,
            "grid_row": null,
            "grid_template_areas": null,
            "grid_template_columns": null,
            "grid_template_rows": null,
            "height": null,
            "justify_content": null,
            "justify_items": null,
            "left": null,
            "margin": null,
            "max_height": null,
            "max_width": null,
            "min_height": null,
            "min_width": null,
            "object_fit": null,
            "object_position": null,
            "order": null,
            "overflow": null,
            "overflow_x": null,
            "overflow_y": null,
            "padding": null,
            "right": null,
            "top": null,
            "visibility": null,
            "width": null
          }
        },
        "db79600d6f23443d9b531dbc4ea76541": {
          "model_module": "@jupyter-widgets/controls",
          "model_name": "HTMLModel",
          "model_module_version": "1.5.0",
          "state": {
            "_dom_classes": [],
            "_model_module": "@jupyter-widgets/controls",
            "_model_module_version": "1.5.0",
            "_model_name": "HTMLModel",
            "_view_count": null,
            "_view_module": "@jupyter-widgets/controls",
            "_view_module_version": "1.5.0",
            "_view_name": "HTMLView",
            "description": "",
            "description_tooltip": null,
            "layout": "IPY_MODEL_b435b37ea9c94d119783085caf54e176",
            "placeholder": "​",
            "style": "IPY_MODEL_cac3215618824d3382d45e0828df98e0",
            "value": "Downloading: 100%"
          }
        },
        "217232f1903640c6acd63f419953702e": {
          "model_module": "@jupyter-widgets/controls",
          "model_name": "FloatProgressModel",
          "model_module_version": "1.5.0",
          "state": {
            "_dom_classes": [],
            "_model_module": "@jupyter-widgets/controls",
            "_model_module_version": "1.5.0",
            "_model_name": "FloatProgressModel",
            "_view_count": null,
            "_view_module": "@jupyter-widgets/controls",
            "_view_module_version": "1.5.0",
            "_view_name": "ProgressView",
            "bar_style": "success",
            "description": "",
            "description_tooltip": null,
            "layout": "IPY_MODEL_8b6ae3cb03644b7cafb22a97b6fe6ce2",
            "max": 779494,
            "min": 0,
            "orientation": "horizontal",
            "style": "IPY_MODEL_af13efb48923432f8813be7f00e99df0",
            "value": 779494
          }
        },
        "9e837c1895c7497daebc04493d0ec631": {
          "model_module": "@jupyter-widgets/controls",
          "model_name": "HTMLModel",
          "model_module_version": "1.5.0",
          "state": {
            "_dom_classes": [],
            "_model_module": "@jupyter-widgets/controls",
            "_model_module_version": "1.5.0",
            "_model_name": "HTMLModel",
            "_view_count": null,
            "_view_module": "@jupyter-widgets/controls",
            "_view_module_version": "1.5.0",
            "_view_name": "HTMLView",
            "description": "",
            "description_tooltip": null,
            "layout": "IPY_MODEL_36be4cb8c0f54a8ba4282060fc0d2dae",
            "placeholder": "​",
            "style": "IPY_MODEL_096f6f00e1c1474394150198edafd4ba",
            "value": " 779k/779k [00:00&lt;00:00, 708kB/s]"
          }
        },
        "cac3215618824d3382d45e0828df98e0": {
          "model_module": "@jupyter-widgets/controls",
          "model_name": "DescriptionStyleModel",
          "model_module_version": "1.5.0",
          "state": {
            "_model_module": "@jupyter-widgets/controls",
            "_model_module_version": "1.5.0",
            "_model_name": "DescriptionStyleModel",
            "_view_count": null,
            "_view_module": "@jupyter-widgets/base",
            "_view_module_version": "1.2.0",
            "_view_name": "StyleView",
            "description_width": ""
          }
        },
        "b435b37ea9c94d119783085caf54e176": {
          "model_module": "@jupyter-widgets/base",
          "model_name": "LayoutModel",
          "model_module_version": "1.2.0",
          "state": {
            "_model_module": "@jupyter-widgets/base",
            "_model_module_version": "1.2.0",
            "_model_name": "LayoutModel",
            "_view_count": null,
            "_view_module": "@jupyter-widgets/base",
            "_view_module_version": "1.2.0",
            "_view_name": "LayoutView",
            "align_content": null,
            "align_items": null,
            "align_self": null,
            "border": null,
            "bottom": null,
            "display": null,
            "flex": null,
            "flex_flow": null,
            "grid_area": null,
            "grid_auto_columns": null,
            "grid_auto_flow": null,
            "grid_auto_rows": null,
            "grid_column": null,
            "grid_gap": null,
            "grid_row": null,
            "grid_template_areas": null,
            "grid_template_columns": null,
            "grid_template_rows": null,
            "height": null,
            "justify_content": null,
            "justify_items": null,
            "left": null,
            "margin": null,
            "max_height": null,
            "max_width": null,
            "min_height": null,
            "min_width": null,
            "object_fit": null,
            "object_position": null,
            "order": null,
            "overflow": null,
            "overflow_x": null,
            "overflow_y": null,
            "padding": null,
            "right": null,
            "top": null,
            "visibility": null,
            "width": null
          }
        },
        "af13efb48923432f8813be7f00e99df0": {
          "model_module": "@jupyter-widgets/controls",
          "model_name": "ProgressStyleModel",
          "model_module_version": "1.5.0",
          "state": {
            "_model_module": "@jupyter-widgets/controls",
            "_model_module_version": "1.5.0",
            "_model_name": "ProgressStyleModel",
            "_view_count": null,
            "_view_module": "@jupyter-widgets/base",
            "_view_module_version": "1.2.0",
            "_view_name": "StyleView",
            "bar_color": null,
            "description_width": ""
          }
        },
        "8b6ae3cb03644b7cafb22a97b6fe6ce2": {
          "model_module": "@jupyter-widgets/base",
          "model_name": "LayoutModel",
          "model_module_version": "1.2.0",
          "state": {
            "_model_module": "@jupyter-widgets/base",
            "_model_module_version": "1.2.0",
            "_model_name": "LayoutModel",
            "_view_count": null,
            "_view_module": "@jupyter-widgets/base",
            "_view_module_version": "1.2.0",
            "_view_name": "LayoutView",
            "align_content": null,
            "align_items": null,
            "align_self": null,
            "border": null,
            "bottom": null,
            "display": null,
            "flex": null,
            "flex_flow": null,
            "grid_area": null,
            "grid_auto_columns": null,
            "grid_auto_flow": null,
            "grid_auto_rows": null,
            "grid_column": null,
            "grid_gap": null,
            "grid_row": null,
            "grid_template_areas": null,
            "grid_template_columns": null,
            "grid_template_rows": null,
            "height": null,
            "justify_content": null,
            "justify_items": null,
            "left": null,
            "margin": null,
            "max_height": null,
            "max_width": null,
            "min_height": null,
            "min_width": null,
            "object_fit": null,
            "object_position": null,
            "order": null,
            "overflow": null,
            "overflow_x": null,
            "overflow_y": null,
            "padding": null,
            "right": null,
            "top": null,
            "visibility": null,
            "width": null
          }
        },
        "096f6f00e1c1474394150198edafd4ba": {
          "model_module": "@jupyter-widgets/controls",
          "model_name": "DescriptionStyleModel",
          "model_module_version": "1.5.0",
          "state": {
            "_model_module": "@jupyter-widgets/controls",
            "_model_module_version": "1.5.0",
            "_model_name": "DescriptionStyleModel",
            "_view_count": null,
            "_view_module": "@jupyter-widgets/base",
            "_view_module_version": "1.2.0",
            "_view_name": "StyleView",
            "description_width": ""
          }
        },
        "36be4cb8c0f54a8ba4282060fc0d2dae": {
          "model_module": "@jupyter-widgets/base",
          "model_name": "LayoutModel",
          "model_module_version": "1.2.0",
          "state": {
            "_model_module": "@jupyter-widgets/base",
            "_model_module_version": "1.2.0",
            "_model_name": "LayoutModel",
            "_view_count": null,
            "_view_module": "@jupyter-widgets/base",
            "_view_module_version": "1.2.0",
            "_view_name": "LayoutView",
            "align_content": null,
            "align_items": null,
            "align_self": null,
            "border": null,
            "bottom": null,
            "display": null,
            "flex": null,
            "flex_flow": null,
            "grid_area": null,
            "grid_auto_columns": null,
            "grid_auto_flow": null,
            "grid_auto_rows": null,
            "grid_column": null,
            "grid_gap": null,
            "grid_row": null,
            "grid_template_areas": null,
            "grid_template_columns": null,
            "grid_template_rows": null,
            "height": null,
            "justify_content": null,
            "justify_items": null,
            "left": null,
            "margin": null,
            "max_height": null,
            "max_width": null,
            "min_height": null,
            "min_width": null,
            "object_fit": null,
            "object_position": null,
            "order": null,
            "overflow": null,
            "overflow_x": null,
            "overflow_y": null,
            "padding": null,
            "right": null,
            "top": null,
            "visibility": null,
            "width": null
          }
        },
        "80225edd3d8f4082bb198ee0e73b0152": {
          "model_module": "@jupyter-widgets/controls",
          "model_name": "HBoxModel",
          "model_module_version": "1.5.0",
          "state": {
            "_dom_classes": [],
            "_model_module": "@jupyter-widgets/controls",
            "_model_module_version": "1.5.0",
            "_model_name": "HBoxModel",
            "_view_count": null,
            "_view_module": "@jupyter-widgets/controls",
            "_view_module_version": "1.5.0",
            "_view_name": "HBoxView",
            "box_style": "",
            "children": [
              "IPY_MODEL_fdc2ba8521a348ed9c578e4bb5171e22",
              "IPY_MODEL_7e7827fa2ca348ffad042bbf9397e3f2",
              "IPY_MODEL_c3d4edb395bd41beaa39fff5e963f5f8"
            ],
            "layout": "IPY_MODEL_d0282e93be334f25bb036af36335303b"
          }
        },
        "d0282e93be334f25bb036af36335303b": {
          "model_module": "@jupyter-widgets/base",
          "model_name": "LayoutModel",
          "model_module_version": "1.2.0",
          "state": {
            "_model_module": "@jupyter-widgets/base",
            "_model_module_version": "1.2.0",
            "_model_name": "LayoutModel",
            "_view_count": null,
            "_view_module": "@jupyter-widgets/base",
            "_view_module_version": "1.2.0",
            "_view_name": "LayoutView",
            "align_content": null,
            "align_items": null,
            "align_self": null,
            "border": null,
            "bottom": null,
            "display": null,
            "flex": null,
            "flex_flow": null,
            "grid_area": null,
            "grid_auto_columns": null,
            "grid_auto_flow": null,
            "grid_auto_rows": null,
            "grid_column": null,
            "grid_gap": null,
            "grid_row": null,
            "grid_template_areas": null,
            "grid_template_columns": null,
            "grid_template_rows": null,
            "height": null,
            "justify_content": null,
            "justify_items": null,
            "left": null,
            "margin": null,
            "max_height": null,
            "max_width": null,
            "min_height": null,
            "min_width": null,
            "object_fit": null,
            "object_position": null,
            "order": null,
            "overflow": null,
            "overflow_x": null,
            "overflow_y": null,
            "padding": null,
            "right": null,
            "top": null,
            "visibility": null,
            "width": null
          }
        },
        "fdc2ba8521a348ed9c578e4bb5171e22": {
          "model_module": "@jupyter-widgets/controls",
          "model_name": "HTMLModel",
          "model_module_version": "1.5.0",
          "state": {
            "_dom_classes": [],
            "_model_module": "@jupyter-widgets/controls",
            "_model_module_version": "1.5.0",
            "_model_name": "HTMLModel",
            "_view_count": null,
            "_view_module": "@jupyter-widgets/controls",
            "_view_module_version": "1.5.0",
            "_view_name": "HTMLView",
            "description": "",
            "description_tooltip": null,
            "layout": "IPY_MODEL_fee85dfe5ce44110a0121f71d48f9f53",
            "placeholder": "​",
            "style": "IPY_MODEL_d4ccbd5f4d7342cebfedfc4916bb3d87",
            "value": "Downloading: 100%"
          }
        },
        "7e7827fa2ca348ffad042bbf9397e3f2": {
          "model_module": "@jupyter-widgets/controls",
          "model_name": "FloatProgressModel",
          "model_module_version": "1.5.0",
          "state": {
            "_dom_classes": [],
            "_model_module": "@jupyter-widgets/controls",
            "_model_module_version": "1.5.0",
            "_model_name": "FloatProgressModel",
            "_view_count": null,
            "_view_module": "@jupyter-widgets/controls",
            "_view_module_version": "1.5.0",
            "_view_name": "ProgressView",
            "bar_style": "success",
            "description": "",
            "description_tooltip": null,
            "layout": "IPY_MODEL_1ee6a32bbfb9427ca05fe07b4c130aaf",
            "max": 1460304,
            "min": 0,
            "orientation": "horizontal",
            "style": "IPY_MODEL_f7646e618fc7476c8067ed13521afebf",
            "value": 1460304
          }
        },
        "c3d4edb395bd41beaa39fff5e963f5f8": {
          "model_module": "@jupyter-widgets/controls",
          "model_name": "HTMLModel",
          "model_module_version": "1.5.0",
          "state": {
            "_dom_classes": [],
            "_model_module": "@jupyter-widgets/controls",
            "_model_module_version": "1.5.0",
            "_model_name": "HTMLModel",
            "_view_count": null,
            "_view_module": "@jupyter-widgets/controls",
            "_view_module_version": "1.5.0",
            "_view_name": "HTMLView",
            "description": "",
            "description_tooltip": null,
            "layout": "IPY_MODEL_b6c1e264623947ae9ba7c4157cc883b3",
            "placeholder": "​",
            "style": "IPY_MODEL_f372d0d63bac416caac99dddcdf7ce87",
            "value": " 1.46M/1.46M [00:00&lt;00:00, 3.55MB/s]"
          }
        },
        "d4ccbd5f4d7342cebfedfc4916bb3d87": {
          "model_module": "@jupyter-widgets/controls",
          "model_name": "DescriptionStyleModel",
          "model_module_version": "1.5.0",
          "state": {
            "_model_module": "@jupyter-widgets/controls",
            "_model_module_version": "1.5.0",
            "_model_name": "DescriptionStyleModel",
            "_view_count": null,
            "_view_module": "@jupyter-widgets/base",
            "_view_module_version": "1.2.0",
            "_view_name": "StyleView",
            "description_width": ""
          }
        },
        "fee85dfe5ce44110a0121f71d48f9f53": {
          "model_module": "@jupyter-widgets/base",
          "model_name": "LayoutModel",
          "model_module_version": "1.2.0",
          "state": {
            "_model_module": "@jupyter-widgets/base",
            "_model_module_version": "1.2.0",
            "_model_name": "LayoutModel",
            "_view_count": null,
            "_view_module": "@jupyter-widgets/base",
            "_view_module_version": "1.2.0",
            "_view_name": "LayoutView",
            "align_content": null,
            "align_items": null,
            "align_self": null,
            "border": null,
            "bottom": null,
            "display": null,
            "flex": null,
            "flex_flow": null,
            "grid_area": null,
            "grid_auto_columns": null,
            "grid_auto_flow": null,
            "grid_auto_rows": null,
            "grid_column": null,
            "grid_gap": null,
            "grid_row": null,
            "grid_template_areas": null,
            "grid_template_columns": null,
            "grid_template_rows": null,
            "height": null,
            "justify_content": null,
            "justify_items": null,
            "left": null,
            "margin": null,
            "max_height": null,
            "max_width": null,
            "min_height": null,
            "min_width": null,
            "object_fit": null,
            "object_position": null,
            "order": null,
            "overflow": null,
            "overflow_x": null,
            "overflow_y": null,
            "padding": null,
            "right": null,
            "top": null,
            "visibility": null,
            "width": null
          }
        },
        "f7646e618fc7476c8067ed13521afebf": {
          "model_module": "@jupyter-widgets/controls",
          "model_name": "ProgressStyleModel",
          "model_module_version": "1.5.0",
          "state": {
            "_model_module": "@jupyter-widgets/controls",
            "_model_module_version": "1.5.0",
            "_model_name": "ProgressStyleModel",
            "_view_count": null,
            "_view_module": "@jupyter-widgets/base",
            "_view_module_version": "1.2.0",
            "_view_name": "StyleView",
            "bar_color": null,
            "description_width": ""
          }
        },
        "1ee6a32bbfb9427ca05fe07b4c130aaf": {
          "model_module": "@jupyter-widgets/base",
          "model_name": "LayoutModel",
          "model_module_version": "1.2.0",
          "state": {
            "_model_module": "@jupyter-widgets/base",
            "_model_module_version": "1.2.0",
            "_model_name": "LayoutModel",
            "_view_count": null,
            "_view_module": "@jupyter-widgets/base",
            "_view_module_version": "1.2.0",
            "_view_name": "LayoutView",
            "align_content": null,
            "align_items": null,
            "align_self": null,
            "border": null,
            "bottom": null,
            "display": null,
            "flex": null,
            "flex_flow": null,
            "grid_area": null,
            "grid_auto_columns": null,
            "grid_auto_flow": null,
            "grid_auto_rows": null,
            "grid_column": null,
            "grid_gap": null,
            "grid_row": null,
            "grid_template_areas": null,
            "grid_template_columns": null,
            "grid_template_rows": null,
            "height": null,
            "justify_content": null,
            "justify_items": null,
            "left": null,
            "margin": null,
            "max_height": null,
            "max_width": null,
            "min_height": null,
            "min_width": null,
            "object_fit": null,
            "object_position": null,
            "order": null,
            "overflow": null,
            "overflow_x": null,
            "overflow_y": null,
            "padding": null,
            "right": null,
            "top": null,
            "visibility": null,
            "width": null
          }
        },
        "f372d0d63bac416caac99dddcdf7ce87": {
          "model_module": "@jupyter-widgets/controls",
          "model_name": "DescriptionStyleModel",
          "model_module_version": "1.5.0",
          "state": {
            "_model_module": "@jupyter-widgets/controls",
            "_model_module_version": "1.5.0",
            "_model_name": "DescriptionStyleModel",
            "_view_count": null,
            "_view_module": "@jupyter-widgets/base",
            "_view_module_version": "1.2.0",
            "_view_name": "StyleView",
            "description_width": ""
          }
        },
        "b6c1e264623947ae9ba7c4157cc883b3": {
          "model_module": "@jupyter-widgets/base",
          "model_name": "LayoutModel",
          "model_module_version": "1.2.0",
          "state": {
            "_model_module": "@jupyter-widgets/base",
            "_model_module_version": "1.2.0",
            "_model_name": "LayoutModel",
            "_view_count": null,
            "_view_module": "@jupyter-widgets/base",
            "_view_module_version": "1.2.0",
            "_view_name": "LayoutView",
            "align_content": null,
            "align_items": null,
            "align_self": null,
            "border": null,
            "bottom": null,
            "display": null,
            "flex": null,
            "flex_flow": null,
            "grid_area": null,
            "grid_auto_columns": null,
            "grid_auto_flow": null,
            "grid_auto_rows": null,
            "grid_column": null,
            "grid_gap": null,
            "grid_row": null,
            "grid_template_areas": null,
            "grid_template_columns": null,
            "grid_template_rows": null,
            "height": null,
            "justify_content": null,
            "justify_items": null,
            "left": null,
            "margin": null,
            "max_height": null,
            "max_width": null,
            "min_height": null,
            "min_width": null,
            "object_fit": null,
            "object_position": null,
            "order": null,
            "overflow": null,
            "overflow_x": null,
            "overflow_y": null,
            "padding": null,
            "right": null,
            "top": null,
            "visibility": null,
            "width": null
          }
        },
        "869c8ff928fa4643b234d5e34acc7d98": {
          "model_module": "@jupyter-widgets/controls",
          "model_name": "HBoxModel",
          "model_module_version": "1.5.0",
          "state": {
            "_dom_classes": [],
            "_model_module": "@jupyter-widgets/controls",
            "_model_module_version": "1.5.0",
            "_model_name": "HBoxModel",
            "_view_count": null,
            "_view_module": "@jupyter-widgets/controls",
            "_view_module_version": "1.5.0",
            "_view_name": "HBoxView",
            "box_style": "",
            "children": [
              "IPY_MODEL_435421a945b1460a9e875d95fb25d714",
              "IPY_MODEL_61251042e832448ab62bbb8b85bc5db9",
              "IPY_MODEL_373997a8c5ee409da92198cf5ab7eb76"
            ],
            "layout": "IPY_MODEL_3d7d782ad77a4ae3b7ff01608681b6d9"
          }
        },
        "3d7d782ad77a4ae3b7ff01608681b6d9": {
          "model_module": "@jupyter-widgets/base",
          "model_name": "LayoutModel",
          "model_module_version": "1.2.0",
          "state": {
            "_model_module": "@jupyter-widgets/base",
            "_model_module_version": "1.2.0",
            "_model_name": "LayoutModel",
            "_view_count": null,
            "_view_module": "@jupyter-widgets/base",
            "_view_module_version": "1.2.0",
            "_view_name": "LayoutView",
            "align_content": null,
            "align_items": null,
            "align_self": null,
            "border": null,
            "bottom": null,
            "display": null,
            "flex": null,
            "flex_flow": null,
            "grid_area": null,
            "grid_auto_columns": null,
            "grid_auto_flow": null,
            "grid_auto_rows": null,
            "grid_column": null,
            "grid_gap": null,
            "grid_row": null,
            "grid_template_areas": null,
            "grid_template_columns": null,
            "grid_template_rows": null,
            "height": null,
            "justify_content": null,
            "justify_items": null,
            "left": null,
            "margin": null,
            "max_height": null,
            "max_width": null,
            "min_height": null,
            "min_width": null,
            "object_fit": null,
            "object_position": null,
            "order": null,
            "overflow": null,
            "overflow_x": null,
            "overflow_y": null,
            "padding": null,
            "right": null,
            "top": null,
            "visibility": null,
            "width": null
          }
        },
        "435421a945b1460a9e875d95fb25d714": {
          "model_module": "@jupyter-widgets/controls",
          "model_name": "HTMLModel",
          "model_module_version": "1.5.0",
          "state": {
            "_dom_classes": [],
            "_model_module": "@jupyter-widgets/controls",
            "_model_module_version": "1.5.0",
            "_model_name": "HTMLModel",
            "_view_count": null,
            "_view_module": "@jupyter-widgets/controls",
            "_view_module_version": "1.5.0",
            "_view_name": "HTMLView",
            "description": "",
            "description_tooltip": null,
            "layout": "IPY_MODEL_a0e648596e97478fa47e60a043841776",
            "placeholder": "​",
            "style": "IPY_MODEL_ebbe6e909b6b429cbed259875692786d",
            "value": "Downloading: 100%"
          }
        },
        "61251042e832448ab62bbb8b85bc5db9": {
          "model_module": "@jupyter-widgets/controls",
          "model_name": "FloatProgressModel",
          "model_module_version": "1.5.0",
          "state": {
            "_dom_classes": [],
            "_model_module": "@jupyter-widgets/controls",
            "_model_module_version": "1.5.0",
            "_model_name": "FloatProgressModel",
            "_view_count": null,
            "_view_module": "@jupyter-widgets/controls",
            "_view_module_version": "1.5.0",
            "_view_name": "ProgressView",
            "bar_style": "success",
            "description": "",
            "description_tooltip": null,
            "layout": "IPY_MODEL_ea7f576af4fa46d480bfc162fbfc79b3",
            "max": 265,
            "min": 0,
            "orientation": "horizontal",
            "style": "IPY_MODEL_2fd8ad04819a4b1a8298acf1d0740477",
            "value": 265
          }
        },
        "373997a8c5ee409da92198cf5ab7eb76": {
          "model_module": "@jupyter-widgets/controls",
          "model_name": "HTMLModel",
          "model_module_version": "1.5.0",
          "state": {
            "_dom_classes": [],
            "_model_module": "@jupyter-widgets/controls",
            "_model_module_version": "1.5.0",
            "_model_name": "HTMLModel",
            "_view_count": null,
            "_view_module": "@jupyter-widgets/controls",
            "_view_module_version": "1.5.0",
            "_view_name": "HTMLView",
            "description": "",
            "description_tooltip": null,
            "layout": "IPY_MODEL_cdbec2190a244d6fbaf48204905c5ad9",
            "placeholder": "​",
            "style": "IPY_MODEL_d37395545cd240c1b47a6d90c7513d69",
            "value": " 265/265 [00:00&lt;00:00, 6.47kB/s]"
          }
        },
        "ebbe6e909b6b429cbed259875692786d": {
          "model_module": "@jupyter-widgets/controls",
          "model_name": "DescriptionStyleModel",
          "model_module_version": "1.5.0",
          "state": {
            "_model_module": "@jupyter-widgets/controls",
            "_model_module_version": "1.5.0",
            "_model_name": "DescriptionStyleModel",
            "_view_count": null,
            "_view_module": "@jupyter-widgets/base",
            "_view_module_version": "1.2.0",
            "_view_name": "StyleView",
            "description_width": ""
          }
        },
        "a0e648596e97478fa47e60a043841776": {
          "model_module": "@jupyter-widgets/base",
          "model_name": "LayoutModel",
          "model_module_version": "1.2.0",
          "state": {
            "_model_module": "@jupyter-widgets/base",
            "_model_module_version": "1.2.0",
            "_model_name": "LayoutModel",
            "_view_count": null,
            "_view_module": "@jupyter-widgets/base",
            "_view_module_version": "1.2.0",
            "_view_name": "LayoutView",
            "align_content": null,
            "align_items": null,
            "align_self": null,
            "border": null,
            "bottom": null,
            "display": null,
            "flex": null,
            "flex_flow": null,
            "grid_area": null,
            "grid_auto_columns": null,
            "grid_auto_flow": null,
            "grid_auto_rows": null,
            "grid_column": null,
            "grid_gap": null,
            "grid_row": null,
            "grid_template_areas": null,
            "grid_template_columns": null,
            "grid_template_rows": null,
            "height": null,
            "justify_content": null,
            "justify_items": null,
            "left": null,
            "margin": null,
            "max_height": null,
            "max_width": null,
            "min_height": null,
            "min_width": null,
            "object_fit": null,
            "object_position": null,
            "order": null,
            "overflow": null,
            "overflow_x": null,
            "overflow_y": null,
            "padding": null,
            "right": null,
            "top": null,
            "visibility": null,
            "width": null
          }
        },
        "2fd8ad04819a4b1a8298acf1d0740477": {
          "model_module": "@jupyter-widgets/controls",
          "model_name": "ProgressStyleModel",
          "model_module_version": "1.5.0",
          "state": {
            "_model_module": "@jupyter-widgets/controls",
            "_model_module_version": "1.5.0",
            "_model_name": "ProgressStyleModel",
            "_view_count": null,
            "_view_module": "@jupyter-widgets/base",
            "_view_module_version": "1.2.0",
            "_view_name": "StyleView",
            "bar_color": null,
            "description_width": ""
          }
        },
        "ea7f576af4fa46d480bfc162fbfc79b3": {
          "model_module": "@jupyter-widgets/base",
          "model_name": "LayoutModel",
          "model_module_version": "1.2.0",
          "state": {
            "_model_module": "@jupyter-widgets/base",
            "_model_module_version": "1.2.0",
            "_model_name": "LayoutModel",
            "_view_count": null,
            "_view_module": "@jupyter-widgets/base",
            "_view_module_version": "1.2.0",
            "_view_name": "LayoutView",
            "align_content": null,
            "align_items": null,
            "align_self": null,
            "border": null,
            "bottom": null,
            "display": null,
            "flex": null,
            "flex_flow": null,
            "grid_area": null,
            "grid_auto_columns": null,
            "grid_auto_flow": null,
            "grid_auto_rows": null,
            "grid_column": null,
            "grid_gap": null,
            "grid_row": null,
            "grid_template_areas": null,
            "grid_template_columns": null,
            "grid_template_rows": null,
            "height": null,
            "justify_content": null,
            "justify_items": null,
            "left": null,
            "margin": null,
            "max_height": null,
            "max_width": null,
            "min_height": null,
            "min_width": null,
            "object_fit": null,
            "object_position": null,
            "order": null,
            "overflow": null,
            "overflow_x": null,
            "overflow_y": null,
            "padding": null,
            "right": null,
            "top": null,
            "visibility": null,
            "width": null
          }
        },
        "d37395545cd240c1b47a6d90c7513d69": {
          "model_module": "@jupyter-widgets/controls",
          "model_name": "DescriptionStyleModel",
          "model_module_version": "1.5.0",
          "state": {
            "_model_module": "@jupyter-widgets/controls",
            "_model_module_version": "1.5.0",
            "_model_name": "DescriptionStyleModel",
            "_view_count": null,
            "_view_module": "@jupyter-widgets/base",
            "_view_module_version": "1.2.0",
            "_view_name": "StyleView",
            "description_width": ""
          }
        },
        "cdbec2190a244d6fbaf48204905c5ad9": {
          "model_module": "@jupyter-widgets/base",
          "model_name": "LayoutModel",
          "model_module_version": "1.2.0",
          "state": {
            "_model_module": "@jupyter-widgets/base",
            "_model_module_version": "1.2.0",
            "_model_name": "LayoutModel",
            "_view_count": null,
            "_view_module": "@jupyter-widgets/base",
            "_view_module_version": "1.2.0",
            "_view_name": "LayoutView",
            "align_content": null,
            "align_items": null,
            "align_self": null,
            "border": null,
            "bottom": null,
            "display": null,
            "flex": null,
            "flex_flow": null,
            "grid_area": null,
            "grid_auto_columns": null,
            "grid_auto_flow": null,
            "grid_auto_rows": null,
            "grid_column": null,
            "grid_gap": null,
            "grid_row": null,
            "grid_template_areas": null,
            "grid_template_columns": null,
            "grid_template_rows": null,
            "height": null,
            "justify_content": null,
            "justify_items": null,
            "left": null,
            "margin": null,
            "max_height": null,
            "max_width": null,
            "min_height": null,
            "min_width": null,
            "object_fit": null,
            "object_position": null,
            "order": null,
            "overflow": null,
            "overflow_x": null,
            "overflow_y": null,
            "padding": null,
            "right": null,
            "top": null,
            "visibility": null,
            "width": null
          }
        },
        "d6a4f866f0a74f9eacae28bd40696f08": {
          "model_module": "@jupyter-widgets/controls",
          "model_name": "HBoxModel",
          "model_module_version": "1.5.0",
          "state": {
            "_dom_classes": [],
            "_model_module": "@jupyter-widgets/controls",
            "_model_module_version": "1.5.0",
            "_model_name": "HBoxModel",
            "_view_count": null,
            "_view_module": "@jupyter-widgets/controls",
            "_view_module_version": "1.5.0",
            "_view_name": "HBoxView",
            "box_style": "",
            "children": [
              "IPY_MODEL_2314161e16584b3085a6a81645b8affa",
              "IPY_MODEL_80c332cc9d094c3aa4ec301283b09d81",
              "IPY_MODEL_1840e050fb6a45e7aec8dc33f2e8c38f"
            ],
            "layout": "IPY_MODEL_c7c8714fc06343a8b7e41e0ec40b98e9"
          }
        },
        "c7c8714fc06343a8b7e41e0ec40b98e9": {
          "model_module": "@jupyter-widgets/base",
          "model_name": "LayoutModel",
          "model_module_version": "1.2.0",
          "state": {
            "_model_module": "@jupyter-widgets/base",
            "_model_module_version": "1.2.0",
            "_model_name": "LayoutModel",
            "_view_count": null,
            "_view_module": "@jupyter-widgets/base",
            "_view_module_version": "1.2.0",
            "_view_name": "LayoutView",
            "align_content": null,
            "align_items": null,
            "align_self": null,
            "border": null,
            "bottom": null,
            "display": null,
            "flex": null,
            "flex_flow": null,
            "grid_area": null,
            "grid_auto_columns": null,
            "grid_auto_flow": null,
            "grid_auto_rows": null,
            "grid_column": null,
            "grid_gap": null,
            "grid_row": null,
            "grid_template_areas": null,
            "grid_template_columns": null,
            "grid_template_rows": null,
            "height": null,
            "justify_content": null,
            "justify_items": null,
            "left": null,
            "margin": null,
            "max_height": null,
            "max_width": null,
            "min_height": null,
            "min_width": null,
            "object_fit": null,
            "object_position": null,
            "order": null,
            "overflow": null,
            "overflow_x": null,
            "overflow_y": null,
            "padding": null,
            "right": null,
            "top": null,
            "visibility": null,
            "width": null
          }
        },
        "2314161e16584b3085a6a81645b8affa": {
          "model_module": "@jupyter-widgets/controls",
          "model_name": "HTMLModel",
          "model_module_version": "1.5.0",
          "state": {
            "_dom_classes": [],
            "_model_module": "@jupyter-widgets/controls",
            "_model_module_version": "1.5.0",
            "_model_name": "HTMLModel",
            "_view_count": null,
            "_view_module": "@jupyter-widgets/controls",
            "_view_module_version": "1.5.0",
            "_view_name": "HTMLView",
            "description": "",
            "description_tooltip": null,
            "layout": "IPY_MODEL_202c346e050e436da19debf995238f54",
            "placeholder": "​",
            "style": "IPY_MODEL_850d0f13052641cfa8a2810577b6af72",
            "value": "Downloading: 100%"
          }
        },
        "80c332cc9d094c3aa4ec301283b09d81": {
          "model_module": "@jupyter-widgets/controls",
          "model_name": "FloatProgressModel",
          "model_module_version": "1.5.0",
          "state": {
            "_dom_classes": [],
            "_model_module": "@jupyter-widgets/controls",
            "_model_module_version": "1.5.0",
            "_model_name": "FloatProgressModel",
            "_view_count": null,
            "_view_module": "@jupyter-widgets/controls",
            "_view_module_version": "1.5.0",
            "_view_name": "ProgressView",
            "bar_style": "success",
            "description": "",
            "description_tooltip": null,
            "layout": "IPY_MODEL_8db02b050c7949d38138a167d4a622c9",
            "max": 1112,
            "min": 0,
            "orientation": "horizontal",
            "style": "IPY_MODEL_0f22a285502d480680cc35c929069db1",
            "value": 1112
          }
        },
        "1840e050fb6a45e7aec8dc33f2e8c38f": {
          "model_module": "@jupyter-widgets/controls",
          "model_name": "HTMLModel",
          "model_module_version": "1.5.0",
          "state": {
            "_dom_classes": [],
            "_model_module": "@jupyter-widgets/controls",
            "_model_module_version": "1.5.0",
            "_model_name": "HTMLModel",
            "_view_count": null,
            "_view_module": "@jupyter-widgets/controls",
            "_view_module_version": "1.5.0",
            "_view_name": "HTMLView",
            "description": "",
            "description_tooltip": null,
            "layout": "IPY_MODEL_d6a8db31da18437b8542f202968d246f",
            "placeholder": "​",
            "style": "IPY_MODEL_6e0fa9da784a4e64b8586e20e4594c81",
            "value": " 1.11k/1.11k [00:00&lt;00:00, 23.7kB/s]"
          }
        },
        "850d0f13052641cfa8a2810577b6af72": {
          "model_module": "@jupyter-widgets/controls",
          "model_name": "DescriptionStyleModel",
          "model_module_version": "1.5.0",
          "state": {
            "_model_module": "@jupyter-widgets/controls",
            "_model_module_version": "1.5.0",
            "_model_name": "DescriptionStyleModel",
            "_view_count": null,
            "_view_module": "@jupyter-widgets/base",
            "_view_module_version": "1.2.0",
            "_view_name": "StyleView",
            "description_width": ""
          }
        },
        "202c346e050e436da19debf995238f54": {
          "model_module": "@jupyter-widgets/base",
          "model_name": "LayoutModel",
          "model_module_version": "1.2.0",
          "state": {
            "_model_module": "@jupyter-widgets/base",
            "_model_module_version": "1.2.0",
            "_model_name": "LayoutModel",
            "_view_count": null,
            "_view_module": "@jupyter-widgets/base",
            "_view_module_version": "1.2.0",
            "_view_name": "LayoutView",
            "align_content": null,
            "align_items": null,
            "align_self": null,
            "border": null,
            "bottom": null,
            "display": null,
            "flex": null,
            "flex_flow": null,
            "grid_area": null,
            "grid_auto_columns": null,
            "grid_auto_flow": null,
            "grid_auto_rows": null,
            "grid_column": null,
            "grid_gap": null,
            "grid_row": null,
            "grid_template_areas": null,
            "grid_template_columns": null,
            "grid_template_rows": null,
            "height": null,
            "justify_content": null,
            "justify_items": null,
            "left": null,
            "margin": null,
            "max_height": null,
            "max_width": null,
            "min_height": null,
            "min_width": null,
            "object_fit": null,
            "object_position": null,
            "order": null,
            "overflow": null,
            "overflow_x": null,
            "overflow_y": null,
            "padding": null,
            "right": null,
            "top": null,
            "visibility": null,
            "width": null
          }
        },
        "0f22a285502d480680cc35c929069db1": {
          "model_module": "@jupyter-widgets/controls",
          "model_name": "ProgressStyleModel",
          "model_module_version": "1.5.0",
          "state": {
            "_model_module": "@jupyter-widgets/controls",
            "_model_module_version": "1.5.0",
            "_model_name": "ProgressStyleModel",
            "_view_count": null,
            "_view_module": "@jupyter-widgets/base",
            "_view_module_version": "1.2.0",
            "_view_name": "StyleView",
            "bar_color": null,
            "description_width": ""
          }
        },
        "8db02b050c7949d38138a167d4a622c9": {
          "model_module": "@jupyter-widgets/base",
          "model_name": "LayoutModel",
          "model_module_version": "1.2.0",
          "state": {
            "_model_module": "@jupyter-widgets/base",
            "_model_module_version": "1.2.0",
            "_model_name": "LayoutModel",
            "_view_count": null,
            "_view_module": "@jupyter-widgets/base",
            "_view_module_version": "1.2.0",
            "_view_name": "LayoutView",
            "align_content": null,
            "align_items": null,
            "align_self": null,
            "border": null,
            "bottom": null,
            "display": null,
            "flex": null,
            "flex_flow": null,
            "grid_area": null,
            "grid_auto_columns": null,
            "grid_auto_flow": null,
            "grid_auto_rows": null,
            "grid_column": null,
            "grid_gap": null,
            "grid_row": null,
            "grid_template_areas": null,
            "grid_template_columns": null,
            "grid_template_rows": null,
            "height": null,
            "justify_content": null,
            "justify_items": null,
            "left": null,
            "margin": null,
            "max_height": null,
            "max_width": null,
            "min_height": null,
            "min_width": null,
            "object_fit": null,
            "object_position": null,
            "order": null,
            "overflow": null,
            "overflow_x": null,
            "overflow_y": null,
            "padding": null,
            "right": null,
            "top": null,
            "visibility": null,
            "width": null
          }
        },
        "6e0fa9da784a4e64b8586e20e4594c81": {
          "model_module": "@jupyter-widgets/controls",
          "model_name": "DescriptionStyleModel",
          "model_module_version": "1.5.0",
          "state": {
            "_model_module": "@jupyter-widgets/controls",
            "_model_module_version": "1.5.0",
            "_model_name": "DescriptionStyleModel",
            "_view_count": null,
            "_view_module": "@jupyter-widgets/base",
            "_view_module_version": "1.2.0",
            "_view_name": "StyleView",
            "description_width": ""
          }
        },
        "d6a8db31da18437b8542f202968d246f": {
          "model_module": "@jupyter-widgets/base",
          "model_name": "LayoutModel",
          "model_module_version": "1.2.0",
          "state": {
            "_model_module": "@jupyter-widgets/base",
            "_model_module_version": "1.2.0",
            "_model_name": "LayoutModel",
            "_view_count": null,
            "_view_module": "@jupyter-widgets/base",
            "_view_module_version": "1.2.0",
            "_view_name": "LayoutView",
            "align_content": null,
            "align_items": null,
            "align_self": null,
            "border": null,
            "bottom": null,
            "display": null,
            "flex": null,
            "flex_flow": null,
            "grid_area": null,
            "grid_auto_columns": null,
            "grid_auto_flow": null,
            "grid_auto_rows": null,
            "grid_column": null,
            "grid_gap": null,
            "grid_row": null,
            "grid_template_areas": null,
            "grid_template_columns": null,
            "grid_template_rows": null,
            "height": null,
            "justify_content": null,
            "justify_items": null,
            "left": null,
            "margin": null,
            "max_height": null,
            "max_width": null,
            "min_height": null,
            "min_width": null,
            "object_fit": null,
            "object_position": null,
            "order": null,
            "overflow": null,
            "overflow_x": null,
            "overflow_y": null,
            "padding": null,
            "right": null,
            "top": null,
            "visibility": null,
            "width": null
          }
        },
        "73f1bae8a3ef4e37bdee3c5c05602d6e": {
          "model_module": "@jupyter-widgets/controls",
          "model_name": "HBoxModel",
          "model_module_version": "1.5.0",
          "state": {
            "_dom_classes": [],
            "_model_module": "@jupyter-widgets/controls",
            "_model_module_version": "1.5.0",
            "_model_name": "HBoxModel",
            "_view_count": null,
            "_view_module": "@jupyter-widgets/controls",
            "_view_module_version": "1.5.0",
            "_view_name": "HBoxView",
            "box_style": "",
            "children": [
              "IPY_MODEL_fdb1eb3cc46146299c6dfde1728f0a78",
              "IPY_MODEL_9ba6f7af31ab48c09f8af0bdb1e6fbb9",
              "IPY_MODEL_204a82e16e4b467783a5a44d9998720a"
            ],
            "layout": "IPY_MODEL_19fc1d2aec044cbd850446a6f5c64971"
          }
        },
        "19fc1d2aec044cbd850446a6f5c64971": {
          "model_module": "@jupyter-widgets/base",
          "model_name": "LayoutModel",
          "model_module_version": "1.2.0",
          "state": {
            "_model_module": "@jupyter-widgets/base",
            "_model_module_version": "1.2.0",
            "_model_name": "LayoutModel",
            "_view_count": null,
            "_view_module": "@jupyter-widgets/base",
            "_view_module_version": "1.2.0",
            "_view_name": "LayoutView",
            "align_content": null,
            "align_items": null,
            "align_self": null,
            "border": null,
            "bottom": null,
            "display": null,
            "flex": null,
            "flex_flow": null,
            "grid_area": null,
            "grid_auto_columns": null,
            "grid_auto_flow": null,
            "grid_auto_rows": null,
            "grid_column": null,
            "grid_gap": null,
            "grid_row": null,
            "grid_template_areas": null,
            "grid_template_columns": null,
            "grid_template_rows": null,
            "height": null,
            "justify_content": null,
            "justify_items": null,
            "left": null,
            "margin": null,
            "max_height": null,
            "max_width": null,
            "min_height": null,
            "min_width": null,
            "object_fit": null,
            "object_position": null,
            "order": null,
            "overflow": null,
            "overflow_x": null,
            "overflow_y": null,
            "padding": null,
            "right": null,
            "top": null,
            "visibility": null,
            "width": null
          }
        },
        "fdb1eb3cc46146299c6dfde1728f0a78": {
          "model_module": "@jupyter-widgets/controls",
          "model_name": "HTMLModel",
          "model_module_version": "1.5.0",
          "state": {
            "_dom_classes": [],
            "_model_module": "@jupyter-widgets/controls",
            "_model_module_version": "1.5.0",
            "_model_name": "HTMLModel",
            "_view_count": null,
            "_view_module": "@jupyter-widgets/controls",
            "_view_module_version": "1.5.0",
            "_view_name": "HTMLView",
            "description": "",
            "description_tooltip": null,
            "layout": "IPY_MODEL_4c35e79f9bd54ceb95f9d4f6585d5d80",
            "placeholder": "​",
            "style": "IPY_MODEL_0f52c8161c944178afe6468b4435950e",
            "value": "Downloading: 100%"
          }
        },
        "9ba6f7af31ab48c09f8af0bdb1e6fbb9": {
          "model_module": "@jupyter-widgets/controls",
          "model_name": "FloatProgressModel",
          "model_module_version": "1.5.0",
          "state": {
            "_dom_classes": [],
            "_model_module": "@jupyter-widgets/controls",
            "_model_module_version": "1.5.0",
            "_model_name": "FloatProgressModel",
            "_view_count": null,
            "_view_module": "@jupyter-widgets/controls",
            "_view_module_version": "1.5.0",
            "_view_name": "ProgressView",
            "bar_style": "success",
            "description": "",
            "description_tooltip": null,
            "layout": "IPY_MODEL_7e3e97cbb25c4bc180c897555e13cb26",
            "max": 312087009,
            "min": 0,
            "orientation": "horizontal",
            "style": "IPY_MODEL_4a62c948d02c4b7c91773d1d7039c87e",
            "value": 312087009
          }
        },
        "204a82e16e4b467783a5a44d9998720a": {
          "model_module": "@jupyter-widgets/controls",
          "model_name": "HTMLModel",
          "model_module_version": "1.5.0",
          "state": {
            "_dom_classes": [],
            "_model_module": "@jupyter-widgets/controls",
            "_model_module_version": "1.5.0",
            "_model_name": "HTMLModel",
            "_view_count": null,
            "_view_module": "@jupyter-widgets/controls",
            "_view_module_version": "1.5.0",
            "_view_name": "HTMLView",
            "description": "",
            "description_tooltip": null,
            "layout": "IPY_MODEL_2f2c841968ac46ee862f8fe78d5c0bfa",
            "placeholder": "​",
            "style": "IPY_MODEL_70f99c191eba44d2b7e87ccef90249c8",
            "value": " 312M/312M [00:07&lt;00:00, 44.4MB/s]"
          }
        },
        "0f52c8161c944178afe6468b4435950e": {
          "model_module": "@jupyter-widgets/controls",
          "model_name": "DescriptionStyleModel",
          "model_module_version": "1.5.0",
          "state": {
            "_model_module": "@jupyter-widgets/controls",
            "_model_module_version": "1.5.0",
            "_model_name": "DescriptionStyleModel",
            "_view_count": null,
            "_view_module": "@jupyter-widgets/base",
            "_view_module_version": "1.2.0",
            "_view_name": "StyleView",
            "description_width": ""
          }
        },
        "4c35e79f9bd54ceb95f9d4f6585d5d80": {
          "model_module": "@jupyter-widgets/base",
          "model_name": "LayoutModel",
          "model_module_version": "1.2.0",
          "state": {
            "_model_module": "@jupyter-widgets/base",
            "_model_module_version": "1.2.0",
            "_model_name": "LayoutModel",
            "_view_count": null,
            "_view_module": "@jupyter-widgets/base",
            "_view_module_version": "1.2.0",
            "_view_name": "LayoutView",
            "align_content": null,
            "align_items": null,
            "align_self": null,
            "border": null,
            "bottom": null,
            "display": null,
            "flex": null,
            "flex_flow": null,
            "grid_area": null,
            "grid_auto_columns": null,
            "grid_auto_flow": null,
            "grid_auto_rows": null,
            "grid_column": null,
            "grid_gap": null,
            "grid_row": null,
            "grid_template_areas": null,
            "grid_template_columns": null,
            "grid_template_rows": null,
            "height": null,
            "justify_content": null,
            "justify_items": null,
            "left": null,
            "margin": null,
            "max_height": null,
            "max_width": null,
            "min_height": null,
            "min_width": null,
            "object_fit": null,
            "object_position": null,
            "order": null,
            "overflow": null,
            "overflow_x": null,
            "overflow_y": null,
            "padding": null,
            "right": null,
            "top": null,
            "visibility": null,
            "width": null
          }
        },
        "4a62c948d02c4b7c91773d1d7039c87e": {
          "model_module": "@jupyter-widgets/controls",
          "model_name": "ProgressStyleModel",
          "model_module_version": "1.5.0",
          "state": {
            "_model_module": "@jupyter-widgets/controls",
            "_model_module_version": "1.5.0",
            "_model_name": "ProgressStyleModel",
            "_view_count": null,
            "_view_module": "@jupyter-widgets/base",
            "_view_module_version": "1.2.0",
            "_view_name": "StyleView",
            "bar_color": null,
            "description_width": ""
          }
        },
        "7e3e97cbb25c4bc180c897555e13cb26": {
          "model_module": "@jupyter-widgets/base",
          "model_name": "LayoutModel",
          "model_module_version": "1.2.0",
          "state": {
            "_model_module": "@jupyter-widgets/base",
            "_model_module_version": "1.2.0",
            "_model_name": "LayoutModel",
            "_view_count": null,
            "_view_module": "@jupyter-widgets/base",
            "_view_module_version": "1.2.0",
            "_view_name": "LayoutView",
            "align_content": null,
            "align_items": null,
            "align_self": null,
            "border": null,
            "bottom": null,
            "display": null,
            "flex": null,
            "flex_flow": null,
            "grid_area": null,
            "grid_auto_columns": null,
            "grid_auto_flow": null,
            "grid_auto_rows": null,
            "grid_column": null,
            "grid_gap": null,
            "grid_row": null,
            "grid_template_areas": null,
            "grid_template_columns": null,
            "grid_template_rows": null,
            "height": null,
            "justify_content": null,
            "justify_items": null,
            "left": null,
            "margin": null,
            "max_height": null,
            "max_width": null,
            "min_height": null,
            "min_width": null,
            "object_fit": null,
            "object_position": null,
            "order": null,
            "overflow": null,
            "overflow_x": null,
            "overflow_y": null,
            "padding": null,
            "right": null,
            "top": null,
            "visibility": null,
            "width": null
          }
        },
        "70f99c191eba44d2b7e87ccef90249c8": {
          "model_module": "@jupyter-widgets/controls",
          "model_name": "DescriptionStyleModel",
          "model_module_version": "1.5.0",
          "state": {
            "_model_module": "@jupyter-widgets/controls",
            "_model_module_version": "1.5.0",
            "_model_name": "DescriptionStyleModel",
            "_view_count": null,
            "_view_module": "@jupyter-widgets/base",
            "_view_module_version": "1.2.0",
            "_view_name": "StyleView",
            "description_width": ""
          }
        },
        "2f2c841968ac46ee862f8fe78d5c0bfa": {
          "model_module": "@jupyter-widgets/base",
          "model_name": "LayoutModel",
          "model_module_version": "1.2.0",
          "state": {
            "_model_module": "@jupyter-widgets/base",
            "_model_module_version": "1.2.0",
            "_model_name": "LayoutModel",
            "_view_count": null,
            "_view_module": "@jupyter-widgets/base",
            "_view_module_version": "1.2.0",
            "_view_name": "LayoutView",
            "align_content": null,
            "align_items": null,
            "align_self": null,
            "border": null,
            "bottom": null,
            "display": null,
            "flex": null,
            "flex_flow": null,
            "grid_area": null,
            "grid_auto_columns": null,
            "grid_auto_flow": null,
            "grid_auto_rows": null,
            "grid_column": null,
            "grid_gap": null,
            "grid_row": null,
            "grid_template_areas": null,
            "grid_template_columns": null,
            "grid_template_rows": null,
            "height": null,
            "justify_content": null,
            "justify_items": null,
            "left": null,
            "margin": null,
            "max_height": null,
            "max_width": null,
            "min_height": null,
            "min_width": null,
            "object_fit": null,
            "object_position": null,
            "order": null,
            "overflow": null,
            "overflow_x": null,
            "overflow_y": null,
            "padding": null,
            "right": null,
            "top": null,
            "visibility": null,
            "width": null
          }
        }
      }
    }
  },
  "cells": [
    {
      "cell_type": "code",
      "metadata": {
        "colab": {
          "base_uri": "https://localhost:8080/"
        },
        "id": "Rar5aeZK-UdS",
        "outputId": "ae380714-114a-4126-8c3d-d004dc88d20e"
      },
      "source": [
        "import numpy as np\n",
        "import matplotlib.pyplot as plt\n",
        "import pandas as pd\n",
        "import random\n",
        "import string \n",
        "import re\n",
        "from scipy import spatial\n",
        "from sklearn.manifold import TSNE\n",
        "from nltk.tokenize import word_tokenize\n",
        "from nltk.stem import PorterStemmer\n",
        "from nltk import pos_tag\n",
        "import os\n",
        "from sklearn.naive_bayes import GaussianNB\n",
        "from nltk.corpus import wordnet\n",
        "from nltk.corpus import stopwords\n",
        "import nltk\n",
        "nltk.download('wordnet')\n",
        "nltk.download('stopwords')\n",
        "nltk.download('punkt')\n",
        "stopword = nltk.corpus.stopwords.words('english')"
      ],
      "execution_count": null,
      "outputs": [
        {
          "name": "stderr",
          "output_type": "stream",
          "text": [
            "[nltk_data] Downloading package wordnet to C:\\nltk_data...\n",
            "[nltk_data]   Package wordnet is already up-to-date!\n",
            "[nltk_data] Downloading package stopwords to C:\\nltk_data...\n",
            "[nltk_data]   Unzipping corpora\\stopwords.zip.\n",
            "[nltk_data] Downloading package punkt to C:\\nltk_data...\n",
            "[nltk_data]   Package punkt is already up-to-date!\n"
          ]
        }
      ]
    },
    {
      "cell_type": "code",
      "metadata": {
        "colab": {
          "base_uri": "https://localhost:8080/"
        },
        "id": "Z3j-CrAF-fXn",
        "outputId": "e6e270b9-a31e-4e79-a24e-16b9075c1e61"
      },
      "source": [
        "!pip install transformers==4.1.1 sentencepiece==0.1.94\n",
        "!pip install mosestokenizer==1.1.0"
      ],
      "execution_count": null,
      "outputs": [
        {
          "name": "stdout",
          "output_type": "stream",
          "text": [
            "Collecting transformers==4.1.1\n",
            "  Downloading transformers-4.1.1-py3-none-any.whl (1.5 MB)\n",
            "\u001b[K     |████████████████████████████████| 1.5 MB 14.7 MB/s \n",
            "\u001b[?25hCollecting sentencepiece==0.1.94\n",
            "  Downloading sentencepiece-0.1.94-cp37-cp37m-manylinux2014_x86_64.whl (1.1 MB)\n",
            "\u001b[K     |████████████████████████████████| 1.1 MB 42.0 MB/s \n",
            "\u001b[?25hRequirement already satisfied: requests in /usr/local/lib/python3.7/dist-packages (from transformers==4.1.1) (2.23.0)\n",
            "Requirement already satisfied: numpy in /usr/local/lib/python3.7/dist-packages (from transformers==4.1.1) (1.19.5)\n",
            "Requirement already satisfied: filelock in /usr/local/lib/python3.7/dist-packages (from transformers==4.1.1) (3.3.2)\n",
            "Collecting tokenizers==0.9.4\n",
            "  Downloading tokenizers-0.9.4-cp37-cp37m-manylinux2010_x86_64.whl (2.9 MB)\n",
            "\u001b[K     |████████████████████████████████| 2.9 MB 53.0 MB/s \n",
            "\u001b[?25hRequirement already satisfied: regex!=2019.12.17 in /usr/local/lib/python3.7/dist-packages (from transformers==4.1.1) (2019.12.20)\n",
            "Collecting sacremoses\n",
            "  Downloading sacremoses-0.0.46-py3-none-any.whl (895 kB)\n",
            "\u001b[K     |████████████████████████████████| 895 kB 62.0 MB/s \n",
            "\u001b[?25hRequirement already satisfied: packaging in /usr/local/lib/python3.7/dist-packages (from transformers==4.1.1) (21.2)\n",
            "Requirement already satisfied: tqdm>=4.27 in /usr/local/lib/python3.7/dist-packages (from transformers==4.1.1) (4.62.3)\n",
            "Requirement already satisfied: pyparsing<3,>=2.0.2 in /usr/local/lib/python3.7/dist-packages (from packaging->transformers==4.1.1) (2.4.7)\n",
            "Requirement already satisfied: certifi>=2017.4.17 in /usr/local/lib/python3.7/dist-packages (from requests->transformers==4.1.1) (2021.10.8)\n",
            "Requirement already satisfied: urllib3!=1.25.0,!=1.25.1,<1.26,>=1.21.1 in /usr/local/lib/python3.7/dist-packages (from requests->transformers==4.1.1) (1.24.3)\n",
            "Requirement already satisfied: idna<3,>=2.5 in /usr/local/lib/python3.7/dist-packages (from requests->transformers==4.1.1) (2.10)\n",
            "Requirement already satisfied: chardet<4,>=3.0.2 in /usr/local/lib/python3.7/dist-packages (from requests->transformers==4.1.1) (3.0.4)\n",
            "Requirement already satisfied: click in /usr/local/lib/python3.7/dist-packages (from sacremoses->transformers==4.1.1) (7.1.2)\n",
            "Requirement already satisfied: six in /usr/local/lib/python3.7/dist-packages (from sacremoses->transformers==4.1.1) (1.15.0)\n",
            "Requirement already satisfied: joblib in /usr/local/lib/python3.7/dist-packages (from sacremoses->transformers==4.1.1) (1.1.0)\n",
            "Installing collected packages: tokenizers, sacremoses, transformers, sentencepiece\n",
            "Successfully installed sacremoses-0.0.46 sentencepiece-0.1.94 tokenizers-0.9.4 transformers-4.1.1\n",
            "Collecting mosestokenizer==1.1.0\n",
            "  Downloading mosestokenizer-1.1.0.tar.gz (37 kB)\n",
            "Requirement already satisfied: docopt in /usr/local/lib/python3.7/dist-packages (from mosestokenizer==1.1.0) (0.6.2)\n",
            "Collecting openfile\n",
            "  Downloading openfile-0.0.7-py3-none-any.whl (2.4 kB)\n",
            "Collecting uctools\n",
            "  Downloading uctools-1.3.0.tar.gz (4.6 kB)\n",
            "Collecting toolwrapper\n",
            "  Downloading toolwrapper-2.1.0.tar.gz (3.2 kB)\n",
            "Building wheels for collected packages: mosestokenizer, toolwrapper, uctools\n",
            "  Building wheel for mosestokenizer (setup.py) ... \u001b[?25l\u001b[?25hdone\n",
            "  Created wheel for mosestokenizer: filename=mosestokenizer-1.1.0-py3-none-any.whl size=49117 sha256=0dd50b7474e4725452e5e9fac55a47d8826965989ec1701b8d78758dd41e20d7\n",
            "  Stored in directory: /root/.cache/pip/wheels/a7/31/94/fef279382208e85a65c1a7f5c4d0020115477b0af74f296b57\n",
            "  Building wheel for toolwrapper (setup.py) ... \u001b[?25l\u001b[?25hdone\n",
            "  Created wheel for toolwrapper: filename=toolwrapper-2.1.0-py3-none-any.whl size=3354 sha256=55482dc44c781e114d90b05089aabdc835668e75f831945c578e973628f811ee\n",
            "  Stored in directory: /root/.cache/pip/wheels/c5/4f/33/54741ffe08e38ececb1d28068a153729b4fe820bafa0a0691f\n",
            "  Building wheel for uctools (setup.py) ... \u001b[?25l\u001b[?25hdone\n",
            "  Created wheel for uctools: filename=uctools-1.3.0-py3-none-any.whl size=6163 sha256=ec92e0c58df39a642754f2bd7c19e9321f548d59c3a811d6a92bc7f087e53cc9\n",
            "  Stored in directory: /root/.cache/pip/wheels/fb/44/e9/914cf8fa71f0141f9314f862538d1218fcf2b94542a0fb7d35\n",
            "Successfully built mosestokenizer toolwrapper uctools\n",
            "Installing collected packages: uctools, toolwrapper, openfile, mosestokenizer\n",
            "Successfully installed mosestokenizer-1.1.0 openfile-0.0.7 toolwrapper-2.1.0 uctools-1.3.0\n"
          ]
        }
      ]
    },
    {
      "cell_type": "code",
      "metadata": {
        "id": "VGQC1ifY-hUG"
      },
      "source": [
        "from transformers import MarianMTModel, MarianTokenizer"
      ],
      "execution_count": null,
      "outputs": []
    },
    {
      "cell_type": "code",
      "metadata": {
        "colab": {
          "base_uri": "https://localhost:8080/",
          "height": 266,
          "referenced_widgets": [
            "524249dd9fa64ab3802b1ca395f80dbc",
            "995e12f612814c6494a8e281a7e20911",
            "977d46b05ae04e3094688f8fb364085f",
            "deab94674cbf4992a10da3dea99e6224",
            "0037e4ddc58741fa8ffc79246e2d168c",
            "54d47095a1544911b6ba806b3780c3c7",
            "66d6f33de8a046f8a9f449797c1f38ed",
            "285b95f537c948df860f851091f72589",
            "1a402d15f45046c090260ff6441895d4",
            "4b0055cd17c94b89abff806c405a17b0",
            "4e0855d44c0b46c9979d099afd2cdbb9",
            "2fd9f9c1c8294dff92fb53bae8bf5235",
            "47e8551f914a48e499ac7195c8737191",
            "aa3a7dec3c074d879cf5c7699480f8de",
            "dd354d47bf934ce38831647d3ed554d2",
            "bb9497b3f12b4ecc9e52dcb301613f4c",
            "53d096ecbe6c4b539bc61b5521b0b797",
            "142ab08d4a654b508da8a81b57f370a0",
            "9d70bb4975004b188ffcea68371fd3cd",
            "aceadb8cb2034dfa9bf389abf00c67d8",
            "a939ba48bac447e38cf6787ac23cc406",
            "2ba9eebbe6c440d494d454ced1a7f242",
            "fc3cc57377b54812b427fc4236bfc3f1",
            "83e6514c0354499fa9ffa6101fdf0847",
            "953c5a5a2b2b42e1aeb85c5d467d18a4",
            "bf63f7359f6e42d78e3439d95ea39efd",
            "29c214f537cc46ee94c7870a4a229acd",
            "bb29295492f0406081d3765fecb71f46",
            "ee395c4711904165a67f214085e3c98f",
            "366c6d9e0f7c454b99af5f1c73cbec34",
            "ad7f1dbc417949e9ac9604a6c98d3719",
            "8c9682777a0d452fa6804ea869fd92f0",
            "8b9a14f81f5d4a238451f69ca5f46905",
            "449a262d89c442dfadef0c7caa657d7e",
            "b51eec1aaa004e2fa6253c40f24e130d",
            "e2b7c5fb81dc4ec68b4b5a8a7a4abaed",
            "d34dd05c18e24833b57c4dd78f64efcd",
            "a85df08d104a4a208a5a38e8ac26cf1a",
            "548768ce637d4608a3fb8a3ee2fb04f9",
            "5b5f9131a40446a3b2359b4c10f433bb",
            "54c0ec4f626348949987cf414352b864",
            "ee2596faa8d549faa44a28ff7f0fba26",
            "edd4df59ca90413284e0eaa58a62d1fd",
            "c4b56de8c8574bb0b9b2fa8c1bc0fa29",
            "bdea3bf05e274dc2a6c8e70f964fdbe2",
            "69d7f38ec5a846499462777ceb01611f",
            "9c343ce3b57f414a816ad3eee5ceabea",
            "e8bb534562be4866b802024a50e9f7c7",
            "bb7dc3c438f14717b8efe5d65f408999",
            "6fcbfa867c384779b2186f7db7a026d7",
            "59ca5cde337d4e1a82216405a6515b4c",
            "42068b01b87a480884b5cbe8558f5e92",
            "c8b9bc129116440298b9563b3ec9c553",
            "292771de34bd4a91922ad927158df3df",
            "928672fe85b5444c944c945a93067455",
            "c6d75fd269a648e397d3d9a2744a545c",
            "98edf43103ca449cbd8dbfa6bf600c3e",
            "a49879cde462488ba37bfc7fe1edc0c6",
            "c3c53167c5e84671bfe30fbd98b767e8",
            "76b2a0fbfddc4a29ac43d3fc67a3f9dc",
            "d2bc14896d8140378c7d79b5d5c57b78",
            "04b4c1920c0c4ccf9d17971a8230229a",
            "937af95abccc4101874cd625c6d37ccc",
            "af9f00a86e20458582c6abe19e13f32d",
            "649a7ce8a5e14a3a8bc07b98e97c8d42",
            "ca05b8fcae4e4ec39556ca0ae9a10ebd"
          ]
        },
        "id": "yP6UIkni-lDp",
        "outputId": "ad602f29-7199-42e7-9a87-152cb41e0fbc"
      },
      "source": [
        "target_model_name = 'Helsinki-NLP/opus-mt-en-ROMANCE'\n",
        "target_tokenizer = MarianTokenizer.from_pretrained(target_model_name)\n",
        "target_model = MarianMTModel.from_pretrained(target_model_name)"
      ],
      "execution_count": null,
      "outputs": [
        {
          "data": {
            "application/vnd.jupyter.widget-view+json": {
              "model_id": "524249dd9fa64ab3802b1ca395f80dbc",
              "version_major": 2,
              "version_minor": 0
            },
            "text/plain": [
              "Downloading:   0%|          | 0.00/779k [00:00<?, ?B/s]"
            ]
          },
          "metadata": {},
          "output_type": "display_data"
        },
        {
          "data": {
            "application/vnd.jupyter.widget-view+json": {
              "model_id": "2fd9f9c1c8294dff92fb53bae8bf5235",
              "version_major": 2,
              "version_minor": 0
            },
            "text/plain": [
              "Downloading:   0%|          | 0.00/799k [00:00<?, ?B/s]"
            ]
          },
          "metadata": {},
          "output_type": "display_data"
        },
        {
          "data": {
            "application/vnd.jupyter.widget-view+json": {
              "model_id": "fc3cc57377b54812b427fc4236bfc3f1",
              "version_major": 2,
              "version_minor": 0
            },
            "text/plain": [
              "Downloading:   0%|          | 0.00/1.46M [00:00<?, ?B/s]"
            ]
          },
          "metadata": {},
          "output_type": "display_data"
        },
        {
          "data": {
            "application/vnd.jupyter.widget-view+json": {
              "model_id": "449a262d89c442dfadef0c7caa657d7e",
              "version_major": 2,
              "version_minor": 0
            },
            "text/plain": [
              "Downloading:   0%|          | 0.00/265 [00:00<?, ?B/s]"
            ]
          },
          "metadata": {},
          "output_type": "display_data"
        },
        {
          "data": {
            "application/vnd.jupyter.widget-view+json": {
              "model_id": "bdea3bf05e274dc2a6c8e70f964fdbe2",
              "version_major": 2,
              "version_minor": 0
            },
            "text/plain": [
              "Downloading:   0%|          | 0.00/1.40k [00:00<?, ?B/s]"
            ]
          },
          "metadata": {},
          "output_type": "display_data"
        },
        {
          "data": {
            "application/vnd.jupyter.widget-view+json": {
              "model_id": "c6d75fd269a648e397d3d9a2744a545c",
              "version_major": 2,
              "version_minor": 0
            },
            "text/plain": [
              "Downloading:   0%|          | 0.00/312M [00:00<?, ?B/s]"
            ]
          },
          "metadata": {},
          "output_type": "display_data"
        },
        {
          "name": "stderr",
          "output_type": "stream",
          "text": [
            "Some weights of MarianMTModel were not initialized from the model checkpoint at Helsinki-NLP/opus-mt-en-ROMANCE and are newly initialized: ['lm_head.weight']\n",
            "You should probably TRAIN this model on a down-stream task to be able to use it for predictions and inference.\n"
          ]
        }
      ]
    },
    {
      "cell_type": "code",
      "metadata": {
        "colab": {
          "base_uri": "https://localhost:8080/",
          "height": 266,
          "referenced_widgets": [
            "33c7d52432744f84b622b955670877ae",
            "866f1d73f4b34e97af0a09a84259e4fe",
            "20d4dc5f647442f5b97c34590947aabd",
            "023c6f4a6a10401ba80f920a81d311cf",
            "a414ec5489584c6385cda527d7a9f958",
            "842649532e0b4c07bbce36ac8eef4ec6",
            "7d972c87f4b646acb5341bf810dadf47",
            "9619a0937ebc44668d33e790c045361a",
            "1ed852b2b6464599a569f317329c0a2a",
            "f8f32c4803df43acba1a55b4df15addc",
            "5d9ee777382c4a5b97fbe416546a38bf",
            "5eb6b9d0bddf4fffa71b70a6ffa5faab",
            "31e0bcf712204996ad83f287d617cfdf",
            "db79600d6f23443d9b531dbc4ea76541",
            "217232f1903640c6acd63f419953702e",
            "9e837c1895c7497daebc04493d0ec631",
            "cac3215618824d3382d45e0828df98e0",
            "b435b37ea9c94d119783085caf54e176",
            "af13efb48923432f8813be7f00e99df0",
            "8b6ae3cb03644b7cafb22a97b6fe6ce2",
            "096f6f00e1c1474394150198edafd4ba",
            "36be4cb8c0f54a8ba4282060fc0d2dae",
            "80225edd3d8f4082bb198ee0e73b0152",
            "d0282e93be334f25bb036af36335303b",
            "fdc2ba8521a348ed9c578e4bb5171e22",
            "7e7827fa2ca348ffad042bbf9397e3f2",
            "c3d4edb395bd41beaa39fff5e963f5f8",
            "d4ccbd5f4d7342cebfedfc4916bb3d87",
            "fee85dfe5ce44110a0121f71d48f9f53",
            "f7646e618fc7476c8067ed13521afebf",
            "1ee6a32bbfb9427ca05fe07b4c130aaf",
            "f372d0d63bac416caac99dddcdf7ce87",
            "b6c1e264623947ae9ba7c4157cc883b3",
            "869c8ff928fa4643b234d5e34acc7d98",
            "3d7d782ad77a4ae3b7ff01608681b6d9",
            "435421a945b1460a9e875d95fb25d714",
            "61251042e832448ab62bbb8b85bc5db9",
            "373997a8c5ee409da92198cf5ab7eb76",
            "ebbe6e909b6b429cbed259875692786d",
            "a0e648596e97478fa47e60a043841776",
            "2fd8ad04819a4b1a8298acf1d0740477",
            "ea7f576af4fa46d480bfc162fbfc79b3",
            "d37395545cd240c1b47a6d90c7513d69",
            "cdbec2190a244d6fbaf48204905c5ad9",
            "d6a4f866f0a74f9eacae28bd40696f08",
            "c7c8714fc06343a8b7e41e0ec40b98e9",
            "2314161e16584b3085a6a81645b8affa",
            "80c332cc9d094c3aa4ec301283b09d81",
            "1840e050fb6a45e7aec8dc33f2e8c38f",
            "850d0f13052641cfa8a2810577b6af72",
            "202c346e050e436da19debf995238f54",
            "0f22a285502d480680cc35c929069db1",
            "8db02b050c7949d38138a167d4a622c9",
            "6e0fa9da784a4e64b8586e20e4594c81",
            "d6a8db31da18437b8542f202968d246f",
            "73f1bae8a3ef4e37bdee3c5c05602d6e",
            "19fc1d2aec044cbd850446a6f5c64971",
            "fdb1eb3cc46146299c6dfde1728f0a78",
            "9ba6f7af31ab48c09f8af0bdb1e6fbb9",
            "204a82e16e4b467783a5a44d9998720a",
            "0f52c8161c944178afe6468b4435950e",
            "4c35e79f9bd54ceb95f9d4f6585d5d80",
            "4a62c948d02c4b7c91773d1d7039c87e",
            "7e3e97cbb25c4bc180c897555e13cb26",
            "70f99c191eba44d2b7e87ccef90249c8",
            "2f2c841968ac46ee862f8fe78d5c0bfa"
          ]
        },
        "id": "aizw4wkS-mvs",
        "outputId": "916e9a44-7ef9-432d-c6cf-45b61e0fa87d"
      },
      "source": [
        "en_model_name = 'Helsinki-NLP/opus-mt-ROMANCE-en'\n",
        "en_tokenizer = MarianTokenizer.from_pretrained(en_model_name)\n",
        "en_model = MarianMTModel.from_pretrained(en_model_name)"
      ],
      "execution_count": null,
      "outputs": [
        {
          "data": {
            "application/vnd.jupyter.widget-view+json": {
              "model_id": "33c7d52432744f84b622b955670877ae",
              "version_major": 2,
              "version_minor": 0
            },
            "text/plain": [
              "Downloading:   0%|          | 0.00/800k [00:00<?, ?B/s]"
            ]
          },
          "metadata": {},
          "output_type": "display_data"
        },
        {
          "data": {
            "application/vnd.jupyter.widget-view+json": {
              "model_id": "5eb6b9d0bddf4fffa71b70a6ffa5faab",
              "version_major": 2,
              "version_minor": 0
            },
            "text/plain": [
              "Downloading:   0%|          | 0.00/779k [00:00<?, ?B/s]"
            ]
          },
          "metadata": {},
          "output_type": "display_data"
        },
        {
          "data": {
            "application/vnd.jupyter.widget-view+json": {
              "model_id": "80225edd3d8f4082bb198ee0e73b0152",
              "version_major": 2,
              "version_minor": 0
            },
            "text/plain": [
              "Downloading:   0%|          | 0.00/1.46M [00:00<?, ?B/s]"
            ]
          },
          "metadata": {},
          "output_type": "display_data"
        },
        {
          "data": {
            "application/vnd.jupyter.widget-view+json": {
              "model_id": "869c8ff928fa4643b234d5e34acc7d98",
              "version_major": 2,
              "version_minor": 0
            },
            "text/plain": [
              "Downloading:   0%|          | 0.00/265 [00:00<?, ?B/s]"
            ]
          },
          "metadata": {},
          "output_type": "display_data"
        },
        {
          "data": {
            "application/vnd.jupyter.widget-view+json": {
              "model_id": "d6a4f866f0a74f9eacae28bd40696f08",
              "version_major": 2,
              "version_minor": 0
            },
            "text/plain": [
              "Downloading:   0%|          | 0.00/1.11k [00:00<?, ?B/s]"
            ]
          },
          "metadata": {},
          "output_type": "display_data"
        },
        {
          "data": {
            "application/vnd.jupyter.widget-view+json": {
              "model_id": "73f1bae8a3ef4e37bdee3c5c05602d6e",
              "version_major": 2,
              "version_minor": 0
            },
            "text/plain": [
              "Downloading:   0%|          | 0.00/312M [00:00<?, ?B/s]"
            ]
          },
          "metadata": {},
          "output_type": "display_data"
        },
        {
          "name": "stderr",
          "output_type": "stream",
          "text": [
            "Some weights of MarianMTModel were not initialized from the model checkpoint at Helsinki-NLP/opus-mt-ROMANCE-en and are newly initialized: ['lm_head.weight']\n",
            "You should probably TRAIN this model on a down-stream task to be able to use it for predictions and inference.\n"
          ]
        }
      ]
    },
    {
      "cell_type": "code",
      "metadata": {
        "id": "C-KcIQ9u-o6I"
      },
      "source": [
        "def translate(texts, model, tokenizer, language=\"fr\"):\n",
        "    # Prepare the text data into appropriate format for the model\n",
        "    template = lambda text: f\"{text}\" if language == \"en\" else f\">>{language}<< {text}\"\n",
        "    src_texts = [template(text) for text in texts]\n",
        "    src_texts = np.array(src_texts)\n",
        "    # Tokenize the texts\n",
        "    encoded = tokenizer.prepare_seq2seq_batch(src_texts,return_tensors='pt')\n",
        "    \n",
        "    # Generate translation using model\n",
        "    translated = model.generate(**encoded)\n",
        "\n",
        "    # Convert the generated tokens indices back into text\n",
        "    translated_texts = tokenizer.batch_decode(translated, skip_special_tokens=True)\n",
        "    \n",
        "    return translated_texts"
      ],
      "execution_count": null,
      "outputs": []
    },
    {
      "cell_type": "code",
      "metadata": {
        "id": "6brx8YbI-qxz"
      },
      "source": [
        "def back_translate(texts, source_lang=\"en\", target_lang=\"fr\"):\n",
        "    # Translate from source to target language\n",
        "    fr_texts = translate(texts, target_model, target_tokenizer, \n",
        "                         language=target_lang)\n",
        "\n",
        "    # Translate from target language back to source language\n",
        "    back_translated_texts = translate(fr_texts, en_model, en_tokenizer, \n",
        "                                      language=source_lang)\n",
        "    \n",
        "    return back_translated_texts"
      ],
      "execution_count": null,
      "outputs": []
    },
    {
      "cell_type": "code",
      "metadata": {
        "colab": {
          "base_uri": "https://localhost:8080/"
        },
        "id": "E5JDsrVv-s_-",
        "outputId": "7eba2e56-26e1-4ee1-bccf-73ae46086217"
      },
      "source": [
        "en_texts = ['This is so cool', 'I hated the food', 'They were very helpful']\n",
        "aug_texts = back_translate(np.array(en_texts), source_lang=\"en\", target_lang=\"fr\")\n",
        "print(aug_texts)"
      ],
      "execution_count": null,
      "outputs": [
        {
          "name": "stderr",
          "output_type": "stream",
          "text": [
            "/usr/local/lib/python3.7/dist-packages/transformers/generation_utils.py:1065: UserWarning: __floordiv__ is deprecated, and its behavior will change in a future version of pytorch. It currently rounds toward 0 (like the 'trunc' function NOT 'floor'). This results in incorrect rounding for negative values. To keep the current behavior, use torch.div(a, b, rounding_mode='trunc'), or for actual floor division, use torch.div(a, b, rounding_mode='floor').\n",
            "  next_indices = next_tokens // vocab_size\n"
          ]
        },
        {
          "name": "stdout",
          "output_type": "stream",
          "text": [
            "[\"It's so cool.\", 'I hated food.', \"They've been very helpful.\"]\n"
          ]
        }
      ]
    },
    {
      "cell_type": "code",
      "metadata": {
        "colab": {
          "base_uri": "https://localhost:8080/"
        },
        "id": "xu2XxANz4rH9",
        "outputId": "35325e52-6a0c-4dbf-bbaf-c6e97315417b"
      },
      "source": [
        "from google.colab import drive\n",
        "drive.mount('/content/drive')"
      ],
      "execution_count": 2,
      "outputs": [
        {
          "output_type": "stream",
          "name": "stdout",
          "text": [
            "Mounted at /content/drive\n"
          ]
        }
      ]
    },
    {
      "cell_type": "code",
      "metadata": {
        "id": "db-z8pyB-1Vz"
      },
      "source": [
        "df=pd.read_csv('IMDB Dataset.csv')"
      ],
      "execution_count": null,
      "outputs": []
    },
    {
      "cell_type": "code",
      "metadata": {
        "colab": {
          "base_uri": "https://localhost:8080/",
          "height": 206
        },
        "id": "UO8WI7GfGTBj",
        "outputId": "8787921a-bb24-4a9e-d50d-d05a09b30fce"
      },
      "source": [
        "df.head()"
      ],
      "execution_count": null,
      "outputs": [
        {
          "data": {
            "text/html": [
              "<div>\n",
              "<style scoped>\n",
              "    .dataframe tbody tr th:only-of-type {\n",
              "        vertical-align: middle;\n",
              "    }\n",
              "\n",
              "    .dataframe tbody tr th {\n",
              "        vertical-align: top;\n",
              "    }\n",
              "\n",
              "    .dataframe thead th {\n",
              "        text-align: right;\n",
              "    }\n",
              "</style>\n",
              "<table border=\"1\" class=\"dataframe\">\n",
              "  <thead>\n",
              "    <tr style=\"text-align: right;\">\n",
              "      <th></th>\n",
              "      <th>review</th>\n",
              "      <th>sentiment</th>\n",
              "    </tr>\n",
              "  </thead>\n",
              "  <tbody>\n",
              "    <tr>\n",
              "      <th>0</th>\n",
              "      <td>One of the other reviewers has mentioned that ...</td>\n",
              "      <td>positive</td>\n",
              "    </tr>\n",
              "    <tr>\n",
              "      <th>1</th>\n",
              "      <td>A wonderful little production. &lt;br /&gt;&lt;br /&gt;The...</td>\n",
              "      <td>positive</td>\n",
              "    </tr>\n",
              "    <tr>\n",
              "      <th>2</th>\n",
              "      <td>I thought this was a wonderful way to spend ti...</td>\n",
              "      <td>positive</td>\n",
              "    </tr>\n",
              "    <tr>\n",
              "      <th>3</th>\n",
              "      <td>Basically there's a family where a little boy ...</td>\n",
              "      <td>negative</td>\n",
              "    </tr>\n",
              "    <tr>\n",
              "      <th>4</th>\n",
              "      <td>Petter Mattei's \"Love in the Time of Money\" is...</td>\n",
              "      <td>positive</td>\n",
              "    </tr>\n",
              "  </tbody>\n",
              "</table>\n",
              "</div>"
            ],
            "text/plain": [
              "                                              review sentiment\n",
              "0  One of the other reviewers has mentioned that ...  positive\n",
              "1  A wonderful little production. <br /><br />The...  positive\n",
              "2  I thought this was a wonderful way to spend ti...  positive\n",
              "3  Basically there's a family where a little boy ...  negative\n",
              "4  Petter Mattei's \"Love in the Time of Money\" is...  positive"
            ]
          },
          "execution_count": 13,
          "metadata": {},
          "output_type": "execute_result"
        }
      ]
    },
    {
      "cell_type": "code",
      "metadata": {
        "id": "nJHqDKWYGWgZ"
      },
      "source": [
        "X_text=df[\"review\"]"
      ],
      "execution_count": null,
      "outputs": []
    },
    {
      "cell_type": "code",
      "metadata": {
        "colab": {
          "base_uri": "https://localhost:8080/"
        },
        "id": "QdwoDBvDGnY7",
        "outputId": "f629832c-691b-4cf3-f0d4-a0fba92ca9e0"
      },
      "source": [
        "X_text"
      ],
      "execution_count": null,
      "outputs": [
        {
          "data": {
            "text/plain": [
              "0        One of the other reviewers has mentioned that ...\n",
              "1        A wonderful little production. <br /><br />The...\n",
              "2        I thought this was a wonderful way to spend ti...\n",
              "3        Basically there's a family where a little boy ...\n",
              "4        Petter Mattei's \"Love in the Time of Money\" is...\n",
              "                               ...                        \n",
              "49995    I thought this movie did a down right good job...\n",
              "49996    Bad plot, bad dialogue, bad acting, idiotic di...\n",
              "49997    I am a Catholic taught in parochial elementary...\n",
              "49998    I'm going to have to disagree with the previou...\n",
              "49999    No one expects the Star Trek movies to be high...\n",
              "Name: review, Length: 50000, dtype: object"
            ]
          },
          "execution_count": 15,
          "metadata": {},
          "output_type": "execute_result"
        }
      ]
    },
    {
      "cell_type": "code",
      "metadata": {
        "colab": {
          "base_uri": "https://localhost:8080/",
          "height": 167
        },
        "id": "ia9GAX40LB46",
        "outputId": "1c5c6d4e-78dc-430f-92e0-dc0959c7550a"
      },
      "source": [
        "X_text[0]"
      ],
      "execution_count": null,
      "outputs": [
        {
          "data": {
            "application/vnd.google.colaboratory.intrinsic+json": {
              "type": "string"
            },
            "text/plain": [
              "\"One of the other reviewers has mentioned that after watching just 1 Oz episode you'll be hooked. They are right, as this is exactly what happened with me.<br /><br />The first thing that struck me about Oz was its brutality and unflinching scenes of violence, which set in right from the word GO. Trust me, this is not a show for the faint hearted or timid. This show pulls no punches with regards to drugs, sex or violence. Its is hardcore, in the classic use of the word.<br /><br />It is called OZ as that is the nickname given to the Oswald Maximum Security State Penitentary. It focuses mainly on Emerald City, an experimental section of the prison where all the cells have glass fronts and face inwards, so privacy is not high on the agenda. Em City is home to many..Aryans, Muslims, gangstas, Latinos, Christians, Italians, Irish and more....so scuffles, death stares, dodgy dealings and shady agreements are never far away.<br /><br />I would say the main appeal of the show is due to the fact that it goes where other shows wouldn't dare. Forget pretty pictures painted for mainstream audiences, forget charm, forget romance...OZ doesn't mess around. The first episode I ever saw struck me as so nasty it was surreal, I couldn't say I was ready for it, but as I watched more, I developed a taste for Oz, and got accustomed to the high levels of graphic violence. Not just violence, but injustice (crooked guards who'll be sold out for a nickel, inmates who'll kill on order and get away with it, well mannered, middle class inmates being turned into prison bitches due to their lack of street skills or prison experience) Watching Oz, you may become comfortable with what is uncomfortable viewing....thats if you can get in touch with your darker side.\""
            ]
          },
          "execution_count": 16,
          "metadata": {},
          "output_type": "execute_result"
        }
      ]
    },
    {
      "cell_type": "code",
      "metadata": {
        "id": "unkpxQg0Gowg"
      },
      "source": [
        "X_text=X_text[:200]"
      ],
      "execution_count": null,
      "outputs": []
    },
    {
      "cell_type": "code",
      "metadata": {
        "id": "dZxMr41375Tm"
      },
      "source": [
        "for i in range(200):\n",
        "  X_text[i]=X_text[i].split('.')"
      ],
      "execution_count": null,
      "outputs": []
    },
    {
      "cell_type": "code",
      "metadata": {
        "id": "iBbryE4179Xz"
      },
      "source": [
        "for i in range(200):\n",
        "  X_t=[]\n",
        "  for s in X_text[i]:\n",
        "    if s != '':\n",
        "      X_t.append(s)\n",
        "  X_text[i]=X_t\n"
      ],
      "execution_count": null,
      "outputs": []
    },
    {
      "cell_type": "code",
      "metadata": {
        "colab": {
          "base_uri": "https://localhost:8080/"
        },
        "id": "GhU0EXpN8Baw",
        "outputId": "6ed952f8-a90d-409c-d0fa-9cf6a06e7153"
      },
      "source": [
        "X_text[0]"
      ],
      "execution_count": null,
      "outputs": [
        {
          "data": {
            "text/plain": [
              "[\"One of the other reviewers has mentioned that after watching just 1 Oz episode you'll be hooked\",\n",
              " ' They are right, as this is exactly what happened with me',\n",
              " '<br /><br />The first thing that struck me about Oz was its brutality and unflinching scenes of violence, which set in right from the word GO',\n",
              " ' Trust me, this is not a show for the faint hearted or timid',\n",
              " ' This show pulls no punches with regards to drugs, sex or violence',\n",
              " ' Its is hardcore, in the classic use of the word',\n",
              " '<br /><br />It is called OZ as that is the nickname given to the Oswald Maximum Security State Penitentary',\n",
              " ' It focuses mainly on Emerald City, an experimental section of the prison where all the cells have glass fronts and face inwards, so privacy is not high on the agenda',\n",
              " ' Em City is home to many',\n",
              " 'Aryans, Muslims, gangstas, Latinos, Christians, Italians, Irish and more',\n",
              " 'so scuffles, death stares, dodgy dealings and shady agreements are never far away',\n",
              " \"<br /><br />I would say the main appeal of the show is due to the fact that it goes where other shows wouldn't dare\",\n",
              " ' Forget pretty pictures painted for mainstream audiences, forget charm, forget romance',\n",
              " \"OZ doesn't mess around\",\n",
              " \" The first episode I ever saw struck me as so nasty it was surreal, I couldn't say I was ready for it, but as I watched more, I developed a taste for Oz, and got accustomed to the high levels of graphic violence\",\n",
              " \" Not just violence, but injustice (crooked guards who'll be sold out for a nickel, inmates who'll kill on order and get away with it, well mannered, middle class inmates being turned into prison bitches due to their lack of street skills or prison experience) Watching Oz, you may become comfortable with what is uncomfortable viewing\",\n",
              " 'thats if you can get in touch with your darker side']"
            ]
          },
          "execution_count": 20,
          "metadata": {},
          "output_type": "execute_result"
        }
      ]
    },
    {
      "cell_type": "code",
      "metadata": {
        "colab": {
          "base_uri": "https://localhost:8080/"
        },
        "id": "-cypdwGmGvOT",
        "outputId": "a969d871-e4a9-46f5-ce1d-81c70d1f3bb6"
      },
      "source": [
        "X_augmented=[]\n",
        "count=1\n",
        "for text in X_text:\n",
        "  aug_texts = back_translate(np.array(text), source_lang=\"en\", target_lang=\"fr\")\n",
        "  X_augmented.append(aug_texts)\n",
        "  print(count)\n",
        "  count+=1\n",
        "  #print(aug_texts)"
      ],
      "execution_count": null,
      "outputs": [
        {
          "metadata": {
            "tags": null
          },
          "name": "stderr",
          "output_type": "stream",
          "text": [
            "/usr/local/lib/python3.7/dist-packages/transformers/generation_utils.py:1065: UserWarning: __floordiv__ is deprecated, and its behavior will change in a future version of pytorch. It currently rounds toward 0 (like the 'trunc' function NOT 'floor'). This results in incorrect rounding for negative values. To keep the current behavior, use torch.div(a, b, rounding_mode='trunc'), or for actual floor division, use torch.div(a, b, rounding_mode='floor').\n",
            "  next_indices = next_tokens // vocab_size\n"
          ]
        },
        {
          "name": "stdout",
          "output_type": "stream",
          "text": [
            "1\n",
            "2\n",
            "3\n",
            "4\n",
            "5\n",
            "6\n",
            "7\n",
            "8\n",
            "9\n",
            "10\n",
            "11\n",
            "12\n",
            "13\n",
            "14\n",
            "15\n",
            "16\n",
            "17\n",
            "18\n",
            "19\n",
            "20\n",
            "21\n",
            "22\n",
            "23\n",
            "24\n",
            "25\n",
            "26\n",
            "27\n",
            "28\n",
            "29\n",
            "30\n",
            "31\n",
            "32\n",
            "33\n",
            "34\n",
            "35\n",
            "36\n",
            "37\n",
            "38\n",
            "39\n",
            "40\n",
            "41\n",
            "42\n",
            "43\n",
            "44\n",
            "45\n",
            "46\n",
            "47\n",
            "48\n",
            "49\n",
            "50\n",
            "51\n",
            "52\n",
            "53\n",
            "54\n",
            "55\n",
            "56\n",
            "57\n",
            "58\n",
            "59\n",
            "60\n",
            "61\n",
            "62\n",
            "63\n",
            "64\n",
            "65\n",
            "66\n",
            "67\n",
            "68\n",
            "69\n",
            "70\n",
            "71\n",
            "72\n",
            "73\n",
            "74\n",
            "75\n",
            "76\n",
            "77\n",
            "78\n",
            "79\n",
            "80\n",
            "81\n",
            "82\n",
            "83\n",
            "84\n",
            "85\n",
            "86\n",
            "87\n",
            "88\n",
            "89\n",
            "90\n",
            "91\n",
            "92\n",
            "93\n",
            "94\n",
            "95\n",
            "96\n",
            "97\n",
            "98\n",
            "99\n",
            "100\n",
            "101\n",
            "102\n",
            "103\n",
            "104\n",
            "105\n",
            "106\n",
            "107\n",
            "108\n",
            "109\n",
            "110\n",
            "111\n",
            "112\n",
            "113\n",
            "114\n",
            "115\n",
            "116\n",
            "117\n",
            "118\n",
            "119\n",
            "120\n",
            "121\n",
            "122\n",
            "123\n",
            "124\n",
            "125\n",
            "126\n",
            "127\n",
            "128\n",
            "129\n",
            "130\n",
            "131\n",
            "132\n",
            "133\n",
            "134\n",
            "135\n",
            "136\n",
            "137\n",
            "138\n",
            "139\n",
            "140\n",
            "141\n",
            "142\n",
            "143\n",
            "144\n",
            "145\n",
            "146\n",
            "147\n",
            "148\n",
            "149\n",
            "150\n",
            "151\n",
            "152\n",
            "153\n",
            "154\n",
            "155\n",
            "156\n",
            "157\n",
            "158\n",
            "159\n",
            "160\n",
            "161\n",
            "162\n",
            "163\n",
            "164\n",
            "165\n",
            "166\n",
            "167\n",
            "168\n",
            "169\n",
            "170\n",
            "171\n",
            "172\n",
            "173\n",
            "174\n",
            "175\n",
            "176\n",
            "177\n",
            "178\n",
            "179\n",
            "180\n",
            "181\n",
            "182\n",
            "183\n",
            "184\n",
            "185\n",
            "186\n",
            "187\n",
            "188\n",
            "189\n",
            "190\n",
            "191\n",
            "192\n",
            "193\n",
            "194\n",
            "195\n",
            "196\n",
            "197\n",
            "198\n",
            "199\n",
            "200\n"
          ]
        }
      ]
    },
    {
      "cell_type": "code",
      "metadata": {
        "id": "lF4bedTgJnoX"
      },
      "source": [
        "temp=X_augmented\n",
        "temp2=X_augmented\n",
        "temp3=X_augmented\n",
        "temp4=X_augmented"
      ],
      "execution_count": null,
      "outputs": []
    },
    {
      "cell_type": "code",
      "metadata": {
        "id": "ZCFIxl4NHDiJ"
      },
      "source": [
        "temp5=[]\n",
        "for i in range(200):\n",
        "    s=X_augmented[i][0]\n",
        "    for j in range(1,len(X_augmented[i])):\n",
        "        s=s+'.'+X_augmented[i][j]\n",
        "    temp5.append(s)"
      ],
      "execution_count": null,
      "outputs": []
    },
    {
      "cell_type": "code",
      "metadata": {
        "id": "gQjXkGThjm9x"
      },
      "source": [
        "temp6=df['review']"
      ],
      "execution_count": null,
      "outputs": []
    },
    {
      "cell_type": "code",
      "metadata": {
        "id": "0Azz-62njq3m"
      },
      "source": [
        "temp6=temp6[:200]"
      ],
      "execution_count": null,
      "outputs": []
    },
    {
      "cell_type": "code",
      "metadata": {
        "colab": {
          "base_uri": "https://localhost:8080/",
          "height": 167
        },
        "id": "izGTNLMboV_5",
        "outputId": "3f01323f-7f70-417b-f001-689a5dd0e422"
      },
      "source": [
        "temp5[0]"
      ],
      "execution_count": null,
      "outputs": [
        {
          "data": {
            "application/vnd.google.colaboratory.intrinsic+json": {
              "type": "string"
            },
            "text/plain": [
              "\"One of the other critics mentioned that after watching only 1 Oz episode you will be hung.They're right, because that's exactly what happened to me..The first thing that struck me about Oz was his brutality and the constant scenes of violence, which started from the word GO.Believe me, it's not a show for weak or shy hearts..This show does not shoot punches with regard to drugs, sex or violence.Its hardcore, in the classic use of the word.<br /><br />It is called OZ as it is the nickname given to the prison of the maximum security state of Oswald.It focuses mainly on Emerald City, an experimental section of the prison where all cells have a glass front and face, so privacy is not at the forefront of the agenda.Em City is the home of many.Aryans, Muslims, gangsters, Latinos, Christians, Italians, Irish and more.So the quarrels, the looks of death, the transactions and the shady agreements are never far away.I would say that the main attraction of the show is that it goes where other shows wouldn't dare..Forget beautiful pictures painted for the general public, forget the charm, forget the romance.OZ doesn't do anything stupid..The first episode I saw struck me as so mean that he was surrealistic, I couldn't say that I was ready for it, but as I watched more, I developed a taste for Oz, and got used to the high levels of graphic violence.Not only violence, but injustice (guardians who will be sold for a nickel, prisoners who will kill on order and get out of it, middle class inmates well handled turning into prison sluts because of their lack of street skills or prison experience) Observer Oz, you can become comfortable with what is uncomfortable watching.It's if you can get in touch with your darker side.\""
            ]
          },
          "execution_count": 35,
          "metadata": {},
          "output_type": "execute_result"
        }
      ]
    },
    {
      "cell_type": "code",
      "metadata": {
        "colab": {
          "base_uri": "https://localhost:8080/",
          "height": 167
        },
        "id": "MMEPygz3oY-_",
        "outputId": "239b9e98-e8df-44c0-e969-d7dac9396e4b"
      },
      "source": [
        "temp6[0]"
      ],
      "execution_count": null,
      "outputs": [
        {
          "data": {
            "application/vnd.google.colaboratory.intrinsic+json": {
              "type": "string"
            },
            "text/plain": [
              "\"One of the other reviewers has mentioned that after watching just 1 Oz episode you'll be hooked. They are right, as this is exactly what happened with me.<br /><br />The first thing that struck me about Oz was its brutality and unflinching scenes of violence, which set in right from the word GO. Trust me, this is not a show for the faint hearted or timid. This show pulls no punches with regards to drugs, sex or violence. Its is hardcore, in the classic use of the word.<br /><br />It is called OZ as that is the nickname given to the Oswald Maximum Security State Penitentary. It focuses mainly on Emerald City, an experimental section of the prison where all the cells have glass fronts and face inwards, so privacy is not high on the agenda. Em City is home to many..Aryans, Muslims, gangstas, Latinos, Christians, Italians, Irish and more....so scuffles, death stares, dodgy dealings and shady agreements are never far away.<br /><br />I would say the main appeal of the show is due to the fact that it goes where other shows wouldn't dare. Forget pretty pictures painted for mainstream audiences, forget charm, forget romance...OZ doesn't mess around. The first episode I ever saw struck me as so nasty it was surreal, I couldn't say I was ready for it, but as I watched more, I developed a taste for Oz, and got accustomed to the high levels of graphic violence. Not just violence, but injustice (crooked guards who'll be sold out for a nickel, inmates who'll kill on order and get away with it, well mannered, middle class inmates being turned into prison bitches due to their lack of street skills or prison experience) Watching Oz, you may become comfortable with what is uncomfortable viewing....thats if you can get in touch with your darker side.\""
            ]
          },
          "execution_count": 45,
          "metadata": {},
          "output_type": "execute_result"
        }
      ]
    },
    {
      "cell_type": "code",
      "metadata": {
        "id": "_2uEGa32jtPW"
      },
      "source": [
        "listt=[]\n",
        "for i in range(200):\n",
        "    listt.append([temp5[i],temp6[i]])"
      ],
      "execution_count": null,
      "outputs": []
    },
    {
      "cell_type": "code",
      "metadata": {
        "id": "TirjZmVEj-pF"
      },
      "source": [
        "df2=pd.DataFrame(listt,columns=['Text','Augmented Text'])"
      ],
      "execution_count": null,
      "outputs": []
    },
    {
      "cell_type": "code",
      "metadata": {
        "id": "UIn-Pk52kjev"
      },
      "source": [
        "df1=pd.read_csv('/content/drive/MyDrive/Prism/Augmented_text.csv')"
      ],
      "execution_count": null,
      "outputs": []
    },
    {
      "cell_type": "code",
      "metadata": {
        "id": "v2kkaM4PkuH7"
      },
      "source": [
        "df2=df2.append(df1)"
      ],
      "execution_count": null,
      "outputs": []
    },
    {
      "cell_type": "code",
      "metadata": {
        "colab": {
          "base_uri": "https://localhost:8080/",
          "height": 206
        },
        "id": "NJWA9ms2oMEr",
        "outputId": "aa2989c9-5b75-42d8-e2d4-3008b6229dc1"
      },
      "source": [
        "df2.head()"
      ],
      "execution_count": null,
      "outputs": [
        {
          "data": {
            "text/html": [
              "<div>\n",
              "<style scoped>\n",
              "    .dataframe tbody tr th:only-of-type {\n",
              "        vertical-align: middle;\n",
              "    }\n",
              "\n",
              "    .dataframe tbody tr th {\n",
              "        vertical-align: top;\n",
              "    }\n",
              "\n",
              "    .dataframe thead th {\n",
              "        text-align: right;\n",
              "    }\n",
              "</style>\n",
              "<table border=\"1\" class=\"dataframe\">\n",
              "  <thead>\n",
              "    <tr style=\"text-align: right;\">\n",
              "      <th></th>\n",
              "      <th>Text</th>\n",
              "      <th>Augmented Text</th>\n",
              "      <th>Unnamed: 0</th>\n",
              "    </tr>\n",
              "  </thead>\n",
              "  <tbody>\n",
              "    <tr>\n",
              "      <th>0</th>\n",
              "      <td>One of the other critics mentioned that after ...</td>\n",
              "      <td>One of the other reviewers has mentioned that ...</td>\n",
              "      <td>NaN</td>\n",
              "    </tr>\n",
              "    <tr>\n",
              "      <th>1</th>\n",
              "      <td>A beautiful small production.&lt;br /&gt;&lt;br /&gt;The f...</td>\n",
              "      <td>A wonderful little production. &lt;br /&gt;&lt;br /&gt;The...</td>\n",
              "      <td>NaN</td>\n",
              "    </tr>\n",
              "    <tr>\n",
              "      <th>2</th>\n",
              "      <td>I thought it was a wonderful way to spend time...</td>\n",
              "      <td>I thought this was a wonderful way to spend ti...</td>\n",
              "      <td>NaN</td>\n",
              "    </tr>\n",
              "    <tr>\n",
              "      <th>3</th>\n",
              "      <td>Basically there's a family where a little boy ...</td>\n",
              "      <td>Basically there's a family where a little boy ...</td>\n",
              "      <td>NaN</td>\n",
              "    </tr>\n",
              "    <tr>\n",
              "      <th>4</th>\n",
              "      <td>\"Love in the Time of Money\" by Petter Mattei i...</td>\n",
              "      <td>Petter Mattei's \"Love in the Time of Money\" is...</td>\n",
              "      <td>NaN</td>\n",
              "    </tr>\n",
              "  </tbody>\n",
              "</table>\n",
              "</div>"
            ],
            "text/plain": [
              "                                                Text  ... Unnamed: 0\n",
              "0  One of the other critics mentioned that after ...  ...        NaN\n",
              "1  A beautiful small production.<br /><br />The f...  ...        NaN\n",
              "2  I thought it was a wonderful way to spend time...  ...        NaN\n",
              "3  Basically there's a family where a little boy ...  ...        NaN\n",
              "4  \"Love in the Time of Money\" by Petter Mattei i...  ...        NaN\n",
              "\n",
              "[5 rows x 3 columns]"
            ]
          },
          "execution_count": 49,
          "metadata": {},
          "output_type": "execute_result"
        }
      ]
    },
    {
      "cell_type": "code",
      "metadata": {
        "id": "XocieT8upH8s"
      },
      "source": [
        "df2.drop(['Unnamed: 0'],axis=1,inplace=True)"
      ],
      "execution_count": null,
      "outputs": []
    },
    {
      "cell_type": "code",
      "metadata": {
        "colab": {
          "base_uri": "https://localhost:8080/",
          "height": 206
        },
        "id": "ObuIDrE2pb0N",
        "outputId": "06c92ad7-8a08-4a5b-8fc1-aaca226bb44e"
      },
      "source": [
        "df2.tail()"
      ],
      "execution_count": null,
      "outputs": [
        {
          "data": {
            "text/html": [
              "<div>\n",
              "<style scoped>\n",
              "    .dataframe tbody tr th:only-of-type {\n",
              "        vertical-align: middle;\n",
              "    }\n",
              "\n",
              "    .dataframe tbody tr th {\n",
              "        vertical-align: top;\n",
              "    }\n",
              "\n",
              "    .dataframe thead th {\n",
              "        text-align: right;\n",
              "    }\n",
              "</style>\n",
              "<table border=\"1\" class=\"dataframe\">\n",
              "  <thead>\n",
              "    <tr style=\"text-align: right;\">\n",
              "      <th></th>\n",
              "      <th>Text</th>\n",
              "      <th>Augmented Text</th>\n",
              "    </tr>\n",
              "  </thead>\n",
              "  <tbody>\n",
              "    <tr>\n",
              "      <th>45</th>\n",
              "      <td>I've seen this movie at least 100 times and I'...</td>\n",
              "      <td>I have seen this film at least 100 times and I...</td>\n",
              "    </tr>\n",
              "    <tr>\n",
              "      <th>46</th>\n",
              "      <td>This show doesn't make any sense at all..Every...</td>\n",
              "      <td>This show makes absolutely no sense. Every wee...</td>\n",
              "    </tr>\n",
              "    <tr>\n",
              "      <th>47</th>\n",
              "      <td>This movie was so bad that it was funny! For a...</td>\n",
              "      <td>This movie was so bad it was funny! For awhile...</td>\n",
              "    </tr>\n",
              "    <tr>\n",
              "      <th>48</th>\n",
              "      <td>Meryl Streep is a genius..Well, at least as an...</td>\n",
              "      <td>Meryl Streep is such a genius. Well, at least ...</td>\n",
              "    </tr>\n",
              "    <tr>\n",
              "      <th>49</th>\n",
              "      <td>'Airport 4' is basically an inclined disorder ...</td>\n",
              "      <td>'Airport 4' is basically a slopped together me...</td>\n",
              "    </tr>\n",
              "  </tbody>\n",
              "</table>\n",
              "</div>"
            ],
            "text/plain": [
              "                                                 Text                                     Augmented Text\n",
              "45  I've seen this movie at least 100 times and I'...  I have seen this film at least 100 times and I...\n",
              "46  This show doesn't make any sense at all..Every...  This show makes absolutely no sense. Every wee...\n",
              "47  This movie was so bad that it was funny! For a...  This movie was so bad it was funny! For awhile...\n",
              "48  Meryl Streep is a genius..Well, at least as an...  Meryl Streep is such a genius. Well, at least ...\n",
              "49  'Airport 4' is basically an inclined disorder ...  'Airport 4' is basically a slopped together me..."
            ]
          },
          "execution_count": 53,
          "metadata": {},
          "output_type": "execute_result"
        }
      ]
    },
    {
      "cell_type": "code",
      "metadata": {
        "id": "JtMJm6f0pAmF",
        "colab": {
          "base_uri": "https://localhost:8080/",
          "height": 162
        },
        "outputId": "4ce65422-3567-4271-d2fe-eaa4cb316a0e"
      },
      "source": [
        "df2.to_csv('/content/drive/MyDrive/Prism/Augmented_text2.csv',index=False)"
      ],
      "execution_count": 1,
      "outputs": [
        {
          "output_type": "error",
          "ename": "NameError",
          "evalue": "ignored",
          "traceback": [
            "\u001b[0;31m---------------------------------------------------------------------------\u001b[0m",
            "\u001b[0;31mNameError\u001b[0m                                 Traceback (most recent call last)",
            "\u001b[0;32m<ipython-input-1-4241432ab6f2>\u001b[0m in \u001b[0;36m<module>\u001b[0;34m()\u001b[0m\n\u001b[0;32m----> 1\u001b[0;31m \u001b[0mdf2\u001b[0m\u001b[0;34m.\u001b[0m\u001b[0mto_csv\u001b[0m\u001b[0;34m(\u001b[0m\u001b[0;34m'/content/drive/MyDrive/Prism/Augmented_text2.csv'\u001b[0m\u001b[0;34m,\u001b[0m\u001b[0mindex\u001b[0m\u001b[0;34m=\u001b[0m\u001b[0;32mFalse\u001b[0m\u001b[0;34m)\u001b[0m\u001b[0;34m\u001b[0m\u001b[0;34m\u001b[0m\u001b[0m\n\u001b[0m",
            "\u001b[0;31mNameError\u001b[0m: name 'df2' is not defined"
          ]
        }
      ]
    },
    {
      "cell_type": "code",
      "metadata": {
        "id": "5vCpdc5Fu9fz"
      },
      "source": [
        "df2=pd.read_csv('Augmented_text2.csv')"
      ],
      "execution_count": null,
      "outputs": []
    },
    {
      "cell_type": "code",
      "metadata": {
        "colab": {
          "base_uri": "https://localhost:8080/",
          "height": 206
        },
        "id": "zc1l4wrZvGWR",
        "outputId": "b1fcb461-69cb-4169-eac4-41297165b45b"
      },
      "source": [
        "df2.head()"
      ],
      "execution_count": null,
      "outputs": [
        {
          "data": {
            "text/html": [
              "<div>\n",
              "<style scoped>\n",
              "    .dataframe tbody tr th:only-of-type {\n",
              "        vertical-align: middle;\n",
              "    }\n",
              "\n",
              "    .dataframe tbody tr th {\n",
              "        vertical-align: top;\n",
              "    }\n",
              "\n",
              "    .dataframe thead th {\n",
              "        text-align: right;\n",
              "    }\n",
              "</style>\n",
              "<table border=\"1\" class=\"dataframe\">\n",
              "  <thead>\n",
              "    <tr style=\"text-align: right;\">\n",
              "      <th></th>\n",
              "      <th>Text</th>\n",
              "      <th>Augmented Text</th>\n",
              "    </tr>\n",
              "  </thead>\n",
              "  <tbody>\n",
              "    <tr>\n",
              "      <th>0</th>\n",
              "      <td>One of the other critics mentioned that after ...</td>\n",
              "      <td>One of the other reviewers has mentioned that ...</td>\n",
              "    </tr>\n",
              "    <tr>\n",
              "      <th>1</th>\n",
              "      <td>A beautiful small production.&lt;br /&gt;&lt;br /&gt;The f...</td>\n",
              "      <td>A wonderful little production. &lt;br /&gt;&lt;br /&gt;The...</td>\n",
              "    </tr>\n",
              "    <tr>\n",
              "      <th>2</th>\n",
              "      <td>I thought it was a wonderful way to spend time...</td>\n",
              "      <td>I thought this was a wonderful way to spend ti...</td>\n",
              "    </tr>\n",
              "    <tr>\n",
              "      <th>3</th>\n",
              "      <td>Basically there's a family where a little boy ...</td>\n",
              "      <td>Basically there's a family where a little boy ...</td>\n",
              "    </tr>\n",
              "    <tr>\n",
              "      <th>4</th>\n",
              "      <td>\"Love in the Time of Money\" by Petter Mattei i...</td>\n",
              "      <td>Petter Mattei's \"Love in the Time of Money\" is...</td>\n",
              "    </tr>\n",
              "  </tbody>\n",
              "</table>\n",
              "</div>"
            ],
            "text/plain": [
              "                                                Text  \\\n",
              "0  One of the other critics mentioned that after ...   \n",
              "1  A beautiful small production.<br /><br />The f...   \n",
              "2  I thought it was a wonderful way to spend time...   \n",
              "3  Basically there's a family where a little boy ...   \n",
              "4  \"Love in the Time of Money\" by Petter Mattei i...   \n",
              "\n",
              "                                      Augmented Text  \n",
              "0  One of the other reviewers has mentioned that ...  \n",
              "1  A wonderful little production. <br /><br />The...  \n",
              "2  I thought this was a wonderful way to spend ti...  \n",
              "3  Basically there's a family where a little boy ...  \n",
              "4  Petter Mattei's \"Love in the Time of Money\" is...  "
            ]
          },
          "execution_count": 26,
          "metadata": {},
          "output_type": "execute_result"
        }
      ]
    },
    {
      "cell_type": "code",
      "metadata": {
        "id": "ZGxxK9lAuP8-"
      },
      "source": [
        "X_text=df2['Text']"
      ],
      "execution_count": null,
      "outputs": []
    },
    {
      "cell_type": "code",
      "metadata": {
        "colab": {
          "base_uri": "https://localhost:8080/",
          "height": 167
        },
        "id": "6UWa31IYud7J",
        "outputId": "510e211c-2a72-4ae0-c56e-fa50c8e8875a"
      },
      "source": [
        "X_text[0]"
      ],
      "execution_count": null,
      "outputs": [
        {
          "data": {
            "text/plain": [
              "\"One of the other critics mentioned that after watching only 1 Oz episode you will be hung.They're right, because that's exactly what happened to me..The first thing that struck me about Oz was his brutality and the constant scenes of violence, which started from the word GO.Believe me, it's not a show for weak or shy hearts..This show does not shoot punches with regard to drugs, sex or violence.Its hardcore, in the classic use of the word.<br /><br />It is called OZ as it is the nickname given to the prison of the maximum security state of Oswald.It focuses mainly on Emerald City, an experimental section of the prison where all cells have a glass front and face, so privacy is not at the forefront of the agenda.Em City is the home of many.Aryans, Muslims, gangsters, Latinos, Christians, Italians, Irish and more.So the quarrels, the looks of death, the transactions and the shady agreements are never far away.I would say that the main attraction of the show is that it goes where other shows wouldn't dare..Forget beautiful pictures painted for the general public, forget the charm, forget the romance.OZ doesn't do anything stupid..The first episode I saw struck me as so mean that he was surrealistic, I couldn't say that I was ready for it, but as I watched more, I developed a taste for Oz, and got used to the high levels of graphic violence.Not only violence, but injustice (guardians who will be sold for a nickel, prisoners who will kill on order and get out of it, middle class inmates well handled turning into prison sluts because of their lack of street skills or prison experience) Observer Oz, you can become comfortable with what is uncomfortable watching.It's if you can get in touch with your darker side.\""
            ]
          },
          "execution_count": 28,
          "metadata": {},
          "output_type": "execute_result"
        }
      ]
    },
    {
      "cell_type": "code",
      "metadata": {
        "id": "Wmx91nNauXnT"
      },
      "source": [
        "X_augmented=df2['Augmented Text']"
      ],
      "execution_count": null,
      "outputs": []
    },
    {
      "cell_type": "code",
      "metadata": {
        "id": "zwvSH6ipf6kN"
      },
      "source": [
        "X_augmented_train=X_augmented"
      ],
      "execution_count": null,
      "outputs": []
    },
    {
      "cell_type": "code",
      "metadata": {
        "colab": {
          "base_uri": "https://localhost:8080/",
          "height": 167
        },
        "id": "_hj-dxcJvPXX",
        "outputId": "6b1d13b2-bb40-495c-8849-29a07847ef55"
      },
      "source": [
        "X_augmented[0]"
      ],
      "execution_count": null,
      "outputs": [
        {
          "data": {
            "text/plain": [
              "\"One of the other reviewers has mentioned that after watching just 1 Oz episode you'll be hooked. They are right, as this is exactly what happened with me.<br /><br />The first thing that struck me about Oz was its brutality and unflinching scenes of violence, which set in right from the word GO. Trust me, this is not a show for the faint hearted or timid. This show pulls no punches with regards to drugs, sex or violence. Its is hardcore, in the classic use of the word.<br /><br />It is called OZ as that is the nickname given to the Oswald Maximum Security State Penitentary. It focuses mainly on Emerald City, an experimental section of the prison where all the cells have glass fronts and face inwards, so privacy is not high on the agenda. Em City is home to many..Aryans, Muslims, gangstas, Latinos, Christians, Italians, Irish and more....so scuffles, death stares, dodgy dealings and shady agreements are never far away.<br /><br />I would say the main appeal of the show is due to the fact that it goes where other shows wouldn't dare. Forget pretty pictures painted for mainstream audiences, forget charm, forget romance...OZ doesn't mess around. The first episode I ever saw struck me as so nasty it was surreal, I couldn't say I was ready for it, but as I watched more, I developed a taste for Oz, and got accustomed to the high levels of graphic violence. Not just violence, but injustice (crooked guards who'll be sold out for a nickel, inmates who'll kill on order and get away with it, well mannered, middle class inmates being turned into prison bitches due to their lack of street skills or prison experience) Watching Oz, you may become comfortable with what is uncomfortable viewing....thats if you can get in touch with your darker side.\""
            ]
          },
          "execution_count": 31,
          "metadata": {},
          "output_type": "execute_result"
        }
      ]
    },
    {
      "cell_type": "code",
      "metadata": {
        "id": "EWDkTf5Wf6kO"
      },
      "source": [
        "augmented=[]\n",
        "y_train=[]\n",
        "y_augmented_train=[]\n",
        "for i in range(250):\n",
        "    augmented.append(X_text[i])\n",
        "    augmented.append(X_augmented_train[i])\n",
        "    if df['sentiment'][i]=='positive':\n",
        "        y_train.append(1)\n",
        "        y_augmented_train.append(1)\n",
        "        y_augmented_train.append(1)\n",
        "    else:\n",
        "        y_train.append(0)\n",
        "        y_augmented_train.append(0)\n",
        "        y_augmented_train.append(0)"
      ],
      "execution_count": null,
      "outputs": []
    },
    {
      "cell_type": "code",
      "metadata": {
        "id": "tAcFtJOMrdvc"
      },
      "source": [
        "en_stopwords=set(stopwords.words('english'))\n",
        "wn = nltk.WordNetLemmatizer()"
      ],
      "execution_count": null,
      "outputs": []
    },
    {
      "cell_type": "code",
      "metadata": {
        "id": "D8SD3IrMrmSd"
      },
      "source": [
        "def getCleanedReview(review):\n",
        "    review=review.lower()\n",
        "    text_lc = \"\".join([word.lower() for word in review if word not in string.punctuation])\n",
        "    #print(text_lc)\n",
        "    text_rc=re.sub('[0-9]+',' ',text_lc)\n",
        "    #tokenize\n",
        "    tokens=word_tokenize(text_rc,language='english')\n",
        "    #print(tokens)\n",
        "    new_tokens=[token for token in tokens if token not in en_stopwords]\n",
        "    #print(new_tokens)\n",
        "    lemmatized_tokens=[wn.lemmatize(token) for token in new_tokens]\n",
        "    return lemmatized_tokens"
      ],
      "execution_count": null,
      "outputs": []
    },
    {
      "cell_type": "code",
      "metadata": {
        "id": "SzGOO3cUryZT"
      },
      "source": [
        "original=[]\n",
        "y_augmented=[]\n",
        "X_train=[]\n",
        "X_augmented_train=[]\n",
        "y=df['sentiment']"
      ],
      "execution_count": null,
      "outputs": []
    },
    {
      "cell_type": "code",
      "metadata": {
        "colab": {
          "base_uri": "https://localhost:8080/"
        },
        "id": "CtzhUDZPxN4u",
        "outputId": "7ce3bdd1-c958-4981-b1e8-abc92df41dbc"
      },
      "source": [
        "y"
      ],
      "execution_count": null,
      "outputs": [
        {
          "data": {
            "text/plain": [
              "0        positive\n",
              "1        positive\n",
              "2        positive\n",
              "3        negative\n",
              "4        positive\n",
              "           ...   \n",
              "49995    positive\n",
              "49996    negative\n",
              "49997    negative\n",
              "49998    negative\n",
              "49999    negative\n",
              "Name: sentiment, Length: 50000, dtype: object"
            ]
          },
          "execution_count": 36,
          "metadata": {},
          "output_type": "execute_result"
        }
      ]
    },
    {
      "cell_type": "code",
      "metadata": {
        "id": "cVF02YM8r0KO"
      },
      "source": [
        "for i in range(len(X_text)):\n",
        "    X_train.append(getCleanedReview(X_text[i]))\n",
        "    if y[i] == 'positive':\n",
        "        original.append(1)\n",
        "        y_augmented.append(1)\n",
        "        y_augmented.append(1)\n",
        "    else:\n",
        "        original.append(0)\n",
        "        y_augmented.append(0)\n",
        "        y_augmented.append(0)"
      ],
      "execution_count": null,
      "outputs": []
    },
    {
      "cell_type": "code",
      "metadata": {
        "colab": {
          "base_uri": "https://localhost:8080/"
        },
        "id": "ccMG6nz0xiih",
        "outputId": "c1c76b3b-5770-4cbf-b532-a4a4a13c8be0"
      },
      "source": [
        "len(y_augmented)"
      ],
      "execution_count": null,
      "outputs": [
        {
          "data": {
            "text/plain": [
              "500"
            ]
          },
          "execution_count": 38,
          "metadata": {},
          "output_type": "execute_result"
        }
      ]
    },
    {
      "cell_type": "code",
      "metadata": {
        "colab": {
          "base_uri": "https://localhost:8080/"
        },
        "id": "PMSoNhdWwxKW",
        "outputId": "8e1bbb51-49d6-41a0-cb47-7ad6c17898fc"
      },
      "source": [
        "len(augmented)"
      ],
      "execution_count": null,
      "outputs": [
        {
          "data": {
            "text/plain": [
              "500"
            ]
          },
          "execution_count": 39,
          "metadata": {},
          "output_type": "execute_result"
        }
      ]
    },
    {
      "cell_type": "code",
      "metadata": {
        "id": "ka3lsJ7vr6Vz"
      },
      "source": [
        "for i in range(len(augmented)):\n",
        "    X_augmented_train.append(getCleanedReview(augmented[i]))"
      ],
      "execution_count": null,
      "outputs": []
    },
    {
      "cell_type": "code",
      "metadata": {
        "colab": {
          "base_uri": "https://localhost:8080/"
        },
        "id": "8aHCqvTbr8iC",
        "outputId": "095ca6fd-cf7a-40f6-feae-32e46b763b30"
      },
      "source": [
        "len(X_augmented_train)"
      ],
      "execution_count": null,
      "outputs": [
        {
          "data": {
            "text/plain": [
              "500"
            ]
          },
          "execution_count": 41,
          "metadata": {},
          "output_type": "execute_result"
        }
      ]
    },
    {
      "cell_type": "code",
      "metadata": {
        "id": "EFJrfn2Wr9uZ"
      },
      "source": [
        "df_new=[]\n",
        "df_new=pd.DataFrame(df_new)"
      ],
      "execution_count": null,
      "outputs": []
    },
    {
      "cell_type": "code",
      "metadata": {
        "id": "iSbfJpNrr-73"
      },
      "source": [
        "df_new[\"cleaned_review\"]=X_train\n",
        "X_train=df_new[\"cleaned_review\"]"
      ],
      "execution_count": null,
      "outputs": []
    },
    {
      "cell_type": "code",
      "metadata": {
        "id": "FxOSM6zvsAez"
      },
      "source": [
        "df_new_=[]\n",
        "df_new_=pd.DataFrame(df_new_)\n",
        "df_new_[\"cleaned_augmented_review\"]=X_augmented_train\n",
        "X_augmented_train=df_new_[\"cleaned_augmented_review\"]"
      ],
      "execution_count": null,
      "outputs": []
    },
    {
      "cell_type": "code",
      "metadata": {
        "id": "0srjhjPRsCQ9"
      },
      "source": [
        "\n",
        "from sklearn.feature_extraction.text import CountVectorizer\n",
        "from sklearn.model_selection import train_test_split\n",
        "import sklearn.metrics"
      ],
      "execution_count": null,
      "outputs": []
    },
    {
      "cell_type": "code",
      "metadata": {
        "id": "DW5vKuBYsDzz"
      },
      "source": [
        "X_train.dropna()\n",
        "cvt = CountVectorizer(analyzer=getCleanedReview,max_features=5000)\n",
        "X_v = cvt.fit_transform(X_train.apply(lambda x: np.str_(x)))\n",
        "X_augmented_v=cvt.fit_transform(X_augmented_train.apply(lambda x: np.str_(x)))"
      ],
      "execution_count": null,
      "outputs": []
    },
    {
      "cell_type": "code",
      "metadata": {
        "id": "FPCawdzVsEej"
      },
      "source": [
        "y_train=np.array(original)\n",
        "y_augmented=np.array(y_augmented)"
      ],
      "execution_count": null,
      "outputs": []
    },
    {
      "cell_type": "code",
      "metadata": {
        "colab": {
          "base_uri": "https://localhost:8080/"
        },
        "id": "5Sj3xrCrsGIy",
        "outputId": "33311441-eed2-4970-fdb7-7bd3595f43b2"
      },
      "source": [
        "gnb=GaussianNB()\n",
        "X_v=X_v.toarray()\n",
        "X_augmented_v=X_augmented_v.toarray()\n",
        "gnb.fit(X_v,y_train)"
      ],
      "execution_count": null,
      "outputs": [
        {
          "data": {
            "text/plain": [
              "GaussianNB()"
            ]
          },
          "execution_count": 48,
          "metadata": {},
          "output_type": "execute_result"
        }
      ]
    },
    {
      "cell_type": "code",
      "metadata": {
        "colab": {
          "base_uri": "https://localhost:8080/"
        },
        "id": "eLUNvlgAsHGe",
        "outputId": "faddb5c6-4785-448c-aa7d-863f8bcc583c"
      },
      "source": [
        "gnb2=GaussianNB()\n",
        "gnb2.fit(X_augmented_v,y_augmented)"
      ],
      "execution_count": null,
      "outputs": [
        {
          "data": {
            "text/plain": [
              "GaussianNB()"
            ]
          },
          "execution_count": 49,
          "metadata": {},
          "output_type": "execute_result"
        }
      ]
    },
    {
      "cell_type": "code",
      "metadata": {
        "id": "jfVziK3ysIGq"
      },
      "source": [
        "X_test=df['review'].iloc[25000:25600]\n",
        "y_test=df['sentiment'].iloc[25000:25600]"
      ],
      "execution_count": null,
      "outputs": []
    },
    {
      "cell_type": "code",
      "metadata": {
        "id": "Qs10AJx5sJ_2"
      },
      "source": [
        "X_test=X_test.values.tolist()"
      ],
      "execution_count": null,
      "outputs": []
    },
    {
      "cell_type": "code",
      "metadata": {
        "id": "nrKQz3e1sLDz"
      },
      "source": [
        "X_test_new=[]\n",
        "y_test_new=[]"
      ],
      "execution_count": null,
      "outputs": []
    },
    {
      "cell_type": "code",
      "metadata": {
        "id": "emRNrRyosL9t"
      },
      "source": [
        "for i in range(len(X_test)):\n",
        "    X_test_new.append(getCleanedReview(X_test[i]))\n",
        "    if y_test[25000+i] == 'positive':\n",
        "        y_test_new.append(1)\n",
        "    else:\n",
        "        y_test_new.append(0)"
      ],
      "execution_count": null,
      "outputs": []
    },
    {
      "cell_type": "code",
      "metadata": {
        "id": "CK0lR2UpsNGV"
      },
      "source": [
        "df_test=pd.DataFrame()"
      ],
      "execution_count": null,
      "outputs": []
    },
    {
      "cell_type": "code",
      "metadata": {
        "id": "IcF2dXxlsO-K"
      },
      "source": [
        "\n",
        "df_test[\"cleaned_test_review\"]=X_test_new\n",
        "X_test=df_test[\"cleaned_test_review\"]"
      ],
      "execution_count": null,
      "outputs": []
    },
    {
      "cell_type": "code",
      "metadata": {
        "id": "cHKXGmNSsQOj"
      },
      "source": [
        "X_test.dropna()\n",
        "cvt1 = CountVectorizer(analyzer=getCleanedReview,max_features=5000)\n",
        "X_test_v = cvt1.fit_transform(X_test.apply(lambda x: np.str_(x)))"
      ],
      "execution_count": null,
      "outputs": []
    },
    {
      "cell_type": "code",
      "metadata": {
        "id": "RmWQEMTKsRP-"
      },
      "source": [
        "y_test=np.array(y_test_new)"
      ],
      "execution_count": null,
      "outputs": []
    },
    {
      "cell_type": "code",
      "metadata": {
        "id": "3QosUC5_sSa-"
      },
      "source": [
        "X_test_v=X_test_v.toarray()"
      ],
      "execution_count": null,
      "outputs": []
    },
    {
      "cell_type": "code",
      "metadata": {
        "colab": {
          "base_uri": "https://localhost:8080/"
        },
        "id": "ODsdoepRsTzA",
        "outputId": "4c97df0a-3fc5-4210-8270-e458f756a308"
      },
      "source": [
        "gnb.score(X_test_v,y_test)"
      ],
      "execution_count": null,
      "outputs": [
        {
          "data": {
            "text/plain": [
              "0.48833333333333334"
            ]
          },
          "execution_count": 59,
          "metadata": {},
          "output_type": "execute_result"
        }
      ]
    },
    {
      "cell_type": "code",
      "metadata": {
        "colab": {
          "base_uri": "https://localhost:8080/"
        },
        "id": "CtBm0wvksVra",
        "outputId": "213d107d-ff1f-4d21-d454-b838dad7bdac"
      },
      "source": [
        "gnb2.score(X_test_v,y_test)"
      ],
      "execution_count": null,
      "outputs": [
        {
          "data": {
            "text/plain": [
              "0.5216666666666666"
            ]
          },
          "execution_count": 60,
          "metadata": {},
          "output_type": "execute_result"
        }
      ]
    },
    {
      "cell_type": "code",
      "metadata": {
        "colab": {
          "base_uri": "https://localhost:8080/",
          "height": 430
        },
        "id": "jwm5QiSuDhdO",
        "outputId": "e0a2f093-32ed-407d-d590-be8dcf41dc17"
      },
      "source": [
        "import re\n",
        "from operator import itemgetter\n",
        "import matplotlib.pyplot as plt\n",
        "from scipy import special\n",
        "import numpy as np\n",
        "import operator\n",
        "import itertools\n",
        "from itertools import islice\n",
        "#Get our corpus of medical words\n",
        "frequency = {}\n",
        "open_file = open('/content/drive/MyDrive/PRISM/IMDB Dataset.csv', 'r')\n",
        "file_to_string = open_file.read()\n",
        "words = re.findall(r'(\\b[A-Za-z][a-z]{2,9}\\b)', file_to_string)\n",
        "\n",
        "#build dict of words based on frequency\n",
        "for word in words:\n",
        "    count = frequency.get(word,0)\n",
        "    frequency[word] = count + 1\n",
        "\n",
        "frequency = dict( sorted(frequency.items(), key=operator.itemgetter(1),reverse=True))\n",
        "\n",
        "#limit words to 1000\n",
        "n = 500\n",
        "#frequency = {key:value for key,value in frequency.items()[0:n]}\n",
        "frequency = dict(itertools.islice(frequency.items(), n))  \n",
        "#convert value of frequency to numpy array\n",
        "s = frequency.values()\n",
        "s = np.array(s)\n",
        "print(s)\n",
        "y_pos = np.arange(500)\n",
        "e=1\n",
        "expected_zipf = [575014/(i+1)**e for i in y_pos]\n",
        "# #Calculate zipf and plot the data\n",
        "a = 100. #  distribution parameter\n",
        "plt.figure(figsize=(30,10))\n",
        "plt.bar(y_pos, frequency.values())\n",
        "plt.plot(y_pos, expected_zipf, color='r', linestyle='--',linewidth=2,alpha=0.5)\n",
        "plt.ylabel('Frequency')\n",
        "plt.title('Top 500 tokens in reviews')\n",
        "plt.show()"
      ],
      "execution_count": 23,
      "outputs": [
        {
          "output_type": "stream",
          "name": "stdout",
          "text": [
            "dict_values([575014, 310319, 138258, 120982, 94926, 89972, 86608, 84962, 83094, 78689, 69066, 62137, 57806, 55445, 54736, 54723, 48753, 42478, 40713, 38781, 38720, 38649, 33724, 33712, 33392, 32894, 32827, 29525, 28542, 28531, 28309, 27419, 26412, 25965, 25669, 25544, 25317, 24547, 24326, 23186, 22799, 22377, 22333, 22240, 22177, 22070, 21802, 21766, 21748, 21004, 19260, 18744, 18285, 18102, 17969, 17762, 17485, 17466, 17444, 17357, 17295, 16828, 16796, 15968, 15949, 15942, 15710, 15669, 15294, 15292, 15258, 15179, 14906, 14660, 14634, 14595, 14419, 14269, 14244, 14044, 13789, 13499, 13430, 13288, 13267, 12927, 12704, 12636, 12590, 12563, 12492, 12346, 12235, 12205, 12155, 12057, 11917, 11916, 11872, 11834, 11795, 11718, 11674, 11589, 11526, 11200, 11185, 11041, 10874, 10736, 10633, 10374, 9813, 9783, 9767, 9745, 9664, 9597, 9477, 9334, 9280, 9052, 8839, 8813, 8789, 8776, 8677, 8622, 8521, 8520, 8490, 8257, 8217, 8156, 8048, 7987, 7956, 7918, 7902, 7871, 7822, 7812, 7748, 7746, 7680, 7501, 7376, 7373, 7372, 7340, 7194, 7192, 7074, 7050, 6991, 6969, 6965, 6961, 6891, 6873, 6812, 6798, 6653, 6637, 6600, 6549, 6547, 6533, 6507, 6503, 6498, 6399, 6380, 6372, 6346, 6328, 6303, 6271, 6263, 6225, 6205, 6194, 6188, 6164, 6163, 6148, 6135, 6101, 6099, 6087, 6081, 6053, 5977, 5977, 5963, 5943, 5911, 5905, 5866, 5864, 5818, 5803, 5777, 5772, 5706, 5643, 5607, 5542, 5423, 5323, 5321, 5300, 5278, 5224, 5159, 5141, 5130, 5094, 5057, 5038, 5011, 4989, 4981, 4981, 4884, 4861, 4858, 4845, 4838, 4832, 4819, 4713, 4699, 4659, 4650, 4645, 4638, 4624, 4623, 4620, 4600, 4580, 4569, 4566, 4525, 4511, 4510, 4500, 4498, 4483, 4468, 4461, 4458, 4458, 4453, 4442, 4397, 4373, 4372, 4329, 4317, 4290, 4272, 4267, 4265, 4246, 4238, 4230, 4223, 4179, 4179, 4163, 4156, 4109, 4098, 4086, 4070, 4048, 4046, 4038, 4008, 3994, 3979, 3970, 3960, 3941, 3894, 3872, 3866, 3863, 3842, 3842, 3839, 3826, 3822, 3818, 3818, 3762, 3716, 3668, 3668, 3637, 3631, 3630, 3610, 3610, 3570, 3547, 3526, 3509, 3479, 3478, 3477, 3474, 3469, 3462, 3457, 3450, 3443, 3429, 3420, 3409, 3403, 3401, 3397, 3396, 3394, 3391, 3388, 3380, 3349, 3348, 3346, 3336, 3323, 3316, 3297, 3292, 3277, 3267, 3258, 3258, 3247, 3246, 3245, 3227, 3222, 3221, 3216, 3210, 3206, 3203, 3199, 3166, 3153, 3135, 3131, 3129, 3127, 3102, 3099, 3097, 3097, 3093, 3093, 3083, 3079, 3072, 3070, 3070, 3067, 3064, 3061, 3043, 3040, 3036, 3030, 3030, 3023, 3008, 3005, 2994, 2991, 2986, 2981, 2980, 2962, 2940, 2939, 2933, 2929, 2920, 2891, 2887, 2887, 2878, 2876, 2855, 2850, 2833, 2829, 2812, 2794, 2792, 2774, 2767, 2764, 2761, 2755, 2744, 2740, 2729, 2728, 2724, 2720, 2716, 2709, 2699, 2695, 2693, 2693, 2676, 2671, 2669, 2668, 2668, 2665, 2648, 2642, 2642, 2640, 2633, 2624, 2622, 2618, 2614, 2606, 2599, 2597, 2593, 2584, 2583, 2574, 2570, 2570, 2568, 2547, 2533, 2526, 2506, 2505, 2504, 2467, 2460, 2452, 2447, 2444, 2434, 2424, 2424, 2420, 2412, 2412, 2403, 2398, 2394, 2392, 2390, 2369, 2357, 2357, 2356, 2355, 2348, 2348, 2345, 2340, 2340, 2333, 2332, 2332, 2328, 2327, 2323, 2319, 2314, 2300, 2298, 2296, 2295, 2294, 2282, 2277, 2272, 2272, 2261, 2260, 2253, 2252, 2251])\n"
          ]
        },
        {
          "output_type": "display_data",
          "data": {
            "image/png": "[encoded data removed]",
            "text/plain": [
              "<Figure size 2160x720 with 1 Axes>"
            ]
          },
          "metadata": {
            "needs_background": "light"
          }
        }
      ]
    },
    {
      "cell_type": "code",
      "metadata": {
        "colab": {
          "base_uri": "https://localhost:8080/"
        },
        "id": "sh9AIv1-D-cp",
        "outputId": "d7b01b30-08f0-4b09-bce0-0a244fd08556"
      },
      "source": [
        "print(s)"
      ],
      "execution_count": 5,
      "outputs": [
        {
          "output_type": "stream",
          "name": "stdout",
          "text": [
            "dict_values([575014, 310319, 138258, 120982, 94926, 89972, 86608, 84962, 83094, 78689, 69066, 62137, 57806, 55445, 54736, 54723, 48753, 42478, 40713, 38781, 38720, 38649, 33724, 33712, 33392, 32894, 32827, 29525, 28542, 28531, 28309, 27419, 26412, 25965, 25669, 25544, 25317, 24547, 24326, 23186, 22799, 22377, 22333, 22240, 22177, 22070, 21802, 21766, 21748, 21004, 19260, 18744, 18285, 18102, 17969, 17762, 17485, 17466, 17444, 17357, 17295, 16828, 16796, 15968, 15949, 15942, 15710, 15669, 15294, 15292, 15258, 15179, 14906, 14660, 14634, 14595, 14419, 14269, 14244, 14044, 13789, 13499, 13430, 13288, 13267, 12927, 12704, 12636, 12590, 12563, 12492, 12346, 12235, 12205, 12155, 12057, 11917, 11916, 11872, 11834, 11795, 11718, 11674, 11589, 11526, 11200, 11185, 11041, 10874, 10736, 10633, 10374, 9813, 9783, 9767, 9745, 9664, 9597, 9477, 9334, 9280, 9052, 8839, 8813, 8789, 8776, 8677, 8622, 8521, 8520, 8490, 8257, 8217, 8156, 8048, 7987, 7956, 7918, 7902, 7871, 7822, 7812, 7748, 7746, 7680, 7501, 7376, 7373, 7372, 7340, 7194, 7192, 7074, 7050, 6991, 6969, 6965, 6961, 6891, 6873, 6812, 6798, 6653, 6637, 6600, 6549, 6547, 6533, 6507, 6503, 6498, 6399, 6380, 6372, 6346, 6328, 6303, 6271, 6263, 6225, 6205, 6194, 6188, 6164, 6163, 6148, 6135, 6101, 6099, 6087, 6081, 6053, 5977, 5977, 5963, 5943, 5911, 5905, 5866, 5864, 5818, 5803, 5777, 5772, 5706, 5643, 5607, 5542, 5423, 5323, 5321, 5300, 5278, 5224, 5159, 5141, 5130, 5094, 5057, 5038, 5011, 4989, 4981, 4981, 4884, 4861, 4858, 4845, 4838, 4832, 4819, 4713, 4699, 4659, 4650, 4645, 4638, 4624, 4623, 4620, 4600, 4580, 4569, 4566, 4525, 4511, 4510, 4500, 4498, 4483, 4468, 4461, 4458, 4458, 4453, 4442, 4397, 4373, 4372, 4329, 4317, 4290, 4272, 4267, 4265, 4246, 4238, 4230, 4223, 4179, 4179, 4163, 4156, 4109, 4098, 4086, 4070, 4048, 4046, 4038, 4008, 3994, 3979, 3970, 3960, 3941, 3894, 3872, 3866, 3863, 3842, 3842, 3839, 3826, 3822, 3818, 3818, 3762, 3716, 3668, 3668, 3637, 3631, 3630, 3610, 3610, 3570, 3547, 3526, 3509, 3479, 3478, 3477, 3474, 3469, 3462, 3457, 3450, 3443, 3429, 3420, 3409, 3403, 3401, 3397, 3396, 3394, 3391, 3388, 3380, 3349, 3348, 3346, 3336, 3323, 3316, 3297, 3292, 3277, 3267, 3258, 3258, 3247, 3246, 3245, 3227, 3222, 3221, 3216, 3210, 3206, 3203, 3199, 3166, 3153, 3135, 3131, 3129, 3127, 3102, 3099, 3097, 3097, 3093, 3093, 3083, 3079, 3072, 3070, 3070, 3067, 3064, 3061, 3043, 3040, 3036, 3030, 3030, 3023, 3008, 3005, 2994, 2991, 2986, 2981, 2980, 2962, 2940, 2939, 2933, 2929, 2920, 2891, 2887, 2887, 2878, 2876, 2855, 2850, 2833, 2829, 2812, 2794, 2792, 2774, 2767, 2764, 2761, 2755, 2744, 2740, 2729, 2728, 2724, 2720, 2716, 2709, 2699, 2695, 2693, 2693, 2676, 2671, 2669, 2668, 2668, 2665, 2648, 2642, 2642, 2640, 2633, 2624, 2622, 2618, 2614, 2606, 2599, 2597, 2593, 2584, 2583, 2574, 2570, 2570, 2568, 2547, 2533, 2526, 2506, 2505, 2504, 2467, 2460, 2452, 2447, 2444, 2434, 2424, 2424, 2420, 2412, 2412, 2403, 2398, 2394, 2392, 2390, 2369, 2357, 2357, 2356, 2355, 2348, 2348, 2345, 2340, 2340, 2333, 2332, 2332, 2328, 2327, 2323, 2319, 2314, 2300, 2298, 2296, 2295, 2294, 2282, 2277, 2272, 2272, 2261, 2260, 2253, 2252, 2251])\n"
          ]
        }
      ]
    },
    {
      "cell_type": "code",
      "metadata": {
        "id": "6D73wVJCelWM"
      },
      "source": [
        "import pandas as pd\n",
        "\n",
        "import re\n",
        "from operator import itemgetter\n",
        "import matplotlib.pyplot as plt\n",
        "from scipy import special\n",
        "import numpy as np\n",
        "import operator\n",
        "import itertools\n",
        "from itertools import islice\n",
        "#Get our corpus of medical words\n",
        "frequency = {}\n",
        "open_file = open('/content/drive/MyDrive/PRISM/IMDB Dataset.csv', 'r')\n",
        "file_to_string = open_file.read()\n",
        "words = re.findall(r'(\\b[A-Za-z][a-z]{2,9}\\b)', file_to_string)\n",
        "\n",
        "#build dict of words based on frequency\n",
        "for word in words:\n",
        "    count = frequency.get(word,0)\n",
        "    frequency[word] = count + 1\n",
        "\n",
        "frequency = dict( sorted(frequency.items(), key=operator.itemgetter(1),reverse=True))\n",
        "\n",
        "#limit words to 1000\n",
        "n = 500\n",
        "#frequency = {key:value for key,value in frequency.items()[0:n]}\n",
        "frequency = dict(itertools.islice(frequency.items(), n)) \n",
        "df=pd.DataFrame()\n",
        "df['total']=np.array(frequency.values)"
      ],
      "execution_count": 12,
      "outputs": []
    },
    {
      "cell_type": "code",
      "metadata": {
        "colab": {
          "base_uri": "https://localhost:8080/"
        },
        "id": "VKwrSOzrerRJ",
        "outputId": "7275c558-4c3f-4ffa-b3e0-9e3ce9c474d6"
      },
      "source": [
        "print(frequency.values)"
      ],
      "execution_count": 18,
      "outputs": [
        {
          "output_type": "stream",
          "name": "stdout",
          "text": [
            "<built-in method values of dict object at 0x7efcedcdb690>\n"
          ]
        }
      ]
    },
    {
      "cell_type": "code",
      "metadata": {
        "colab": {
          "base_uri": "https://localhost:8080/"
        },
        "id": "4TLOWjMZewIg",
        "outputId": "edad540e-2624-47a1-cba6-077fad0ade7c"
      },
      "source": [
        "i=0\n",
        "print(\"Rank\",\"Word\",\"Frequency\",sep='\\t\\t')\n",
        "for key,value in frequency.items():\n",
        "  print(i+1,key,value,sep='\\t\\t')\n",
        "  i=i+1"
      ],
      "execution_count": 29,
      "outputs": [
        {
          "output_type": "stream",
          "name": "stdout",
          "text": [
            "Rank\t\tWord\t\tFrequency\n",
            "1\t\tthe\t\t575014\n",
            "2\t\tand\t\t310319\n",
            "3\t\tthat\t\t138258\n",
            "4\t\tthis\t\t120982\n",
            "5\t\twas\t\t94926\n",
            "6\t\tThe\t\t89972\n",
            "7\t\tmovie\t\t86608\n",
            "8\t\twith\t\t84962\n",
            "9\t\tfor\t\t83094\n",
            "10\t\tfilm\t\t78689\n",
            "11\t\tbut\t\t69066\n",
            "12\t\tyou\t\t62137\n",
            "13\t\tare\t\t57806\n",
            "14\t\tnot\t\t55445\n",
            "15\t\thave\t\t54736\n",
            "16\t\this\t\t54723\n",
            "17\t\tone\t\t48753\n",
            "18\t\tall\t\t42478\n",
            "19\t\twho\t\t40713\n",
            "20\t\tthey\t\t38781\n",
            "21\t\tfrom\t\t38720\n",
            "22\t\tlike\t\t38649\n",
            "23\t\tabout\t\t33724\n",
            "24\t\tout\t\t33712\n",
            "25\t\ther\t\t33392\n",
            "26\t\tjust\t\t32894\n",
            "27\t\thas\t\t32827\n",
            "28\t\tThis\t\t29525\n",
            "29\t\tsome\t\t28542\n",
            "30\t\tgood\t\t28531\n",
            "31\t\tcan\t\t28309\n",
            "32\t\tmore\t\t27419\n",
            "33\t\tvery\t\t26412\n",
            "34\t\tpositive\t\t25965\n",
            "35\t\tnegative\t\t25669\n",
            "36\t\twhat\t\t25544\n",
            "37\t\tthere\t\t25317\n",
            "38\t\ttime\t\t24547\n",
            "39\t\twould\t\t24326\n",
            "40\t\twhen\t\t23186\n",
            "41\t\twhich\t\t22799\n",
            "42\t\tstory\t\t22377\n",
            "43\t\treally\t\t22333\n",
            "44\t\tsee\t\t22240\n",
            "45\t\tonly\t\t22177\n",
            "46\t\ttheir\t\t22070\n",
            "47\t\tshe\t\t21802\n",
            "48\t\teven\t\t21766\n",
            "49\t\thad\t\t21748\n",
            "50\t\twere\t\t21004\n",
            "51\t\tthan\t\t19260\n",
            "52\t\tmuch\t\t18744\n",
            "53\t\tbeen\t\t18285\n",
            "54\t\twell\t\t18102\n",
            "55\t\tget\t\t17969\n",
            "56\t\tinto\t\t17762\n",
            "57\t\thim\t\t17485\n",
            "58\t\tother\t\t17466\n",
            "59\t\tbad\t\t17444\n",
            "60\t\twill\t\t17357\n",
            "61\t\tpeople\t\t17295\n",
            "62\t\tbecause\t\t16828\n",
            "63\t\tgreat\t\t16796\n",
            "64\t\tthem\t\t15968\n",
            "65\t\tmade\t\t15949\n",
            "66\t\tmost\t\t15942\n",
            "67\t\tfirst\t\t15710\n",
            "68\t\tmake\t\t15669\n",
            "69\t\talso\t\t15294\n",
            "70\t\tcould\t\t15292\n",
            "71\t\tway\t\t15258\n",
            "72\t\thow\t\t15179\n",
            "73\t\tmovies\t\t14906\n",
            "74\t\tdon\t\t14660\n",
            "75\t\ttoo\t\t14634\n",
            "76\t\tits\t\t14595\n",
            "77\t\tany\t\t14419\n",
            "78\t\tBut\t\t14269\n",
            "79\t\tcharacters\t\t14244\n",
            "80\t\tthink\t\t14044\n",
            "81\t\tcharacter\t\t13789\n",
            "82\t\tfilms\t\t13499\n",
            "83\t\tAnd\t\t13430\n",
            "84\t\tseen\t\t13288\n",
            "85\t\tthen\t\t13267\n",
            "86\t\twatch\t\t12927\n",
            "87\t\tplot\t\t12704\n",
            "88\t\tbeing\t\t12636\n",
            "89\t\tmany\t\t12590\n",
            "90\t\ttwo\t\t12563\n",
            "91\t\tacting\t\t12492\n",
            "92\t\tknow\t\t12346\n",
            "93\t\tlife\t\t12235\n",
            "94\t\tnever\t\t12205\n",
            "95\t\tThere\t\t12155\n",
            "96\t\tshow\t\t12057\n",
            "97\t\tdid\t\t11917\n",
            "98\t\toff\t\t11916\n",
            "99\t\tlove\t\t11872\n",
            "100\t\tover\t\t11834\n",
            "101\t\tafter\t\t11795\n",
            "102\t\twhere\t\t11718\n",
            "103\t\tlittle\t\t11674\n",
            "104\t\tbest\t\t11589\n",
            "105\t\tever\t\t11526\n",
            "106\t\tbetter\t\t11200\n",
            "107\t\tdoes\t\t11185\n",
            "108\t\tyour\t\t11041\n",
            "109\t\tscene\t\t10874\n",
            "110\t\tend\t\t10736\n",
            "111\t\tsay\t\t10633\n",
            "112\t\tscenes\t\t10374\n",
            "113\t\tman\t\t9813\n",
            "114\t\tstill\t\t9783\n",
            "115\t\there\t\t9767\n",
            "116\t\tsomething\t\t9745\n",
            "117\t\tsuch\t\t9664\n",
            "118\t\tshould\t\t9597\n",
            "119\t\tthrough\t\t9477\n",
            "120\t\tthese\t\t9334\n",
            "121\t\tback\t\t9280\n",
            "122\t\treal\t\t9052\n",
            "123\t\tthing\t\t8839\n",
            "124\t\tactors\t\t8813\n",
            "125\t\tthose\t\t8789\n",
            "126\t\tdoesn\t\t8776\n",
            "127\t\twatching\t\t8677\n",
            "128\t\tdidn\t\t8622\n",
            "129\t\tfunny\t\t8521\n",
            "130\t\tyears\t\t8520\n",
            "131\t\twork\t\t8490\n",
            "132\t\told\t\t8257\n",
            "133\t\tmakes\t\t8217\n",
            "134\t\tfind\t\t8156\n",
            "135\t\tgoing\t\t8048\n",
            "136\t\tactually\t\t7987\n",
            "137\t\tsame\t\t7956\n",
            "138\t\tlot\t\t7918\n",
            "139\t\tbefore\t\t7902\n",
            "140\t\tthough\t\t7871\n",
            "141\t\tfew\t\t7822\n",
            "142\t\tlook\t\t7812\n",
            "143\t\tdirector\t\t7748\n",
            "144\t\twhy\t\t7746\n",
            "145\t\twhile\t\t7680\n",
            "146\t\tpart\t\t7501\n",
            "147\t\tanother\t\t7376\n",
            "148\t\tagain\t\t7373\n",
            "149\t\tnothing\t\t7372\n",
            "150\t\tcast\t\t7340\n",
            "151\t\tdown\t\t7194\n",
            "152\t\twant\t\t7192\n",
            "153\t\taround\t\t7074\n",
            "154\t\tquite\t\t7050\n",
            "155\t\tevery\t\t6991\n",
            "156\t\tthings\t\t6969\n",
            "157\t\tseems\t\t6965\n",
            "158\t\tpretty\t\t6961\n",
            "159\t\tthought\t\t6891\n",
            "160\t\tfact\t\t6873\n",
            "161\t\tenough\t\t6812\n",
            "162\t\tgot\t\t6798\n",
            "163\t\tYou\t\t6653\n",
            "164\t\thorror\t\t6637\n",
            "165\t\tnow\t\t6600\n",
            "166\t\tWhat\t\t6549\n",
            "167\t\ttake\t\t6547\n",
            "168\t\town\t\t6533\n",
            "169\t\tThey\t\t6507\n",
            "170\t\tlong\t\t6503\n",
            "171\t\tbetween\t\t6498\n",
            "172\t\tworld\t\t6399\n",
            "173\t\tgive\t\t6380\n",
            "174\t\tseries\t\t6372\n",
            "175\t\tyoung\t\t6346\n",
            "176\t\taction\t\t6328\n",
            "177\t\tmust\t\t6303\n",
            "178\t\trole\t\t6271\n",
            "179\t\tcomedy\t\t6263\n",
            "180\t\tright\t\t6225\n",
            "181\t\toriginal\t\t6205\n",
            "182\t\tgets\t\t6194\n",
            "183\t\tisn\t\t6188\n",
            "184\t\tmay\t\t6164\n",
            "185\t\talways\t\t6163\n",
            "186\t\ttimes\t\t6148\n",
            "187\t\tsaw\t\t6135\n",
            "188\t\tmusic\t\t6101\n",
            "189\t\tdone\t\t6099\n",
            "190\t\tleast\t\t6087\n",
            "191\t\twhole\t\t6081\n",
            "192\t\tboth\t\t6053\n",
            "193\t\tpoint\t\t5977\n",
            "194\t\twithout\t\t5977\n",
            "195\t\talmost\t\t5963\n",
            "196\t\tbit\t\t5943\n",
            "197\t\tbig\t\t5911\n",
            "198\t\tcome\t\t5905\n",
            "199\t\tguy\t\t5866\n",
            "200\t\tscript\t\t5864\n",
            "201\t\tminutes\t\t5818\n",
            "202\t\tnew\t\t5803\n",
            "203\t\tfar\t\t5777\n",
            "204\t\tfeel\t\t5772\n",
            "205\t\tmight\t\t5706\n",
            "206\t\tmaking\t\t5643\n",
            "207\t\tanything\t\t5607\n",
            "208\t\tfamily\t\t5542\n",
            "209\t\tkind\t\t5423\n",
            "210\t\tShe\t\t5323\n",
            "211\t\taway\t\t5321\n",
            "212\t\tprobably\t\t5300\n",
            "213\t\tfun\t\t5278\n",
            "214\t\tThat\t\t5224\n",
            "215\t\tlast\t\t5159\n",
            "216\t\tfound\t\t5141\n",
            "217\t\tplayed\t\t5130\n",
            "218\t\tsince\t\t5094\n",
            "219\t\twoman\t\t5057\n",
            "220\t\trather\t\t5038\n",
            "221\t\tgirl\t\t5011\n",
            "222\t\thard\t\t4989\n",
            "223\t\tworst\t\t4981\n",
            "224\t\tscreen\t\t4981\n",
            "225\t\tlooking\t\t4884\n",
            "226\t\tcourse\t\t4861\n",
            "227\t\tanyone\t\t4858\n",
            "228\t\tWhen\t\t4845\n",
            "229\t\tbelieve\t\t4838\n",
            "230\t\ttrying\t\t4832\n",
            "231\t\teach\t\t4819\n",
            "232\t\tcomes\t\t4713\n",
            "233\t\tending\t\t4699\n",
            "234\t\tyet\t\t4659\n",
            "235\t\tshows\t\t4650\n",
            "236\t\tgoes\t\t4645\n",
            "237\t\tput\t\t4638\n",
            "238\t\tOne\t\t4624\n",
            "239\t\tdifferent\t\t4623\n",
            "240\t\tplace\t\t4620\n",
            "241\t\tespecially\t\t4600\n",
            "242\t\tour\t\t4580\n",
            "243\t\tset\t\t4569\n",
            "244\t\tbook\t\t4566\n",
            "245\t\tmain\t\t4525\n",
            "246\t\tsense\t\t4511\n",
            "247\t\tday\t\t4510\n",
            "248\t\treason\t\t4500\n",
            "249\t\tAmerican\t\t4498\n",
            "250\t\tsure\t\t4483\n",
            "251\t\teffects\t\t4468\n",
            "252\t\tactor\t\t4461\n",
            "253\t\twatched\t\t4458\n",
            "254\t\tworth\t\t4458\n",
            "255\t\tlooks\t\t4453\n",
            "256\t\twasn\t\t4442\n",
            "257\t\tmoney\t\t4397\n",
            "258\t\tplay\t\t4373\n",
            "259\t\tjob\t\t4372\n",
            "260\t\ttogether\t\t4329\n",
            "261\t\tplays\t\t4317\n",
            "262\t\taudience\t\t4290\n",
            "263\t\tyear\t\t4272\n",
            "264\t\thaving\t\t4267\n",
            "265\t\tsaid\t\t4265\n",
            "266\t\tsomeone\t\t4246\n",
            "267\t\ttakes\t\t4238\n",
            "268\t\tFor\t\t4230\n",
            "269\t\tseem\t\t4223\n",
            "270\t\tthree\t\t4179\n",
            "271\t\tJohn\t\t4179\n",
            "272\t\ttrue\t\t4163\n",
            "273\t\thimself\t\t4156\n",
            "274\t\thalf\t\t4109\n",
            "275\t\tAll\t\t4098\n",
            "276\t\tversion\t\t4086\n",
            "277\t\tleft\t\t4070\n",
            "278\t\tidea\t\t4048\n",
            "279\t\twife\t\t4046\n",
            "280\t\teverything\t\t4038\n",
            "281\t\tNot\t\t4008\n",
            "282\t\tbeautiful\t\t3994\n",
            "283\t\tspecial\t\t3979\n",
            "284\t\tshot\t\t3970\n",
            "285\t\telse\t\t3960\n",
            "286\t\tseeing\t\t3941\n",
            "287\t\tduring\t\t3894\n",
            "288\t\tfan\t\t3872\n",
            "289\t\teveryone\t\t3866\n",
            "290\t\tlater\t\t3863\n",
            "291\t\texcellent\t\t3842\n",
            "292\t\tused\t\t3842\n",
            "293\t\tHowever\t\t3839\n",
            "294\t\tmind\t\t3826\n",
            "295\t\tbudget\t\t3822\n",
            "296\t\thigh\t\t3818\n",
            "297\t\tonce\t\t3818\n",
            "298\t\tcompletely\t\t3762\n",
            "299\t\tshort\t\t3716\n",
            "300\t\tless\t\t3668\n",
            "301\t\tsimply\t\t3668\n",
            "302\t\thelp\t\t3637\n",
            "303\t\tread\t\t3631\n",
            "304\t\tnice\t\t3630\n",
            "305\t\tHollywood\t\t3610\n",
            "306\t\tfather\t\t3610\n",
            "307\t\tlet\t\t3570\n",
            "308\t\tpoor\t\t3547\n",
            "309\t\tuse\t\t3526\n",
            "310\t\tcamera\t\t3509\n",
            "311\t\tline\t\t3479\n",
            "312\t\teither\t\t3478\n",
            "313\t\tneed\t\t3477\n",
            "314\t\tproduction\t\t3474\n",
            "315\t\tlow\t\t3469\n",
            "316\t\tboring\t\t3462\n",
            "317\t\ttop\t\t3457\n",
            "318\t\tkids\t\t3450\n",
            "319\t\tfriends\t\t3443\n",
            "320\t\thome\t\t3429\n",
            "321\t\ttry\t\t3420\n",
            "322\t\trest\t\t3409\n",
            "323\t\talong\t\t3403\n",
            "324\t\twrong\t\t3401\n",
            "325\t\tclassic\t\t3397\n",
            "326\t\tcouple\t\t3396\n",
            "327\t\tenjoy\t\t3394\n",
            "328\t\tstart\t\t3391\n",
            "329\t\tsecond\t\t3388\n",
            "330\t\trecommend\t\t3380\n",
            "331\t\tgiven\t\t3349\n",
            "332\t\twomen\t\t3348\n",
            "333\t\tstupid\t\t3346\n",
            "334\t\tuntil\t\t3336\n",
            "335\t\tdeath\t\t3323\n",
            "336\t\tmen\t\t3316\n",
            "337\t\ttell\t\t3297\n",
            "338\t\tunderstand\t\t3292\n",
            "339\t\tmean\t\t3277\n",
            "340\t\ttruly\t\t3267\n",
            "341\t\tcame\t\t3258\n",
            "342\t\twon\t\t3258\n",
            "343\t\tmoments\t\t3247\n",
            "344\t\tschool\t\t3246\n",
            "345\t\tnight\t\t3245\n",
            "346\t\tgetting\t\t3227\n",
            "347\t\tawful\t\t3222\n",
            "348\t\titself\t\t3221\n",
            "349\t\tvideo\t\t3216\n",
            "350\t\tperson\t\t3210\n",
            "351\t\tinstead\t\t3206\n",
            "352\t\tfull\t\t3203\n",
            "353\t\tsex\t\t3199\n",
            "354\t\tname\t\t3166\n",
            "355\t\tstyle\t\t3153\n",
            "356\t\tWell\t\t3135\n",
            "357\t\tplaying\t\t3131\n",
            "358\t\tAfter\t\t3129\n",
            "359\t\tnext\t\t3127\n",
            "360\t\tterrible\t\t3102\n",
            "361\t\twar\t\t3099\n",
            "362\t\tface\t\t3097\n",
            "363\t\tdoing\t\t3097\n",
            "364\t\thowever\t\t3093\n",
            "365\t\tsmall\t\t3093\n",
            "366\t\tkeep\t\t3083\n",
            "367\t\tremember\t\t3079\n",
            "368\t\talthough\t\t3072\n",
            "369\t\tepisode\t\t3070\n",
            "370\t\tmaybe\t\t3070\n",
            "371\t\tEven\t\t3067\n",
            "372\t\tlines\t\t3064\n",
            "373\t\tgives\t\t3061\n",
            "374\t\tblack\t\t3043\n",
            "375\t\thuman\t\t3040\n",
            "376\t\toften\t\t3036\n",
            "377\t\twonderful\t\t3030\n",
            "378\t\tdialogue\t\t3030\n",
            "379\t\thouse\t\t3023\n",
            "380\t\tothers\t\t3008\n",
            "381\t\tpiece\t\t3005\n",
            "382\t\tearly\t\t2994\n",
            "383\t\tperfect\t\t2991\n",
            "384\t\twritten\t\t2986\n",
            "385\t\tcouldn\t\t2981\n",
            "386\t\twent\t\t2980\n",
            "387\t\tstars\t\t2962\n",
            "388\t\tmother\t\t2940\n",
            "389\t\tbecome\t\t2939\n",
            "390\t\tlaugh\t\t2933\n",
            "391\t\thead\t\t2929\n",
            "392\t\tliked\t\t2920\n",
            "393\t\tstar\t\t2891\n",
            "394\t\tcase\t\t2887\n",
            "395\t\tfriend\t\t2887\n",
            "396\t\tsort\t\t2878\n",
            "397\t\tcalled\t\t2876\n",
            "398\t\tfelt\t\t2855\n",
            "399\t\tchildren\t\t2850\n",
            "400\t\tsupposed\t\t2833\n",
            "401\t\tentire\t\t2829\n",
            "402\t\ttitle\t\t2812\n",
            "403\t\tabsolutely\t\t2794\n",
            "404\t\tworse\t\t2792\n",
            "405\t\tDon\t\t2774\n",
            "406\t\tlive\t\t2767\n",
            "407\t\tguys\t\t2764\n",
            "408\t\tHis\t\t2761\n",
            "409\t\tdrama\t\t2755\n",
            "410\t\tcertainly\t\t2744\n",
            "411\t\tdefinitely\t\t2740\n",
            "412\t\tproblem\t\t2729\n",
            "413\t\tagainst\t\t2728\n",
            "414\t\twaste\t\t2724\n",
            "415\t\tloved\t\t2720\n",
            "416\t\tbeginning\t\t2716\n",
            "417\t\tThen\t\t2709\n",
            "418\t\tcinema\t\t2699\n",
            "419\t\thumor\t\t2695\n",
            "420\t\tboy\t\t2693\n",
            "421\t\tseemed\t\t2693\n",
            "422\t\tWhile\t\t2676\n",
            "423\t\tcare\t\t2671\n",
            "424\t\twanted\t\t2669\n",
            "425\t\tpicture\t\t2668\n",
            "426\t\tseveral\t\t2668\n",
            "427\t\tAlso\t\t2665\n",
            "428\t\tlead\t\t2648\n",
            "429\t\thope\t\t2642\n",
            "430\t\talready\t\t2642\n",
            "431\t\tbecomes\t\t2640\n",
            "432\t\texample\t\t2633\n",
            "433\t\tbased\t\t2624\n",
            "434\t\ttotally\t\t2622\n",
            "435\t\tsound\t\t2618\n",
            "436\t\table\t\t2614\n",
            "437\t\tdead\t\t2606\n",
            "438\t\tturn\t\t2599\n",
            "439\t\tfans\t\t2597\n",
            "440\t\tWhy\t\t2593\n",
            "441\t\tquality\t\t2584\n",
            "442\t\tlives\t\t2583\n",
            "443\t\tdirection\t\t2574\n",
            "444\t\tgame\t\t2570\n",
            "445\t\tNow\t\t2570\n",
            "446\t\tguess\t\t2568\n",
            "447\t\tunder\t\t2547\n",
            "448\t\tSome\t\t2533\n",
            "449\t\tMichael\t\t2526\n",
            "450\t\twants\t\t2506\n",
            "451\t\tflick\t\t2505\n",
            "452\t\tlost\t\t2504\n",
            "453\t\twriting\t\t2467\n",
            "454\t\tfine\t\t2460\n",
            "455\t\tworks\t\t2452\n",
            "456\t\tson\t\t2447\n",
            "457\t\tthroughout\t\t2444\n",
            "458\t\tside\t\t2434\n",
            "459\t\tetc\t\t2424\n",
            "460\t\thistory\t\t2424\n",
            "461\t\ttries\t\t2420\n",
            "462\t\tmatter\t\t2412\n",
            "463\t\tviewer\t\t2412\n",
            "464\t\tHow\t\t2403\n",
            "465\t\tenjoyed\t\t2398\n",
            "466\t\tgave\t\t2394\n",
            "467\t\tgenre\t\t2392\n",
            "468\t\tpast\t\t2390\n",
            "469\t\tfinal\t\t2369\n",
            "470\t\tturns\t\t2357\n",
            "471\t\tstuff\t\t2357\n",
            "472\t\tparts\t\t2356\n",
            "473\t\tact\t\t2355\n",
            "474\t\tamazing\t\t2348\n",
            "475\t\tfinally\t\t2348\n",
            "476\t\ttown\t\t2345\n",
            "477\t\ttoday\t\t2340\n",
            "478\t\theart\t\t2340\n",
            "479\t\tclose\t\t2333\n",
            "480\t\tdays\t\t2332\n",
            "481\t\tcar\t\t2332\n",
            "482\t\tfavorite\t\t2328\n",
            "483\t\tthemselves\t\t2327\n",
            "484\t\texpect\t\t2323\n",
            "485\t\thorrible\t\t2319\n",
            "486\t\tkiller\t\t2314\n",
            "487\t\trun\t\t2300\n",
            "488\t\thand\t\t2298\n",
            "489\t\tWith\t\t2296\n",
            "490\t\tbehind\t\t2295\n",
            "491\t\tlate\t\t2294\n",
            "492\t\tstarts\t\t2282\n",
            "493\t\tmyself\t\t2277\n",
            "494\t\tkilled\t\t2272\n",
            "495\t\thour\t\t2272\n",
            "496\t\tchild\t\t2261\n",
            "497\t\ttype\t\t2260\n",
            "498\t\tgroup\t\t2253\n",
            "499\t\tperhaps\t\t2252\n",
            "500\t\tthinking\t\t2251\n"
          ]
        }
      ]
    },
    {
      "cell_type": "code",
      "metadata": {
        "id": "8twlWZdVg3RZ"
      },
      "source": [
        ""
      ],
      "execution_count": null,
      "outputs": []
    }
  ]
}